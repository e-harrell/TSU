{
 "cells": [
  {
   "cell_type": "code",
   "execution_count": 1,
   "metadata": {},
   "outputs": [
    {
     "data": {
      "text/plain": [
       "['Sep 03 2011',\n",
       " 'Sep 10 2011',\n",
       " 'Sep 17 2011',\n",
       " 'Sep 24 2011',\n",
       " 'Oct 01 2011',\n",
       " 'Oct 08 2011',\n",
       " 'Oct 15 2011',\n",
       " 'Oct 22 2011',\n",
       " 'Nov 05 2011',\n",
       " 'Nov 12 2011',\n",
       " 'Nov 19 2011']"
      ]
     },
     "execution_count": 1,
     "metadata": {},
     "output_type": "execute_result"
    }
   ],
   "source": [
    "#libraries to use\n",
    "import pandas as pd\n",
    "import numpy as np\n",
    "import matplotlib.pyplot as plt\n",
    "import datetime as dt\n",
    "#python's lxml library parses xml and html files\n",
    "from lxml import html\n",
    "\n",
    "#use requests to get data from web pages\n",
    "import requests \n",
    "\n",
    "#use requests.get() to get web page with data\n",
    "page = requests.get('https://tennstate_ftp.sidearmsports.com/custompages/tsutigers/CA835442-6528-4937-854B-D964C9CC70B5/teamgbg.htm')\n",
    "\n",
    "#parse data on web page using html module.fromstring\n",
    "mytree = html.fromstring(page.content)\n",
    "\n",
    "#go to web address above , right click on page and select inspect to get HTML code for data from right side of page\n",
    "#create XPath query and use xpath function to get data\n",
    "#date data\n",
    "date = mytree.xpath('body/center//tr/td/font[@color=\"#000000\"]/text()')[1:110:10]\n",
    "date=[a.replace(\"\\xa0\",\"\") for a in date]\n",
    "date=[a.replace(\",\",\"\") for a in date]\n",
    "date=[a.replace(\".\",\"\") for a in date]\n",
    "#date=[a.replace(\"2 \",\"02 \") for a in date]\n",
    "#date=[a.replace(\"9 \",\"09 \") for a in date]\n",
    "date"
   ]
  },
  {
   "cell_type": "code",
   "execution_count": 2,
   "metadata": {},
   "outputs": [
    {
     "data": {
      "text/plain": [
       "['25209',\n",
       " '43532',\n",
       " '10031',\n",
       " '33487',\n",
       " '8614',\n",
       " '6234',\n",
       " '8676',\n",
       " '10800',\n",
       " '6774',\n",
       " '19537',\n",
       " '6137']"
      ]
     },
     "execution_count": 2,
     "metadata": {},
     "output_type": "execute_result"
    }
   ],
   "source": [
    "#get attendance data\n",
    "attendance=mytree.xpath('body/center//tr/td/font[@color=\"#000000\"]/text()')[9:110:10]\n",
    "attendance=[a.replace(\"\\xa0\",\"\") for a in attendance]\n",
    "attendance=[a.strip() for a in attendance]\n",
    "attendance"
   ]
  },
  {
   "cell_type": "code",
   "execution_count": 3,
   "metadata": {},
   "outputs": [
    {
     "data": {
      "text/plain": [
       "['342', '78', '168', '188', '162', '258', '166', '65', '200', '253', '87']"
      ]
     },
     "execution_count": 3,
     "metadata": {},
     "output_type": "execute_result"
    }
   ],
   "source": [
    "#get TSU rushing yards\n",
    "TSUrushyards=mytree.xpath('body/center//tr/td/font[@color=\"#000000\"]/text()')[114:357:23]\n",
    "TSUrushyards=[a.replace(\"\\xa0\",\"\") for a in TSUrushyards]\n",
    "TSUrushyards"
   ]
  },
  {
   "cell_type": "code",
   "execution_count": 4,
   "metadata": {},
   "outputs": [
    {
     "data": {
      "text/plain": [
       "['170', '226', '207', '206', '304', '278', '232', '343', '118', '263', '262']"
      ]
     },
     "execution_count": 4,
     "metadata": {},
     "output_type": "execute_result"
    }
   ],
   "source": [
    "#get TSU receiving yards\n",
    "TSUreceiveyards=mytree.xpath('body/center//tr/td/font[@color=\"#000000\"]/text()')[118:360:23]\n",
    "TSUreceiveyards=[a.replace(\"\\xa0\",\"\") for a in TSUreceiveyards]\n",
    "TSUreceiveyards"
   ]
  },
  {
   "cell_type": "code",
   "execution_count": 5,
   "metadata": {},
   "outputs": [
    {
     "data": {
      "text/plain": [
       "['48', '146', '197', '97', '158', '15', '118', '112', '64', '46', '129']"
      ]
     },
     "execution_count": 5,
     "metadata": {},
     "output_type": "execute_result"
    }
   ],
   "source": [
    "#get TSU kick return yards\n",
    "TSUkreturnyards=mytree.xpath('body/center//tr/td/font[@color=\"#000000\"]/text()')[126:360:23]\n",
    "TSUkreturnyards=[a.replace(\"\\xa0\",\"\") for a in TSUkreturnyards]\n",
    "TSUkreturnyards"
   ]
  },
  {
   "cell_type": "code",
   "execution_count": 6,
   "metadata": {},
   "outputs": [
    {
     "data": {
      "text/plain": [
       "['0', '5', '17', '0', '0', '115', '5', '17', '0', '5', '16']"
      ]
     },
     "execution_count": 6,
     "metadata": {},
     "output_type": "execute_result"
    }
   ],
   "source": [
    "#get TSU punt return yards\n",
    "TSUpreturnyards=mytree.xpath('body/center//tr/td/font[@color=\"#000000\"]/text()')[130:383:23]\n",
    "TSUpreturnyards=[a.replace(\"\\xa0\",\"\") for a in TSUpreturnyards]\n",
    "TSUpreturnyards"
   ]
  },
  {
   "cell_type": "code",
   "execution_count": 7,
   "metadata": {},
   "outputs": [
    {
     "data": {
      "text/plain": [
       "['45', '64', '94', '88', '61', '54', '88', '80', '59', '53', '50']"
      ]
     },
     "execution_count": 7,
     "metadata": {},
     "output_type": "execute_result"
    }
   ],
   "source": [
    "#get TSU total tackles\n",
    "TSUtackles=mytree.xpath('body/center//tr/td/font[@color=\"#000000\"]/text()')[414:644:22]\n",
    "TSUtackles=[a.replace(\"\\xa0\",\"\") for a in TSUtackles]\n",
    "TSUtackles"
   ]
  },
  {
   "cell_type": "code",
   "execution_count": 8,
   "metadata": {},
   "outputs": [
    {
     "data": {
      "text/plain": [
       "['41', '45', '32', '0', '20', '17', '38', '20', '23', '14', '18']"
      ]
     },
     "execution_count": 8,
     "metadata": {},
     "output_type": "execute_result"
    }
   ],
   "source": [
    "#get TSU tackle yards\n",
    "TSUtackleyd=mytree.xpath('body/center//tr/td/font[@color=\"#000000\"]/text()')[416:646:22]\n",
    "TSUtackleyd=[a.replace(\"\\xa0\",\"\") for a in TSUtackleyd]\n",
    "TSUtackleyd"
   ]
  },
  {
   "cell_type": "code",
   "execution_count": 9,
   "metadata": {},
   "outputs": [
    {
     "data": {
      "text/plain": [
       "['5.0', '3.0', '3.0', '0.0', '2.0', '1.0', '5.0', '3.0', '3.0', '1.0', '2.0']"
      ]
     },
     "execution_count": 9,
     "metadata": {},
     "output_type": "execute_result"
    }
   ],
   "source": [
    "#get TSU sacks\n",
    "TSUsacks=mytree.xpath('body/center//tr/td/font[@color=\"#000000\"]/text()')[417:646:22]\n",
    "TSUsacks=[a.replace(\"\\xa0\",\"\") for a in TSUsacks]\n",
    "TSUsacks"
   ]
  },
  {
   "cell_type": "code",
   "execution_count": 10,
   "metadata": {},
   "outputs": [
    {
     "data": {
      "text/plain": [
       "['30', '31', '21', '0', '10', '9', '32', '14', '17', '1', '10']"
      ]
     },
     "execution_count": 10,
     "metadata": {},
     "output_type": "execute_result"
    }
   ],
   "source": [
    "#get TSU sack yards\n",
    "TSUsackyd=mytree.xpath('body/center//tr/td/font[@color=\"#000000\"]/text()')[418:646:22]\n",
    "TSUsackyd=[a.replace(\"\\xa0\",\"\") for a in TSUsackyd]\n",
    "TSUsackyd"
   ]
  },
  {
   "cell_type": "code",
   "execution_count": 11,
   "metadata": {},
   "outputs": [
    {
     "data": {
      "text/plain": [
       "['3', '6', '9', '8', '2', '2', '5', '4', '7', '5', '5']"
      ]
     },
     "execution_count": 11,
     "metadata": {},
     "output_type": "execute_result"
    }
   ],
   "source": [
    "#TSU punts\n",
    "TSUpunt=mytree.xpath('body/center//tr/td/font[@color=\"#000000\"]/text()')[698:900:19]\n",
    "TSUpunt=[a.replace(\"\\xa0\",\"\") for a in TSUpunt]\n",
    "TSUpunt"
   ]
  },
  {
   "cell_type": "code",
   "execution_count": 12,
   "metadata": {},
   "outputs": [
    {
     "data": {
      "text/html": [
       "<div>\n",
       "<style scoped>\n",
       "    .dataframe tbody tr th:only-of-type {\n",
       "        vertical-align: middle;\n",
       "    }\n",
       "\n",
       "    .dataframe tbody tr th {\n",
       "        vertical-align: top;\n",
       "    }\n",
       "\n",
       "    .dataframe thead th {\n",
       "        text-align: right;\n",
       "    }\n",
       "</style>\n",
       "<table border=\"1\" class=\"dataframe\">\n",
       "  <thead>\n",
       "    <tr style=\"text-align: right;\">\n",
       "      <th></th>\n",
       "      <th>date</th>\n",
       "      <th>attendance</th>\n",
       "      <th>TSUrushyards</th>\n",
       "      <th>TSUreceiveyards</th>\n",
       "      <th>TSUkreturnyards</th>\n",
       "      <th>TSUpreturnyards</th>\n",
       "      <th>TSUtackles</th>\n",
       "      <th>TSUtackleyd</th>\n",
       "      <th>TSUsacks</th>\n",
       "      <th>TSUsackyd</th>\n",
       "      <th>TSUpunt</th>\n",
       "    </tr>\n",
       "  </thead>\n",
       "  <tbody>\n",
       "    <tr>\n",
       "      <th>0</th>\n",
       "      <td>Sep 03 2011</td>\n",
       "      <td>25209</td>\n",
       "      <td>342</td>\n",
       "      <td>170</td>\n",
       "      <td>48</td>\n",
       "      <td>0</td>\n",
       "      <td>45</td>\n",
       "      <td>41</td>\n",
       "      <td>5.0</td>\n",
       "      <td>30</td>\n",
       "      <td>3</td>\n",
       "    </tr>\n",
       "    <tr>\n",
       "      <th>1</th>\n",
       "      <td>Sep 10 2011</td>\n",
       "      <td>43532</td>\n",
       "      <td>78</td>\n",
       "      <td>226</td>\n",
       "      <td>146</td>\n",
       "      <td>5</td>\n",
       "      <td>64</td>\n",
       "      <td>45</td>\n",
       "      <td>3.0</td>\n",
       "      <td>31</td>\n",
       "      <td>6</td>\n",
       "    </tr>\n",
       "    <tr>\n",
       "      <th>2</th>\n",
       "      <td>Sep 17 2011</td>\n",
       "      <td>10031</td>\n",
       "      <td>168</td>\n",
       "      <td>207</td>\n",
       "      <td>197</td>\n",
       "      <td>17</td>\n",
       "      <td>94</td>\n",
       "      <td>32</td>\n",
       "      <td>3.0</td>\n",
       "      <td>21</td>\n",
       "      <td>9</td>\n",
       "    </tr>\n",
       "    <tr>\n",
       "      <th>3</th>\n",
       "      <td>Sep 24 2011</td>\n",
       "      <td>33487</td>\n",
       "      <td>188</td>\n",
       "      <td>206</td>\n",
       "      <td>97</td>\n",
       "      <td>0</td>\n",
       "      <td>88</td>\n",
       "      <td>0</td>\n",
       "      <td>0.0</td>\n",
       "      <td>0</td>\n",
       "      <td>8</td>\n",
       "    </tr>\n",
       "    <tr>\n",
       "      <th>4</th>\n",
       "      <td>Oct 01 2011</td>\n",
       "      <td>8614</td>\n",
       "      <td>162</td>\n",
       "      <td>304</td>\n",
       "      <td>158</td>\n",
       "      <td>0</td>\n",
       "      <td>61</td>\n",
       "      <td>20</td>\n",
       "      <td>2.0</td>\n",
       "      <td>10</td>\n",
       "      <td>2</td>\n",
       "    </tr>\n",
       "  </tbody>\n",
       "</table>\n",
       "</div>"
      ],
      "text/plain": [
       "          date attendance TSUrushyards TSUreceiveyards TSUkreturnyards  \\\n",
       "0  Sep 03 2011      25209          342             170              48   \n",
       "1  Sep 10 2011      43532           78             226             146   \n",
       "2  Sep 17 2011      10031          168             207             197   \n",
       "3  Sep 24 2011      33487          188             206              97   \n",
       "4  Oct 01 2011       8614          162             304             158   \n",
       "\n",
       "  TSUpreturnyards TSUtackles TSUtackleyd TSUsacks TSUsackyd TSUpunt  \n",
       "0               0         45          41      5.0        30       3  \n",
       "1               5         64          45      3.0        31       6  \n",
       "2              17         94          32      3.0        21       9  \n",
       "3               0         88           0      0.0         0       8  \n",
       "4               0         61          20      2.0        10       2  "
      ]
     },
     "execution_count": 12,
     "metadata": {},
     "output_type": "execute_result"
    }
   ],
   "source": [
    "#create data frame\n",
    "#change dictionary of lists to data frame\n",
    "list_of_dicts={'date':date,\n",
    "     'attendance':attendance,\n",
    "     'TSUrushyards':TSUrushyards,\n",
    "     'TSUreceiveyards':TSUreceiveyards,\n",
    "     'TSUkreturnyards':TSUkreturnyards,\n",
    "     'TSUpreturnyards':TSUpreturnyards,\n",
    "     'TSUtackles':TSUtackles,\n",
    "     'TSUtackleyd':TSUtackleyd,\n",
    "     'TSUsacks':TSUsacks,\n",
    "     'TSUsackyd':TSUsackyd,\n",
    "     'TSUpunt':TSUpunt}\n",
    "df2011=pd.DataFrame(list_of_dicts)\n",
    "df2011.head()"
   ]
  },
  {
   "cell_type": "code",
   "execution_count": 13,
   "metadata": {},
   "outputs": [
    {
     "data": {
      "text/html": [
       "<div>\n",
       "<style scoped>\n",
       "    .dataframe tbody tr th:only-of-type {\n",
       "        vertical-align: middle;\n",
       "    }\n",
       "\n",
       "    .dataframe tbody tr th {\n",
       "        vertical-align: top;\n",
       "    }\n",
       "\n",
       "    .dataframe thead th {\n",
       "        text-align: right;\n",
       "    }\n",
       "</style>\n",
       "<table border=\"1\" class=\"dataframe\">\n",
       "  <thead>\n",
       "    <tr style=\"text-align: right;\">\n",
       "      <th></th>\n",
       "      <th>date</th>\n",
       "      <th>attendance</th>\n",
       "      <th>TSUrushyards</th>\n",
       "      <th>TSUreceiveyards</th>\n",
       "      <th>TSUkreturnyards</th>\n",
       "      <th>TSUpreturnyards</th>\n",
       "      <th>TSUtackles</th>\n",
       "      <th>TSUtackleyd</th>\n",
       "      <th>TSUsacks</th>\n",
       "      <th>TSUsackyd</th>\n",
       "      <th>TSUpunt</th>\n",
       "      <th>month</th>\n",
       "      <th>day</th>\n",
       "      <th>year</th>\n",
       "    </tr>\n",
       "  </thead>\n",
       "  <tbody>\n",
       "    <tr>\n",
       "      <th>0</th>\n",
       "      <td>Sep 03 2011</td>\n",
       "      <td>25209</td>\n",
       "      <td>342</td>\n",
       "      <td>170</td>\n",
       "      <td>48</td>\n",
       "      <td>0</td>\n",
       "      <td>45</td>\n",
       "      <td>41</td>\n",
       "      <td>5.0</td>\n",
       "      <td>30</td>\n",
       "      <td>3</td>\n",
       "      <td>Sep</td>\n",
       "      <td>03</td>\n",
       "      <td>2011</td>\n",
       "    </tr>\n",
       "    <tr>\n",
       "      <th>1</th>\n",
       "      <td>Sep 10 2011</td>\n",
       "      <td>43532</td>\n",
       "      <td>78</td>\n",
       "      <td>226</td>\n",
       "      <td>146</td>\n",
       "      <td>5</td>\n",
       "      <td>64</td>\n",
       "      <td>45</td>\n",
       "      <td>3.0</td>\n",
       "      <td>31</td>\n",
       "      <td>6</td>\n",
       "      <td>Sep</td>\n",
       "      <td>10</td>\n",
       "      <td>2011</td>\n",
       "    </tr>\n",
       "    <tr>\n",
       "      <th>2</th>\n",
       "      <td>Sep 17 2011</td>\n",
       "      <td>10031</td>\n",
       "      <td>168</td>\n",
       "      <td>207</td>\n",
       "      <td>197</td>\n",
       "      <td>17</td>\n",
       "      <td>94</td>\n",
       "      <td>32</td>\n",
       "      <td>3.0</td>\n",
       "      <td>21</td>\n",
       "      <td>9</td>\n",
       "      <td>Sep</td>\n",
       "      <td>17</td>\n",
       "      <td>2011</td>\n",
       "    </tr>\n",
       "    <tr>\n",
       "      <th>3</th>\n",
       "      <td>Sep 24 2011</td>\n",
       "      <td>33487</td>\n",
       "      <td>188</td>\n",
       "      <td>206</td>\n",
       "      <td>97</td>\n",
       "      <td>0</td>\n",
       "      <td>88</td>\n",
       "      <td>0</td>\n",
       "      <td>0.0</td>\n",
       "      <td>0</td>\n",
       "      <td>8</td>\n",
       "      <td>Sep</td>\n",
       "      <td>24</td>\n",
       "      <td>2011</td>\n",
       "    </tr>\n",
       "    <tr>\n",
       "      <th>4</th>\n",
       "      <td>Oct 01 2011</td>\n",
       "      <td>8614</td>\n",
       "      <td>162</td>\n",
       "      <td>304</td>\n",
       "      <td>158</td>\n",
       "      <td>0</td>\n",
       "      <td>61</td>\n",
       "      <td>20</td>\n",
       "      <td>2.0</td>\n",
       "      <td>10</td>\n",
       "      <td>2</td>\n",
       "      <td>Oct</td>\n",
       "      <td>01</td>\n",
       "      <td>2011</td>\n",
       "    </tr>\n",
       "  </tbody>\n",
       "</table>\n",
       "</div>"
      ],
      "text/plain": [
       "          date attendance TSUrushyards TSUreceiveyards TSUkreturnyards  \\\n",
       "0  Sep 03 2011      25209          342             170              48   \n",
       "1  Sep 10 2011      43532           78             226             146   \n",
       "2  Sep 17 2011      10031          168             207             197   \n",
       "3  Sep 24 2011      33487          188             206              97   \n",
       "4  Oct 01 2011       8614          162             304             158   \n",
       "\n",
       "  TSUpreturnyards TSUtackles TSUtackleyd TSUsacks TSUsackyd TSUpunt month day  \\\n",
       "0               0         45          41      5.0        30       3   Sep  03   \n",
       "1               5         64          45      3.0        31       6   Sep  10   \n",
       "2              17         94          32      3.0        21       9   Sep  17   \n",
       "3               0         88           0      0.0         0       8   Sep  24   \n",
       "4               0         61          20      2.0        10       2   Oct  01   \n",
       "\n",
       "   year  \n",
       "0  2011  \n",
       "1  2011  \n",
       "2  2011  \n",
       "3  2011  \n",
       "4  2011  "
      ]
     },
     "execution_count": 13,
     "metadata": {},
     "output_type": "execute_result"
    }
   ],
   "source": [
    "#splitting date column into month, day, & year columns \n",
    "df2011[['month','day','year']]=df2011.date.str.split(expand=True)\n",
    "df2011.drop('date',axis=1)\n",
    "df2011.head()"
   ]
  },
  {
   "cell_type": "code",
   "execution_count": 14,
   "metadata": {},
   "outputs": [
    {
     "name": "stdout",
     "output_type": "stream",
     "text": [
      "<class 'pandas.core.frame.DataFrame'>\n",
      "RangeIndex: 11 entries, 0 to 10\n",
      "Data columns (total 12 columns):\n",
      " #   Column           Non-Null Count  Dtype         \n",
      "---  ------           --------------  -----         \n",
      " 0   date             11 non-null     datetime64[ns]\n",
      " 1   attendance       11 non-null     object        \n",
      " 2   TSUrushyards     11 non-null     object        \n",
      " 3   TSUreceiveyards  11 non-null     object        \n",
      " 4   TSUkreturnyards  11 non-null     object        \n",
      " 5   TSUpreturnyards  11 non-null     object        \n",
      " 6   TSUtackles       11 non-null     object        \n",
      " 7   TSUtackleyd      11 non-null     object        \n",
      " 8   TSUsacks         11 non-null     object        \n",
      " 9   TSUsackyd        11 non-null     object        \n",
      " 10  TSUpunt          11 non-null     object        \n",
      " 11  year             11 non-null     int64         \n",
      "dtypes: datetime64[ns](1), int64(1), object(10)\n",
      "memory usage: 1.2+ KB\n"
     ]
    }
   ],
   "source": [
    "#create a new date variable\n",
    "#change month variable to a 2 digit string variable\n",
    "df2011['month'] = df2011['month'].str.replace('Aug','08')\n",
    "df2011['month'] = df2011['month'].str.replace('Sep','09')\n",
    "df2011['month'] = df2011['month'].str.replace('Oct','10')\n",
    "df2011['month'] = df2011['month'].str.replace('Nov','11')\n",
    "df2011['month'] = df2011['month'].str.replace('Dec','12')\n",
    "#merge month,day and year variables\n",
    "df2011['date']=df2011['year']+ '-' +df2011['month']+ '-'+df2011['day']\n",
    "#make date into a datetime variable\n",
    "df2011['date']= pd.to_datetime(df2011['date'], format='%Y-%m-%d')\n",
    "#drop individual month,day, variables (keep year variable for later analysis)\n",
    "df2011=df2011.drop(['month','day'], axis=1)\n",
    "#make year numeric\n",
    "df2011['year']=pd.to_numeric(df2011['year'])\n",
    "df2011.info()"
   ]
  },
  {
   "cell_type": "code",
   "execution_count": null,
   "metadata": {},
   "outputs": [],
   "source": []
  },
  {
   "cell_type": "code",
   "execution_count": null,
   "metadata": {},
   "outputs": [],
   "source": []
  }
 ],
 "metadata": {
  "kernelspec": {
   "display_name": "Python 3",
   "language": "python",
   "name": "python3"
  },
  "language_info": {
   "codemirror_mode": {
    "name": "ipython",
    "version": 3
   },
   "file_extension": ".py",
   "mimetype": "text/x-python",
   "name": "python",
   "nbconvert_exporter": "python",
   "pygments_lexer": "ipython3",
   "version": "3.8.5"
  }
 },
 "nbformat": 4,
 "nbformat_minor": 4
}
