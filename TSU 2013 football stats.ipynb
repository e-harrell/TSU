{
 "cells": [
  {
   "cell_type": "code",
   "execution_count": 1,
   "metadata": {},
   "outputs": [
    {
     "data": {
      "text/plain": [
       "['Sep 01 2013',\n",
       " 'Sep 07 2013',\n",
       " 'Sep 14 2013',\n",
       " 'Sep 21 2013',\n",
       " 'Sep 28 2013',\n",
       " 'Oct 05 2013',\n",
       " 'Oct 12 2013',\n",
       " 'Oct 19 2013',\n",
       " 'Oct 26 2013',\n",
       " 'Nov 02 2013',\n",
       " 'Nov 16 2013',\n",
       " 'Nov 09 2013',\n",
       " 'Nov 30 2013',\n",
       " 'Dec 07 2013']"
      ]
     },
     "execution_count": 1,
     "metadata": {},
     "output_type": "execute_result"
    }
   ],
   "source": [
    "#libraries to use\n",
    "import pandas as pd\n",
    "import numpy as np\n",
    "import matplotlib.pyplot as plt\n",
    "import datetime as dt\n",
    "#python's lxml library parses xml and html files\n",
    "from lxml import html\n",
    "\n",
    "#use requests to get data from web pages\n",
    "import requests \n",
    "\n",
    "#use requests.get() to get web page with data\n",
    "page = requests.get('https://tennstate_ftp.sidearmsports.com/custompages/tsutigers/E394BBB1-387B-4C6A-9B21-E33D34956811/teamgbg.htm')\n",
    "\n",
    "#parse data on web page using html module.fromstring\n",
    "mytree = html.fromstring(page.content)\n",
    "\n",
    "#go to web address above , right click on page and select inspect to get HTML code for data from right side of page\n",
    "#create XPath query and use xpath function to get data\n",
    "#date data\n",
    "date = mytree.xpath('body/center//tr/td/font[@color=\"#000000\"]/text()')[1:140:10]\n",
    "date=[a.replace(\"\\xa0\",\"\") for a in date]\n",
    "date=[a.replace(\",\",\"\") for a in date]\n",
    "date=[a.replace(\".\",\"\") for a in date]\n",
    "date"
   ]
  },
  {
   "cell_type": "code",
   "execution_count": 2,
   "metadata": {},
   "outputs": [
    {
     "data": {
      "text/plain": [
       "array([16108, 14237, 42400, 10044, 22000,  7374, 19092,  4166, 22157,\n",
       "        5700,  6412,  5258,  1928,  4825], dtype=int64)"
      ]
     },
     "execution_count": 2,
     "metadata": {},
     "output_type": "execute_result"
    }
   ],
   "source": [
    "#get attendance data\n",
    "attendance=mytree.xpath('body/center//tr/td/font[@color=\"#000000\"]/text()')[9:140:10]\n",
    "attendance=[a.replace(\"\\xa0\",\"\") for a in attendance]\n",
    "attendance=[a.strip() for a in attendance]\n",
    "attendance=pd.to_numeric(attendance)\n",
    "attendance"
   ]
  },
  {
   "cell_type": "code",
   "execution_count": 3,
   "metadata": {},
   "outputs": [
    {
     "data": {
      "text/plain": [
       "array([116, 268, 174,  95, 311, 264, 215,  69, 126,  71, 241, 146, 152,\n",
       "        45], dtype=int64)"
      ]
     },
     "execution_count": 3,
     "metadata": {},
     "output_type": "execute_result"
    }
   ],
   "source": [
    "#get TSU rushing yards\n",
    "TSUrushyards=mytree.xpath('body/center//tr/td/font[@color=\"#000000\"]/text()')[144:446:23]\n",
    "TSUrushyards=[a.replace(\"\\xa0\",\"\") for a in TSUrushyards]\n",
    "TSUrushyards=pd.to_numeric(TSUrushyards)\n",
    "TSUrushyards"
   ]
  },
  {
   "cell_type": "code",
   "execution_count": 4,
   "metadata": {},
   "outputs": [
    {
     "data": {
      "text/plain": [
       "array([132, 131, 111, 343, 228, 280, 133, 170, 212, 101,  60, 173, 263,\n",
       "       242], dtype=int64)"
      ]
     },
     "execution_count": 4,
     "metadata": {},
     "output_type": "execute_result"
    }
   ],
   "source": [
    "#get TSU receiving yards\n",
    "TSUreceiveyards=mytree.xpath('body/center//tr/td/font[@color=\"#000000\"]/text()')[148:466:23]\n",
    "TSUreceiveyards=[a.replace(\"\\xa0\",\"\") for a in TSUreceiveyards]\n",
    "TSUreceiveyards=pd.to_numeric(TSUreceiveyards)\n",
    "TSUreceiveyards"
   ]
  },
  {
   "cell_type": "code",
   "execution_count": 5,
   "metadata": {},
   "outputs": [
    {
     "data": {
      "text/plain": [
       "array([ 84, 111,  64,  63,  46,  24,  48,  64,  19,  96,  45,   8,  -9,\n",
       "        52], dtype=int64)"
      ]
     },
     "execution_count": 5,
     "metadata": {},
     "output_type": "execute_result"
    }
   ],
   "source": [
    "#get TSU kick return yards\n",
    "TSUkreturnyards=mytree.xpath('body/center//tr/td/font[@color=\"#000000\"]/text()')[156:460:23]\n",
    "TSUkreturnyards=[a.replace(\"\\xa0\",\"\") for a in TSUkreturnyards]\n",
    "TSUkreturnyards=pd.to_numeric(TSUkreturnyards)\n",
    "TSUkreturnyards"
   ]
  },
  {
   "cell_type": "code",
   "execution_count": 6,
   "metadata": {},
   "outputs": [
    {
     "data": {
      "text/plain": [
       "array([51, 17, 11, 23, 75,  7, 46,  0, 56, -1, 19, 13, -3,  2],\n",
       "      dtype=int64)"
      ]
     },
     "execution_count": 6,
     "metadata": {},
     "output_type": "execute_result"
    }
   ],
   "source": [
    "#get TSU punt return yards\n",
    "TSUpreturnyards=mytree.xpath('body/center//tr/td/font[@color=\"#000000\"]/text()')[160:460:23]\n",
    "TSUpreturnyards=[a.replace(\"\\xa0\",\"\") for a in TSUpreturnyards]\n",
    "TSUpreturnyards=pd.to_numeric(TSUpreturnyards)\n",
    "TSUpreturnyards"
   ]
  },
  {
   "cell_type": "code",
   "execution_count": 7,
   "metadata": {},
   "outputs": [
    {
     "data": {
      "text/plain": [
       "array([62, 41, 69, 76, 70, 37, 70, 78, 70, 63, 54, 60, 47, 73],\n",
       "      dtype=int64)"
      ]
     },
     "execution_count": 7,
     "metadata": {},
     "output_type": "execute_result"
    }
   ],
   "source": [
    "#get TSU total tackles\n",
    "TSUtackles=mytree.xpath('body/center//tr/td/font[@color=\"#000000\"]/text()')[513:800:22]\n",
    "TSUtackles=[a.replace(\"\\xa0\",\"\") for a in TSUtackles]\n",
    "TSUtackles=pd.to_numeric(TSUtackles)\n",
    "TSUtackles"
   ]
  },
  {
   "cell_type": "code",
   "execution_count": 8,
   "metadata": {},
   "outputs": [
    {
     "data": {
      "text/plain": [
       "array([ 7, 35, 26, 51, 44, 12, 61, 56, 31,  3, 31, 59, 21, 13],\n",
       "      dtype=int64)"
      ]
     },
     "execution_count": 8,
     "metadata": {},
     "output_type": "execute_result"
    }
   ],
   "source": [
    "#get TSU tackle yards\n",
    "TSUtackleyd=mytree.xpath('body/center//tr/td/font[@color=\"#000000\"]/text()')[515:822:22]\n",
    "TSUtackleyd=[a.replace(\"\\xa0\",\"\") for a in TSUtackleyd]\n",
    "TSUtackleyd=pd.to_numeric(TSUtackleyd)\n",
    "TSUtackleyd"
   ]
  },
  {
   "cell_type": "code",
   "execution_count": 9,
   "metadata": {},
   "outputs": [
    {
     "data": {
      "text/plain": [
       "array([1., 3., 2., 3., 3., 1., 5., 5., 3., 0., 3., 5., 2., 1.])"
      ]
     },
     "execution_count": 9,
     "metadata": {},
     "output_type": "execute_result"
    }
   ],
   "source": [
    "#get TSU sacks\n",
    "TSUsacks=mytree.xpath('body/center//tr/td/font[@color=\"#000000\"]/text()')[516:822:22]\n",
    "TSUsacks=[a.replace(\"\\xa0\",\"\") for a in TSUsacks]\n",
    "TSUsacks=pd.to_numeric(TSUsacks)\n",
    "TSUsacks"
   ]
  },
  {
   "cell_type": "code",
   "execution_count": 10,
   "metadata": {},
   "outputs": [
    {
     "data": {
      "text/plain": [
       "array([ 4, 18, 13, 28, 17,  8, 18, 35, 27,  0, 20, 37,  7,  5],\n",
       "      dtype=int64)"
      ]
     },
     "execution_count": 10,
     "metadata": {},
     "output_type": "execute_result"
    }
   ],
   "source": [
    "#get TSU sack yards\n",
    "TSUsackyd=mytree.xpath('body/center//tr/td/font[@color=\"#000000\"]/text()')[517:822:22]\n",
    "TSUsackyd=[a.replace(\"\\xa0\",\"\") for a in TSUsackyd]\n",
    "TSUsackyd=pd.to_numeric(TSUsackyd)\n",
    "TSUsackyd"
   ]
  },
  {
   "cell_type": "code",
   "execution_count": 11,
   "metadata": {},
   "outputs": [
    {
     "data": {
      "text/plain": [
       "array([5, 4, 3, 5, 1, 3, 6, 6, 8, 9, 8, 5, 4, 8], dtype=int64)"
      ]
     },
     "execution_count": 11,
     "metadata": {},
     "output_type": "execute_result"
    }
   ],
   "source": [
    "#TSU punts\n",
    "TSUpunt=mytree.xpath('body/center//tr/td/font[@color=\"#000000\"]/text()')[863:1119:19]\n",
    "TSUpunt=[a.replace(\"\\xa0\",\"\") for a in TSUpunt]\n",
    "TSUpunt=pd.to_numeric(TSUpunt)\n",
    "TSUpunt"
   ]
  },
  {
   "cell_type": "code",
   "execution_count": 12,
   "metadata": {},
   "outputs": [
    {
     "data": {
      "text/html": [
       "<div>\n",
       "<style scoped>\n",
       "    .dataframe tbody tr th:only-of-type {\n",
       "        vertical-align: middle;\n",
       "    }\n",
       "\n",
       "    .dataframe tbody tr th {\n",
       "        vertical-align: top;\n",
       "    }\n",
       "\n",
       "    .dataframe thead th {\n",
       "        text-align: right;\n",
       "    }\n",
       "</style>\n",
       "<table border=\"1\" class=\"dataframe\">\n",
       "  <thead>\n",
       "    <tr style=\"text-align: right;\">\n",
       "      <th></th>\n",
       "      <th>date</th>\n",
       "      <th>attendance</th>\n",
       "      <th>TSUrushyards</th>\n",
       "      <th>TSUreceiveyards</th>\n",
       "      <th>TSUkreturnyards</th>\n",
       "      <th>TSUpreturnyards</th>\n",
       "      <th>TSUtackles</th>\n",
       "      <th>TSUtackleyd</th>\n",
       "      <th>TSUsacks</th>\n",
       "      <th>TSUsackyd</th>\n",
       "      <th>TSUpunt</th>\n",
       "    </tr>\n",
       "  </thead>\n",
       "  <tbody>\n",
       "    <tr>\n",
       "      <th>0</th>\n",
       "      <td>Sep 01 2013</td>\n",
       "      <td>16108</td>\n",
       "      <td>116</td>\n",
       "      <td>132</td>\n",
       "      <td>84</td>\n",
       "      <td>51</td>\n",
       "      <td>62</td>\n",
       "      <td>7</td>\n",
       "      <td>1.0</td>\n",
       "      <td>4</td>\n",
       "      <td>5</td>\n",
       "    </tr>\n",
       "    <tr>\n",
       "      <th>1</th>\n",
       "      <td>Sep 07 2013</td>\n",
       "      <td>14237</td>\n",
       "      <td>268</td>\n",
       "      <td>131</td>\n",
       "      <td>111</td>\n",
       "      <td>17</td>\n",
       "      <td>41</td>\n",
       "      <td>35</td>\n",
       "      <td>3.0</td>\n",
       "      <td>18</td>\n",
       "      <td>4</td>\n",
       "    </tr>\n",
       "    <tr>\n",
       "      <th>2</th>\n",
       "      <td>Sep 14 2013</td>\n",
       "      <td>42400</td>\n",
       "      <td>174</td>\n",
       "      <td>111</td>\n",
       "      <td>64</td>\n",
       "      <td>11</td>\n",
       "      <td>69</td>\n",
       "      <td>26</td>\n",
       "      <td>2.0</td>\n",
       "      <td>13</td>\n",
       "      <td>3</td>\n",
       "    </tr>\n",
       "    <tr>\n",
       "      <th>3</th>\n",
       "      <td>Sep 21 2013</td>\n",
       "      <td>10044</td>\n",
       "      <td>95</td>\n",
       "      <td>343</td>\n",
       "      <td>63</td>\n",
       "      <td>23</td>\n",
       "      <td>76</td>\n",
       "      <td>51</td>\n",
       "      <td>3.0</td>\n",
       "      <td>28</td>\n",
       "      <td>5</td>\n",
       "    </tr>\n",
       "    <tr>\n",
       "      <th>4</th>\n",
       "      <td>Sep 28 2013</td>\n",
       "      <td>22000</td>\n",
       "      <td>311</td>\n",
       "      <td>228</td>\n",
       "      <td>46</td>\n",
       "      <td>75</td>\n",
       "      <td>70</td>\n",
       "      <td>44</td>\n",
       "      <td>3.0</td>\n",
       "      <td>17</td>\n",
       "      <td>1</td>\n",
       "    </tr>\n",
       "  </tbody>\n",
       "</table>\n",
       "</div>"
      ],
      "text/plain": [
       "          date  attendance  TSUrushyards  TSUreceiveyards  TSUkreturnyards  \\\n",
       "0  Sep 01 2013       16108           116              132               84   \n",
       "1  Sep 07 2013       14237           268              131              111   \n",
       "2  Sep 14 2013       42400           174              111               64   \n",
       "3  Sep 21 2013       10044            95              343               63   \n",
       "4  Sep 28 2013       22000           311              228               46   \n",
       "\n",
       "   TSUpreturnyards  TSUtackles  TSUtackleyd  TSUsacks  TSUsackyd  TSUpunt  \n",
       "0               51          62            7       1.0          4        5  \n",
       "1               17          41           35       3.0         18        4  \n",
       "2               11          69           26       2.0         13        3  \n",
       "3               23          76           51       3.0         28        5  \n",
       "4               75          70           44       3.0         17        1  "
      ]
     },
     "execution_count": 12,
     "metadata": {},
     "output_type": "execute_result"
    }
   ],
   "source": [
    "#create data frame\n",
    "#change dictionary of lists to data frame\n",
    "list_of_dicts={'date':date,\n",
    "     'attendance':attendance,\n",
    "     'TSUrushyards':TSUrushyards,\n",
    "     'TSUreceiveyards':TSUreceiveyards,\n",
    "     'TSUkreturnyards':TSUkreturnyards,\n",
    "     'TSUpreturnyards':TSUpreturnyards,\n",
    "     'TSUtackles':TSUtackles,\n",
    "     'TSUtackleyd':TSUtackleyd,\n",
    "     'TSUsacks':TSUsacks,\n",
    "     'TSUsackyd':TSUsackyd,\n",
    "     'TSUpunt':TSUpunt}\n",
    "df2013=pd.DataFrame(list_of_dicts)\n",
    "df2013.head()"
   ]
  },
  {
   "cell_type": "code",
   "execution_count": 13,
   "metadata": {},
   "outputs": [
    {
     "data": {
      "text/html": [
       "<div>\n",
       "<style scoped>\n",
       "    .dataframe tbody tr th:only-of-type {\n",
       "        vertical-align: middle;\n",
       "    }\n",
       "\n",
       "    .dataframe tbody tr th {\n",
       "        vertical-align: top;\n",
       "    }\n",
       "\n",
       "    .dataframe thead th {\n",
       "        text-align: right;\n",
       "    }\n",
       "</style>\n",
       "<table border=\"1\" class=\"dataframe\">\n",
       "  <thead>\n",
       "    <tr style=\"text-align: right;\">\n",
       "      <th></th>\n",
       "      <th>date</th>\n",
       "      <th>attendance</th>\n",
       "      <th>TSUrushyards</th>\n",
       "      <th>TSUreceiveyards</th>\n",
       "      <th>TSUkreturnyards</th>\n",
       "      <th>TSUpreturnyards</th>\n",
       "      <th>TSUtackles</th>\n",
       "      <th>TSUtackleyd</th>\n",
       "      <th>TSUsacks</th>\n",
       "      <th>TSUsackyd</th>\n",
       "      <th>TSUpunt</th>\n",
       "      <th>month</th>\n",
       "      <th>day</th>\n",
       "      <th>year</th>\n",
       "    </tr>\n",
       "  </thead>\n",
       "  <tbody>\n",
       "    <tr>\n",
       "      <th>0</th>\n",
       "      <td>Sep 01 2013</td>\n",
       "      <td>16108</td>\n",
       "      <td>116</td>\n",
       "      <td>132</td>\n",
       "      <td>84</td>\n",
       "      <td>51</td>\n",
       "      <td>62</td>\n",
       "      <td>7</td>\n",
       "      <td>1.0</td>\n",
       "      <td>4</td>\n",
       "      <td>5</td>\n",
       "      <td>Sep</td>\n",
       "      <td>01</td>\n",
       "      <td>2013</td>\n",
       "    </tr>\n",
       "    <tr>\n",
       "      <th>1</th>\n",
       "      <td>Sep 07 2013</td>\n",
       "      <td>14237</td>\n",
       "      <td>268</td>\n",
       "      <td>131</td>\n",
       "      <td>111</td>\n",
       "      <td>17</td>\n",
       "      <td>41</td>\n",
       "      <td>35</td>\n",
       "      <td>3.0</td>\n",
       "      <td>18</td>\n",
       "      <td>4</td>\n",
       "      <td>Sep</td>\n",
       "      <td>07</td>\n",
       "      <td>2013</td>\n",
       "    </tr>\n",
       "    <tr>\n",
       "      <th>2</th>\n",
       "      <td>Sep 14 2013</td>\n",
       "      <td>42400</td>\n",
       "      <td>174</td>\n",
       "      <td>111</td>\n",
       "      <td>64</td>\n",
       "      <td>11</td>\n",
       "      <td>69</td>\n",
       "      <td>26</td>\n",
       "      <td>2.0</td>\n",
       "      <td>13</td>\n",
       "      <td>3</td>\n",
       "      <td>Sep</td>\n",
       "      <td>14</td>\n",
       "      <td>2013</td>\n",
       "    </tr>\n",
       "    <tr>\n",
       "      <th>3</th>\n",
       "      <td>Sep 21 2013</td>\n",
       "      <td>10044</td>\n",
       "      <td>95</td>\n",
       "      <td>343</td>\n",
       "      <td>63</td>\n",
       "      <td>23</td>\n",
       "      <td>76</td>\n",
       "      <td>51</td>\n",
       "      <td>3.0</td>\n",
       "      <td>28</td>\n",
       "      <td>5</td>\n",
       "      <td>Sep</td>\n",
       "      <td>21</td>\n",
       "      <td>2013</td>\n",
       "    </tr>\n",
       "    <tr>\n",
       "      <th>4</th>\n",
       "      <td>Sep 28 2013</td>\n",
       "      <td>22000</td>\n",
       "      <td>311</td>\n",
       "      <td>228</td>\n",
       "      <td>46</td>\n",
       "      <td>75</td>\n",
       "      <td>70</td>\n",
       "      <td>44</td>\n",
       "      <td>3.0</td>\n",
       "      <td>17</td>\n",
       "      <td>1</td>\n",
       "      <td>Sep</td>\n",
       "      <td>28</td>\n",
       "      <td>2013</td>\n",
       "    </tr>\n",
       "  </tbody>\n",
       "</table>\n",
       "</div>"
      ],
      "text/plain": [
       "          date  attendance  TSUrushyards  TSUreceiveyards  TSUkreturnyards  \\\n",
       "0  Sep 01 2013       16108           116              132               84   \n",
       "1  Sep 07 2013       14237           268              131              111   \n",
       "2  Sep 14 2013       42400           174              111               64   \n",
       "3  Sep 21 2013       10044            95              343               63   \n",
       "4  Sep 28 2013       22000           311              228               46   \n",
       "\n",
       "   TSUpreturnyards  TSUtackles  TSUtackleyd  TSUsacks  TSUsackyd  TSUpunt  \\\n",
       "0               51          62            7       1.0          4        5   \n",
       "1               17          41           35       3.0         18        4   \n",
       "2               11          69           26       2.0         13        3   \n",
       "3               23          76           51       3.0         28        5   \n",
       "4               75          70           44       3.0         17        1   \n",
       "\n",
       "  month day  year  \n",
       "0   Sep  01  2013  \n",
       "1   Sep  07  2013  \n",
       "2   Sep  14  2013  \n",
       "3   Sep  21  2013  \n",
       "4   Sep  28  2013  "
      ]
     },
     "execution_count": 13,
     "metadata": {},
     "output_type": "execute_result"
    }
   ],
   "source": [
    "#splitting date column into month, day, & year columns \n",
    "df2013[['month','day','year']]=df2013.date.str.split(expand=True)\n",
    "df2013.drop('date',axis=1)\n",
    "df2013.head()"
   ]
  },
  {
   "cell_type": "code",
   "execution_count": 14,
   "metadata": {},
   "outputs": [
    {
     "name": "stdout",
     "output_type": "stream",
     "text": [
      "<class 'pandas.core.frame.DataFrame'>\n",
      "RangeIndex: 14 entries, 0 to 13\n",
      "Data columns (total 12 columns):\n",
      " #   Column           Non-Null Count  Dtype         \n",
      "---  ------           --------------  -----         \n",
      " 0   date             14 non-null     datetime64[ns]\n",
      " 1   attendance       14 non-null     int64         \n",
      " 2   TSUrushyards     14 non-null     int64         \n",
      " 3   TSUreceiveyards  14 non-null     int64         \n",
      " 4   TSUkreturnyards  14 non-null     int64         \n",
      " 5   TSUpreturnyards  14 non-null     int64         \n",
      " 6   TSUtackles       14 non-null     int64         \n",
      " 7   TSUtackleyd      14 non-null     int64         \n",
      " 8   TSUsacks         14 non-null     float64       \n",
      " 9   TSUsackyd        14 non-null     int64         \n",
      " 10  TSUpunt          14 non-null     int64         \n",
      " 11  year             14 non-null     int64         \n",
      "dtypes: datetime64[ns](1), float64(1), int64(10)\n",
      "memory usage: 1.4 KB\n"
     ]
    }
   ],
   "source": [
    "#create a new date variable\n",
    "#change month variable to a 2 digit string variable\n",
    "df2013['month'] = df2013['month'].str.replace('Aug','08')\n",
    "df2013['month'] = df2013['month'].str.replace('Sep','09')\n",
    "df2013['month'] = df2013['month'].str.replace('Oct','10')\n",
    "df2013['month'] = df2013['month'].str.replace('Nov','11')\n",
    "df2013['month'] = df2013['month'].str.replace('Dec','12')\n",
    "#merge month,day and year variables\n",
    "df2013['date']=df2013['year']+ '-' +df2013['month']+ '-'+df2013['day']\n",
    "#make date into a datetime variable\n",
    "df2013['date']= pd.to_datetime(df2013['date'], format='%Y-%m-%d')\n",
    "#drop individual month,day, variables (keep year variable for later analysis)\n",
    "df2013=df2013.drop(['month','day'], axis=1)\n",
    "#make year numeric\n",
    "df2013['year']=pd.to_numeric(df2013['year'])\n",
    "df2013.info()"
   ]
  },
  {
   "cell_type": "code",
   "execution_count": 15,
   "metadata": {},
   "outputs": [
    {
     "data": {
      "text/html": [
       "<div>\n",
       "<style scoped>\n",
       "    .dataframe tbody tr th:only-of-type {\n",
       "        vertical-align: middle;\n",
       "    }\n",
       "\n",
       "    .dataframe tbody tr th {\n",
       "        vertical-align: top;\n",
       "    }\n",
       "\n",
       "    .dataframe thead th {\n",
       "        text-align: right;\n",
       "    }\n",
       "</style>\n",
       "<table border=\"1\" class=\"dataframe\">\n",
       "  <thead>\n",
       "    <tr style=\"text-align: right;\">\n",
       "      <th></th>\n",
       "      <th>date</th>\n",
       "      <th>attendance</th>\n",
       "      <th>TSUrushyards</th>\n",
       "      <th>TSUreceiveyards</th>\n",
       "      <th>TSUkreturnyards</th>\n",
       "      <th>TSUpreturnyards</th>\n",
       "      <th>TSUtackles</th>\n",
       "      <th>TSUtackleyd</th>\n",
       "      <th>TSUsacks</th>\n",
       "      <th>TSUsackyd</th>\n",
       "      <th>TSUpunt</th>\n",
       "      <th>year</th>\n",
       "    </tr>\n",
       "  </thead>\n",
       "  <tbody>\n",
       "    <tr>\n",
       "      <th>0</th>\n",
       "      <td>2013-09-01</td>\n",
       "      <td>16108</td>\n",
       "      <td>116</td>\n",
       "      <td>132</td>\n",
       "      <td>84</td>\n",
       "      <td>51</td>\n",
       "      <td>62</td>\n",
       "      <td>7</td>\n",
       "      <td>1.0</td>\n",
       "      <td>4</td>\n",
       "      <td>5</td>\n",
       "      <td>2013</td>\n",
       "    </tr>\n",
       "    <tr>\n",
       "      <th>1</th>\n",
       "      <td>2013-09-07</td>\n",
       "      <td>14237</td>\n",
       "      <td>268</td>\n",
       "      <td>131</td>\n",
       "      <td>111</td>\n",
       "      <td>17</td>\n",
       "      <td>41</td>\n",
       "      <td>35</td>\n",
       "      <td>3.0</td>\n",
       "      <td>18</td>\n",
       "      <td>4</td>\n",
       "      <td>2013</td>\n",
       "    </tr>\n",
       "    <tr>\n",
       "      <th>2</th>\n",
       "      <td>2013-09-14</td>\n",
       "      <td>42400</td>\n",
       "      <td>174</td>\n",
       "      <td>111</td>\n",
       "      <td>64</td>\n",
       "      <td>11</td>\n",
       "      <td>69</td>\n",
       "      <td>26</td>\n",
       "      <td>2.0</td>\n",
       "      <td>13</td>\n",
       "      <td>3</td>\n",
       "      <td>2013</td>\n",
       "    </tr>\n",
       "    <tr>\n",
       "      <th>3</th>\n",
       "      <td>2013-09-21</td>\n",
       "      <td>10044</td>\n",
       "      <td>95</td>\n",
       "      <td>343</td>\n",
       "      <td>63</td>\n",
       "      <td>23</td>\n",
       "      <td>76</td>\n",
       "      <td>51</td>\n",
       "      <td>3.0</td>\n",
       "      <td>28</td>\n",
       "      <td>5</td>\n",
       "      <td>2013</td>\n",
       "    </tr>\n",
       "    <tr>\n",
       "      <th>4</th>\n",
       "      <td>2013-09-28</td>\n",
       "      <td>22000</td>\n",
       "      <td>311</td>\n",
       "      <td>228</td>\n",
       "      <td>46</td>\n",
       "      <td>75</td>\n",
       "      <td>70</td>\n",
       "      <td>44</td>\n",
       "      <td>3.0</td>\n",
       "      <td>17</td>\n",
       "      <td>1</td>\n",
       "      <td>2013</td>\n",
       "    </tr>\n",
       "  </tbody>\n",
       "</table>\n",
       "</div>"
      ],
      "text/plain": [
       "        date  attendance  TSUrushyards  TSUreceiveyards  TSUkreturnyards  \\\n",
       "0 2013-09-01       16108           116              132               84   \n",
       "1 2013-09-07       14237           268              131              111   \n",
       "2 2013-09-14       42400           174              111               64   \n",
       "3 2013-09-21       10044            95              343               63   \n",
       "4 2013-09-28       22000           311              228               46   \n",
       "\n",
       "   TSUpreturnyards  TSUtackles  TSUtackleyd  TSUsacks  TSUsackyd  TSUpunt  \\\n",
       "0               51          62            7       1.0          4        5   \n",
       "1               17          41           35       3.0         18        4   \n",
       "2               11          69           26       2.0         13        3   \n",
       "3               23          76           51       3.0         28        5   \n",
       "4               75          70           44       3.0         17        1   \n",
       "\n",
       "   year  \n",
       "0  2013  \n",
       "1  2013  \n",
       "2  2013  \n",
       "3  2013  \n",
       "4  2013  "
      ]
     },
     "execution_count": 15,
     "metadata": {},
     "output_type": "execute_result"
    }
   ],
   "source": [
    "#sort data\n",
    "df2013=df2013.sort_values('date',ignore_index=True)\n",
    "df2013.head()"
   ]
  },
  {
   "cell_type": "code",
   "execution_count": 16,
   "metadata": {},
   "outputs": [],
   "source": [
    "#save data\n",
    "df2013.to_csv('2013.csv',encoding='utf-8')"
   ]
  },
  {
   "cell_type": "code",
   "execution_count": null,
   "metadata": {},
   "outputs": [],
   "source": []
  }
 ],
 "metadata": {
  "kernelspec": {
   "display_name": "Python 3",
   "language": "python",
   "name": "python3"
  },
  "language_info": {
   "codemirror_mode": {
    "name": "ipython",
    "version": 3
   },
   "file_extension": ".py",
   "mimetype": "text/x-python",
   "name": "python",
   "nbconvert_exporter": "python",
   "pygments_lexer": "ipython3",
   "version": "3.8.5"
  }
 },
 "nbformat": 4,
 "nbformat_minor": 4
}
