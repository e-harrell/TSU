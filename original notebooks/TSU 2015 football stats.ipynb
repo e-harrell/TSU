{
 "cells": [
  {
   "cell_type": "code",
   "execution_count": 1,
   "metadata": {},
   "outputs": [
    {
     "data": {
      "text/plain": [
       "['Sep 06 2015',\n",
       " 'Sep 12 2015',\n",
       " 'Sep 19 2015',\n",
       " 'Sep 26 2015',\n",
       " 'Oct 10 2015',\n",
       " 'Oct 17 2015',\n",
       " 'Oct 24 2015',\n",
       " 'Oct 31 2015',\n",
       " 'Nov 07 2015',\n",
       " 'Nov 21 2015']"
      ]
     },
     "execution_count": 1,
     "metadata": {},
     "output_type": "execute_result"
    }
   ],
   "source": [
    "#libraries to use\n",
    "import pandas as pd\n",
    "import numpy as np\n",
    "import matplotlib.pyplot as plt\n",
    "import datetime as dt\n",
    "#python's lxml library parses xml and html files\n",
    "from lxml import html\n",
    "\n",
    "#use requests to get data from web pages\n",
    "import requests \n",
    "\n",
    "#use requests.get() to get web page with data\n",
    "page = requests.get('https://tennstate_ftp.sidearmsports.com/custompages/tsutigers/B8713968-6888-4BB4-B12E-9BA4C76282AC/teamgbg.htm')\n",
    "\n",
    "#parse data on web page using html module.fromstring\n",
    "mytree = html.fromstring(page.content)\n",
    "\n",
    "#go to web address above , right click on page and select inspect to get HTML code for data from right side of page\n",
    "#create XPath query and use xpath function to get data\n",
    "#date data\n",
    "date = mytree.xpath('body/center//tr/td/font[@color=\"#000000\"]/text()')[1:100:10]\n",
    "date=[a.replace(\"\\xa0\",\"\") for a in date]\n",
    "date=[a.replace(\",\",\"\") for a in date]\n",
    "date=[a.replace(\".\",\"\") for a in date]\n",
    "date"
   ]
  },
  {
   "cell_type": "code",
   "execution_count": 2,
   "metadata": {},
   "outputs": [
    {
     "data": {
      "text/plain": [
       "array([22455, 48385, 23413, 18020,  7123, 22144,  9400,  5985,  7897,\n",
       "        3924], dtype=int64)"
      ]
     },
     "execution_count": 2,
     "metadata": {},
     "output_type": "execute_result"
    }
   ],
   "source": [
    "#get attendance data\n",
    "attendance=mytree.xpath('body/center//tr/td/font[@color=\"#000000\"]/text()')[9:100:10]\n",
    "attendance=[a.replace(\"\\xa0\",\"\") for a in attendance]\n",
    "attendance=[a.strip() for a in attendance]\n",
    "attendance=pd.to_numeric(attendance)\n",
    "attendance"
   ]
  },
  {
   "cell_type": "code",
   "execution_count": 3,
   "metadata": {},
   "outputs": [
    {
     "data": {
      "text/plain": [
       "array([142, 110,  24, 169,  85, 162, 129, 165, 125, 123], dtype=int64)"
      ]
     },
     "execution_count": 3,
     "metadata": {},
     "output_type": "execute_result"
    }
   ],
   "source": [
    "#get TSU rushing yards\n",
    "TSUrushyards=mytree.xpath('body/center//tr/td/font[@color=\"#000000\"]/text()')[104:320:23]\n",
    "TSUrushyards=[a.replace(\"\\xa0\",\"\") for a in TSUrushyards]\n",
    "TSUrushyards=pd.to_numeric(TSUrushyards)\n",
    "TSUrushyards"
   ]
  },
  {
   "cell_type": "code",
   "execution_count": 4,
   "metadata": {},
   "outputs": [
    {
     "data": {
      "text/plain": [
       "array([188, 304, 184, 238, 205, 125, 222,  76, 329, 221], dtype=int64)"
      ]
     },
     "execution_count": 4,
     "metadata": {},
     "output_type": "execute_result"
    }
   ],
   "source": [
    "#get TSU receiving yards\n",
    "TSUreceiveyards=mytree.xpath('body/center//tr/td/font[@color=\"#000000\"]/text()')[108:320:23]\n",
    "TSUreceiveyards=[a.replace(\"\\xa0\",\"\") for a in TSUreceiveyards]\n",
    "TSUreceiveyards=pd.to_numeric(TSUreceiveyards)\n",
    "TSUreceiveyards"
   ]
  },
  {
   "cell_type": "code",
   "execution_count": 5,
   "metadata": {},
   "outputs": [
    {
     "data": {
      "text/plain": [
       "array([ 58, 152, 102,  46,  40,  22,   4,  46,  86,  61], dtype=int64)"
      ]
     },
     "execution_count": 5,
     "metadata": {},
     "output_type": "execute_result"
    }
   ],
   "source": [
    "#get TSU kick return yards\n",
    "TSUkreturnyards=mytree.xpath('body/center//tr/td/font[@color=\"#000000\"]/text()')[116:340:23]\n",
    "TSUkreturnyards=[a.replace(\"\\xa0\",\"\") for a in TSUkreturnyards]\n",
    "TSUkreturnyards=pd.to_numeric(TSUkreturnyards)\n",
    "TSUkreturnyards"
   ]
  },
  {
   "cell_type": "code",
   "execution_count": 6,
   "metadata": {},
   "outputs": [
    {
     "data": {
      "text/plain": [
       "array([38, 48,  0, 15,  4, 22, 11, -2,  3,  9], dtype=int64)"
      ]
     },
     "execution_count": 6,
     "metadata": {},
     "output_type": "execute_result"
    }
   ],
   "source": [
    "#get TSU punt return yards\n",
    "TSUpreturnyards=mytree.xpath('body/center//tr/td/font[@color=\"#000000\"]/text()')[120:340:23]\n",
    "TSUpreturnyards=[a.replace(\"\\xa0\",\"\") for a in TSUpreturnyards]\n",
    "TSUpreturnyards=pd.to_numeric(TSUpreturnyards)\n",
    "TSUpreturnyards"
   ]
  },
  {
   "cell_type": "code",
   "execution_count": 7,
   "metadata": {},
   "outputs": [
    {
     "data": {
      "text/plain": [
       "array([47, 83, 83, 68, 71, 60, 65, 62, 92, 53], dtype=int64)"
      ]
     },
     "execution_count": 7,
     "metadata": {},
     "output_type": "execute_result"
    }
   ],
   "source": [
    "#get TSU total tackles\n",
    "TSUtackles=mytree.xpath('body/center//tr/td/font[@color=\"#000000\"]/text()')[381:600:23]\n",
    "TSUtackles=[a.replace(\"\\xa0\",\"\") for a in TSUtackles]\n",
    "TSUtackles=pd.to_numeric(TSUtackles)\n",
    "TSUtackles"
   ]
  },
  {
   "cell_type": "code",
   "execution_count": 8,
   "metadata": {},
   "outputs": [
    {
     "data": {
      "text/plain": [
       "array([21, 38,  4, 44,  7, 12, 12,  7, 69, 28], dtype=int64)"
      ]
     },
     "execution_count": 8,
     "metadata": {},
     "output_type": "execute_result"
    }
   ],
   "source": [
    "#get TSU tackle yards\n",
    "TSUtackleyd=mytree.xpath('body/center//tr/td/font[@color=\"#000000\"]/text()')[383:600:23]\n",
    "TSUtackleyd=[a.replace(\"\\xa0\",\"\") for a in TSUtackleyd]\n",
    "TSUtackleyd=pd.to_numeric(TSUtackleyd)\n",
    "TSUtackleyd"
   ]
  },
  {
   "cell_type": "code",
   "execution_count": 9,
   "metadata": {},
   "outputs": [
    {
     "data": {
      "text/plain": [
       "array([1., 5., 0., 4., 0., 0., 0., 0., 8., 3.])"
      ]
     },
     "execution_count": 9,
     "metadata": {},
     "output_type": "execute_result"
    }
   ],
   "source": [
    "#get TSU sacks\n",
    "TSUsacks=mytree.xpath('body/center//tr/td/font[@color=\"#000000\"]/text()')[384:600:23]\n",
    "TSUsacks=[a.replace(\"\\xa0\",\"\") for a in TSUsacks]\n",
    "TSUsacks=pd.to_numeric(TSUsacks)\n",
    "TSUsacks"
   ]
  },
  {
   "cell_type": "code",
   "execution_count": 10,
   "metadata": {},
   "outputs": [
    {
     "data": {
      "text/plain": [
       "array([12, 31,  0, 22,  0,  0,  0,  0, 55, 25], dtype=int64)"
      ]
     },
     "execution_count": 10,
     "metadata": {},
     "output_type": "execute_result"
    }
   ],
   "source": [
    "#get TSU sack yards\n",
    "TSUsackyd=mytree.xpath('body/center//tr/td/font[@color=\"#000000\"]/text()')[385:600:23]\n",
    "TSUsackyd=[a.replace(\"\\xa0\",\"\") for a in TSUsackyd]\n",
    "TSUsackyd=pd.to_numeric(TSUsackyd)\n",
    "TSUsackyd"
   ]
  },
  {
   "cell_type": "code",
   "execution_count": 11,
   "metadata": {},
   "outputs": [
    {
     "data": {
      "text/plain": [
       "array([5, 5, 7, 8, 6, 7, 5, 7, 6, 5], dtype=int64)"
      ]
     },
     "execution_count": 11,
     "metadata": {},
     "output_type": "execute_result"
    }
   ],
   "source": [
    "#TSU punts\n",
    "TSUpunt=mytree.xpath('body/center//tr/td/font[@color=\"#000000\"]/text()')[655:838:19]\n",
    "TSUpunt=[a.replace(\"\\xa0\",\"\") for a in TSUpunt]\n",
    "TSUpunt=pd.to_numeric(TSUpunt)\n",
    "TSUpunt"
   ]
  },
  {
   "cell_type": "code",
   "execution_count": 12,
   "metadata": {},
   "outputs": [
    {
     "data": {
      "text/html": [
       "<div>\n",
       "<style scoped>\n",
       "    .dataframe tbody tr th:only-of-type {\n",
       "        vertical-align: middle;\n",
       "    }\n",
       "\n",
       "    .dataframe tbody tr th {\n",
       "        vertical-align: top;\n",
       "    }\n",
       "\n",
       "    .dataframe thead th {\n",
       "        text-align: right;\n",
       "    }\n",
       "</style>\n",
       "<table border=\"1\" class=\"dataframe\">\n",
       "  <thead>\n",
       "    <tr style=\"text-align: right;\">\n",
       "      <th></th>\n",
       "      <th>date</th>\n",
       "      <th>attendance</th>\n",
       "      <th>TSUrushyards</th>\n",
       "      <th>TSUreceiveyards</th>\n",
       "      <th>TSUkreturnyards</th>\n",
       "      <th>TSUpreturnyards</th>\n",
       "      <th>TSUtackles</th>\n",
       "      <th>TSUtackleyd</th>\n",
       "      <th>TSUsacks</th>\n",
       "      <th>TSUsackyd</th>\n",
       "      <th>TSUpunt</th>\n",
       "    </tr>\n",
       "  </thead>\n",
       "  <tbody>\n",
       "    <tr>\n",
       "      <th>0</th>\n",
       "      <td>Sep 06 2015</td>\n",
       "      <td>22455</td>\n",
       "      <td>142</td>\n",
       "      <td>188</td>\n",
       "      <td>58</td>\n",
       "      <td>38</td>\n",
       "      <td>47</td>\n",
       "      <td>21</td>\n",
       "      <td>1.0</td>\n",
       "      <td>12</td>\n",
       "      <td>5</td>\n",
       "    </tr>\n",
       "    <tr>\n",
       "      <th>1</th>\n",
       "      <td>Sep 12 2015</td>\n",
       "      <td>48385</td>\n",
       "      <td>110</td>\n",
       "      <td>304</td>\n",
       "      <td>152</td>\n",
       "      <td>48</td>\n",
       "      <td>83</td>\n",
       "      <td>38</td>\n",
       "      <td>5.0</td>\n",
       "      <td>31</td>\n",
       "      <td>5</td>\n",
       "    </tr>\n",
       "    <tr>\n",
       "      <th>2</th>\n",
       "      <td>Sep 19 2015</td>\n",
       "      <td>23413</td>\n",
       "      <td>24</td>\n",
       "      <td>184</td>\n",
       "      <td>102</td>\n",
       "      <td>0</td>\n",
       "      <td>83</td>\n",
       "      <td>4</td>\n",
       "      <td>0.0</td>\n",
       "      <td>0</td>\n",
       "      <td>7</td>\n",
       "    </tr>\n",
       "    <tr>\n",
       "      <th>3</th>\n",
       "      <td>Sep 26 2015</td>\n",
       "      <td>18020</td>\n",
       "      <td>169</td>\n",
       "      <td>238</td>\n",
       "      <td>46</td>\n",
       "      <td>15</td>\n",
       "      <td>68</td>\n",
       "      <td>44</td>\n",
       "      <td>4.0</td>\n",
       "      <td>22</td>\n",
       "      <td>8</td>\n",
       "    </tr>\n",
       "    <tr>\n",
       "      <th>4</th>\n",
       "      <td>Oct 10 2015</td>\n",
       "      <td>7123</td>\n",
       "      <td>85</td>\n",
       "      <td>205</td>\n",
       "      <td>40</td>\n",
       "      <td>4</td>\n",
       "      <td>71</td>\n",
       "      <td>7</td>\n",
       "      <td>0.0</td>\n",
       "      <td>0</td>\n",
       "      <td>6</td>\n",
       "    </tr>\n",
       "  </tbody>\n",
       "</table>\n",
       "</div>"
      ],
      "text/plain": [
       "          date  attendance  TSUrushyards  TSUreceiveyards  TSUkreturnyards  \\\n",
       "0  Sep 06 2015       22455           142              188               58   \n",
       "1  Sep 12 2015       48385           110              304              152   \n",
       "2  Sep 19 2015       23413            24              184              102   \n",
       "3  Sep 26 2015       18020           169              238               46   \n",
       "4  Oct 10 2015        7123            85              205               40   \n",
       "\n",
       "   TSUpreturnyards  TSUtackles  TSUtackleyd  TSUsacks  TSUsackyd  TSUpunt  \n",
       "0               38          47           21       1.0         12        5  \n",
       "1               48          83           38       5.0         31        5  \n",
       "2                0          83            4       0.0          0        7  \n",
       "3               15          68           44       4.0         22        8  \n",
       "4                4          71            7       0.0          0        6  "
      ]
     },
     "execution_count": 12,
     "metadata": {},
     "output_type": "execute_result"
    }
   ],
   "source": [
    "#create data frame\n",
    "#change dictionary of lists to data frame\n",
    "list_of_dicts={'date':date,\n",
    "     'attendance':attendance,\n",
    "     'TSUrushyards':TSUrushyards,\n",
    "     'TSUreceiveyards':TSUreceiveyards,\n",
    "     'TSUkreturnyards':TSUkreturnyards,\n",
    "     'TSUpreturnyards':TSUpreturnyards,\n",
    "     'TSUtackles':TSUtackles,\n",
    "     'TSUtackleyd':TSUtackleyd,\n",
    "     'TSUsacks':TSUsacks,\n",
    "     'TSUsackyd':TSUsackyd,\n",
    "     'TSUpunt':TSUpunt}\n",
    "df2015=pd.DataFrame(list_of_dicts)\n",
    "df2015.head()"
   ]
  },
  {
   "cell_type": "code",
   "execution_count": 13,
   "metadata": {},
   "outputs": [
    {
     "data": {
      "text/html": [
       "<div>\n",
       "<style scoped>\n",
       "    .dataframe tbody tr th:only-of-type {\n",
       "        vertical-align: middle;\n",
       "    }\n",
       "\n",
       "    .dataframe tbody tr th {\n",
       "        vertical-align: top;\n",
       "    }\n",
       "\n",
       "    .dataframe thead th {\n",
       "        text-align: right;\n",
       "    }\n",
       "</style>\n",
       "<table border=\"1\" class=\"dataframe\">\n",
       "  <thead>\n",
       "    <tr style=\"text-align: right;\">\n",
       "      <th></th>\n",
       "      <th>date</th>\n",
       "      <th>attendance</th>\n",
       "      <th>TSUrushyards</th>\n",
       "      <th>TSUreceiveyards</th>\n",
       "      <th>TSUkreturnyards</th>\n",
       "      <th>TSUpreturnyards</th>\n",
       "      <th>TSUtackles</th>\n",
       "      <th>TSUtackleyd</th>\n",
       "      <th>TSUsacks</th>\n",
       "      <th>TSUsackyd</th>\n",
       "      <th>TSUpunt</th>\n",
       "      <th>month</th>\n",
       "      <th>day</th>\n",
       "      <th>year</th>\n",
       "    </tr>\n",
       "  </thead>\n",
       "  <tbody>\n",
       "    <tr>\n",
       "      <th>0</th>\n",
       "      <td>Sep 06 2015</td>\n",
       "      <td>22455</td>\n",
       "      <td>142</td>\n",
       "      <td>188</td>\n",
       "      <td>58</td>\n",
       "      <td>38</td>\n",
       "      <td>47</td>\n",
       "      <td>21</td>\n",
       "      <td>1.0</td>\n",
       "      <td>12</td>\n",
       "      <td>5</td>\n",
       "      <td>Sep</td>\n",
       "      <td>06</td>\n",
       "      <td>2015</td>\n",
       "    </tr>\n",
       "    <tr>\n",
       "      <th>1</th>\n",
       "      <td>Sep 12 2015</td>\n",
       "      <td>48385</td>\n",
       "      <td>110</td>\n",
       "      <td>304</td>\n",
       "      <td>152</td>\n",
       "      <td>48</td>\n",
       "      <td>83</td>\n",
       "      <td>38</td>\n",
       "      <td>5.0</td>\n",
       "      <td>31</td>\n",
       "      <td>5</td>\n",
       "      <td>Sep</td>\n",
       "      <td>12</td>\n",
       "      <td>2015</td>\n",
       "    </tr>\n",
       "    <tr>\n",
       "      <th>2</th>\n",
       "      <td>Sep 19 2015</td>\n",
       "      <td>23413</td>\n",
       "      <td>24</td>\n",
       "      <td>184</td>\n",
       "      <td>102</td>\n",
       "      <td>0</td>\n",
       "      <td>83</td>\n",
       "      <td>4</td>\n",
       "      <td>0.0</td>\n",
       "      <td>0</td>\n",
       "      <td>7</td>\n",
       "      <td>Sep</td>\n",
       "      <td>19</td>\n",
       "      <td>2015</td>\n",
       "    </tr>\n",
       "    <tr>\n",
       "      <th>3</th>\n",
       "      <td>Sep 26 2015</td>\n",
       "      <td>18020</td>\n",
       "      <td>169</td>\n",
       "      <td>238</td>\n",
       "      <td>46</td>\n",
       "      <td>15</td>\n",
       "      <td>68</td>\n",
       "      <td>44</td>\n",
       "      <td>4.0</td>\n",
       "      <td>22</td>\n",
       "      <td>8</td>\n",
       "      <td>Sep</td>\n",
       "      <td>26</td>\n",
       "      <td>2015</td>\n",
       "    </tr>\n",
       "    <tr>\n",
       "      <th>4</th>\n",
       "      <td>Oct 10 2015</td>\n",
       "      <td>7123</td>\n",
       "      <td>85</td>\n",
       "      <td>205</td>\n",
       "      <td>40</td>\n",
       "      <td>4</td>\n",
       "      <td>71</td>\n",
       "      <td>7</td>\n",
       "      <td>0.0</td>\n",
       "      <td>0</td>\n",
       "      <td>6</td>\n",
       "      <td>Oct</td>\n",
       "      <td>10</td>\n",
       "      <td>2015</td>\n",
       "    </tr>\n",
       "  </tbody>\n",
       "</table>\n",
       "</div>"
      ],
      "text/plain": [
       "          date  attendance  TSUrushyards  TSUreceiveyards  TSUkreturnyards  \\\n",
       "0  Sep 06 2015       22455           142              188               58   \n",
       "1  Sep 12 2015       48385           110              304              152   \n",
       "2  Sep 19 2015       23413            24              184              102   \n",
       "3  Sep 26 2015       18020           169              238               46   \n",
       "4  Oct 10 2015        7123            85              205               40   \n",
       "\n",
       "   TSUpreturnyards  TSUtackles  TSUtackleyd  TSUsacks  TSUsackyd  TSUpunt  \\\n",
       "0               38          47           21       1.0         12        5   \n",
       "1               48          83           38       5.0         31        5   \n",
       "2                0          83            4       0.0          0        7   \n",
       "3               15          68           44       4.0         22        8   \n",
       "4                4          71            7       0.0          0        6   \n",
       "\n",
       "  month day  year  \n",
       "0   Sep  06  2015  \n",
       "1   Sep  12  2015  \n",
       "2   Sep  19  2015  \n",
       "3   Sep  26  2015  \n",
       "4   Oct  10  2015  "
      ]
     },
     "execution_count": 13,
     "metadata": {},
     "output_type": "execute_result"
    }
   ],
   "source": [
    "#splitting date column into month, day, & year columns \n",
    "df2015[['month','day','year']]=df2015.date.str.split(expand=True)\n",
    "df2015.drop('date',axis=1)\n",
    "df2015.head()"
   ]
  },
  {
   "cell_type": "code",
   "execution_count": 14,
   "metadata": {},
   "outputs": [
    {
     "name": "stdout",
     "output_type": "stream",
     "text": [
      "<class 'pandas.core.frame.DataFrame'>\n",
      "RangeIndex: 10 entries, 0 to 9\n",
      "Data columns (total 12 columns):\n",
      " #   Column           Non-Null Count  Dtype         \n",
      "---  ------           --------------  -----         \n",
      " 0   date             10 non-null     datetime64[ns]\n",
      " 1   attendance       10 non-null     int64         \n",
      " 2   TSUrushyards     10 non-null     int64         \n",
      " 3   TSUreceiveyards  10 non-null     int64         \n",
      " 4   TSUkreturnyards  10 non-null     int64         \n",
      " 5   TSUpreturnyards  10 non-null     int64         \n",
      " 6   TSUtackles       10 non-null     int64         \n",
      " 7   TSUtackleyd      10 non-null     int64         \n",
      " 8   TSUsacks         10 non-null     float64       \n",
      " 9   TSUsackyd        10 non-null     int64         \n",
      " 10  TSUpunt          10 non-null     int64         \n",
      " 11  year             10 non-null     int64         \n",
      "dtypes: datetime64[ns](1), float64(1), int64(10)\n",
      "memory usage: 1.1 KB\n"
     ]
    }
   ],
   "source": [
    "#create a new date variable\n",
    "#change month variable to a 2 digit string variable\n",
    "df2015['month'] = df2015['month'].str.replace('Aug','08')\n",
    "df2015['month'] = df2015['month'].str.replace('Sep','09')\n",
    "df2015['month'] = df2015['month'].str.replace('Oct','10')\n",
    "df2015['month'] = df2015['month'].str.replace('Nov','11')\n",
    "df2015['month'] = df2015['month'].str.replace('Dec','12')\n",
    "#merge month,day and year variables\n",
    "df2015['date']=df2015['year']+ '-' +df2015['month']+ '-'+df2015['day']\n",
    "#make date into a datetime variable\n",
    "df2015['date']= pd.to_datetime(df2015['date'], format='%Y-%m-%d')\n",
    "#drop individual month,day, variables (keep year variable for later analysis)\n",
    "df2015=df2015.drop(['month','day'], axis=1)\n",
    "#make year numeric\n",
    "df2015['year']=pd.to_numeric(df2015['year'])\n",
    "df2015.info()"
   ]
  },
  {
   "cell_type": "code",
   "execution_count": 16,
   "metadata": {},
   "outputs": [
    {
     "data": {
      "text/html": [
       "<div>\n",
       "<style scoped>\n",
       "    .dataframe tbody tr th:only-of-type {\n",
       "        vertical-align: middle;\n",
       "    }\n",
       "\n",
       "    .dataframe tbody tr th {\n",
       "        vertical-align: top;\n",
       "    }\n",
       "\n",
       "    .dataframe thead th {\n",
       "        text-align: right;\n",
       "    }\n",
       "</style>\n",
       "<table border=\"1\" class=\"dataframe\">\n",
       "  <thead>\n",
       "    <tr style=\"text-align: right;\">\n",
       "      <th></th>\n",
       "      <th>date</th>\n",
       "      <th>attendance</th>\n",
       "      <th>TSUrushyards</th>\n",
       "      <th>TSUreceiveyards</th>\n",
       "      <th>TSUkreturnyards</th>\n",
       "      <th>TSUpreturnyards</th>\n",
       "      <th>TSUtackles</th>\n",
       "      <th>TSUtackleyd</th>\n",
       "      <th>TSUsacks</th>\n",
       "      <th>TSUsackyd</th>\n",
       "      <th>TSUpunt</th>\n",
       "      <th>year</th>\n",
       "    </tr>\n",
       "  </thead>\n",
       "  <tbody>\n",
       "    <tr>\n",
       "      <th>0</th>\n",
       "      <td>2015-09-06</td>\n",
       "      <td>22455</td>\n",
       "      <td>142</td>\n",
       "      <td>188</td>\n",
       "      <td>58</td>\n",
       "      <td>38</td>\n",
       "      <td>47</td>\n",
       "      <td>21</td>\n",
       "      <td>1.0</td>\n",
       "      <td>12</td>\n",
       "      <td>5</td>\n",
       "      <td>2015</td>\n",
       "    </tr>\n",
       "    <tr>\n",
       "      <th>1</th>\n",
       "      <td>2015-09-12</td>\n",
       "      <td>48385</td>\n",
       "      <td>110</td>\n",
       "      <td>304</td>\n",
       "      <td>152</td>\n",
       "      <td>48</td>\n",
       "      <td>83</td>\n",
       "      <td>38</td>\n",
       "      <td>5.0</td>\n",
       "      <td>31</td>\n",
       "      <td>5</td>\n",
       "      <td>2015</td>\n",
       "    </tr>\n",
       "    <tr>\n",
       "      <th>2</th>\n",
       "      <td>2015-09-19</td>\n",
       "      <td>23413</td>\n",
       "      <td>24</td>\n",
       "      <td>184</td>\n",
       "      <td>102</td>\n",
       "      <td>0</td>\n",
       "      <td>83</td>\n",
       "      <td>4</td>\n",
       "      <td>0.0</td>\n",
       "      <td>0</td>\n",
       "      <td>7</td>\n",
       "      <td>2015</td>\n",
       "    </tr>\n",
       "    <tr>\n",
       "      <th>3</th>\n",
       "      <td>2015-09-26</td>\n",
       "      <td>18020</td>\n",
       "      <td>169</td>\n",
       "      <td>238</td>\n",
       "      <td>46</td>\n",
       "      <td>15</td>\n",
       "      <td>68</td>\n",
       "      <td>44</td>\n",
       "      <td>4.0</td>\n",
       "      <td>22</td>\n",
       "      <td>8</td>\n",
       "      <td>2015</td>\n",
       "    </tr>\n",
       "    <tr>\n",
       "      <th>4</th>\n",
       "      <td>2015-10-10</td>\n",
       "      <td>7123</td>\n",
       "      <td>85</td>\n",
       "      <td>205</td>\n",
       "      <td>40</td>\n",
       "      <td>4</td>\n",
       "      <td>71</td>\n",
       "      <td>7</td>\n",
       "      <td>0.0</td>\n",
       "      <td>0</td>\n",
       "      <td>6</td>\n",
       "      <td>2015</td>\n",
       "    </tr>\n",
       "  </tbody>\n",
       "</table>\n",
       "</div>"
      ],
      "text/plain": [
       "        date  attendance  TSUrushyards  TSUreceiveyards  TSUkreturnyards  \\\n",
       "0 2015-09-06       22455           142              188               58   \n",
       "1 2015-09-12       48385           110              304              152   \n",
       "2 2015-09-19       23413            24              184              102   \n",
       "3 2015-09-26       18020           169              238               46   \n",
       "4 2015-10-10        7123            85              205               40   \n",
       "\n",
       "   TSUpreturnyards  TSUtackles  TSUtackleyd  TSUsacks  TSUsackyd  TSUpunt  \\\n",
       "0               38          47           21       1.0         12        5   \n",
       "1               48          83           38       5.0         31        5   \n",
       "2                0          83            4       0.0          0        7   \n",
       "3               15          68           44       4.0         22        8   \n",
       "4                4          71            7       0.0          0        6   \n",
       "\n",
       "   year  \n",
       "0  2015  \n",
       "1  2015  \n",
       "2  2015  \n",
       "3  2015  \n",
       "4  2015  "
      ]
     },
     "execution_count": 16,
     "metadata": {},
     "output_type": "execute_result"
    }
   ],
   "source": [
    "#sort data\n",
    "df2015=df2015.sort_values('date',ignore_index=True)\n",
    "df2015.head()"
   ]
  },
  {
   "cell_type": "code",
   "execution_count": 17,
   "metadata": {},
   "outputs": [],
   "source": [
    "#save data\n",
    "df2015.to_csv('2015.csv',encoding='utf-8')"
   ]
  }
 ],
 "metadata": {
  "kernelspec": {
   "display_name": "Python 3",
   "language": "python",
   "name": "python3"
  },
  "language_info": {
   "codemirror_mode": {
    "name": "ipython",
    "version": 3
   },
   "file_extension": ".py",
   "mimetype": "text/x-python",
   "name": "python",
   "nbconvert_exporter": "python",
   "pygments_lexer": "ipython3",
   "version": "3.8.5"
  }
 },
 "nbformat": 4,
 "nbformat_minor": 4
}
