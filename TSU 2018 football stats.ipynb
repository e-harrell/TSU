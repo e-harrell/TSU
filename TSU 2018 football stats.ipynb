{
 "cells": [
  {
   "cell_type": "code",
   "execution_count": 1,
   "metadata": {},
   "outputs": [
    {
     "data": {
      "text/plain": [
       "['Sep 01 2018',\n",
       " 'Sep 22 2018',\n",
       " 'Sep 29 2018',\n",
       " 'Oct 06 2018',\n",
       " 'Oct 13 2018',\n",
       " 'Oct 20 2018',\n",
       " 'Nov 03 2018',\n",
       " 'Nov 10 2018',\n",
       " 'Nov 17 2018']"
      ]
     },
     "execution_count": 1,
     "metadata": {},
     "output_type": "execute_result"
    }
   ],
   "source": [
    "#libraries to use\n",
    "import pandas as pd\n",
    "import numpy as np\n",
    "import matplotlib.pyplot as plt\n",
    "import datetime as dt\n",
    "#python's lxml library parses xml and html files\n",
    "from lxml import html\n",
    "\n",
    "#use requests to get data from web pages\n",
    "import requests \n",
    "\n",
    "#use requests.get() to get web page with data\n",
    "page = requests.get('https://tennstate_ftp.sidearmsports.com/custompages/tsutigers/125803E8-C113-4C2F-890C-645D4ED8B38B/teamgbg.htm')\n",
    "\n",
    "#parse data on web page using html module.fromstring\n",
    "mytree = html.fromstring(page.content)\n",
    "\n",
    "#go to web address above , right click on page and select inspect to get HTML code for data from right side of page\n",
    "#create XPath query and use xpath function to get data\n",
    "#date data\n",
    "date = mytree.xpath('body/center//tr/td/font[@color=\"#000000\"]/text()')[1:90:10]\n",
    "date=[a.replace(\"\\xa0\",\"\") for a in date]\n",
    "date=[a.replace(\",\",\"\") for a in date]\n",
    "date=[a.replace(\".\",\"\") for a in date]\n",
    "date=[a.strip() for a in date]\n",
    "date=[a.replace('11-03-18' ,'Nov 03 2018') for a in date]\n",
    "date"
   ]
  },
  {
   "cell_type": "code",
   "execution_count": 2,
   "metadata": {},
   "outputs": [
    {
     "data": {
      "text/plain": [
       "array([14069,  7670, 27340, 12201,  3318, 17283,  3481,  6718,  3618],\n",
       "      dtype=int64)"
      ]
     },
     "execution_count": 2,
     "metadata": {},
     "output_type": "execute_result"
    }
   ],
   "source": [
    "#get attendance data\n",
    "attendance=mytree.xpath('body/center//tr/td/font[@color=\"#000000\"]/text()')[9:90:10]\n",
    "attendance=[a.replace(\"\\xa0\",\"\") for a in attendance]\n",
    "attendance=[a.strip() for a in attendance]\n",
    "attendance=pd.to_numeric(attendance)\n",
    "attendance"
   ]
  },
  {
   "cell_type": "code",
   "execution_count": 3,
   "metadata": {},
   "outputs": [
    {
     "data": {
      "text/plain": [
       "array([201, 195, 104, 164,  63, 149, 253, 178,  89], dtype=int64)"
      ]
     },
     "execution_count": 3,
     "metadata": {},
     "output_type": "execute_result"
    }
   ],
   "source": [
    "#get TSU rushing yards\n",
    "TSUrushyards=mytree.xpath('body/center//tr/td/font[@color=\"#000000\"]/text()')[94:300:23]\n",
    "TSUrushyards=[a.replace(\"\\xa0\",\"\") for a in TSUrushyards]\n",
    "TSUrushyards=pd.to_numeric(TSUrushyards)\n",
    "TSUrushyards"
   ]
  },
  {
   "cell_type": "code",
   "execution_count": 4,
   "metadata": {},
   "outputs": [
    {
     "data": {
      "text/plain": [
       "array([324, 349, 269, 325, 307, 323, 255, 164, 170], dtype=int64)"
      ]
     },
     "execution_count": 4,
     "metadata": {},
     "output_type": "execute_result"
    }
   ],
   "source": [
    "#get TSU receiving yards\n",
    "TSUreceiveyards=mytree.xpath('body/center//tr/td/font[@color=\"#000000\"]/text()')[98:300:23]\n",
    "TSUreceiveyards=[a.replace(\"\\xa0\",\"\") for a in TSUreceiveyards]\n",
    "TSUreceiveyards=pd.to_numeric(TSUreceiveyards)\n",
    "TSUreceiveyards"
   ]
  },
  {
   "cell_type": "code",
   "execution_count": 5,
   "metadata": {},
   "outputs": [
    {
     "data": {
      "text/plain": [
       "array([ 49, 150, 105, 134, 140,  48,  78,  36,  63], dtype=int64)"
      ]
     },
     "execution_count": 5,
     "metadata": {},
     "output_type": "execute_result"
    }
   ],
   "source": [
    "#get TSU kick return yards\n",
    "TSUkreturnyards=mytree.xpath('body/center//tr/td/font[@color=\"#000000\"]/text()')[106:300:23]\n",
    "TSUkreturnyards=[a.replace(\"\\xa0\",\"\") for a in TSUkreturnyards]\n",
    "TSUkreturnyards=pd.to_numeric(TSUkreturnyards)\n",
    "TSUkreturnyards"
   ]
  },
  {
   "cell_type": "code",
   "execution_count": 6,
   "metadata": {},
   "outputs": [
    {
     "data": {
      "text/plain": [
       "array([64, 51,  3, 34, -1, 14,  0,  0, 29], dtype=int64)"
      ]
     },
     "execution_count": 6,
     "metadata": {},
     "output_type": "execute_result"
    }
   ],
   "source": [
    "#get TSU punt return yards\n",
    "TSUpreturnyards=mytree.xpath('body/center//tr/td/font[@color=\"#000000\"]/text()')[110:300:23]\n",
    "TSUpreturnyards=[a.replace(\"\\xa0\",\"\") for a in TSUpreturnyards]\n",
    "TSUpreturnyards=pd.to_numeric(TSUpreturnyards)\n",
    "TSUpreturnyards"
   ]
  },
  {
   "cell_type": "code",
   "execution_count": 7,
   "metadata": {},
   "outputs": [
    {
     "data": {
      "text/plain": [
       "array([54, 63, 69, 77, 74, 77, 65, 60, 64], dtype=int64)"
      ]
     },
     "execution_count": 7,
     "metadata": {},
     "output_type": "execute_result"
    }
   ],
   "source": [
    "#get TSU total tackles\n",
    "TSUtackles=mytree.xpath('body/center//tr/td/font[@color=\"#000000\"]/text()')[348:546:23]\n",
    "TSUtackles=[a.replace(\"\\xa0\",\"\") for a in TSUtackles]\n",
    "TSUtackles=pd.to_numeric(TSUtackles)\n",
    "TSUtackles"
   ]
  },
  {
   "cell_type": "code",
   "execution_count": 8,
   "metadata": {},
   "outputs": [
    {
     "data": {
      "text/plain": [
       "array([43, 30,  5, 19, 19, 28, 28, 27, 38], dtype=int64)"
      ]
     },
     "execution_count": 8,
     "metadata": {},
     "output_type": "execute_result"
    }
   ],
   "source": [
    "#get TSU tackle yards\n",
    "TSUtackleyd=mytree.xpath('body/center//tr/td/font[@color=\"#000000\"]/text()')[350:546:23]\n",
    "TSUtackleyd=[a.replace(\"\\xa0\",\"\") for a in TSUtackleyd]\n",
    "TSUtackleyd=pd.to_numeric(TSUtackleyd)\n",
    "TSUtackleyd"
   ]
  },
  {
   "cell_type": "code",
   "execution_count": 9,
   "metadata": {},
   "outputs": [
    {
     "data": {
      "text/plain": [
       "array([5., 2., 0., 0., 1., 4., 2., 2., 2.])"
      ]
     },
     "execution_count": 9,
     "metadata": {},
     "output_type": "execute_result"
    }
   ],
   "source": [
    "#get TSU sacks\n",
    "TSUsacks=mytree.xpath('body/center//tr/td/font[@color=\"#000000\"]/text()')[351:540:23]\n",
    "TSUsacks=[a.replace(\"\\xa0\",\"\") for a in TSUsacks]\n",
    "TSUsacks=pd.to_numeric(TSUsacks)\n",
    "TSUsacks"
   ]
  },
  {
   "cell_type": "code",
   "execution_count": 10,
   "metadata": {},
   "outputs": [
    {
     "data": {
      "text/plain": [
       "array([35, 15,  0,  0,  7, 21, 14, 19, 18], dtype=int64)"
      ]
     },
     "execution_count": 10,
     "metadata": {},
     "output_type": "execute_result"
    }
   ],
   "source": [
    "#get TSU sack yards\n",
    "TSUsackyd=mytree.xpath('body/center//tr/td/font[@color=\"#000000\"]/text()')[352:540:23]\n",
    "TSUsackyd=[a.replace(\"\\xa0\",\"\") for a in TSUsackyd]\n",
    "TSUsackyd=pd.to_numeric(TSUsackyd)\n",
    "TSUsackyd"
   ]
  },
  {
   "cell_type": "code",
   "execution_count": 11,
   "metadata": {},
   "outputs": [
    {
     "data": {
      "text/plain": [
       "array([6, 4, 4, 4, 5, 4, 3, 5, 7], dtype=int64)"
      ]
     },
     "execution_count": 11,
     "metadata": {},
     "output_type": "execute_result"
    }
   ],
   "source": [
    "#TSU punts\n",
    "TSUpunt=mytree.xpath('body/center//tr/td/font[@color=\"#000000\"]/text()')[599:769:19]\n",
    "TSUpunt=[a.replace(\"\\xa0\",\"\") for a in TSUpunt]\n",
    "TSUpunt=pd.to_numeric(TSUpunt)\n",
    "TSUpunt"
   ]
  },
  {
   "cell_type": "code",
   "execution_count": 12,
   "metadata": {},
   "outputs": [
    {
     "data": {
      "text/html": [
       "<div>\n",
       "<style scoped>\n",
       "    .dataframe tbody tr th:only-of-type {\n",
       "        vertical-align: middle;\n",
       "    }\n",
       "\n",
       "    .dataframe tbody tr th {\n",
       "        vertical-align: top;\n",
       "    }\n",
       "\n",
       "    .dataframe thead th {\n",
       "        text-align: right;\n",
       "    }\n",
       "</style>\n",
       "<table border=\"1\" class=\"dataframe\">\n",
       "  <thead>\n",
       "    <tr style=\"text-align: right;\">\n",
       "      <th></th>\n",
       "      <th>date</th>\n",
       "      <th>attendance</th>\n",
       "      <th>TSUrushyards</th>\n",
       "      <th>TSUreceiveyards</th>\n",
       "      <th>TSUkreturnyards</th>\n",
       "      <th>TSUpreturnyards</th>\n",
       "      <th>TSUtackles</th>\n",
       "      <th>TSUtackleyd</th>\n",
       "      <th>TSUsacks</th>\n",
       "      <th>TSUsackyd</th>\n",
       "      <th>TSUpunt</th>\n",
       "    </tr>\n",
       "  </thead>\n",
       "  <tbody>\n",
       "    <tr>\n",
       "      <th>0</th>\n",
       "      <td>Sep 01 2018</td>\n",
       "      <td>14069</td>\n",
       "      <td>201</td>\n",
       "      <td>324</td>\n",
       "      <td>49</td>\n",
       "      <td>64</td>\n",
       "      <td>54</td>\n",
       "      <td>43</td>\n",
       "      <td>5.0</td>\n",
       "      <td>35</td>\n",
       "      <td>6</td>\n",
       "    </tr>\n",
       "    <tr>\n",
       "      <th>1</th>\n",
       "      <td>Sep 22 2018</td>\n",
       "      <td>7670</td>\n",
       "      <td>195</td>\n",
       "      <td>349</td>\n",
       "      <td>150</td>\n",
       "      <td>51</td>\n",
       "      <td>63</td>\n",
       "      <td>30</td>\n",
       "      <td>2.0</td>\n",
       "      <td>15</td>\n",
       "      <td>4</td>\n",
       "    </tr>\n",
       "    <tr>\n",
       "      <th>2</th>\n",
       "      <td>Sep 29 2018</td>\n",
       "      <td>27340</td>\n",
       "      <td>104</td>\n",
       "      <td>269</td>\n",
       "      <td>105</td>\n",
       "      <td>3</td>\n",
       "      <td>69</td>\n",
       "      <td>5</td>\n",
       "      <td>0.0</td>\n",
       "      <td>0</td>\n",
       "      <td>4</td>\n",
       "    </tr>\n",
       "    <tr>\n",
       "      <th>3</th>\n",
       "      <td>Oct 06 2018</td>\n",
       "      <td>12201</td>\n",
       "      <td>164</td>\n",
       "      <td>325</td>\n",
       "      <td>134</td>\n",
       "      <td>34</td>\n",
       "      <td>77</td>\n",
       "      <td>19</td>\n",
       "      <td>0.0</td>\n",
       "      <td>0</td>\n",
       "      <td>4</td>\n",
       "    </tr>\n",
       "    <tr>\n",
       "      <th>4</th>\n",
       "      <td>Oct 13 2018</td>\n",
       "      <td>3318</td>\n",
       "      <td>63</td>\n",
       "      <td>307</td>\n",
       "      <td>140</td>\n",
       "      <td>-1</td>\n",
       "      <td>74</td>\n",
       "      <td>19</td>\n",
       "      <td>1.0</td>\n",
       "      <td>7</td>\n",
       "      <td>5</td>\n",
       "    </tr>\n",
       "  </tbody>\n",
       "</table>\n",
       "</div>"
      ],
      "text/plain": [
       "          date  attendance  TSUrushyards  TSUreceiveyards  TSUkreturnyards  \\\n",
       "0  Sep 01 2018       14069           201              324               49   \n",
       "1  Sep 22 2018        7670           195              349              150   \n",
       "2  Sep 29 2018       27340           104              269              105   \n",
       "3  Oct 06 2018       12201           164              325              134   \n",
       "4  Oct 13 2018        3318            63              307              140   \n",
       "\n",
       "   TSUpreturnyards  TSUtackles  TSUtackleyd  TSUsacks  TSUsackyd  TSUpunt  \n",
       "0               64          54           43       5.0         35        6  \n",
       "1               51          63           30       2.0         15        4  \n",
       "2                3          69            5       0.0          0        4  \n",
       "3               34          77           19       0.0          0        4  \n",
       "4               -1          74           19       1.0          7        5  "
      ]
     },
     "execution_count": 12,
     "metadata": {},
     "output_type": "execute_result"
    }
   ],
   "source": [
    "#create data frame\n",
    "#change dictionary of lists to data frame\n",
    "list_of_dicts={'date':date,\n",
    "     'attendance':attendance,\n",
    "     'TSUrushyards':TSUrushyards,\n",
    "     'TSUreceiveyards':TSUreceiveyards,\n",
    "     'TSUkreturnyards':TSUkreturnyards,\n",
    "     'TSUpreturnyards':TSUpreturnyards,\n",
    "     'TSUtackles':TSUtackles,\n",
    "     'TSUtackleyd':TSUtackleyd,\n",
    "     'TSUsacks':TSUsacks,\n",
    "     'TSUsackyd':TSUsackyd,\n",
    "     'TSUpunt':TSUpunt}\n",
    "df2018=pd.DataFrame(list_of_dicts)\n",
    "df2018.head()"
   ]
  },
  {
   "cell_type": "code",
   "execution_count": 13,
   "metadata": {},
   "outputs": [
    {
     "data": {
      "text/html": [
       "<div>\n",
       "<style scoped>\n",
       "    .dataframe tbody tr th:only-of-type {\n",
       "        vertical-align: middle;\n",
       "    }\n",
       "\n",
       "    .dataframe tbody tr th {\n",
       "        vertical-align: top;\n",
       "    }\n",
       "\n",
       "    .dataframe thead th {\n",
       "        text-align: right;\n",
       "    }\n",
       "</style>\n",
       "<table border=\"1\" class=\"dataframe\">\n",
       "  <thead>\n",
       "    <tr style=\"text-align: right;\">\n",
       "      <th></th>\n",
       "      <th>date</th>\n",
       "      <th>attendance</th>\n",
       "      <th>TSUrushyards</th>\n",
       "      <th>TSUreceiveyards</th>\n",
       "      <th>TSUkreturnyards</th>\n",
       "      <th>TSUpreturnyards</th>\n",
       "      <th>TSUtackles</th>\n",
       "      <th>TSUtackleyd</th>\n",
       "      <th>TSUsacks</th>\n",
       "      <th>TSUsackyd</th>\n",
       "      <th>TSUpunt</th>\n",
       "      <th>month</th>\n",
       "      <th>day</th>\n",
       "      <th>year</th>\n",
       "    </tr>\n",
       "  </thead>\n",
       "  <tbody>\n",
       "    <tr>\n",
       "      <th>0</th>\n",
       "      <td>Sep 01 2018</td>\n",
       "      <td>14069</td>\n",
       "      <td>201</td>\n",
       "      <td>324</td>\n",
       "      <td>49</td>\n",
       "      <td>64</td>\n",
       "      <td>54</td>\n",
       "      <td>43</td>\n",
       "      <td>5.0</td>\n",
       "      <td>35</td>\n",
       "      <td>6</td>\n",
       "      <td>Sep</td>\n",
       "      <td>01</td>\n",
       "      <td>2018</td>\n",
       "    </tr>\n",
       "    <tr>\n",
       "      <th>1</th>\n",
       "      <td>Sep 22 2018</td>\n",
       "      <td>7670</td>\n",
       "      <td>195</td>\n",
       "      <td>349</td>\n",
       "      <td>150</td>\n",
       "      <td>51</td>\n",
       "      <td>63</td>\n",
       "      <td>30</td>\n",
       "      <td>2.0</td>\n",
       "      <td>15</td>\n",
       "      <td>4</td>\n",
       "      <td>Sep</td>\n",
       "      <td>22</td>\n",
       "      <td>2018</td>\n",
       "    </tr>\n",
       "    <tr>\n",
       "      <th>2</th>\n",
       "      <td>Sep 29 2018</td>\n",
       "      <td>27340</td>\n",
       "      <td>104</td>\n",
       "      <td>269</td>\n",
       "      <td>105</td>\n",
       "      <td>3</td>\n",
       "      <td>69</td>\n",
       "      <td>5</td>\n",
       "      <td>0.0</td>\n",
       "      <td>0</td>\n",
       "      <td>4</td>\n",
       "      <td>Sep</td>\n",
       "      <td>29</td>\n",
       "      <td>2018</td>\n",
       "    </tr>\n",
       "    <tr>\n",
       "      <th>3</th>\n",
       "      <td>Oct 06 2018</td>\n",
       "      <td>12201</td>\n",
       "      <td>164</td>\n",
       "      <td>325</td>\n",
       "      <td>134</td>\n",
       "      <td>34</td>\n",
       "      <td>77</td>\n",
       "      <td>19</td>\n",
       "      <td>0.0</td>\n",
       "      <td>0</td>\n",
       "      <td>4</td>\n",
       "      <td>Oct</td>\n",
       "      <td>06</td>\n",
       "      <td>2018</td>\n",
       "    </tr>\n",
       "    <tr>\n",
       "      <th>4</th>\n",
       "      <td>Oct 13 2018</td>\n",
       "      <td>3318</td>\n",
       "      <td>63</td>\n",
       "      <td>307</td>\n",
       "      <td>140</td>\n",
       "      <td>-1</td>\n",
       "      <td>74</td>\n",
       "      <td>19</td>\n",
       "      <td>1.0</td>\n",
       "      <td>7</td>\n",
       "      <td>5</td>\n",
       "      <td>Oct</td>\n",
       "      <td>13</td>\n",
       "      <td>2018</td>\n",
       "    </tr>\n",
       "  </tbody>\n",
       "</table>\n",
       "</div>"
      ],
      "text/plain": [
       "          date  attendance  TSUrushyards  TSUreceiveyards  TSUkreturnyards  \\\n",
       "0  Sep 01 2018       14069           201              324               49   \n",
       "1  Sep 22 2018        7670           195              349              150   \n",
       "2  Sep 29 2018       27340           104              269              105   \n",
       "3  Oct 06 2018       12201           164              325              134   \n",
       "4  Oct 13 2018        3318            63              307              140   \n",
       "\n",
       "   TSUpreturnyards  TSUtackles  TSUtackleyd  TSUsacks  TSUsackyd  TSUpunt  \\\n",
       "0               64          54           43       5.0         35        6   \n",
       "1               51          63           30       2.0         15        4   \n",
       "2                3          69            5       0.0          0        4   \n",
       "3               34          77           19       0.0          0        4   \n",
       "4               -1          74           19       1.0          7        5   \n",
       "\n",
       "  month day  year  \n",
       "0   Sep  01  2018  \n",
       "1   Sep  22  2018  \n",
       "2   Sep  29  2018  \n",
       "3   Oct  06  2018  \n",
       "4   Oct  13  2018  "
      ]
     },
     "execution_count": 13,
     "metadata": {},
     "output_type": "execute_result"
    }
   ],
   "source": [
    "#splitting date column into month, day, & year columns \n",
    "df2018[['month','day','year']]=df2018.date.str.split(expand=True)\n",
    "df2018.drop('date',axis=1)\n",
    "df2018.head()"
   ]
  },
  {
   "cell_type": "code",
   "execution_count": 14,
   "metadata": {},
   "outputs": [
    {
     "name": "stdout",
     "output_type": "stream",
     "text": [
      "<class 'pandas.core.frame.DataFrame'>\n",
      "RangeIndex: 9 entries, 0 to 8\n",
      "Data columns (total 12 columns):\n",
      " #   Column           Non-Null Count  Dtype         \n",
      "---  ------           --------------  -----         \n",
      " 0   date             9 non-null      datetime64[ns]\n",
      " 1   attendance       9 non-null      int64         \n",
      " 2   TSUrushyards     9 non-null      int64         \n",
      " 3   TSUreceiveyards  9 non-null      int64         \n",
      " 4   TSUkreturnyards  9 non-null      int64         \n",
      " 5   TSUpreturnyards  9 non-null      int64         \n",
      " 6   TSUtackles       9 non-null      int64         \n",
      " 7   TSUtackleyd      9 non-null      int64         \n",
      " 8   TSUsacks         9 non-null      float64       \n",
      " 9   TSUsackyd        9 non-null      int64         \n",
      " 10  TSUpunt          9 non-null      int64         \n",
      " 11  year             9 non-null      int64         \n",
      "dtypes: datetime64[ns](1), float64(1), int64(10)\n",
      "memory usage: 992.0 bytes\n"
     ]
    }
   ],
   "source": [
    "#create a new date variable\n",
    "#change month variable to a 2 digit string variable\n",
    "df2018['month'] = df2018['month'].str.replace('Aug','08')\n",
    "df2018['month'] = df2018['month'].str.replace('Sep','09')\n",
    "df2018['month'] = df2018['month'].str.replace('Oct','10')\n",
    "df2018['month'] = df2018['month'].str.replace('Nov','11')\n",
    "df2018['month'] = df2018['month'].str.replace('Dec','12')\n",
    "#merge month,day and year variables\n",
    "df2018['date']=df2018['year']+ '-' +df2018['month']+ '-'+df2018['day']\n",
    "#make date into a datetime variable\n",
    "df2018['date']= pd.to_datetime(df2018['date'], format='%Y-%m-%d')\n",
    "#drop individual month,day, variables (keep year variable for later analysis)\n",
    "df2018=df2018.drop(['month','day'], axis=1)\n",
    "#make year numeric\n",
    "df2018['year']=pd.to_numeric(df2018['year'])\n",
    "df2018.info()"
   ]
  },
  {
   "cell_type": "code",
   "execution_count": 15,
   "metadata": {},
   "outputs": [
    {
     "data": {
      "text/html": [
       "<div>\n",
       "<style scoped>\n",
       "    .dataframe tbody tr th:only-of-type {\n",
       "        vertical-align: middle;\n",
       "    }\n",
       "\n",
       "    .dataframe tbody tr th {\n",
       "        vertical-align: top;\n",
       "    }\n",
       "\n",
       "    .dataframe thead th {\n",
       "        text-align: right;\n",
       "    }\n",
       "</style>\n",
       "<table border=\"1\" class=\"dataframe\">\n",
       "  <thead>\n",
       "    <tr style=\"text-align: right;\">\n",
       "      <th></th>\n",
       "      <th>date</th>\n",
       "      <th>attendance</th>\n",
       "      <th>TSUrushyards</th>\n",
       "      <th>TSUreceiveyards</th>\n",
       "      <th>TSUkreturnyards</th>\n",
       "      <th>TSUpreturnyards</th>\n",
       "      <th>TSUtackles</th>\n",
       "      <th>TSUtackleyd</th>\n",
       "      <th>TSUsacks</th>\n",
       "      <th>TSUsackyd</th>\n",
       "      <th>TSUpunt</th>\n",
       "      <th>year</th>\n",
       "    </tr>\n",
       "  </thead>\n",
       "  <tbody>\n",
       "    <tr>\n",
       "      <th>0</th>\n",
       "      <td>2018-09-01</td>\n",
       "      <td>14069</td>\n",
       "      <td>201</td>\n",
       "      <td>324</td>\n",
       "      <td>49</td>\n",
       "      <td>64</td>\n",
       "      <td>54</td>\n",
       "      <td>43</td>\n",
       "      <td>5.0</td>\n",
       "      <td>35</td>\n",
       "      <td>6</td>\n",
       "      <td>2018</td>\n",
       "    </tr>\n",
       "    <tr>\n",
       "      <th>1</th>\n",
       "      <td>2018-09-22</td>\n",
       "      <td>7670</td>\n",
       "      <td>195</td>\n",
       "      <td>349</td>\n",
       "      <td>150</td>\n",
       "      <td>51</td>\n",
       "      <td>63</td>\n",
       "      <td>30</td>\n",
       "      <td>2.0</td>\n",
       "      <td>15</td>\n",
       "      <td>4</td>\n",
       "      <td>2018</td>\n",
       "    </tr>\n",
       "    <tr>\n",
       "      <th>2</th>\n",
       "      <td>2018-09-29</td>\n",
       "      <td>27340</td>\n",
       "      <td>104</td>\n",
       "      <td>269</td>\n",
       "      <td>105</td>\n",
       "      <td>3</td>\n",
       "      <td>69</td>\n",
       "      <td>5</td>\n",
       "      <td>0.0</td>\n",
       "      <td>0</td>\n",
       "      <td>4</td>\n",
       "      <td>2018</td>\n",
       "    </tr>\n",
       "    <tr>\n",
       "      <th>3</th>\n",
       "      <td>2018-10-06</td>\n",
       "      <td>12201</td>\n",
       "      <td>164</td>\n",
       "      <td>325</td>\n",
       "      <td>134</td>\n",
       "      <td>34</td>\n",
       "      <td>77</td>\n",
       "      <td>19</td>\n",
       "      <td>0.0</td>\n",
       "      <td>0</td>\n",
       "      <td>4</td>\n",
       "      <td>2018</td>\n",
       "    </tr>\n",
       "    <tr>\n",
       "      <th>4</th>\n",
       "      <td>2018-10-13</td>\n",
       "      <td>3318</td>\n",
       "      <td>63</td>\n",
       "      <td>307</td>\n",
       "      <td>140</td>\n",
       "      <td>-1</td>\n",
       "      <td>74</td>\n",
       "      <td>19</td>\n",
       "      <td>1.0</td>\n",
       "      <td>7</td>\n",
       "      <td>5</td>\n",
       "      <td>2018</td>\n",
       "    </tr>\n",
       "  </tbody>\n",
       "</table>\n",
       "</div>"
      ],
      "text/plain": [
       "        date  attendance  TSUrushyards  TSUreceiveyards  TSUkreturnyards  \\\n",
       "0 2018-09-01       14069           201              324               49   \n",
       "1 2018-09-22        7670           195              349              150   \n",
       "2 2018-09-29       27340           104              269              105   \n",
       "3 2018-10-06       12201           164              325              134   \n",
       "4 2018-10-13        3318            63              307              140   \n",
       "\n",
       "   TSUpreturnyards  TSUtackles  TSUtackleyd  TSUsacks  TSUsackyd  TSUpunt  \\\n",
       "0               64          54           43       5.0         35        6   \n",
       "1               51          63           30       2.0         15        4   \n",
       "2                3          69            5       0.0          0        4   \n",
       "3               34          77           19       0.0          0        4   \n",
       "4               -1          74           19       1.0          7        5   \n",
       "\n",
       "   year  \n",
       "0  2018  \n",
       "1  2018  \n",
       "2  2018  \n",
       "3  2018  \n",
       "4  2018  "
      ]
     },
     "execution_count": 15,
     "metadata": {},
     "output_type": "execute_result"
    }
   ],
   "source": [
    "#sort values\n",
    "df2018=df2018.sort_values('date',ignore_index=True)\n",
    "df2018.head()"
   ]
  },
  {
   "cell_type": "code",
   "execution_count": 16,
   "metadata": {},
   "outputs": [],
   "source": [
    "#save data\n",
    "df2018.to_csv('2018.csv',encoding='utf-8')"
   ]
  },
  {
   "cell_type": "code",
   "execution_count": null,
   "metadata": {},
   "outputs": [],
   "source": []
  }
 ],
 "metadata": {
  "kernelspec": {
   "display_name": "Python 3",
   "language": "python",
   "name": "python3"
  },
  "language_info": {
   "codemirror_mode": {
    "name": "ipython",
    "version": 3
   },
   "file_extension": ".py",
   "mimetype": "text/x-python",
   "name": "python",
   "nbconvert_exporter": "python",
   "pygments_lexer": "ipython3",
   "version": "3.8.5"
  }
 },
 "nbformat": 4,
 "nbformat_minor": 4
}
