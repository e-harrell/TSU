{
 "cells": [
  {
   "cell_type": "code",
   "execution_count": 1,
   "metadata": {},
   "outputs": [
    {
     "data": {
      "text/plain": [
       "['Aug 30 2014',\n",
       " 'Sep 06 2014',\n",
       " 'Sep 13 2014',\n",
       " 'Sep 20 2014',\n",
       " 'Sep 27 2014',\n",
       " 'Oct 04 2014',\n",
       " 'Oct 11 2014',\n",
       " 'Oct 18 2014',\n",
       " 'Oct 25 2014',\n",
       " 'Nov 01 2014',\n",
       " 'Nov 08 2014',\n",
       " 'Nov 22 2014']"
      ]
     },
     "execution_count": 1,
     "metadata": {},
     "output_type": "execute_result"
    }
   ],
   "source": [
    "#libraries to use\n",
    "import pandas as pd\n",
    "import numpy as np\n",
    "import matplotlib.pyplot as plt\n",
    "import datetime as dt\n",
    "#python's lxml library parses xml and html files\n",
    "from lxml import html\n",
    "\n",
    "#use requests to get data from web pages\n",
    "import requests \n",
    "\n",
    "#use requests.get() to get web page with data\n",
    "page = requests.get('https://tennstate_ftp.sidearmsports.com/custompages/tsutigers/26C45AE2-D036-475D-A4EF-38BE29FA4865/teamgbg.htm')\n",
    "\n",
    "#parse data on web page using html module.fromstring\n",
    "mytree = html.fromstring(page.content)\n",
    "\n",
    "#go to web address above , right click on page and select inspect to get HTML code for data from right side of page\n",
    "#create XPath query and use xpath function to get data\n",
    "#date data\n",
    "date = mytree.xpath('body/center//tr/td/font[@color=\"#000000\"]/text()')[1:120:10]\n",
    "date=[a.replace(\"\\xa0\",\"\") for a in date]\n",
    "date=[a.replace(\",\",\"\") for a in date]\n",
    "date=[a.replace(\".\",\"\") for a in date]\n",
    "date=[a.replace('10-04-14    ','Oct 04 2014') for a in date]\n",
    "date"
   ]
  },
  {
   "cell_type": "code",
   "execution_count": 2,
   "metadata": {},
   "outputs": [
    {
     "data": {
      "text/plain": [
       "array([10541, 15725, 46914,  9217, 29225,  8089,  5849,  6738,  8289,\n",
       "        5052,  6143,  1962], dtype=int64)"
      ]
     },
     "execution_count": 2,
     "metadata": {},
     "output_type": "execute_result"
    }
   ],
   "source": [
    "#get attendance data\n",
    "attendance=mytree.xpath('body/center//tr/td/font[@color=\"#000000\"]/text()')[9:120:10]\n",
    "attendance=[a.replace(\"\\xa0\",\"\") for a in attendance]\n",
    "attendance=[a.strip() for a in attendance]\n",
    "attendance=pd.to_numeric(attendance)\n",
    "attendance"
   ]
  },
  {
   "cell_type": "code",
   "execution_count": 3,
   "metadata": {},
   "outputs": [
    {
     "data": {
      "text/plain": [
       "array([439,  92, 137,  92, 125, 143,  43,  53, 107, 105, 111, 114],\n",
       "      dtype=int64)"
      ]
     },
     "execution_count": 3,
     "metadata": {},
     "output_type": "execute_result"
    }
   ],
   "source": [
    "#get TSU rushing yard\n",
    "TSUrushyards=mytree.xpath('body/center//tr/td/font[@color=\"#000000\"]/text()')[124:400:23]\n",
    "TSUrushyards=[a.replace(\"\\xa0\",\"\") for a in TSUrushyards]\n",
    "TSUrushyards=pd.to_numeric(TSUrushyards)              \n",
    "TSUrushyards"
   ]
  },
  {
   "cell_type": "code",
   "execution_count": 4,
   "metadata": {},
   "outputs": [
    {
     "data": {
      "text/plain": [
       "array([ 71, 340, 187, 113, 153, 362, 364, 314, 180, 326, 395, 463],\n",
       "      dtype=int64)"
      ]
     },
     "execution_count": 4,
     "metadata": {},
     "output_type": "execute_result"
    }
   ],
   "source": [
    "#get TSU receiving yards\n",
    "TSUreceiveyards=mytree.xpath('body/center//tr/td/font[@color=\"#000000\"]/text()')[128:400:23]\n",
    "TSUreceiveyards=[a.replace(\"\\xa0\",\"\") for a in TSUreceiveyards]\n",
    "TSUreceiveyards=pd.to_numeric(TSUreceiveyards)\n",
    "TSUreceiveyards"
   ]
  },
  {
   "cell_type": "code",
   "execution_count": 5,
   "metadata": {},
   "outputs": [
    {
     "data": {
      "text/plain": [
       "array([ 77, 111,  29,   0,  24,  53,  63,  32, 136, 198,  58,  48],\n",
       "      dtype=int64)"
      ]
     },
     "execution_count": 5,
     "metadata": {},
     "output_type": "execute_result"
    }
   ],
   "source": [
    "#get TSU kick return yards\n",
    "TSUkreturnyards=mytree.xpath('body/center//tr/td/font[@color=\"#000000\"]/text()')[136:400:23]\n",
    "TSUkreturnyards=[a.replace(\"\\xa0\",\"\") for a in TSUkreturnyards]\n",
    "TSUkreturnyards=pd.to_numeric(TSUkreturnyards)\n",
    "TSUkreturnyards"
   ]
  },
  {
   "cell_type": "code",
   "execution_count": 6,
   "metadata": {},
   "outputs": [
    {
     "data": {
      "text/plain": [
       "array([57, 22, 40, 15, 56, 24, 12, -1,  1,  0, -2,  0], dtype=int64)"
      ]
     },
     "execution_count": 6,
     "metadata": {},
     "output_type": "execute_result"
    }
   ],
   "source": [
    "#get TSU punt return yards\n",
    "TSUpreturnyards=mytree.xpath('body/center//tr/td/font[@color=\"#000000\"]/text()')[140:400:23]\n",
    "TSUpreturnyards=[a.replace(\"\\xa0\",\"\") for a in TSUpreturnyards]\n",
    "TSUpreturnyards=pd.to_numeric(TSUpreturnyards)\n",
    "TSUpreturnyards"
   ]
  },
  {
   "cell_type": "code",
   "execution_count": 7,
   "metadata": {},
   "outputs": [
    {
     "data": {
      "text/plain": [
       "array([53, 89, 54, 48, 64, 81, 75, 73, 54, 84, 85, 81], dtype=int64)"
      ]
     },
     "execution_count": 7,
     "metadata": {},
     "output_type": "execute_result"
    }
   ],
   "source": [
    "#get TSU total tackles\n",
    "TSUtackles=mytree.xpath('body/center//tr/td/font[@color=\"#000000\"]/text()')[447:723:23]\n",
    "TSUtackles=[a.replace(\"\\xa0\",\"\") for a in TSUtackles]\n",
    "TSUtackles=pd.to_numeric(TSUtackles)\n",
    "TSUtackles"
   ]
  },
  {
   "cell_type": "code",
   "execution_count": 8,
   "metadata": {},
   "outputs": [
    {
     "data": {
      "text/plain": [
       "array([38, 28, 40, 31, 51,  9, 21, 48, 17, 19, 29, 63], dtype=int64)"
      ]
     },
     "execution_count": 8,
     "metadata": {},
     "output_type": "execute_result"
    }
   ],
   "source": [
    "#get TSU tackle yards\n",
    "TSUtackleyd=mytree.xpath('body/center//tr/td/font[@color=\"#000000\"]/text()')[449:711:23]\n",
    "TSUtackleyd=[a.replace(\"\\xa0\",\"\") for a in TSUtackleyd]\n",
    "TSUtackleyd=pd.to_numeric(TSUtackleyd)\n",
    "TSUtackleyd"
   ]
  },
  {
   "cell_type": "code",
   "execution_count": 9,
   "metadata": {},
   "outputs": [
    {
     "data": {
      "text/plain": [
       "array([2., 3., 7., 6., 7., 0., 2., 3., 1., 2., 2., 8.])"
      ]
     },
     "execution_count": 9,
     "metadata": {},
     "output_type": "execute_result"
    }
   ],
   "source": [
    "#get TSU sacks\n",
    "TSUsacks=mytree.xpath('body/center//tr/td/font[@color=\"#000000\"]/text()')[450:711:23]\n",
    "TSUsacks=[a.replace(\"\\xa0\",\"\") for a in TSUsacks]\n",
    "TSUsacks=pd.to_numeric(TSUsacks)\n",
    "TSUsacks"
   ]
  },
  {
   "cell_type": "code",
   "execution_count": 10,
   "metadata": {},
   "outputs": [
    {
     "data": {
      "text/plain": [
       "array([13, 13, 33, 28, 44,  0, 13, 22,  9,  4, 15, 51], dtype=int64)"
      ]
     },
     "execution_count": 10,
     "metadata": {},
     "output_type": "execute_result"
    }
   ],
   "source": [
    "#get TSU sack yards\n",
    "TSUsackyd=mytree.xpath('body/center//tr/td/font[@color=\"#000000\"]/text()')[451:711:23]\n",
    "TSUsackyd=[a.replace(\"\\xa0\",\"\") for a in TSUsackyd]\n",
    "TSUsackyd=pd.to_numeric(TSUsackyd)\n",
    "TSUsackyd"
   ]
  },
  {
   "cell_type": "code",
   "execution_count": 11,
   "metadata": {},
   "outputs": [
    {
     "data": {
      "text/plain": [
       "array([1, 8, 8, 9, 7, 5, 3, 8, 6, 5, 0, 6], dtype=int64)"
      ]
     },
     "execution_count": 11,
     "metadata": {},
     "output_type": "execute_result"
    }
   ],
   "source": [
    "#TSU punts\n",
    "TSUpunt=mytree.xpath('body/center//tr/td/font[@color=\"#000000\"]/text()')[767:981:19]\n",
    "TSUpunt=[a.replace(\"\\xa0\",\"\") for a in TSUpunt]\n",
    "TSUpunt=pd.to_numeric(TSUpunt)\n",
    "TSUpunt"
   ]
  },
  {
   "cell_type": "code",
   "execution_count": 12,
   "metadata": {},
   "outputs": [
    {
     "data": {
      "text/html": [
       "<div>\n",
       "<style scoped>\n",
       "    .dataframe tbody tr th:only-of-type {\n",
       "        vertical-align: middle;\n",
       "    }\n",
       "\n",
       "    .dataframe tbody tr th {\n",
       "        vertical-align: top;\n",
       "    }\n",
       "\n",
       "    .dataframe thead th {\n",
       "        text-align: right;\n",
       "    }\n",
       "</style>\n",
       "<table border=\"1\" class=\"dataframe\">\n",
       "  <thead>\n",
       "    <tr style=\"text-align: right;\">\n",
       "      <th></th>\n",
       "      <th>date</th>\n",
       "      <th>attendance</th>\n",
       "      <th>TSUrushyards</th>\n",
       "      <th>TSUreceiveyards</th>\n",
       "      <th>TSUkreturnyards</th>\n",
       "      <th>TSUpreturnyards</th>\n",
       "      <th>TSUtackles</th>\n",
       "      <th>TSUtackleyd</th>\n",
       "      <th>TSUsacks</th>\n",
       "      <th>TSUsackyd</th>\n",
       "      <th>TSUpunt</th>\n",
       "    </tr>\n",
       "  </thead>\n",
       "  <tbody>\n",
       "    <tr>\n",
       "      <th>0</th>\n",
       "      <td>Aug 30 2014</td>\n",
       "      <td>10541</td>\n",
       "      <td>439</td>\n",
       "      <td>71</td>\n",
       "      <td>77</td>\n",
       "      <td>57</td>\n",
       "      <td>53</td>\n",
       "      <td>38</td>\n",
       "      <td>2.0</td>\n",
       "      <td>13</td>\n",
       "      <td>1</td>\n",
       "    </tr>\n",
       "    <tr>\n",
       "      <th>1</th>\n",
       "      <td>Sep 06 2014</td>\n",
       "      <td>15725</td>\n",
       "      <td>92</td>\n",
       "      <td>340</td>\n",
       "      <td>111</td>\n",
       "      <td>22</td>\n",
       "      <td>89</td>\n",
       "      <td>28</td>\n",
       "      <td>3.0</td>\n",
       "      <td>13</td>\n",
       "      <td>8</td>\n",
       "    </tr>\n",
       "    <tr>\n",
       "      <th>2</th>\n",
       "      <td>Sep 13 2014</td>\n",
       "      <td>46914</td>\n",
       "      <td>137</td>\n",
       "      <td>187</td>\n",
       "      <td>29</td>\n",
       "      <td>40</td>\n",
       "      <td>54</td>\n",
       "      <td>40</td>\n",
       "      <td>7.0</td>\n",
       "      <td>33</td>\n",
       "      <td>8</td>\n",
       "    </tr>\n",
       "    <tr>\n",
       "      <th>3</th>\n",
       "      <td>Sep 20 2014</td>\n",
       "      <td>9217</td>\n",
       "      <td>92</td>\n",
       "      <td>113</td>\n",
       "      <td>0</td>\n",
       "      <td>15</td>\n",
       "      <td>48</td>\n",
       "      <td>31</td>\n",
       "      <td>6.0</td>\n",
       "      <td>28</td>\n",
       "      <td>9</td>\n",
       "    </tr>\n",
       "    <tr>\n",
       "      <th>4</th>\n",
       "      <td>Sep 27 2014</td>\n",
       "      <td>29225</td>\n",
       "      <td>125</td>\n",
       "      <td>153</td>\n",
       "      <td>24</td>\n",
       "      <td>56</td>\n",
       "      <td>64</td>\n",
       "      <td>51</td>\n",
       "      <td>7.0</td>\n",
       "      <td>44</td>\n",
       "      <td>7</td>\n",
       "    </tr>\n",
       "  </tbody>\n",
       "</table>\n",
       "</div>"
      ],
      "text/plain": [
       "          date  attendance  TSUrushyards  TSUreceiveyards  TSUkreturnyards  \\\n",
       "0  Aug 30 2014       10541           439               71               77   \n",
       "1  Sep 06 2014       15725            92              340              111   \n",
       "2  Sep 13 2014       46914           137              187               29   \n",
       "3  Sep 20 2014        9217            92              113                0   \n",
       "4  Sep 27 2014       29225           125              153               24   \n",
       "\n",
       "   TSUpreturnyards  TSUtackles  TSUtackleyd  TSUsacks  TSUsackyd  TSUpunt  \n",
       "0               57          53           38       2.0         13        1  \n",
       "1               22          89           28       3.0         13        8  \n",
       "2               40          54           40       7.0         33        8  \n",
       "3               15          48           31       6.0         28        9  \n",
       "4               56          64           51       7.0         44        7  "
      ]
     },
     "execution_count": 12,
     "metadata": {},
     "output_type": "execute_result"
    }
   ],
   "source": [
    "#create data frame\n",
    "#change dictionary of lists to data frame\n",
    "list_of_dicts={'date':date,\n",
    "     'attendance':attendance,\n",
    "     'TSUrushyards':TSUrushyards,\n",
    "     'TSUreceiveyards':TSUreceiveyards,\n",
    "     'TSUkreturnyards':TSUkreturnyards,\n",
    "     'TSUpreturnyards':TSUpreturnyards,\n",
    "     'TSUtackles':TSUtackles,\n",
    "     'TSUtackleyd':TSUtackleyd,\n",
    "     'TSUsacks':TSUsacks,\n",
    "     'TSUsackyd':TSUsackyd,\n",
    "     'TSUpunt':TSUpunt}\n",
    "df2014=pd.DataFrame(list_of_dicts)\n",
    "df2014.head()"
   ]
  },
  {
   "cell_type": "code",
   "execution_count": 13,
   "metadata": {},
   "outputs": [
    {
     "data": {
      "text/html": [
       "<div>\n",
       "<style scoped>\n",
       "    .dataframe tbody tr th:only-of-type {\n",
       "        vertical-align: middle;\n",
       "    }\n",
       "\n",
       "    .dataframe tbody tr th {\n",
       "        vertical-align: top;\n",
       "    }\n",
       "\n",
       "    .dataframe thead th {\n",
       "        text-align: right;\n",
       "    }\n",
       "</style>\n",
       "<table border=\"1\" class=\"dataframe\">\n",
       "  <thead>\n",
       "    <tr style=\"text-align: right;\">\n",
       "      <th></th>\n",
       "      <th>date</th>\n",
       "      <th>attendance</th>\n",
       "      <th>TSUrushyards</th>\n",
       "      <th>TSUreceiveyards</th>\n",
       "      <th>TSUkreturnyards</th>\n",
       "      <th>TSUpreturnyards</th>\n",
       "      <th>TSUtackles</th>\n",
       "      <th>TSUtackleyd</th>\n",
       "      <th>TSUsacks</th>\n",
       "      <th>TSUsackyd</th>\n",
       "      <th>TSUpunt</th>\n",
       "      <th>month</th>\n",
       "      <th>day</th>\n",
       "      <th>year</th>\n",
       "    </tr>\n",
       "  </thead>\n",
       "  <tbody>\n",
       "    <tr>\n",
       "      <th>0</th>\n",
       "      <td>Aug 30 2014</td>\n",
       "      <td>10541</td>\n",
       "      <td>439</td>\n",
       "      <td>71</td>\n",
       "      <td>77</td>\n",
       "      <td>57</td>\n",
       "      <td>53</td>\n",
       "      <td>38</td>\n",
       "      <td>2.0</td>\n",
       "      <td>13</td>\n",
       "      <td>1</td>\n",
       "      <td>Aug</td>\n",
       "      <td>30</td>\n",
       "      <td>2014</td>\n",
       "    </tr>\n",
       "    <tr>\n",
       "      <th>1</th>\n",
       "      <td>Sep 06 2014</td>\n",
       "      <td>15725</td>\n",
       "      <td>92</td>\n",
       "      <td>340</td>\n",
       "      <td>111</td>\n",
       "      <td>22</td>\n",
       "      <td>89</td>\n",
       "      <td>28</td>\n",
       "      <td>3.0</td>\n",
       "      <td>13</td>\n",
       "      <td>8</td>\n",
       "      <td>Sep</td>\n",
       "      <td>06</td>\n",
       "      <td>2014</td>\n",
       "    </tr>\n",
       "    <tr>\n",
       "      <th>2</th>\n",
       "      <td>Sep 13 2014</td>\n",
       "      <td>46914</td>\n",
       "      <td>137</td>\n",
       "      <td>187</td>\n",
       "      <td>29</td>\n",
       "      <td>40</td>\n",
       "      <td>54</td>\n",
       "      <td>40</td>\n",
       "      <td>7.0</td>\n",
       "      <td>33</td>\n",
       "      <td>8</td>\n",
       "      <td>Sep</td>\n",
       "      <td>13</td>\n",
       "      <td>2014</td>\n",
       "    </tr>\n",
       "    <tr>\n",
       "      <th>3</th>\n",
       "      <td>Sep 20 2014</td>\n",
       "      <td>9217</td>\n",
       "      <td>92</td>\n",
       "      <td>113</td>\n",
       "      <td>0</td>\n",
       "      <td>15</td>\n",
       "      <td>48</td>\n",
       "      <td>31</td>\n",
       "      <td>6.0</td>\n",
       "      <td>28</td>\n",
       "      <td>9</td>\n",
       "      <td>Sep</td>\n",
       "      <td>20</td>\n",
       "      <td>2014</td>\n",
       "    </tr>\n",
       "    <tr>\n",
       "      <th>4</th>\n",
       "      <td>Sep 27 2014</td>\n",
       "      <td>29225</td>\n",
       "      <td>125</td>\n",
       "      <td>153</td>\n",
       "      <td>24</td>\n",
       "      <td>56</td>\n",
       "      <td>64</td>\n",
       "      <td>51</td>\n",
       "      <td>7.0</td>\n",
       "      <td>44</td>\n",
       "      <td>7</td>\n",
       "      <td>Sep</td>\n",
       "      <td>27</td>\n",
       "      <td>2014</td>\n",
       "    </tr>\n",
       "  </tbody>\n",
       "</table>\n",
       "</div>"
      ],
      "text/plain": [
       "          date  attendance  TSUrushyards  TSUreceiveyards  TSUkreturnyards  \\\n",
       "0  Aug 30 2014       10541           439               71               77   \n",
       "1  Sep 06 2014       15725            92              340              111   \n",
       "2  Sep 13 2014       46914           137              187               29   \n",
       "3  Sep 20 2014        9217            92              113                0   \n",
       "4  Sep 27 2014       29225           125              153               24   \n",
       "\n",
       "   TSUpreturnyards  TSUtackles  TSUtackleyd  TSUsacks  TSUsackyd  TSUpunt  \\\n",
       "0               57          53           38       2.0         13        1   \n",
       "1               22          89           28       3.0         13        8   \n",
       "2               40          54           40       7.0         33        8   \n",
       "3               15          48           31       6.0         28        9   \n",
       "4               56          64           51       7.0         44        7   \n",
       "\n",
       "  month day  year  \n",
       "0   Aug  30  2014  \n",
       "1   Sep  06  2014  \n",
       "2   Sep  13  2014  \n",
       "3   Sep  20  2014  \n",
       "4   Sep  27  2014  "
      ]
     },
     "execution_count": 13,
     "metadata": {},
     "output_type": "execute_result"
    }
   ],
   "source": [
    "#splitting date column into month, day, & year columns \n",
    "df2014[['month','day','year']]=df2014.date.str.split(expand=True)\n",
    "df2014.drop('date',axis=1)\n",
    "df2014.head()"
   ]
  },
  {
   "cell_type": "code",
   "execution_count": 14,
   "metadata": {},
   "outputs": [
    {
     "name": "stdout",
     "output_type": "stream",
     "text": [
      "<class 'pandas.core.frame.DataFrame'>\n",
      "RangeIndex: 12 entries, 0 to 11\n",
      "Data columns (total 12 columns):\n",
      " #   Column           Non-Null Count  Dtype         \n",
      "---  ------           --------------  -----         \n",
      " 0   date             12 non-null     datetime64[ns]\n",
      " 1   attendance       12 non-null     int64         \n",
      " 2   TSUrushyards     12 non-null     int64         \n",
      " 3   TSUreceiveyards  12 non-null     int64         \n",
      " 4   TSUkreturnyards  12 non-null     int64         \n",
      " 5   TSUpreturnyards  12 non-null     int64         \n",
      " 6   TSUtackles       12 non-null     int64         \n",
      " 7   TSUtackleyd      12 non-null     int64         \n",
      " 8   TSUsacks         12 non-null     float64       \n",
      " 9   TSUsackyd        12 non-null     int64         \n",
      " 10  TSUpunt          12 non-null     int64         \n",
      " 11  year             12 non-null     int64         \n",
      "dtypes: datetime64[ns](1), float64(1), int64(10)\n",
      "memory usage: 1.2 KB\n"
     ]
    }
   ],
   "source": [
    "#create a new date variable\n",
    "#change month variable to a 2 digit string variable\n",
    "df2014['month'] = df2014['month'].str.replace('Aug','08')\n",
    "df2014['month'] = df2014['month'].str.replace('Sep','09')\n",
    "df2014['month'] = df2014['month'].str.replace('Oct','10')\n",
    "df2014['month'] = df2014['month'].str.replace('Nov','11')\n",
    "df2014['month'] = df2014['month'].str.replace('Dec','12')\n",
    "#merge month,day and year variables\n",
    "df2014['date']=df2014['year']+ '-' +df2014['month']+ '-'+df2014['day']\n",
    "#make date into a datetime variable\n",
    "df2014['date']= pd.to_datetime(df2014['date'], format='%Y-%m-%d')\n",
    "#drop individual month,day, variables (keep year variable for later analysis)\n",
    "df2014=df2014.drop(['month','day'], axis=1)\n",
    "#make year numeric\n",
    "df2014['year']=pd.to_numeric(df2014['year'])\n",
    "df2014.info()"
   ]
  },
  {
   "cell_type": "code",
   "execution_count": 16,
   "metadata": {},
   "outputs": [
    {
     "data": {
      "text/html": [
       "<div>\n",
       "<style scoped>\n",
       "    .dataframe tbody tr th:only-of-type {\n",
       "        vertical-align: middle;\n",
       "    }\n",
       "\n",
       "    .dataframe tbody tr th {\n",
       "        vertical-align: top;\n",
       "    }\n",
       "\n",
       "    .dataframe thead th {\n",
       "        text-align: right;\n",
       "    }\n",
       "</style>\n",
       "<table border=\"1\" class=\"dataframe\">\n",
       "  <thead>\n",
       "    <tr style=\"text-align: right;\">\n",
       "      <th></th>\n",
       "      <th>date</th>\n",
       "      <th>attendance</th>\n",
       "      <th>TSUrushyards</th>\n",
       "      <th>TSUreceiveyards</th>\n",
       "      <th>TSUkreturnyards</th>\n",
       "      <th>TSUpreturnyards</th>\n",
       "      <th>TSUtackles</th>\n",
       "      <th>TSUtackleyd</th>\n",
       "      <th>TSUsacks</th>\n",
       "      <th>TSUsackyd</th>\n",
       "      <th>TSUpunt</th>\n",
       "      <th>year</th>\n",
       "    </tr>\n",
       "  </thead>\n",
       "  <tbody>\n",
       "    <tr>\n",
       "      <th>0</th>\n",
       "      <td>2014-08-30</td>\n",
       "      <td>10541</td>\n",
       "      <td>439</td>\n",
       "      <td>71</td>\n",
       "      <td>77</td>\n",
       "      <td>57</td>\n",
       "      <td>53</td>\n",
       "      <td>38</td>\n",
       "      <td>2.0</td>\n",
       "      <td>13</td>\n",
       "      <td>1</td>\n",
       "      <td>2014</td>\n",
       "    </tr>\n",
       "    <tr>\n",
       "      <th>1</th>\n",
       "      <td>2014-09-06</td>\n",
       "      <td>15725</td>\n",
       "      <td>92</td>\n",
       "      <td>340</td>\n",
       "      <td>111</td>\n",
       "      <td>22</td>\n",
       "      <td>89</td>\n",
       "      <td>28</td>\n",
       "      <td>3.0</td>\n",
       "      <td>13</td>\n",
       "      <td>8</td>\n",
       "      <td>2014</td>\n",
       "    </tr>\n",
       "    <tr>\n",
       "      <th>2</th>\n",
       "      <td>2014-09-13</td>\n",
       "      <td>46914</td>\n",
       "      <td>137</td>\n",
       "      <td>187</td>\n",
       "      <td>29</td>\n",
       "      <td>40</td>\n",
       "      <td>54</td>\n",
       "      <td>40</td>\n",
       "      <td>7.0</td>\n",
       "      <td>33</td>\n",
       "      <td>8</td>\n",
       "      <td>2014</td>\n",
       "    </tr>\n",
       "    <tr>\n",
       "      <th>3</th>\n",
       "      <td>2014-09-20</td>\n",
       "      <td>9217</td>\n",
       "      <td>92</td>\n",
       "      <td>113</td>\n",
       "      <td>0</td>\n",
       "      <td>15</td>\n",
       "      <td>48</td>\n",
       "      <td>31</td>\n",
       "      <td>6.0</td>\n",
       "      <td>28</td>\n",
       "      <td>9</td>\n",
       "      <td>2014</td>\n",
       "    </tr>\n",
       "    <tr>\n",
       "      <th>4</th>\n",
       "      <td>2014-09-27</td>\n",
       "      <td>29225</td>\n",
       "      <td>125</td>\n",
       "      <td>153</td>\n",
       "      <td>24</td>\n",
       "      <td>56</td>\n",
       "      <td>64</td>\n",
       "      <td>51</td>\n",
       "      <td>7.0</td>\n",
       "      <td>44</td>\n",
       "      <td>7</td>\n",
       "      <td>2014</td>\n",
       "    </tr>\n",
       "  </tbody>\n",
       "</table>\n",
       "</div>"
      ],
      "text/plain": [
       "        date  attendance  TSUrushyards  TSUreceiveyards  TSUkreturnyards  \\\n",
       "0 2014-08-30       10541           439               71               77   \n",
       "1 2014-09-06       15725            92              340              111   \n",
       "2 2014-09-13       46914           137              187               29   \n",
       "3 2014-09-20        9217            92              113                0   \n",
       "4 2014-09-27       29225           125              153               24   \n",
       "\n",
       "   TSUpreturnyards  TSUtackles  TSUtackleyd  TSUsacks  TSUsackyd  TSUpunt  \\\n",
       "0               57          53           38       2.0         13        1   \n",
       "1               22          89           28       3.0         13        8   \n",
       "2               40          54           40       7.0         33        8   \n",
       "3               15          48           31       6.0         28        9   \n",
       "4               56          64           51       7.0         44        7   \n",
       "\n",
       "   year  \n",
       "0  2014  \n",
       "1  2014  \n",
       "2  2014  \n",
       "3  2014  \n",
       "4  2014  "
      ]
     },
     "execution_count": 16,
     "metadata": {},
     "output_type": "execute_result"
    }
   ],
   "source": [
    "#sort data\n",
    "df2014=df2014.sort_values('date',ignore_index=True)\n",
    "df2014.head()"
   ]
  },
  {
   "cell_type": "code",
   "execution_count": 17,
   "metadata": {},
   "outputs": [],
   "source": [
    "#save data\n",
    "df2014.to_csv('2014.csv',encoding='utf-8')"
   ]
  },
  {
   "cell_type": "code",
   "execution_count": null,
   "metadata": {},
   "outputs": [],
   "source": []
  }
 ],
 "metadata": {
  "kernelspec": {
   "display_name": "Python 3",
   "language": "python",
   "name": "python3"
  },
  "language_info": {
   "codemirror_mode": {
    "name": "ipython",
    "version": 3
   },
   "file_extension": ".py",
   "mimetype": "text/x-python",
   "name": "python",
   "nbconvert_exporter": "python",
   "pygments_lexer": "ipython3",
   "version": "3.8.5"
  }
 },
 "nbformat": 4,
 "nbformat_minor": 4
}
