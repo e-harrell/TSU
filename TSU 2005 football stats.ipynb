{
 "cells": [
  {
   "cell_type": "code",
   "execution_count": 1,
   "metadata": {},
   "outputs": [
    {
     "data": {
      "text/plain": [
       "['Sep 03 2005',\n",
       " 'Sep 10 2005',\n",
       " 'Sep 17 2005',\n",
       " 'Sep 24 2005',\n",
       " 'Oct 01 2005',\n",
       " 'Oct 13 2005',\n",
       " 'Oct 22 2005',\n",
       " 'Oct 29 2005',\n",
       " 'Nov 05 2005',\n",
       " 'Nov 12 2005',\n",
       " 'Nov 19 2005']"
      ]
     },
     "execution_count": 1,
     "metadata": {},
     "output_type": "execute_result"
    }
   ],
   "source": [
    "#libraries to use\n",
    "import pandas as pd\n",
    "import numpy as np\n",
    "import matplotlib.pyplot as plt\n",
    "import datetime as dt\n",
    "#python's lxml library parses xml and html files\n",
    "from lxml import html\n",
    "\n",
    "#use requests to get data from web pages\n",
    "import requests \n",
    "\n",
    "#use requests.get() to get web page with data\n",
    "page = requests.get('https://tennstate_ftp.sidearmsports.com/custompages/tsutigers/99B728E2-12D4-4887-A990-249892B83897/teamgbg.htm')\n",
    "\n",
    "#parse data on web page using html module.fromstring\n",
    "mytree = html.fromstring(page.content)\n",
    "\n",
    "#go to web address above , right click on page and select inspect to get HTML code for data from right side of page\n",
    "#create XPath query and use xpath function to get data\n",
    "#date data\n",
    "date = mytree.xpath('body/center//tr/td/font[@color=\"#000000\"]/text()')[1:110:10]\n",
    "date=[a.replace(\"\\xa0\",\"\") for a in date]\n",
    "date=[a.replace(\",\",\"\") for a in date]\n",
    "date=[a.replace(\".\",\"\") for a in date]\n",
    "date"
   ]
  },
  {
   "cell_type": "code",
   "execution_count": 2,
   "metadata": {},
   "outputs": [
    {
     "data": {
      "text/plain": [
       "array([25342, 48300,  5263, 56297, 42310, 10226,  6490,  8278, 23481,\n",
       "        2512,  4779], dtype=int64)"
      ]
     },
     "execution_count": 2,
     "metadata": {},
     "output_type": "execute_result"
    }
   ],
   "source": [
    "#get attendance data\n",
    "attendance=mytree.xpath('body/center//tr/td/font[@color=\"#000000\"]/text()')[9:110:10]\n",
    "attendance=[a.replace(\"\\xa0\",\"\") for a in attendance]\n",
    "attendance=[a.strip() for a in attendance]\n",
    "attendance=pd.to_numeric(attendance)\n",
    "attendance"
   ]
  },
  {
   "cell_type": "code",
   "execution_count": 3,
   "metadata": {},
   "outputs": [
    {
     "data": {
      "text/plain": [
       "array([ 72, 286,  77,  26, 117, 233, 157,  87,  50, 141, -18], dtype=int64)"
      ]
     },
     "execution_count": 3,
     "metadata": {},
     "output_type": "execute_result"
    }
   ],
   "source": [
    "#get TSU rushing yards\n",
    "TSUrushyards=mytree.xpath('body/center//tr/td/font[@color=\"#000000\"]/text()')[114:357:23]\n",
    "TSUrushyards=[a.replace(\"\\xa0\",\"\") for a in TSUrushyards]\n",
    "TSUrushyards=pd.to_numeric(TSUrushyards)\n",
    "TSUrushyards"
   ]
  },
  {
   "cell_type": "code",
   "execution_count": 4,
   "metadata": {},
   "outputs": [
    {
     "data": {
      "text/plain": [
       "array([154, 103, 170, 238, 115,  78, 185, 160, 196, 286, 150], dtype=int64)"
      ]
     },
     "execution_count": 4,
     "metadata": {},
     "output_type": "execute_result"
    }
   ],
   "source": [
    "#get TSU receiving yards\n",
    "TSUreceiveyards=mytree.xpath('body/center//tr/td/font[@color=\"#000000\"]/text()')[118:360:23]\n",
    "TSUreceiveyards=[a.replace(\"\\xa0\",\"\") for a in TSUreceiveyards]\n",
    "TSUreceiveyards=pd.to_numeric(TSUreceiveyards)\n",
    "TSUreceiveyards"
   ]
  },
  {
   "cell_type": "code",
   "execution_count": 5,
   "metadata": {},
   "outputs": [
    {
     "data": {
      "text/plain": [
       "array([ 62,  11, 110,  10,  99,  71, 114,  78,  90, 128, 138], dtype=int64)"
      ]
     },
     "execution_count": 5,
     "metadata": {},
     "output_type": "execute_result"
    }
   ],
   "source": [
    "#get TSU kick return yards\n",
    "TSUkreturnyards=mytree.xpath('body/center//tr/td/font[@color=\"#000000\"]/text()')[126:360:23]\n",
    "TSUkreturnyards=[a.replace(\"\\xa0\",\"\") for a in TSUkreturnyards]\n",
    "TSUkreturnyards=pd.to_numeric(TSUkreturnyards)\n",
    "TSUkreturnyards"
   ]
  },
  {
   "cell_type": "code",
   "execution_count": 6,
   "metadata": {},
   "outputs": [
    {
     "data": {
      "text/plain": [
       "array([32, 47, -2, 67, 49, 53, 14,  3,  0,  1,  0], dtype=int64)"
      ]
     },
     "execution_count": 6,
     "metadata": {},
     "output_type": "execute_result"
    }
   ],
   "source": [
    "#get TSU punt return yards\n",
    "TSUpreturnyards=mytree.xpath('body/center//tr/td/font[@color=\"#000000\"]/text()')[130:380:23]\n",
    "TSUpreturnyards=[a.replace(\"\\xa0\",\"\") for a in TSUpreturnyards]\n",
    "TSUpreturnyards=pd.to_numeric(TSUpreturnyards)\n",
    "TSUpreturnyards"
   ]
  },
  {
   "cell_type": "code",
   "execution_count": 7,
   "metadata": {},
   "outputs": [
    {
     "data": {
      "text/plain": [
       "array([47, 59, 95, 70, 75, 89, 62, 72, 61, 53, 64], dtype=int64)"
      ]
     },
     "execution_count": 7,
     "metadata": {},
     "output_type": "execute_result"
    }
   ],
   "source": [
    "#get TSU total tackles\n",
    "TSUtackles=mytree.xpath('body/center//tr/td/font[@color=\"#000000\"]/text()')[414:650:22]\n",
    "TSUtackles=[a.replace(\"\\xa0\",\"\") for a in TSUtackles]\n",
    "TSUtackles=pd.to_numeric(TSUtackles)\n",
    "TSUtackles"
   ]
  },
  {
   "cell_type": "code",
   "execution_count": 8,
   "metadata": {},
   "outputs": [
    {
     "data": {
      "text/plain": [
       "array([20, 29, 17, 56, 56, 41,  9, 20, 26, 20,  6], dtype=int64)"
      ]
     },
     "execution_count": 8,
     "metadata": {},
     "output_type": "execute_result"
    }
   ],
   "source": [
    "#get TSU tackle yards\n",
    "TSUtackleyd=mytree.xpath('body/center//tr/td/font[@color=\"#000000\"]/text()')[416:650:22]\n",
    "TSUtackleyd=[a.replace(\"\\xa0\",\"\") for a in TSUtackleyd]\n",
    "TSUtackleyd=pd.to_numeric(TSUtackleyd)\n",
    "TSUtackleyd"
   ]
  },
  {
   "cell_type": "code",
   "execution_count": 11,
   "metadata": {},
   "outputs": [
    {
     "data": {
      "text/plain": [
       "array([2., 3., 1., 7., 6., 2., 0., 2., 1., 1., 0.])"
      ]
     },
     "execution_count": 11,
     "metadata": {},
     "output_type": "execute_result"
    }
   ],
   "source": [
    "#get TSU sacks\n",
    "TSUsacks=mytree.xpath('body/center//tr/td/font[@color=\"#000000\"]/text()')[417:650:22]\n",
    "TSUsacks=[a.replace(\"\\xa0\",\"\") for a in TSUsacks]\n",
    "TSUsacks=pd.to_numeric(TSUsacks)\n",
    "TSUsacks"
   ]
  },
  {
   "cell_type": "code",
   "execution_count": 10,
   "metadata": {},
   "outputs": [
    {
     "data": {
      "text/plain": [
       "array([13, 16,  6, 50, 37, 11,  0,  8, 14,  7,  0], dtype=int64)"
      ]
     },
     "execution_count": 10,
     "metadata": {},
     "output_type": "execute_result"
    }
   ],
   "source": [
    "#get TSU sack yards\n",
    "TSUsackyd=mytree.xpath('body/center//tr/td/font[@color=\"#000000\"]/text()')[418:650:22]\n",
    "TSUsackyd=[a.replace(\"\\xa0\",\"\") for a in TSUsackyd]\n",
    "TSUsackyd=pd.to_numeric(TSUsackyd)\n",
    "TSUsackyd"
   ]
  },
  {
   "cell_type": "code",
   "execution_count": 12,
   "metadata": {},
   "outputs": [
    {
     "data": {
      "text/plain": [
       "array([4, 3, 6, 6, 6, 8, 5, 7, 5, 5, 8], dtype=int64)"
      ]
     },
     "execution_count": 12,
     "metadata": {},
     "output_type": "execute_result"
    }
   ],
   "source": [
    "#TSU punts\n",
    "TSUpunt=mytree.xpath('body/center//tr/td/font[@color=\"#000000\"]/text()')[698:900:19]\n",
    "TSUpunt=[a.replace(\"\\xa0\",\"\") for a in TSUpunt]\n",
    "TSUpunt=pd.to_numeric(TSUpunt)\n",
    "TSUpunt"
   ]
  },
  {
   "cell_type": "code",
   "execution_count": 13,
   "metadata": {},
   "outputs": [
    {
     "data": {
      "text/html": [
       "<div>\n",
       "<style scoped>\n",
       "    .dataframe tbody tr th:only-of-type {\n",
       "        vertical-align: middle;\n",
       "    }\n",
       "\n",
       "    .dataframe tbody tr th {\n",
       "        vertical-align: top;\n",
       "    }\n",
       "\n",
       "    .dataframe thead th {\n",
       "        text-align: right;\n",
       "    }\n",
       "</style>\n",
       "<table border=\"1\" class=\"dataframe\">\n",
       "  <thead>\n",
       "    <tr style=\"text-align: right;\">\n",
       "      <th></th>\n",
       "      <th>date</th>\n",
       "      <th>attendance</th>\n",
       "      <th>TSUrushyards</th>\n",
       "      <th>TSUreceiveyards</th>\n",
       "      <th>TSUkreturnyards</th>\n",
       "      <th>TSUpreturnyards</th>\n",
       "      <th>TSUtackles</th>\n",
       "      <th>TSUtackleyd</th>\n",
       "      <th>TSUsacks</th>\n",
       "      <th>TSUsackyd</th>\n",
       "      <th>TSUpunt</th>\n",
       "    </tr>\n",
       "  </thead>\n",
       "  <tbody>\n",
       "    <tr>\n",
       "      <th>0</th>\n",
       "      <td>Sep 03 2005</td>\n",
       "      <td>25342</td>\n",
       "      <td>72</td>\n",
       "      <td>154</td>\n",
       "      <td>62</td>\n",
       "      <td>32</td>\n",
       "      <td>47</td>\n",
       "      <td>20</td>\n",
       "      <td>2.0</td>\n",
       "      <td>13</td>\n",
       "      <td>4</td>\n",
       "    </tr>\n",
       "    <tr>\n",
       "      <th>1</th>\n",
       "      <td>Sep 10 2005</td>\n",
       "      <td>48300</td>\n",
       "      <td>286</td>\n",
       "      <td>103</td>\n",
       "      <td>11</td>\n",
       "      <td>47</td>\n",
       "      <td>59</td>\n",
       "      <td>29</td>\n",
       "      <td>3.0</td>\n",
       "      <td>16</td>\n",
       "      <td>3</td>\n",
       "    </tr>\n",
       "    <tr>\n",
       "      <th>2</th>\n",
       "      <td>Sep 17 2005</td>\n",
       "      <td>5263</td>\n",
       "      <td>77</td>\n",
       "      <td>170</td>\n",
       "      <td>110</td>\n",
       "      <td>-2</td>\n",
       "      <td>95</td>\n",
       "      <td>17</td>\n",
       "      <td>1.0</td>\n",
       "      <td>6</td>\n",
       "      <td>6</td>\n",
       "    </tr>\n",
       "    <tr>\n",
       "      <th>3</th>\n",
       "      <td>Sep 24 2005</td>\n",
       "      <td>56297</td>\n",
       "      <td>26</td>\n",
       "      <td>238</td>\n",
       "      <td>10</td>\n",
       "      <td>67</td>\n",
       "      <td>70</td>\n",
       "      <td>56</td>\n",
       "      <td>7.0</td>\n",
       "      <td>50</td>\n",
       "      <td>6</td>\n",
       "    </tr>\n",
       "    <tr>\n",
       "      <th>4</th>\n",
       "      <td>Oct 01 2005</td>\n",
       "      <td>42310</td>\n",
       "      <td>117</td>\n",
       "      <td>115</td>\n",
       "      <td>99</td>\n",
       "      <td>49</td>\n",
       "      <td>75</td>\n",
       "      <td>56</td>\n",
       "      <td>6.0</td>\n",
       "      <td>37</td>\n",
       "      <td>6</td>\n",
       "    </tr>\n",
       "  </tbody>\n",
       "</table>\n",
       "</div>"
      ],
      "text/plain": [
       "          date  attendance  TSUrushyards  TSUreceiveyards  TSUkreturnyards  \\\n",
       "0  Sep 03 2005       25342            72              154               62   \n",
       "1  Sep 10 2005       48300           286              103               11   \n",
       "2  Sep 17 2005        5263            77              170              110   \n",
       "3  Sep 24 2005       56297            26              238               10   \n",
       "4  Oct 01 2005       42310           117              115               99   \n",
       "\n",
       "   TSUpreturnyards  TSUtackles  TSUtackleyd  TSUsacks  TSUsackyd  TSUpunt  \n",
       "0               32          47           20       2.0         13        4  \n",
       "1               47          59           29       3.0         16        3  \n",
       "2               -2          95           17       1.0          6        6  \n",
       "3               67          70           56       7.0         50        6  \n",
       "4               49          75           56       6.0         37        6  "
      ]
     },
     "execution_count": 13,
     "metadata": {},
     "output_type": "execute_result"
    }
   ],
   "source": [
    "#create data frame\n",
    "#change dictionary of lists to data frame\n",
    "list_of_dicts={'date':date,\n",
    "     'attendance':attendance,\n",
    "     'TSUrushyards':TSUrushyards,\n",
    "     'TSUreceiveyards':TSUreceiveyards,\n",
    "     'TSUkreturnyards':TSUkreturnyards,\n",
    "     'TSUpreturnyards':TSUpreturnyards,\n",
    "     'TSUtackles':TSUtackles,\n",
    "     'TSUtackleyd':TSUtackleyd,\n",
    "     'TSUsacks':TSUsacks,\n",
    "     'TSUsackyd':TSUsackyd,\n",
    "     'TSUpunt':TSUpunt}\n",
    "df2005=pd.DataFrame(list_of_dicts)\n",
    "df2005.head()"
   ]
  },
  {
   "cell_type": "code",
   "execution_count": 14,
   "metadata": {},
   "outputs": [
    {
     "data": {
      "text/html": [
       "<div>\n",
       "<style scoped>\n",
       "    .dataframe tbody tr th:only-of-type {\n",
       "        vertical-align: middle;\n",
       "    }\n",
       "\n",
       "    .dataframe tbody tr th {\n",
       "        vertical-align: top;\n",
       "    }\n",
       "\n",
       "    .dataframe thead th {\n",
       "        text-align: right;\n",
       "    }\n",
       "</style>\n",
       "<table border=\"1\" class=\"dataframe\">\n",
       "  <thead>\n",
       "    <tr style=\"text-align: right;\">\n",
       "      <th></th>\n",
       "      <th>date</th>\n",
       "      <th>attendance</th>\n",
       "      <th>TSUrushyards</th>\n",
       "      <th>TSUreceiveyards</th>\n",
       "      <th>TSUkreturnyards</th>\n",
       "      <th>TSUpreturnyards</th>\n",
       "      <th>TSUtackles</th>\n",
       "      <th>TSUtackleyd</th>\n",
       "      <th>TSUsacks</th>\n",
       "      <th>TSUsackyd</th>\n",
       "      <th>TSUpunt</th>\n",
       "      <th>month</th>\n",
       "      <th>day</th>\n",
       "      <th>year</th>\n",
       "    </tr>\n",
       "  </thead>\n",
       "  <tbody>\n",
       "    <tr>\n",
       "      <th>0</th>\n",
       "      <td>Sep 03 2005</td>\n",
       "      <td>25342</td>\n",
       "      <td>72</td>\n",
       "      <td>154</td>\n",
       "      <td>62</td>\n",
       "      <td>32</td>\n",
       "      <td>47</td>\n",
       "      <td>20</td>\n",
       "      <td>2.0</td>\n",
       "      <td>13</td>\n",
       "      <td>4</td>\n",
       "      <td>Sep</td>\n",
       "      <td>03</td>\n",
       "      <td>2005</td>\n",
       "    </tr>\n",
       "    <tr>\n",
       "      <th>1</th>\n",
       "      <td>Sep 10 2005</td>\n",
       "      <td>48300</td>\n",
       "      <td>286</td>\n",
       "      <td>103</td>\n",
       "      <td>11</td>\n",
       "      <td>47</td>\n",
       "      <td>59</td>\n",
       "      <td>29</td>\n",
       "      <td>3.0</td>\n",
       "      <td>16</td>\n",
       "      <td>3</td>\n",
       "      <td>Sep</td>\n",
       "      <td>10</td>\n",
       "      <td>2005</td>\n",
       "    </tr>\n",
       "    <tr>\n",
       "      <th>2</th>\n",
       "      <td>Sep 17 2005</td>\n",
       "      <td>5263</td>\n",
       "      <td>77</td>\n",
       "      <td>170</td>\n",
       "      <td>110</td>\n",
       "      <td>-2</td>\n",
       "      <td>95</td>\n",
       "      <td>17</td>\n",
       "      <td>1.0</td>\n",
       "      <td>6</td>\n",
       "      <td>6</td>\n",
       "      <td>Sep</td>\n",
       "      <td>17</td>\n",
       "      <td>2005</td>\n",
       "    </tr>\n",
       "    <tr>\n",
       "      <th>3</th>\n",
       "      <td>Sep 24 2005</td>\n",
       "      <td>56297</td>\n",
       "      <td>26</td>\n",
       "      <td>238</td>\n",
       "      <td>10</td>\n",
       "      <td>67</td>\n",
       "      <td>70</td>\n",
       "      <td>56</td>\n",
       "      <td>7.0</td>\n",
       "      <td>50</td>\n",
       "      <td>6</td>\n",
       "      <td>Sep</td>\n",
       "      <td>24</td>\n",
       "      <td>2005</td>\n",
       "    </tr>\n",
       "    <tr>\n",
       "      <th>4</th>\n",
       "      <td>Oct 01 2005</td>\n",
       "      <td>42310</td>\n",
       "      <td>117</td>\n",
       "      <td>115</td>\n",
       "      <td>99</td>\n",
       "      <td>49</td>\n",
       "      <td>75</td>\n",
       "      <td>56</td>\n",
       "      <td>6.0</td>\n",
       "      <td>37</td>\n",
       "      <td>6</td>\n",
       "      <td>Oct</td>\n",
       "      <td>01</td>\n",
       "      <td>2005</td>\n",
       "    </tr>\n",
       "  </tbody>\n",
       "</table>\n",
       "</div>"
      ],
      "text/plain": [
       "          date  attendance  TSUrushyards  TSUreceiveyards  TSUkreturnyards  \\\n",
       "0  Sep 03 2005       25342            72              154               62   \n",
       "1  Sep 10 2005       48300           286              103               11   \n",
       "2  Sep 17 2005        5263            77              170              110   \n",
       "3  Sep 24 2005       56297            26              238               10   \n",
       "4  Oct 01 2005       42310           117              115               99   \n",
       "\n",
       "   TSUpreturnyards  TSUtackles  TSUtackleyd  TSUsacks  TSUsackyd  TSUpunt  \\\n",
       "0               32          47           20       2.0         13        4   \n",
       "1               47          59           29       3.0         16        3   \n",
       "2               -2          95           17       1.0          6        6   \n",
       "3               67          70           56       7.0         50        6   \n",
       "4               49          75           56       6.0         37        6   \n",
       "\n",
       "  month day  year  \n",
       "0   Sep  03  2005  \n",
       "1   Sep  10  2005  \n",
       "2   Sep  17  2005  \n",
       "3   Sep  24  2005  \n",
       "4   Oct  01  2005  "
      ]
     },
     "execution_count": 14,
     "metadata": {},
     "output_type": "execute_result"
    }
   ],
   "source": [
    "\n",
    "#splitting date column into month, day, & year columns \n",
    "df2005[['month','day','year']]=df2005.date.str.split(expand=True)\n",
    "df2005.drop('date',axis=1)\n",
    "df2005.head()"
   ]
  },
  {
   "cell_type": "code",
   "execution_count": 15,
   "metadata": {},
   "outputs": [
    {
     "name": "stdout",
     "output_type": "stream",
     "text": [
      "<class 'pandas.core.frame.DataFrame'>\n",
      "RangeIndex: 11 entries, 0 to 10\n",
      "Data columns (total 12 columns):\n",
      " #   Column           Non-Null Count  Dtype         \n",
      "---  ------           --------------  -----         \n",
      " 0   date             11 non-null     datetime64[ns]\n",
      " 1   attendance       11 non-null     int64         \n",
      " 2   TSUrushyards     11 non-null     int64         \n",
      " 3   TSUreceiveyards  11 non-null     int64         \n",
      " 4   TSUkreturnyards  11 non-null     int64         \n",
      " 5   TSUpreturnyards  11 non-null     int64         \n",
      " 6   TSUtackles       11 non-null     int64         \n",
      " 7   TSUtackleyd      11 non-null     int64         \n",
      " 8   TSUsacks         11 non-null     float64       \n",
      " 9   TSUsackyd        11 non-null     int64         \n",
      " 10  TSUpunt          11 non-null     int64         \n",
      " 11  year             11 non-null     int64         \n",
      "dtypes: datetime64[ns](1), float64(1), int64(10)\n",
      "memory usage: 1.2 KB\n"
     ]
    }
   ],
   "source": [
    "#create a new date variable\n",
    "#change month variable to a 2 digit string variable\n",
    "df2005['month'] = df2005['month'].str.replace('Aug','08')\n",
    "df2005['month'] = df2005['month'].str.replace('Sep','09')\n",
    "df2005['month'] = df2005['month'].str.replace('Oct','10')\n",
    "df2005['month'] = df2005['month'].str.replace('Nov','11')\n",
    "df2005['month'] = df2005['month'].str.replace('Dec','12')\n",
    "#merge month,day and year variables\n",
    "df2005['date']=df2005['year']+ '-' +df2005['month']+ '-'+df2005['day']\n",
    "#make date into a datetime variable\n",
    "df2005['date']= pd.to_datetime(df2005['date'], format='%Y-%m-%d')\n",
    "#drop individual month,day, variables (keep year variable for later analysis)\n",
    "df2005=df2005.drop(['month','day'], axis=1)\n",
    "#make year numeric\n",
    "df2005['year']=pd.to_numeric(df2005['year'])\n",
    "df2005.info()"
   ]
  },
  {
   "cell_type": "code",
   "execution_count": null,
   "metadata": {},
   "outputs": [],
   "source": []
  },
  {
   "cell_type": "code",
   "execution_count": null,
   "metadata": {},
   "outputs": [],
   "source": []
  }
 ],
 "metadata": {
  "kernelspec": {
   "display_name": "Python 3",
   "language": "python",
   "name": "python3"
  },
  "language_info": {
   "codemirror_mode": {
    "name": "ipython",
    "version": 3
   },
   "file_extension": ".py",
   "mimetype": "text/x-python",
   "name": "python",
   "nbconvert_exporter": "python",
   "pygments_lexer": "ipython3",
   "version": "3.8.5"
  }
 },
 "nbformat": 4,
 "nbformat_minor": 4
}
