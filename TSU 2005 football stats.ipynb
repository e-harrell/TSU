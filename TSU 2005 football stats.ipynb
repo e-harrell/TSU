{
 "cells": [
  {
   "cell_type": "code",
   "execution_count": 2,
   "metadata": {},
   "outputs": [
    {
     "data": {
      "text/plain": [
       "['Sep 03 2005',\n",
       " 'Sep 10 2005',\n",
       " 'Sep 17 2005',\n",
       " 'Sep 24 2005',\n",
       " 'Oct 01 2005',\n",
       " 'Oct 13 2005',\n",
       " 'Oct 22 2005',\n",
       " 'Oct 29 2005',\n",
       " 'Nov 05 2005',\n",
       " 'Nov 12 2005',\n",
       " 'Nov 19 2005']"
      ]
     },
     "execution_count": 2,
     "metadata": {},
     "output_type": "execute_result"
    }
   ],
   "source": [
    "#libraries to use\n",
    "import pandas as pd\n",
    "import numpy as np\n",
    "import matplotlib.pyplot as plt\n",
    "import datetime as dt\n",
    "#python's lxml library parses xml and html files\n",
    "from lxml import html\n",
    "\n",
    "#use requests to get data from web pages\n",
    "import requests \n",
    "\n",
    "#use requests.get() to get web page with data\n",
    "page = requests.get('https://tennstate_ftp.sidearmsports.com/custompages/tsutigers/99B728E2-12D4-4887-A990-249892B83897/teamgbg.htm')\n",
    "\n",
    "#parse data on web page using html module.fromstring\n",
    "mytree = html.fromstring(page.content)\n",
    "\n",
    "#go to web address above , right click on page and select inspect to get HTML code for data from right side of page\n",
    "#create XPath query and use xpath function to get data\n",
    "#date data\n",
    "date = mytree.xpath('body/center//tr/td/font[@color=\"#000000\"]/text()')[1:110:10]\n",
    "date=[a.replace(\"\\xa0\",\"\") for a in date]\n",
    "date=[a.replace(\",\",\"\") for a in date]\n",
    "date=[a.replace(\".\",\"\") for a in date]\n",
    "date"
   ]
  },
  {
   "cell_type": "code",
   "execution_count": 4,
   "metadata": {},
   "outputs": [
    {
     "data": {
      "text/plain": [
       "['25342',\n",
       " '48300',\n",
       " '5263',\n",
       " '56297',\n",
       " '42310',\n",
       " '10226',\n",
       " '6490',\n",
       " '8278',\n",
       " '23481',\n",
       " '2512',\n",
       " '4779']"
      ]
     },
     "execution_count": 4,
     "metadata": {},
     "output_type": "execute_result"
    }
   ],
   "source": [
    "#get attendance data\n",
    "attendance=mytree.xpath('body/center//tr/td/font[@color=\"#000000\"]/text()')[9:110:10]\n",
    "attendance=[a.replace(\"\\xa0\",\"\") for a in attendance]\n",
    "attendance=[a.strip() for a in attendance]\n",
    "attendance"
   ]
  },
  {
   "cell_type": "code",
   "execution_count": 5,
   "metadata": {},
   "outputs": [
    {
     "data": {
      "text/plain": [
       "['72', '286', '77', '26', '117', '233', '157', '87', '50', '141', '-18']"
      ]
     },
     "execution_count": 5,
     "metadata": {},
     "output_type": "execute_result"
    }
   ],
   "source": [
    "#get TSU rushing yards\n",
    "TSUrushyards=mytree.xpath('body/center//tr/td/font[@color=\"#000000\"]/text()')[114:357:23]\n",
    "TSUrushyards=[a.replace(\"\\xa0\",\"\") for a in TSUrushyards]\n",
    "TSUrushyards"
   ]
  },
  {
   "cell_type": "code",
   "execution_count": 6,
   "metadata": {},
   "outputs": [
    {
     "data": {
      "text/plain": [
       "['154', '103', '170', '238', '115', '78', '185', '160', '196', '286', '150']"
      ]
     },
     "execution_count": 6,
     "metadata": {},
     "output_type": "execute_result"
    }
   ],
   "source": [
    "#get TSU receiving yards\n",
    "TSUreceiveyards=mytree.xpath('body/center//tr/td/font[@color=\"#000000\"]/text()')[118:360:23]\n",
    "TSUreceiveyards=[a.replace(\"\\xa0\",\"\") for a in TSUreceiveyards]\n",
    "TSUreceiveyards"
   ]
  },
  {
   "cell_type": "code",
   "execution_count": 7,
   "metadata": {},
   "outputs": [
    {
     "data": {
      "text/plain": [
       "['62', '11', '110', '10', '99', '71', '114', '78', '90', '128', '138']"
      ]
     },
     "execution_count": 7,
     "metadata": {},
     "output_type": "execute_result"
    }
   ],
   "source": [
    "#get TSU kick return yards\n",
    "TSUkreturnyards=mytree.xpath('body/center//tr/td/font[@color=\"#000000\"]/text()')[126:360:23]\n",
    "TSUkreturnyards=[a.replace(\"\\xa0\",\"\") for a in TSUkreturnyards]\n",
    "TSUkreturnyards"
   ]
  },
  {
   "cell_type": "code",
   "execution_count": 8,
   "metadata": {},
   "outputs": [
    {
     "data": {
      "text/plain": [
       "['32', '47', '-2', '67', '49', '53', '14', '3', '0', '1', '0']"
      ]
     },
     "execution_count": 8,
     "metadata": {},
     "output_type": "execute_result"
    }
   ],
   "source": [
    "#get TSU punt return yards\n",
    "TSUpreturnyards=mytree.xpath('body/center//tr/td/font[@color=\"#000000\"]/text()')[130:380:23]\n",
    "TSUpreturnyards=[a.replace(\"\\xa0\",\"\") for a in TSUpreturnyards]\n",
    "TSUpreturnyards"
   ]
  },
  {
   "cell_type": "code",
   "execution_count": 9,
   "metadata": {},
   "outputs": [
    {
     "data": {
      "text/plain": [
       "['47', '59', '95', '70', '75', '89', '62', '72', '61', '53', '64']"
      ]
     },
     "execution_count": 9,
     "metadata": {},
     "output_type": "execute_result"
    }
   ],
   "source": [
    "#get TSU total tackles\n",
    "TSUtackles=mytree.xpath('body/center//tr/td/font[@color=\"#000000\"]/text()')[414:650:22]\n",
    "TSUtackles=[a.replace(\"\\xa0\",\"\") for a in TSUtackles]\n",
    "TSUtackles"
   ]
  },
  {
   "cell_type": "code",
   "execution_count": 10,
   "metadata": {},
   "outputs": [
    {
     "data": {
      "text/plain": [
       "['20', '29', '17', '56', '56', '41', '9', '20', '26', '20', '6']"
      ]
     },
     "execution_count": 10,
     "metadata": {},
     "output_type": "execute_result"
    }
   ],
   "source": [
    "#get TSU tackle yards\n",
    "TSUtackleyd=mytree.xpath('body/center//tr/td/font[@color=\"#000000\"]/text()')[416:650:22]\n",
    "TSUtackleyd=[a.replace(\"\\xa0\",\"\") for a in TSUtackleyd]\n",
    "TSUtackleyd"
   ]
  },
  {
   "cell_type": "code",
   "execution_count": 11,
   "metadata": {},
   "outputs": [
    {
     "data": {
      "text/plain": [
       "['2.0', '3.0', '1.0', '7.0', '6.0', '2.0', '0.0', '2.0', '1.0', '1.0', '0.0']"
      ]
     },
     "execution_count": 11,
     "metadata": {},
     "output_type": "execute_result"
    }
   ],
   "source": [
    "#get TSU sacks\n",
    "TSUsacks=mytree.xpath('body/center//tr/td/font[@color=\"#000000\"]/text()')[417:650:22]\n",
    "TSUsacks=[a.replace(\"\\xa0\",\"\") for a in TSUsacks]\n",
    "TSUsacks"
   ]
  },
  {
   "cell_type": "code",
   "execution_count": 12,
   "metadata": {},
   "outputs": [
    {
     "data": {
      "text/plain": [
       "['13', '16', '6', '50', '37', '11', '0', '8', '14', '7', '0']"
      ]
     },
     "execution_count": 12,
     "metadata": {},
     "output_type": "execute_result"
    }
   ],
   "source": [
    "#get TSU sack yards\n",
    "TSUsackyd=mytree.xpath('body/center//tr/td/font[@color=\"#000000\"]/text()')[418:650:22]\n",
    "TSUsackyd=[a.replace(\"\\xa0\",\"\") for a in TSUsackyd]\n",
    "TSUsackyd"
   ]
  },
  {
   "cell_type": "code",
   "execution_count": 13,
   "metadata": {},
   "outputs": [
    {
     "data": {
      "text/plain": [
       "['4', '3', '6', '6', '6', '8', '5', '7', '5', '5', '8']"
      ]
     },
     "execution_count": 13,
     "metadata": {},
     "output_type": "execute_result"
    }
   ],
   "source": [
    "#TSU punts\n",
    "TSUpunt=mytree.xpath('body/center//tr/td/font[@color=\"#000000\"]/text()')[698:900:19]\n",
    "TSUpunt=[a.replace(\"\\xa0\",\"\") for a in TSUpunt]\n",
    "TSUpunt"
   ]
  },
  {
   "cell_type": "code",
   "execution_count": 14,
   "metadata": {},
   "outputs": [
    {
     "data": {
      "text/plain": [
       "['148', '199', '291', '35', '170', '124', '190', '192', '128', '141', '203']"
      ]
     },
     "execution_count": 14,
     "metadata": {},
     "output_type": "execute_result"
    }
   ],
   "source": [
    "#get opponent rushing yards\n",
    "OPPrushyards=mytree.xpath('body/center//tr/td/font[@color=\"#000000\"]/text()')[946:1183:23]\n",
    "OPPrushyards=[a.replace(\"\\xa0\",\"\") for a in OPPrushyards]\n",
    "OPPrushyards"
   ]
  },
  {
   "cell_type": "code",
   "execution_count": 15,
   "metadata": {},
   "outputs": [
    {
     "data": {
      "text/plain": [
       "['85', '40', '214', '226', '23', '324', '186', '128', '162', '186', '333']"
      ]
     },
     "execution_count": 15,
     "metadata": {},
     "output_type": "execute_result"
    }
   ],
   "source": [
    "#get opponent receiving yards\n",
    "OPPreceiveyards=mytree.xpath('body/center//tr/td/font[@color=\"#000000\"]/text()')[950:1200:23]\n",
    "OPPreceiveyards=[a.replace(\"\\xa0\",\"\") for a in OPPreceiveyards]\n",
    "OPPreceiveyards"
   ]
  },
  {
   "cell_type": "code",
   "execution_count": 16,
   "metadata": {},
   "outputs": [
    {
     "data": {
      "text/plain": [
       "['68', '34', '78', '27', '33', '135', '45', '81', '66', '96', '17']"
      ]
     },
     "execution_count": 16,
     "metadata": {},
     "output_type": "execute_result"
    }
   ],
   "source": [
    "#get opponent kick return yards\n",
    "OPPkreturnyards=mytree.xpath('body/center//tr/td/font[@color=\"#000000\"]/text()')[958:1200:23]\n",
    "OPPkreturnyards=[a.replace(\"\\xa0\",\"\") for a in OPPkreturnyards]\n",
    "OPPkreturnyards"
   ]
  },
  {
   "cell_type": "code",
   "execution_count": 17,
   "metadata": {},
   "outputs": [
    {
     "data": {
      "text/plain": [
       "['15', '0', '18', '12', '0', '20', '41', '21', '18', '49', '4']"
      ]
     },
     "execution_count": 17,
     "metadata": {},
     "output_type": "execute_result"
    }
   ],
   "source": [
    "#get opponent punt return yards\n",
    "OPPpreturnyards=mytree.xpath('body/center//tr/td/font[@color=\"#000000\"]/text()')[962:1200:23]\n",
    "OPPpreturnyards=[a.replace(\"\\xa0\",\"\") for a in OPPpreturnyards]\n",
    "OPPpreturnyards"
   ]
  },
  {
   "cell_type": "code",
   "execution_count": 18,
   "metadata": {},
   "outputs": [
    {
     "data": {
      "text/plain": [
       "['52', '59', '56', '67', '54', '89', '58', '65', '61', '73', '58']"
      ]
     },
     "execution_count": 18,
     "metadata": {},
     "output_type": "execute_result"
    }
   ],
   "source": [
    "#get opponent total tackles\n",
    "OPPtackles=mytree.xpath('body/center//tr/td/font[@color=\"#000000\"]/text()')[1246:1480:22]\n",
    "OPPtackles=[a.replace(\"\\xa0\",\"\") for a in OPPtackles]\n",
    "OPPtackles"
   ]
  },
  {
   "cell_type": "code",
   "execution_count": 19,
   "metadata": {},
   "outputs": [
    {
     "data": {
      "text/plain": [
       "['29', '12', '21', '34', '28', '30', '20', '9', '42', '33', '38']"
      ]
     },
     "execution_count": 19,
     "metadata": {},
     "output_type": "execute_result"
    }
   ],
   "source": [
    "#get opponent tackle yards\n",
    "OPPtackleyd=mytree.xpath('body/center//tr/td/font[@color=\"#000000\"]/text()')[1248:1488:22]\n",
    "OPPtackleyd=[a.replace(\"\\xa0\",\"\") for a in OPPtackleyd]\n",
    "OPPtackleyd"
   ]
  },
  {
   "cell_type": "code",
   "execution_count": 20,
   "metadata": {},
   "outputs": [
    {
     "data": {
      "text/plain": [
       "['3.0', '0.0', '1.0', '3.0', '3.0', '1.0', '2.0', '0.0', '4.0', '1.0', '3.0']"
      ]
     },
     "execution_count": 20,
     "metadata": {},
     "output_type": "execute_result"
    }
   ],
   "source": [
    "#get opponent sacks\n",
    "OPPsacks=mytree.xpath('body/center//tr/td/font[@color=\"#000000\"]/text()')[1249:1488:22]\n",
    "OPPsacks=[a.replace(\"\\xa0\",\"\") for a in OPPsacks]\n",
    "OPPsacks"
   ]
  },
  {
   "cell_type": "code",
   "execution_count": 21,
   "metadata": {},
   "outputs": [
    {
     "data": {
      "text/plain": [
       "['23', '0', '14', '22', '23', '6', '15', '0', '32', '4', '10']"
      ]
     },
     "execution_count": 21,
     "metadata": {},
     "output_type": "execute_result"
    }
   ],
   "source": [
    "#get opponent sack yards\n",
    "OPPsackyd=mytree.xpath('body/center//tr/td/font[@color=\"#000000\"]/text()')[1250:1488:22]\n",
    "OPPsackyd=[a.replace(\"\\xa0\",\"\") for a in OPPsackyd]\n",
    "OPPsackyd"
   ]
  },
  {
   "cell_type": "code",
   "execution_count": 22,
   "metadata": {},
   "outputs": [
    {
     "data": {
      "text/plain": [
       "['5', '4', '3', '8', '8', '5', '5', '6', '5', '7', '2']"
      ]
     },
     "execution_count": 22,
     "metadata": {},
     "output_type": "execute_result"
    }
   ],
   "source": [
    "#opponent punts\n",
    "OPPpunt=mytree.xpath('body/center//tr/td/font[@color=\"#000000\"]/text()')[1530:1739:19]\n",
    "OPPpunt=[a.replace(\"\\xa0\",\"\") for a in OPPpunt]\n",
    "OPPpunt"
   ]
  },
  {
   "cell_type": "code",
   "execution_count": 23,
   "metadata": {},
   "outputs": [
    {
     "data": {
      "text/plain": [
       "['21 16',\n",
       " '20 17',\n",
       " '10 26',\n",
       " '17 15',\n",
       " '12 11',\n",
       " '14 21',\n",
       " '16 21',\n",
       " '13 20',\n",
       " '14 19',\n",
       " '23 17',\n",
       " '10 25']"
      ]
     },
     "execution_count": 23,
     "metadata": {},
     "output_type": "execute_result"
    }
   ],
   "source": [
    "#1st downs\n",
    "firstdowns=mytree.xpath('body/center//tr/td/font[@color=\"#000000\"]/text()')[1777:1930:15]\n",
    "firstdowns=[a.replace(\"\\xa0\",\"\") for a in firstdowns]\n",
    "firstdowns=[a.replace(\"/\",\" \") for a in firstdowns]\n",
    "firstdowns"
   ]
  },
  {
   "cell_type": "code",
   "execution_count": 24,
   "metadata": {},
   "outputs": [
    {
     "data": {
      "text/plain": [
       "['3 1', '3 2', '2 1', '5 1', '5 1', '2 7', '2 0', '3 1', '3 1', '3 1', '4 4']"
      ]
     },
     "execution_count": 24,
     "metadata": {},
     "output_type": "execute_result"
    }
   ],
   "source": [
    "#turnovers\n",
    "turnovers=mytree.xpath('body/center//tr/td/font[@color=\"#000000\"]/text()')[1789:1945:15]\n",
    "turnovers=[a.replace(\"\\xa0\",\"\") for a in turnovers]\n",
    "turnovers=[a.replace(\"/\",\" \") for a in turnovers]\n",
    "turnovers"
   ]
  },
  {
   "cell_type": "code",
   "execution_count": 25,
   "metadata": {},
   "outputs": [
    {
     "data": {
      "text/plain": [
       "['3-12',\n",
       " '6-11',\n",
       " '2-10',\n",
       " '7-18',\n",
       " '2-11',\n",
       " '2-14',\n",
       " '7-18',\n",
       " '3-14',\n",
       " '4-14',\n",
       " '6-17',\n",
       " '5-16']"
      ]
     },
     "execution_count": 25,
     "metadata": {},
     "output_type": "execute_result"
    }
   ],
   "source": [
    "#TSU 3rd down conversions\n",
    "TSUthirddownconv=mytree.xpath('body/center//tr/td/font[@color=\"#000000\"]/text()')[1957:2100:14]\n",
    "TSUthirddownconv=[a.replace(\"\\xa0\",\"\") for a in TSUthirddownconv]\n",
    "TSUthirddownconv=[a.replace(\" /\",\"\") for a in TSUthirddownconv]\n",
    "TSUthirddownconv"
   ]
  },
  {
   "cell_type": "code",
   "execution_count": 26,
   "metadata": {},
   "outputs": [
    {
     "data": {
      "text/plain": [
       "['5-13',\n",
       " '6-13',\n",
       " '9-17',\n",
       " '7-18',\n",
       " '6-17',\n",
       " '4-15',\n",
       " '6-14',\n",
       " '4-14',\n",
       " '4-14',\n",
       " '2-15',\n",
       " '2-9']"
      ]
     },
     "execution_count": 26,
     "metadata": {},
     "output_type": "execute_result"
    }
   ],
   "source": [
    "#opponent 3rd down conversions\n",
    "OPPthirddownconv=mytree.xpath('body/center//tr/td/font[@color=\"#000000\"]/text()')[1958:2100:14]\n",
    "OPPthirddownconv=[a.replace(\"\\xa0\",\"\") for a in OPPthirddownconv]\n",
    "OPPthirddownconv"
   ]
  },
  {
   "cell_type": "code",
   "execution_count": 27,
   "metadata": {},
   "outputs": [
    {
     "data": {
      "text/plain": [
       "['2-4', '1-3', '1-3', '1-3', '0-1', '0-1', '1-4', '2-3', '1-3', '0-2', '0-2']"
      ]
     },
     "execution_count": 27,
     "metadata": {},
     "output_type": "execute_result"
    }
   ],
   "source": [
    "#TSU 4th down conversions\n",
    "TSUfourthdownconv=mytree.xpath('body/center//tr/td/font[@color=\"#000000\"]/text()')[1959:2100:14]\n",
    "TSUfourthdownconv=[a.replace(\"\\xa0\",\"\") for a in TSUfourthdownconv]\n",
    "TSUfourthdownconv=[a.replace(\" /\",\"\") for a in TSUfourthdownconv]\n",
    "TSUfourthdownconv"
   ]
  },
  {
   "cell_type": "code",
   "execution_count": 28,
   "metadata": {},
   "outputs": [
    {
     "data": {
      "text/plain": [
       "['0-0', '1-4', '1-3', '0-0', '1-1', '1-3', '1-1', '1-1', '1-2', '0-1', '1-2']"
      ]
     },
     "execution_count": 28,
     "metadata": {},
     "output_type": "execute_result"
    }
   ],
   "source": [
    "#opponent 4th down conversions\n",
    "OPPfourthdownconv=mytree.xpath('body/center//tr/td/font[@color=\"#000000\"]/text()')[1960:2106:14]\n",
    "OPPfourthdownconv=[a.replace(\"\\xa0\",\"\") for a in OPPfourthdownconv]\n",
    "OPPfourthdownconv=[a.replace(\" /\",\"\") for a in OPPfourthdownconv]\n",
    "OPPfourthdownconv"
   ]
  },
  {
   "cell_type": "code",
   "execution_count": 29,
   "metadata": {},
   "outputs": [
    {
     "data": {
      "text/plain": [
       "['30:28 29:32',\n",
       " '29:10 30:50',\n",
       " '20:26 39:34',\n",
       " '29:07 30:53',\n",
       " '24:18 35:42',\n",
       " '30:07 29:53',\n",
       " '26:32 33:28',\n",
       " '27:40 32:20',\n",
       " '24:58 32:24',\n",
       " '30:39 29:21',\n",
       " '28:29 31:31']"
      ]
     },
     "execution_count": 29,
     "metadata": {},
     "output_type": "execute_result"
    }
   ],
   "source": [
    "#possession time\n",
    "possesstime=mytree.xpath('body/center//tr/td/font[@color=\"#000000\"]/text()')[1961:2106:14]\n",
    "possesstime=[a.replace(\"\\xa0\",\"\") for a in possesstime]\n",
    "possesstime=[a.replace(\" /\",\"\") for a in possesstime]\n",
    "possesstime"
   ]
  },
  {
   "cell_type": "code",
   "execution_count": 32,
   "metadata": {},
   "outputs": [
    {
     "data": {
      "text/plain": [
       "['10 063',\n",
       " '05 057',\n",
       " '06 051',\n",
       " '07 049',\n",
       " '13 101',\n",
       " '06 054',\n",
       " '06 060',\n",
       " '07 048',\n",
       " '09 057',\n",
       " '11 099',\n",
       " '04 030']"
      ]
     },
     "execution_count": 32,
     "metadata": {},
     "output_type": "execute_result"
    }
   ],
   "source": [
    "#TSU penalty number and yards\n",
    "TSUpenalty=mytree.xpath('body/center//tr/td/font[@color=\"#000000\"]/text()')[1968:2122:14]\n",
    "TSUpenalty=[a.replace(\"\\xa0\",\"\") for a in TSUpenalty]\n",
    "TSUpenalty=[a.replace('10-63 /','10 063') for a in TSUpenalty]\n",
    "TSUpenalty=[a.replace('5-57 /','05 057') for a in TSUpenalty]\n",
    "TSUpenalty=[a.replace('6-51 /' ,'06 051') for a in TSUpenalty]\n",
    "TSUpenalty=[a.replace('7-49 /','07 049') for a in TSUpenalty]\n",
    "TSUpenalty=[a.replace('13-101 /','13 101') for a in TSUpenalty]\n",
    "TSUpenalty=[a.replace('6-54 /','06 054') for a in TSUpenalty]\n",
    "TSUpenalty=[a.replace('6-60 /','06 060') for a in TSUpenalty]\n",
    "TSUpenalty=[a.replace('7-48 /','07 048') for a in TSUpenalty]\n",
    "TSUpenalty=[a.replace('9-57 /','09 057') for a in TSUpenalty]\n",
    "TSUpenalty=[a.replace('11-99 /','11 099') for a in TSUpenalty]\n",
    "TSUpenalty=[a.replace('4-30 /','04 030') for a in TSUpenalty]\n",
    "TSUpenalty"
   ]
  },
  {
   "cell_type": "code",
   "execution_count": 34,
   "metadata": {},
   "outputs": [
    {
     "data": {
      "text/plain": [
       "['16 141',\n",
       " '08 074',\n",
       " '06 056',\n",
       " '06 058',\n",
       " '07 045',\n",
       " '07 073',\n",
       " '03 020',\n",
       " '04 058',\n",
       " '06 063',\n",
       " '13 110',\n",
       " '05 030']"
      ]
     },
     "execution_count": 34,
     "metadata": {},
     "output_type": "execute_result"
    }
   ],
   "source": [
    "#opponent penalty number and yards\n",
    "OPPpenalty=mytree.xpath('body/center//tr/td/font[@color=\"#000000\"]/text()')[1969:2122:14]\n",
    "OPPpenalty=[a.replace(\"\\xa0\",\"\") for a in OPPpenalty]\n",
    "OPPpenalty=[a.replace('16-141','16 141') for a in OPPpenalty]\n",
    "OPPpenalty=[a.replace('8-74','08 074') for a in OPPpenalty]\n",
    "OPPpenalty=[a.replace('6-56','06 056') for a in OPPpenalty]\n",
    "OPPpenalty=[a.replace('6-58','06 058') for a in OPPpenalty]\n",
    "OPPpenalty=[a.replace('7-45','07 045') for a in OPPpenalty]\n",
    "OPPpenalty=[a.replace( '7-73','07 073') for a in OPPpenalty]\n",
    "OPPpenalty=[a.replace( '3-20','03 020') for a in OPPpenalty]\n",
    "OPPpenalty=[a.replace('4-58','04 058') for a in OPPpenalty]\n",
    "OPPpenalty=[a.replace('6-63','06 063') for a in OPPpenalty]\n",
    "OPPpenalty=[a.replace('13-110','13 110') for a in OPPpenalty]\n",
    "OPPpenalty=[a.replace('5-30','05 030') for a in OPPpenalty]\n",
    "OPPpenalty"
   ]
  },
  {
   "cell_type": "code",
   "execution_count": 35,
   "metadata": {},
   "outputs": [
    {
     "data": {
      "text/html": [
       "<div>\n",
       "<style scoped>\n",
       "    .dataframe tbody tr th:only-of-type {\n",
       "        vertical-align: middle;\n",
       "    }\n",
       "\n",
       "    .dataframe tbody tr th {\n",
       "        vertical-align: top;\n",
       "    }\n",
       "\n",
       "    .dataframe thead th {\n",
       "        text-align: right;\n",
       "    }\n",
       "</style>\n",
       "<table border=\"1\" class=\"dataframe\">\n",
       "  <thead>\n",
       "    <tr style=\"text-align: right;\">\n",
       "      <th></th>\n",
       "      <th>date</th>\n",
       "      <th>attendance</th>\n",
       "      <th>TSUrushyards</th>\n",
       "      <th>TSUreceiveyards</th>\n",
       "      <th>TSUkreturnyards</th>\n",
       "      <th>TSUpreturnyards</th>\n",
       "      <th>TSUtackles</th>\n",
       "      <th>TSUtackleyd</th>\n",
       "      <th>TSUsacks</th>\n",
       "      <th>TSUsackyd</th>\n",
       "      <th>...</th>\n",
       "      <th>OPPpunt</th>\n",
       "      <th>firstdowns</th>\n",
       "      <th>turnovers</th>\n",
       "      <th>TSUthirddownconv</th>\n",
       "      <th>OPPthirddownconv</th>\n",
       "      <th>TSUfourthdownconv</th>\n",
       "      <th>OPPfourthdownconv</th>\n",
       "      <th>possesstime</th>\n",
       "      <th>TSUpenalty</th>\n",
       "      <th>OPPpenalty</th>\n",
       "    </tr>\n",
       "  </thead>\n",
       "  <tbody>\n",
       "    <tr>\n",
       "      <th>0</th>\n",
       "      <td>Sep 03 2005</td>\n",
       "      <td>25342</td>\n",
       "      <td>72</td>\n",
       "      <td>154</td>\n",
       "      <td>62</td>\n",
       "      <td>32</td>\n",
       "      <td>47</td>\n",
       "      <td>20</td>\n",
       "      <td>2.0</td>\n",
       "      <td>13</td>\n",
       "      <td>...</td>\n",
       "      <td>5</td>\n",
       "      <td>21 16</td>\n",
       "      <td>3 1</td>\n",
       "      <td>3-12</td>\n",
       "      <td>5-13</td>\n",
       "      <td>2-4</td>\n",
       "      <td>0-0</td>\n",
       "      <td>30:28 29:32</td>\n",
       "      <td>10 063</td>\n",
       "      <td>16 141</td>\n",
       "    </tr>\n",
       "    <tr>\n",
       "      <th>1</th>\n",
       "      <td>Sep 10 2005</td>\n",
       "      <td>48300</td>\n",
       "      <td>286</td>\n",
       "      <td>103</td>\n",
       "      <td>11</td>\n",
       "      <td>47</td>\n",
       "      <td>59</td>\n",
       "      <td>29</td>\n",
       "      <td>3.0</td>\n",
       "      <td>16</td>\n",
       "      <td>...</td>\n",
       "      <td>4</td>\n",
       "      <td>20 17</td>\n",
       "      <td>3 2</td>\n",
       "      <td>6-11</td>\n",
       "      <td>6-13</td>\n",
       "      <td>1-3</td>\n",
       "      <td>1-4</td>\n",
       "      <td>29:10 30:50</td>\n",
       "      <td>05 057</td>\n",
       "      <td>08 074</td>\n",
       "    </tr>\n",
       "    <tr>\n",
       "      <th>2</th>\n",
       "      <td>Sep 17 2005</td>\n",
       "      <td>5263</td>\n",
       "      <td>77</td>\n",
       "      <td>170</td>\n",
       "      <td>110</td>\n",
       "      <td>-2</td>\n",
       "      <td>95</td>\n",
       "      <td>17</td>\n",
       "      <td>1.0</td>\n",
       "      <td>6</td>\n",
       "      <td>...</td>\n",
       "      <td>3</td>\n",
       "      <td>10 26</td>\n",
       "      <td>2 1</td>\n",
       "      <td>2-10</td>\n",
       "      <td>9-17</td>\n",
       "      <td>1-3</td>\n",
       "      <td>1-3</td>\n",
       "      <td>20:26 39:34</td>\n",
       "      <td>06 051</td>\n",
       "      <td>06 056</td>\n",
       "    </tr>\n",
       "    <tr>\n",
       "      <th>3</th>\n",
       "      <td>Sep 24 2005</td>\n",
       "      <td>56297</td>\n",
       "      <td>26</td>\n",
       "      <td>238</td>\n",
       "      <td>10</td>\n",
       "      <td>67</td>\n",
       "      <td>70</td>\n",
       "      <td>56</td>\n",
       "      <td>7.0</td>\n",
       "      <td>50</td>\n",
       "      <td>...</td>\n",
       "      <td>8</td>\n",
       "      <td>17 15</td>\n",
       "      <td>5 1</td>\n",
       "      <td>7-18</td>\n",
       "      <td>7-18</td>\n",
       "      <td>1-3</td>\n",
       "      <td>0-0</td>\n",
       "      <td>29:07 30:53</td>\n",
       "      <td>07 049</td>\n",
       "      <td>06 058</td>\n",
       "    </tr>\n",
       "    <tr>\n",
       "      <th>4</th>\n",
       "      <td>Oct 01 2005</td>\n",
       "      <td>42310</td>\n",
       "      <td>117</td>\n",
       "      <td>115</td>\n",
       "      <td>99</td>\n",
       "      <td>49</td>\n",
       "      <td>75</td>\n",
       "      <td>56</td>\n",
       "      <td>6.0</td>\n",
       "      <td>37</td>\n",
       "      <td>...</td>\n",
       "      <td>8</td>\n",
       "      <td>12 11</td>\n",
       "      <td>5 1</td>\n",
       "      <td>2-11</td>\n",
       "      <td>6-17</td>\n",
       "      <td>0-1</td>\n",
       "      <td>1-1</td>\n",
       "      <td>24:18 35:42</td>\n",
       "      <td>13 101</td>\n",
       "      <td>07 045</td>\n",
       "    </tr>\n",
       "  </tbody>\n",
       "</table>\n",
       "<p>5 rows × 29 columns</p>\n",
       "</div>"
      ],
      "text/plain": [
       "          date attendance TSUrushyards TSUreceiveyards TSUkreturnyards  \\\n",
       "0  Sep 03 2005      25342           72             154              62   \n",
       "1  Sep 10 2005      48300          286             103              11   \n",
       "2  Sep 17 2005       5263           77             170             110   \n",
       "3  Sep 24 2005      56297           26             238              10   \n",
       "4  Oct 01 2005      42310          117             115              99   \n",
       "\n",
       "  TSUpreturnyards TSUtackles TSUtackleyd TSUsacks TSUsackyd  ... OPPpunt  \\\n",
       "0              32         47          20      2.0        13  ...       5   \n",
       "1              47         59          29      3.0        16  ...       4   \n",
       "2              -2         95          17      1.0         6  ...       3   \n",
       "3              67         70          56      7.0        50  ...       8   \n",
       "4              49         75          56      6.0        37  ...       8   \n",
       "\n",
       "  firstdowns turnovers TSUthirddownconv OPPthirddownconv TSUfourthdownconv  \\\n",
       "0      21 16       3 1             3-12             5-13               2-4   \n",
       "1      20 17       3 2             6-11             6-13               1-3   \n",
       "2      10 26       2 1             2-10             9-17               1-3   \n",
       "3      17 15       5 1             7-18             7-18               1-3   \n",
       "4      12 11       5 1             2-11             6-17               0-1   \n",
       "\n",
       "  OPPfourthdownconv  possesstime TSUpenalty OPPpenalty  \n",
       "0               0-0  30:28 29:32     10 063     16 141  \n",
       "1               1-4  29:10 30:50     05 057     08 074  \n",
       "2               1-3  20:26 39:34     06 051     06 056  \n",
       "3               0-0  29:07 30:53     07 049     06 058  \n",
       "4               1-1  24:18 35:42     13 101     07 045  \n",
       "\n",
       "[5 rows x 29 columns]"
      ]
     },
     "execution_count": 35,
     "metadata": {},
     "output_type": "execute_result"
    }
   ],
   "source": [
    "#create data frame\n",
    "#change dictionary of lists to data frame\n",
    "list_of_dicts={'date':date,\n",
    "     'attendance':attendance,\n",
    "     'TSUrushyards':TSUrushyards,\n",
    "     'TSUreceiveyards':TSUreceiveyards,\n",
    "     'TSUkreturnyards':TSUkreturnyards,\n",
    "     'TSUpreturnyards':TSUpreturnyards,\n",
    "     'TSUtackles':TSUtackles,\n",
    "     'TSUtackleyd':TSUtackleyd,\n",
    "     'TSUsacks':TSUsacks,\n",
    "     'TSUsackyd':TSUsackyd,\n",
    "     'TSUpunt':TSUpunt,\n",
    "     'OPPrushyards':OPPrushyards,\n",
    "     'OPPreceiveyards':OPPreceiveyards,\n",
    "     'OPPkreturnyards':OPPkreturnyards,\n",
    "     'OPPpreturnyards':OPPpreturnyards,\n",
    "     'OPPtackles':OPPtackles,\n",
    "     'OPPtackleyd':OPPtackleyd,\n",
    "     'OPPsacks':OPPsacks,\n",
    "     'OPPsackyd':OPPsackyd,\n",
    "     'OPPpunt':OPPpunt,\n",
    "     'firstdowns':firstdowns,\n",
    "     'turnovers':turnovers,\n",
    "     'TSUthirddownconv':TSUthirddownconv,\n",
    "     'OPPthirddownconv':OPPthirddownconv,\n",
    "     'TSUfourthdownconv':TSUfourthdownconv,\n",
    "     'OPPfourthdownconv':OPPfourthdownconv,\n",
    "     'possesstime':possesstime,\n",
    "     'TSUpenalty':TSUpenalty,\n",
    "     'OPPpenalty':OPPpenalty}\n",
    "df2005=pd.DataFrame(list_of_dicts)\n",
    "df2005.head()"
   ]
  },
  {
   "cell_type": "code",
   "execution_count": 36,
   "metadata": {},
   "outputs": [
    {
     "data": {
      "text/html": [
       "<div>\n",
       "<style scoped>\n",
       "    .dataframe tbody tr th:only-of-type {\n",
       "        vertical-align: middle;\n",
       "    }\n",
       "\n",
       "    .dataframe tbody tr th {\n",
       "        vertical-align: top;\n",
       "    }\n",
       "\n",
       "    .dataframe thead th {\n",
       "        text-align: right;\n",
       "    }\n",
       "</style>\n",
       "<table border=\"1\" class=\"dataframe\">\n",
       "  <thead>\n",
       "    <tr style=\"text-align: right;\">\n",
       "      <th></th>\n",
       "      <th>date</th>\n",
       "      <th>attendance</th>\n",
       "      <th>TSUrushyards</th>\n",
       "      <th>TSUreceiveyards</th>\n",
       "      <th>TSUkreturnyards</th>\n",
       "      <th>TSUpreturnyards</th>\n",
       "      <th>TSUtackles</th>\n",
       "      <th>TSUtackleyd</th>\n",
       "      <th>TSUsacks</th>\n",
       "      <th>TSUsackyd</th>\n",
       "      <th>...</th>\n",
       "      <th>OPPturnovers</th>\n",
       "      <th>TSUpossesstime</th>\n",
       "      <th>OPPposeesstime</th>\n",
       "      <th>TSUpenaltycount</th>\n",
       "      <th>TSUpenaltyyd</th>\n",
       "      <th>OPPpenaltycount</th>\n",
       "      <th>OPPpenaltyyd</th>\n",
       "      <th>month</th>\n",
       "      <th>day</th>\n",
       "      <th>year</th>\n",
       "    </tr>\n",
       "  </thead>\n",
       "  <tbody>\n",
       "    <tr>\n",
       "      <th>0</th>\n",
       "      <td>Sep 03 2005</td>\n",
       "      <td>25342</td>\n",
       "      <td>72</td>\n",
       "      <td>154</td>\n",
       "      <td>62</td>\n",
       "      <td>32</td>\n",
       "      <td>47</td>\n",
       "      <td>20</td>\n",
       "      <td>2.0</td>\n",
       "      <td>13</td>\n",
       "      <td>...</td>\n",
       "      <td>1</td>\n",
       "      <td>30:28</td>\n",
       "      <td>29:32</td>\n",
       "      <td>10</td>\n",
       "      <td>063</td>\n",
       "      <td>16</td>\n",
       "      <td>141</td>\n",
       "      <td>Sep</td>\n",
       "      <td>03</td>\n",
       "      <td>2005</td>\n",
       "    </tr>\n",
       "    <tr>\n",
       "      <th>1</th>\n",
       "      <td>Sep 10 2005</td>\n",
       "      <td>48300</td>\n",
       "      <td>286</td>\n",
       "      <td>103</td>\n",
       "      <td>11</td>\n",
       "      <td>47</td>\n",
       "      <td>59</td>\n",
       "      <td>29</td>\n",
       "      <td>3.0</td>\n",
       "      <td>16</td>\n",
       "      <td>...</td>\n",
       "      <td>2</td>\n",
       "      <td>29:10</td>\n",
       "      <td>30:50</td>\n",
       "      <td>05</td>\n",
       "      <td>057</td>\n",
       "      <td>08</td>\n",
       "      <td>074</td>\n",
       "      <td>Sep</td>\n",
       "      <td>10</td>\n",
       "      <td>2005</td>\n",
       "    </tr>\n",
       "    <tr>\n",
       "      <th>2</th>\n",
       "      <td>Sep 17 2005</td>\n",
       "      <td>5263</td>\n",
       "      <td>77</td>\n",
       "      <td>170</td>\n",
       "      <td>110</td>\n",
       "      <td>-2</td>\n",
       "      <td>95</td>\n",
       "      <td>17</td>\n",
       "      <td>1.0</td>\n",
       "      <td>6</td>\n",
       "      <td>...</td>\n",
       "      <td>1</td>\n",
       "      <td>20:26</td>\n",
       "      <td>39:34</td>\n",
       "      <td>06</td>\n",
       "      <td>051</td>\n",
       "      <td>06</td>\n",
       "      <td>056</td>\n",
       "      <td>Sep</td>\n",
       "      <td>17</td>\n",
       "      <td>2005</td>\n",
       "    </tr>\n",
       "    <tr>\n",
       "      <th>3</th>\n",
       "      <td>Sep 24 2005</td>\n",
       "      <td>56297</td>\n",
       "      <td>26</td>\n",
       "      <td>238</td>\n",
       "      <td>10</td>\n",
       "      <td>67</td>\n",
       "      <td>70</td>\n",
       "      <td>56</td>\n",
       "      <td>7.0</td>\n",
       "      <td>50</td>\n",
       "      <td>...</td>\n",
       "      <td>1</td>\n",
       "      <td>29:07</td>\n",
       "      <td>30:53</td>\n",
       "      <td>07</td>\n",
       "      <td>049</td>\n",
       "      <td>06</td>\n",
       "      <td>058</td>\n",
       "      <td>Sep</td>\n",
       "      <td>24</td>\n",
       "      <td>2005</td>\n",
       "    </tr>\n",
       "    <tr>\n",
       "      <th>4</th>\n",
       "      <td>Oct 01 2005</td>\n",
       "      <td>42310</td>\n",
       "      <td>117</td>\n",
       "      <td>115</td>\n",
       "      <td>99</td>\n",
       "      <td>49</td>\n",
       "      <td>75</td>\n",
       "      <td>56</td>\n",
       "      <td>6.0</td>\n",
       "      <td>37</td>\n",
       "      <td>...</td>\n",
       "      <td>1</td>\n",
       "      <td>24:18</td>\n",
       "      <td>35:42</td>\n",
       "      <td>13</td>\n",
       "      <td>101</td>\n",
       "      <td>07</td>\n",
       "      <td>045</td>\n",
       "      <td>Oct</td>\n",
       "      <td>01</td>\n",
       "      <td>2005</td>\n",
       "    </tr>\n",
       "  </tbody>\n",
       "</table>\n",
       "<p>5 rows × 42 columns</p>\n",
       "</div>"
      ],
      "text/plain": [
       "          date attendance TSUrushyards TSUreceiveyards TSUkreturnyards  \\\n",
       "0  Sep 03 2005      25342           72             154              62   \n",
       "1  Sep 10 2005      48300          286             103              11   \n",
       "2  Sep 17 2005       5263           77             170             110   \n",
       "3  Sep 24 2005      56297           26             238              10   \n",
       "4  Oct 01 2005      42310          117             115              99   \n",
       "\n",
       "  TSUpreturnyards TSUtackles TSUtackleyd TSUsacks TSUsackyd  ... OPPturnovers  \\\n",
       "0              32         47          20      2.0        13  ...            1   \n",
       "1              47         59          29      3.0        16  ...            2   \n",
       "2              -2         95          17      1.0         6  ...            1   \n",
       "3              67         70          56      7.0        50  ...            1   \n",
       "4              49         75          56      6.0        37  ...            1   \n",
       "\n",
       "  TSUpossesstime OPPposeesstime TSUpenaltycount TSUpenaltyyd OPPpenaltycount  \\\n",
       "0          30:28          29:32              10          063              16   \n",
       "1          29:10          30:50              05          057              08   \n",
       "2          20:26          39:34              06          051              06   \n",
       "3          29:07          30:53              07          049              06   \n",
       "4          24:18          35:42              13          101              07   \n",
       "\n",
       "  OPPpenaltyyd month day  year  \n",
       "0          141   Sep  03  2005  \n",
       "1          074   Sep  10  2005  \n",
       "2          056   Sep  17  2005  \n",
       "3          058   Sep  24  2005  \n",
       "4          045   Oct  01  2005  \n",
       "\n",
       "[5 rows x 42 columns]"
      ]
     },
     "execution_count": 36,
     "metadata": {},
     "output_type": "execute_result"
    }
   ],
   "source": [
    "#splitting firstdowns category into firstdowns for TSU and opponent\n",
    "df2005[['TSUfirstdowns','OPPfirstdowns']]=df2005.firstdowns.str.split(expand=True)\n",
    "#splitting turnovers into TSUturnovers and OPPturnovers\n",
    "df2005[['TSUturnovers','OPPturnovers']]=df2005.turnovers.str.split(expand=True)\n",
    "#splitting possesstime into TSUpossesstime and OPPpossesstime\n",
    "df2005[['TSUpossesstime','OPPposeesstime']]=df2005.possesstime.str.split(expand=True)\n",
    "#splitting TSUpenalty into TSUpenaltycount and TSUpenaltyyards\n",
    "df2005[['TSUpenaltycount','TSUpenaltyyd']]=df2005.TSUpenalty.str.split(expand=True)\n",
    "#splitting OPPpenalty into OPPpenaltycount and OPPpenaltyyards\n",
    "df2005[['OPPpenaltycount','OPPpenaltyyd']]=df2005.OPPpenalty.str.split(expand=True)\n",
    "#splitting date column into month, day, & year columns \n",
    "df2005[['month','day','year']]=df2005.date.str.split(expand=True)\n",
    "df2005.drop('date',axis=1)\n",
    "df2005.head()"
   ]
  },
  {
   "cell_type": "code",
   "execution_count": 37,
   "metadata": {},
   "outputs": [
    {
     "name": "stdout",
     "output_type": "stream",
     "text": [
      "<class 'pandas.core.frame.DataFrame'>\n",
      "RangeIndex: 11 entries, 0 to 10\n",
      "Data columns (total 40 columns):\n",
      " #   Column             Non-Null Count  Dtype         \n",
      "---  ------             --------------  -----         \n",
      " 0   date               11 non-null     datetime64[ns]\n",
      " 1   attendance         11 non-null     object        \n",
      " 2   TSUrushyards       11 non-null     object        \n",
      " 3   TSUreceiveyards    11 non-null     object        \n",
      " 4   TSUkreturnyards    11 non-null     object        \n",
      " 5   TSUpreturnyards    11 non-null     object        \n",
      " 6   TSUtackles         11 non-null     object        \n",
      " 7   TSUtackleyd        11 non-null     object        \n",
      " 8   TSUsacks           11 non-null     object        \n",
      " 9   TSUsackyd          11 non-null     object        \n",
      " 10  TSUpunt            11 non-null     object        \n",
      " 11  OPPrushyards       11 non-null     object        \n",
      " 12  OPPreceiveyards    11 non-null     object        \n",
      " 13  OPPkreturnyards    11 non-null     object        \n",
      " 14  OPPpreturnyards    11 non-null     object        \n",
      " 15  OPPtackles         11 non-null     object        \n",
      " 16  OPPtackleyd        11 non-null     object        \n",
      " 17  OPPsacks           11 non-null     object        \n",
      " 18  OPPsackyd          11 non-null     object        \n",
      " 19  OPPpunt            11 non-null     object        \n",
      " 20  firstdowns         11 non-null     object        \n",
      " 21  turnovers          11 non-null     object        \n",
      " 22  TSUthirddownconv   11 non-null     object        \n",
      " 23  OPPthirddownconv   11 non-null     object        \n",
      " 24  TSUfourthdownconv  11 non-null     object        \n",
      " 25  OPPfourthdownconv  11 non-null     object        \n",
      " 26  possesstime        11 non-null     object        \n",
      " 27  TSUpenalty         11 non-null     object        \n",
      " 28  OPPpenalty         11 non-null     object        \n",
      " 29  TSUfirstdowns      11 non-null     object        \n",
      " 30  OPPfirstdowns      11 non-null     object        \n",
      " 31  TSUturnovers       11 non-null     object        \n",
      " 32  OPPturnovers       11 non-null     object        \n",
      " 33  TSUpossesstime     11 non-null     object        \n",
      " 34  OPPposeesstime     11 non-null     object        \n",
      " 35  TSUpenaltycount    11 non-null     object        \n",
      " 36  TSUpenaltyyd       11 non-null     object        \n",
      " 37  OPPpenaltycount    11 non-null     object        \n",
      " 38  OPPpenaltyyd       11 non-null     object        \n",
      " 39  year               11 non-null     int64         \n",
      "dtypes: datetime64[ns](1), int64(1), object(38)\n",
      "memory usage: 3.6+ KB\n"
     ]
    }
   ],
   "source": [
    "#create a new date variable\n",
    "#change month variable to a 2 digit string variable\n",
    "df2005['month'] = df2005['month'].str.replace('Aug','08')\n",
    "df2005['month'] = df2005['month'].str.replace('Sep','09')\n",
    "df2005['month'] = df2005['month'].str.replace('Oct','10')\n",
    "df2005['month'] = df2005['month'].str.replace('Nov','11')\n",
    "df2005['month'] = df2005['month'].str.replace('Dec','12')\n",
    "#merge month,day and year variables\n",
    "df2005['date']=df2005['year']+ '-' +df2005['month']+ '-'+df2005['day']\n",
    "#make date into a datetime variable\n",
    "df2005['date']= pd.to_datetime(df2005['date'], format='%Y-%m-%d')\n",
    "#drop individual month,day, variables (keep year variable for later analysis)\n",
    "df2005=df2005.drop(['month','day'], axis=1)\n",
    "#make year numeric\n",
    "df2005['year']=pd.to_numeric(df2005['year'])\n",
    "df2005.info()"
   ]
  },
  {
   "cell_type": "code",
   "execution_count": null,
   "metadata": {},
   "outputs": [],
   "source": []
  },
  {
   "cell_type": "code",
   "execution_count": null,
   "metadata": {},
   "outputs": [],
   "source": []
  }
 ],
 "metadata": {
  "kernelspec": {
   "display_name": "Python 3",
   "language": "python",
   "name": "python3"
  },
  "language_info": {
   "codemirror_mode": {
    "name": "ipython",
    "version": 3
   },
   "file_extension": ".py",
   "mimetype": "text/x-python",
   "name": "python",
   "nbconvert_exporter": "python",
   "pygments_lexer": "ipython3",
   "version": "3.8.5"
  }
 },
 "nbformat": 4,
 "nbformat_minor": 4
}
