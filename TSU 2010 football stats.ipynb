{
 "cells": [
  {
   "cell_type": "code",
   "execution_count": 3,
   "metadata": {},
   "outputs": [
    {
     "data": {
      "text/plain": [
       "['Sep 04 2010',\n",
       " 'Sep 11 2010',\n",
       " 'Sep 18 2010',\n",
       " 'Sep 25 2010',\n",
       " 'Oct 02 2010',\n",
       " 'Oct 09 2010',\n",
       " 'Oct 16 2010',\n",
       " 'Oct 23 2010',\n",
       " 'Nov 06 2010',\n",
       " 'Nov 13 2010',\n",
       " 'Nov 20 2010']"
      ]
     },
     "execution_count": 3,
     "metadata": {},
     "output_type": "execute_result"
    }
   ],
   "source": [
    "#libraries to use\n",
    "import pandas as pd\n",
    "import numpy as np\n",
    "import matplotlib.pyplot as plt\n",
    "import datetime as dt\n",
    "#python's lxml library parses xml and html files\n",
    "from lxml import html\n",
    "\n",
    "#use requests to get data from web pages\n",
    "import requests \n",
    "\n",
    "#use requests.get() to get web page with data\n",
    "page = requests.get('https://tennstate_ftp.sidearmsports.com/custompages/tsutigers/108733F9-E3AE-4C3D-95EE-76C09DDBE24B/teamgbg.htm')\n",
    "\n",
    "#parse data on web page using html module.fromstring\n",
    "mytree = html.fromstring(page.content)\n",
    "\n",
    "#go to web address above , right click on page and select inspect to get HTML code for data from right side of page\n",
    "#create XPath query and use xpath function to get data\n",
    "#date data\n",
    "date = mytree.xpath('body/center//tr/td/font[@color=\"#000000\"]/text()')[1:110:10]\n",
    "date=[a.replace(\"\\xa0\",\"\") for a in date]\n",
    "date=[a.replace(\",\",\"\") for a in date]\n",
    "date=[a.replace(\".\",\"\") for a in date]\n",
    "date=[a.replace(\"2 \",\"02 \") for a in date]\n",
    "date=[a.replace(\"9 \",\"09 \") for a in date]\n",
    "date"
   ]
  },
  {
   "cell_type": "code",
   "execution_count": 4,
   "metadata": {},
   "outputs": [
    {
     "data": {
      "text/plain": [
       "['22607',\n",
       " '44688',\n",
       " '8502',\n",
       " '54202',\n",
       " '35217',\n",
       " '10316',\n",
       " '15218',\n",
       " '6739',\n",
       " '21596',\n",
       " '3141',\n",
       " '2904']"
      ]
     },
     "execution_count": 4,
     "metadata": {},
     "output_type": "execute_result"
    }
   ],
   "source": [
    "#get attendance data\n",
    "attendance=mytree.xpath('body/center//tr/td/font[@color=\"#000000\"]/text()')[9:110:10]\n",
    "attendance=[a.replace(\"\\xa0\",\"\") for a in attendance]\n",
    "attendance=[a.strip() for a in attendance]\n",
    "attendance"
   ]
  },
  {
   "cell_type": "code",
   "execution_count": 5,
   "metadata": {},
   "outputs": [
    {
     "data": {
      "text/plain": [
       "['107', '224', '162', '304', '379', '152', '154', '158', '180', '72', '198']"
      ]
     },
     "execution_count": 5,
     "metadata": {},
     "output_type": "execute_result"
    }
   ],
   "source": [
    "#get TSU rushing yards\n",
    "TSUrushyards=mytree.xpath('body/center//tr/td/font[@color=\"#000000\"]/text()')[114:357:23]\n",
    "TSUrushyards=[a.replace(\"\\xa0\",\"\") for a in TSUrushyards]\n",
    "TSUrushyards"
   ]
  },
  {
   "cell_type": "code",
   "execution_count": 6,
   "metadata": {},
   "outputs": [
    {
     "data": {
      "text/plain": [
       "['127', '185', '225', '109', '142', '147', '65', '203', '277', '51', '289']"
      ]
     },
     "execution_count": 6,
     "metadata": {},
     "output_type": "execute_result"
    }
   ],
   "source": [
    "#get TSU receiving yards\n",
    "TSUreceiveyards=mytree.xpath('body/center//tr/td/font[@color=\"#000000\"]/text()')[118:360:23]\n",
    "TSUreceiveyards=[a.replace(\"\\xa0\",\"\") for a in TSUreceiveyards]\n",
    "TSUreceiveyards"
   ]
  },
  {
   "cell_type": "code",
   "execution_count": 7,
   "metadata": {},
   "outputs": [
    {
     "data": {
      "text/plain": [
       "['127', '133', '134', '33', '20', '90', '61', '56', '29', '116', '134']"
      ]
     },
     "execution_count": 7,
     "metadata": {},
     "output_type": "execute_result"
    }
   ],
   "source": [
    "#get TSU kick return yards\n",
    "TSUkreturnyards=mytree.xpath('body/center//tr/td/font[@color=\"#000000\"]/text()')[126:360:23]\n",
    "TSUkreturnyards=[a.replace(\"\\xa0\",\"\") for a in TSUkreturnyards]\n",
    "TSUkreturnyards"
   ]
  },
  {
   "cell_type": "code",
   "execution_count": 8,
   "metadata": {},
   "outputs": [
    {
     "data": {
      "text/plain": [
       "['36', '28', '25', '142', '13', '0', '-19', '1', '21', '2', '1']"
      ]
     },
     "execution_count": 8,
     "metadata": {},
     "output_type": "execute_result"
    }
   ],
   "source": [
    "#get TSU punt return yards\n",
    "TSUpreturnyards=mytree.xpath('body/center//tr/td/font[@color=\"#000000\"]/text()')[130:383:23]\n",
    "TSUpreturnyards=[a.replace(\"\\xa0\",\"\") for a in TSUpreturnyards]\n",
    "TSUpreturnyards"
   ]
  },
  {
   "cell_type": "code",
   "execution_count": 9,
   "metadata": {},
   "outputs": [
    {
     "data": {
      "text/plain": [
       "['64', '60', '57', '58', '66', '86', '66', '67', '66', '55', '65']"
      ]
     },
     "execution_count": 9,
     "metadata": {},
     "output_type": "execute_result"
    }
   ],
   "source": [
    "#get TSU total tackles\n",
    "TSUtackles=mytree.xpath('body/center//tr/td/font[@color=\"#000000\"]/text()')[414:644:22]\n",
    "TSUtackles=[a.replace(\"\\xa0\",\"\") for a in TSUtackles]\n",
    "TSUtackles"
   ]
  },
  {
   "cell_type": "code",
   "execution_count": 10,
   "metadata": {},
   "outputs": [
    {
     "data": {
      "text/plain": [
       "['42', '26', '24', '60', '34', '17', '11', '24', '19', '12', '30']"
      ]
     },
     "execution_count": 10,
     "metadata": {},
     "output_type": "execute_result"
    }
   ],
   "source": [
    "#get TSU tackle yards\n",
    "TSUtackleyd=mytree.xpath('body/center//tr/td/font[@color=\"#000000\"]/text()')[416:646:22]\n",
    "TSUtackleyd=[a.replace(\"\\xa0\",\"\") for a in TSUtackleyd]\n",
    "TSUtackleyd"
   ]
  },
  {
   "cell_type": "code",
   "execution_count": 11,
   "metadata": {},
   "outputs": [
    {
     "data": {
      "text/plain": [
       "['7.0', '0.0', '2.0', '8.0', '5.0', '1.0', '0.0', '1.0', '1.0', '1.0', '1.0']"
      ]
     },
     "execution_count": 11,
     "metadata": {},
     "output_type": "execute_result"
    }
   ],
   "source": [
    "#get TSU sacks\n",
    "TSUsacks=mytree.xpath('body/center//tr/td/font[@color=\"#000000\"]/text()')[417:646:22]\n",
    "TSUsacks=[a.replace(\"\\xa0\",\"\") for a in TSUsacks]\n",
    "TSUsacks"
   ]
  },
  {
   "cell_type": "code",
   "execution_count": 12,
   "metadata": {},
   "outputs": [
    {
     "data": {
      "text/plain": [
       "['40', '0', '13', '48', '31', '9', '0', '4', '7', '7', '4']"
      ]
     },
     "execution_count": 12,
     "metadata": {},
     "output_type": "execute_result"
    }
   ],
   "source": [
    "#get TSU sack yards\n",
    "TSUsackyd=mytree.xpath('body/center//tr/td/font[@color=\"#000000\"]/text()')[418:646:22]\n",
    "TSUsackyd=[a.replace(\"\\xa0\",\"\") for a in TSUsackyd]\n",
    "TSUsackyd"
   ]
  },
  {
   "cell_type": "code",
   "execution_count": 13,
   "metadata": {},
   "outputs": [
    {
     "data": {
      "text/plain": [
       "['6', '6', '3', '5', '4', '5', '8', '3', '7', '9', '5']"
      ]
     },
     "execution_count": 13,
     "metadata": {},
     "output_type": "execute_result"
    }
   ],
   "source": [
    "#TSU punts\n",
    "TSUpunt=mytree.xpath('body/center//tr/td/font[@color=\"#000000\"]/text()')[698:900:19]\n",
    "TSUpunt=[a.replace(\"\\xa0\",\"\") for a in TSUpunt]\n",
    "TSUpunt"
   ]
  },
  {
   "cell_type": "code",
   "execution_count": 14,
   "metadata": {},
   "outputs": [
    {
     "data": {
      "text/html": [
       "<div>\n",
       "<style scoped>\n",
       "    .dataframe tbody tr th:only-of-type {\n",
       "        vertical-align: middle;\n",
       "    }\n",
       "\n",
       "    .dataframe tbody tr th {\n",
       "        vertical-align: top;\n",
       "    }\n",
       "\n",
       "    .dataframe thead th {\n",
       "        text-align: right;\n",
       "    }\n",
       "</style>\n",
       "<table border=\"1\" class=\"dataframe\">\n",
       "  <thead>\n",
       "    <tr style=\"text-align: right;\">\n",
       "      <th></th>\n",
       "      <th>date</th>\n",
       "      <th>attendance</th>\n",
       "      <th>TSUrushyards</th>\n",
       "      <th>TSUreceiveyards</th>\n",
       "      <th>TSUkreturnyards</th>\n",
       "      <th>TSUpreturnyards</th>\n",
       "      <th>TSUtackles</th>\n",
       "      <th>TSUtackleyd</th>\n",
       "      <th>TSUsacks</th>\n",
       "      <th>TSUsackyd</th>\n",
       "      <th>TSUpunt</th>\n",
       "    </tr>\n",
       "  </thead>\n",
       "  <tbody>\n",
       "    <tr>\n",
       "      <th>0</th>\n",
       "      <td>Sep 04 2010</td>\n",
       "      <td>22607</td>\n",
       "      <td>107</td>\n",
       "      <td>127</td>\n",
       "      <td>127</td>\n",
       "      <td>36</td>\n",
       "      <td>64</td>\n",
       "      <td>42</td>\n",
       "      <td>7.0</td>\n",
       "      <td>40</td>\n",
       "      <td>6</td>\n",
       "    </tr>\n",
       "    <tr>\n",
       "      <th>1</th>\n",
       "      <td>Sep 11 2010</td>\n",
       "      <td>44688</td>\n",
       "      <td>224</td>\n",
       "      <td>185</td>\n",
       "      <td>133</td>\n",
       "      <td>28</td>\n",
       "      <td>60</td>\n",
       "      <td>26</td>\n",
       "      <td>0.0</td>\n",
       "      <td>0</td>\n",
       "      <td>6</td>\n",
       "    </tr>\n",
       "    <tr>\n",
       "      <th>2</th>\n",
       "      <td>Sep 18 2010</td>\n",
       "      <td>8502</td>\n",
       "      <td>162</td>\n",
       "      <td>225</td>\n",
       "      <td>134</td>\n",
       "      <td>25</td>\n",
       "      <td>57</td>\n",
       "      <td>24</td>\n",
       "      <td>2.0</td>\n",
       "      <td>13</td>\n",
       "      <td>3</td>\n",
       "    </tr>\n",
       "    <tr>\n",
       "      <th>3</th>\n",
       "      <td>Sep 25 2010</td>\n",
       "      <td>54202</td>\n",
       "      <td>304</td>\n",
       "      <td>109</td>\n",
       "      <td>33</td>\n",
       "      <td>142</td>\n",
       "      <td>58</td>\n",
       "      <td>60</td>\n",
       "      <td>8.0</td>\n",
       "      <td>48</td>\n",
       "      <td>5</td>\n",
       "    </tr>\n",
       "    <tr>\n",
       "      <th>4</th>\n",
       "      <td>Oct 02 2010</td>\n",
       "      <td>35217</td>\n",
       "      <td>379</td>\n",
       "      <td>142</td>\n",
       "      <td>20</td>\n",
       "      <td>13</td>\n",
       "      <td>66</td>\n",
       "      <td>34</td>\n",
       "      <td>5.0</td>\n",
       "      <td>31</td>\n",
       "      <td>4</td>\n",
       "    </tr>\n",
       "  </tbody>\n",
       "</table>\n",
       "</div>"
      ],
      "text/plain": [
       "          date attendance TSUrushyards TSUreceiveyards TSUkreturnyards  \\\n",
       "0  Sep 04 2010      22607          107             127             127   \n",
       "1  Sep 11 2010      44688          224             185             133   \n",
       "2  Sep 18 2010       8502          162             225             134   \n",
       "3  Sep 25 2010      54202          304             109              33   \n",
       "4  Oct 02 2010      35217          379             142              20   \n",
       "\n",
       "  TSUpreturnyards TSUtackles TSUtackleyd TSUsacks TSUsackyd TSUpunt  \n",
       "0              36         64          42      7.0        40       6  \n",
       "1              28         60          26      0.0         0       6  \n",
       "2              25         57          24      2.0        13       3  \n",
       "3             142         58          60      8.0        48       5  \n",
       "4              13         66          34      5.0        31       4  "
      ]
     },
     "execution_count": 14,
     "metadata": {},
     "output_type": "execute_result"
    }
   ],
   "source": [
    "#create data frame\n",
    "#change dictionary of lists to data frame\n",
    "list_of_dicts={'date':date,\n",
    "     'attendance':attendance,\n",
    "     'TSUrushyards':TSUrushyards,\n",
    "     'TSUreceiveyards':TSUreceiveyards,\n",
    "     'TSUkreturnyards':TSUkreturnyards,\n",
    "     'TSUpreturnyards':TSUpreturnyards,\n",
    "     'TSUtackles':TSUtackles,\n",
    "     'TSUtackleyd':TSUtackleyd,\n",
    "     'TSUsacks':TSUsacks,\n",
    "     'TSUsackyd':TSUsackyd,\n",
    "     'TSUpunt':TSUpunt}\n",
    "df2010=pd.DataFrame(list_of_dicts)\n",
    "df2010.head()"
   ]
  },
  {
   "cell_type": "code",
   "execution_count": 15,
   "metadata": {},
   "outputs": [
    {
     "data": {
      "text/html": [
       "<div>\n",
       "<style scoped>\n",
       "    .dataframe tbody tr th:only-of-type {\n",
       "        vertical-align: middle;\n",
       "    }\n",
       "\n",
       "    .dataframe tbody tr th {\n",
       "        vertical-align: top;\n",
       "    }\n",
       "\n",
       "    .dataframe thead th {\n",
       "        text-align: right;\n",
       "    }\n",
       "</style>\n",
       "<table border=\"1\" class=\"dataframe\">\n",
       "  <thead>\n",
       "    <tr style=\"text-align: right;\">\n",
       "      <th></th>\n",
       "      <th>date</th>\n",
       "      <th>attendance</th>\n",
       "      <th>TSUrushyards</th>\n",
       "      <th>TSUreceiveyards</th>\n",
       "      <th>TSUkreturnyards</th>\n",
       "      <th>TSUpreturnyards</th>\n",
       "      <th>TSUtackles</th>\n",
       "      <th>TSUtackleyd</th>\n",
       "      <th>TSUsacks</th>\n",
       "      <th>TSUsackyd</th>\n",
       "      <th>TSUpunt</th>\n",
       "      <th>month</th>\n",
       "      <th>day</th>\n",
       "      <th>year</th>\n",
       "    </tr>\n",
       "  </thead>\n",
       "  <tbody>\n",
       "    <tr>\n",
       "      <th>0</th>\n",
       "      <td>Sep 04 2010</td>\n",
       "      <td>22607</td>\n",
       "      <td>107</td>\n",
       "      <td>127</td>\n",
       "      <td>127</td>\n",
       "      <td>36</td>\n",
       "      <td>64</td>\n",
       "      <td>42</td>\n",
       "      <td>7.0</td>\n",
       "      <td>40</td>\n",
       "      <td>6</td>\n",
       "      <td>Sep</td>\n",
       "      <td>04</td>\n",
       "      <td>2010</td>\n",
       "    </tr>\n",
       "    <tr>\n",
       "      <th>1</th>\n",
       "      <td>Sep 11 2010</td>\n",
       "      <td>44688</td>\n",
       "      <td>224</td>\n",
       "      <td>185</td>\n",
       "      <td>133</td>\n",
       "      <td>28</td>\n",
       "      <td>60</td>\n",
       "      <td>26</td>\n",
       "      <td>0.0</td>\n",
       "      <td>0</td>\n",
       "      <td>6</td>\n",
       "      <td>Sep</td>\n",
       "      <td>11</td>\n",
       "      <td>2010</td>\n",
       "    </tr>\n",
       "    <tr>\n",
       "      <th>2</th>\n",
       "      <td>Sep 18 2010</td>\n",
       "      <td>8502</td>\n",
       "      <td>162</td>\n",
       "      <td>225</td>\n",
       "      <td>134</td>\n",
       "      <td>25</td>\n",
       "      <td>57</td>\n",
       "      <td>24</td>\n",
       "      <td>2.0</td>\n",
       "      <td>13</td>\n",
       "      <td>3</td>\n",
       "      <td>Sep</td>\n",
       "      <td>18</td>\n",
       "      <td>2010</td>\n",
       "    </tr>\n",
       "    <tr>\n",
       "      <th>3</th>\n",
       "      <td>Sep 25 2010</td>\n",
       "      <td>54202</td>\n",
       "      <td>304</td>\n",
       "      <td>109</td>\n",
       "      <td>33</td>\n",
       "      <td>142</td>\n",
       "      <td>58</td>\n",
       "      <td>60</td>\n",
       "      <td>8.0</td>\n",
       "      <td>48</td>\n",
       "      <td>5</td>\n",
       "      <td>Sep</td>\n",
       "      <td>25</td>\n",
       "      <td>2010</td>\n",
       "    </tr>\n",
       "    <tr>\n",
       "      <th>4</th>\n",
       "      <td>Oct 02 2010</td>\n",
       "      <td>35217</td>\n",
       "      <td>379</td>\n",
       "      <td>142</td>\n",
       "      <td>20</td>\n",
       "      <td>13</td>\n",
       "      <td>66</td>\n",
       "      <td>34</td>\n",
       "      <td>5.0</td>\n",
       "      <td>31</td>\n",
       "      <td>4</td>\n",
       "      <td>Oct</td>\n",
       "      <td>02</td>\n",
       "      <td>2010</td>\n",
       "    </tr>\n",
       "  </tbody>\n",
       "</table>\n",
       "</div>"
      ],
      "text/plain": [
       "          date attendance TSUrushyards TSUreceiveyards TSUkreturnyards  \\\n",
       "0  Sep 04 2010      22607          107             127             127   \n",
       "1  Sep 11 2010      44688          224             185             133   \n",
       "2  Sep 18 2010       8502          162             225             134   \n",
       "3  Sep 25 2010      54202          304             109              33   \n",
       "4  Oct 02 2010      35217          379             142              20   \n",
       "\n",
       "  TSUpreturnyards TSUtackles TSUtackleyd TSUsacks TSUsackyd TSUpunt month day  \\\n",
       "0              36         64          42      7.0        40       6   Sep  04   \n",
       "1              28         60          26      0.0         0       6   Sep  11   \n",
       "2              25         57          24      2.0        13       3   Sep  18   \n",
       "3             142         58          60      8.0        48       5   Sep  25   \n",
       "4              13         66          34      5.0        31       4   Oct  02   \n",
       "\n",
       "   year  \n",
       "0  2010  \n",
       "1  2010  \n",
       "2  2010  \n",
       "3  2010  \n",
       "4  2010  "
      ]
     },
     "execution_count": 15,
     "metadata": {},
     "output_type": "execute_result"
    }
   ],
   "source": [
    "#splitting date column into month, day, & year columns \n",
    "df2010[['month','day','year']]=df2010.date.str.split(expand=True)\n",
    "df2010.drop('date',axis=1)\n",
    "df2010.head()"
   ]
  },
  {
   "cell_type": "code",
   "execution_count": 16,
   "metadata": {},
   "outputs": [
    {
     "name": "stdout",
     "output_type": "stream",
     "text": [
      "<class 'pandas.core.frame.DataFrame'>\n",
      "RangeIndex: 11 entries, 0 to 10\n",
      "Data columns (total 12 columns):\n",
      " #   Column           Non-Null Count  Dtype         \n",
      "---  ------           --------------  -----         \n",
      " 0   date             11 non-null     datetime64[ns]\n",
      " 1   attendance       11 non-null     object        \n",
      " 2   TSUrushyards     11 non-null     object        \n",
      " 3   TSUreceiveyards  11 non-null     object        \n",
      " 4   TSUkreturnyards  11 non-null     object        \n",
      " 5   TSUpreturnyards  11 non-null     object        \n",
      " 6   TSUtackles       11 non-null     object        \n",
      " 7   TSUtackleyd      11 non-null     object        \n",
      " 8   TSUsacks         11 non-null     object        \n",
      " 9   TSUsackyd        11 non-null     object        \n",
      " 10  TSUpunt          11 non-null     object        \n",
      " 11  year             11 non-null     int64         \n",
      "dtypes: datetime64[ns](1), int64(1), object(10)\n",
      "memory usage: 1.2+ KB\n"
     ]
    }
   ],
   "source": [
    "#create a new date variable\n",
    "#change month variable to a 2 digit string variable\n",
    "df2010['month'] = df2010['month'].str.replace('Aug','08')\n",
    "df2010['month'] = df2010['month'].str.replace('Sep','09')\n",
    "df2010['month'] = df2010['month'].str.replace('Oct','10')\n",
    "df2010['month'] = df2010['month'].str.replace('Nov','11')\n",
    "df2010['month'] = df2010['month'].str.replace('Dec','12')\n",
    "#merge month,day and year variables\n",
    "df2010['date']=df2010['year']+ '-' +df2010['month']+ '-'+df2010['day']\n",
    "#make date into a datetime variable\n",
    "df2010['date']= pd.to_datetime(df2010['date'], format='%Y-%m-%d')\n",
    "#drop individual month,day, variables (keep year variable for later analysis)\n",
    "df2010=df2010.drop(['month','day'], axis=1)\n",
    "#make year numeric\n",
    "df2010['year']=pd.to_numeric(df2010['year'])\n",
    "df2010.info()"
   ]
  },
  {
   "cell_type": "code",
   "execution_count": null,
   "metadata": {},
   "outputs": [],
   "source": []
  },
  {
   "cell_type": "code",
   "execution_count": null,
   "metadata": {},
   "outputs": [],
   "source": []
  }
 ],
 "metadata": {
  "kernelspec": {
   "display_name": "Python 3",
   "language": "python",
   "name": "python3"
  },
  "language_info": {
   "codemirror_mode": {
    "name": "ipython",
    "version": 3
   },
   "file_extension": ".py",
   "mimetype": "text/x-python",
   "name": "python",
   "nbconvert_exporter": "python",
   "pygments_lexer": "ipython3",
   "version": "3.8.5"
  }
 },
 "nbformat": 4,
 "nbformat_minor": 4
}
