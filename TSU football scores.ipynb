{
 "cells": [
  {
   "cell_type": "code",
   "execution_count": 287,
   "metadata": {},
   "outputs": [],
   "source": [
    "#importing libraries for project\n",
    "#python's lxml library parses xml and html files\n",
    "from lxml import html\n",
    "#use requests to get data from web pages\n",
    "import requests\n",
    "import pandas as pd\n",
    "import numpy as np\n",
    "import matplotlib.pyplot as plt\n",
    "import datetime as dt"
   ]
  },
  {
   "cell_type": "code",
   "execution_count": 288,
   "metadata": {},
   "outputs": [
    {
     "data": {
      "text/plain": [
       "['Nov 23, 2019\\xa0\\xa0',\n",
       " 'Cookeville, Tenn.   \\xa0\\xa0',\n",
       " 'Tennessee State 37, Tennessee Tech 27\\xa0\\xa0',\n",
       " '\\xa0',\n",
       " 'Nov 16, 2019\\xa0\\xa0',\n",
       " 'Martin, Tenn.       \\xa0\\xa0',\n",
       " 'UT Martin 28, Tennessee State 17\\xa0\\xa0',\n",
       " '\\xa0',\n",
       " 'Nov 09, 2019\\xa0\\xa0',\n",
       " 'Nashville, Tenn.    \\xa0\\xa0',\n",
       " 'EIU 49, Tennessee State 38\\xa0\\xa0',\n",
       " '\\xa0',\n",
       " 'Nov 02, 2019\\xa0\\xa0',\n",
       " 'Nashville, Tenn.    \\xa0\\xa0',\n",
       " 'SEMO 32, Tennessee State 13\\xa0\\xa0',\n",
       " '\\xa0',\n",
       " 'Oct 19, 2019\\xa0\\xa0',\n",
       " 'Nashville, Tenn.    \\xa0\\xa0',\n",
       " 'Tennessee State 26, Austin Peay 24\\xa0\\xa0',\n",
       " '\\xa0',\n",
       " 'Oct 12, 2019\\xa0\\xa0',\n",
       " 'Nashville, Tenn.    \\xa0\\xa0',\n",
       " 'Murray State 31, Tennessee State 17\\xa0\\xa0',\n",
       " '\\xa0',\n",
       " 'Oct 05, 2019\\xa0\\xa0',\n",
       " 'Jacksonville, Ala.  \\xa0\\xa0',\n",
       " 'Jacksonville State 31, Tennessee State 23\\xa0\\xa0',\n",
       " '\\xa0',\n",
       " 'Sep 28, 2019\\xa0\\xa0',\n",
       " 'Richmond, Ky.       \\xa0\\xa0',\n",
       " 'Eastern Kentucky 42, Tennessee State 16\\xa0\\xa0',\n",
       " '\\xa0',\n",
       " 'Sep 21, 2019\\xa0\\xa0',\n",
       " 'Nashville, Tenn.    \\xa0\\xa0',\n",
       " 'UAPB 37, Tennessee State 31\\xa0\\xa0',\n",
       " '\\xa0',\n",
       " 'Sep 14, 2019\\xa0\\xa0',\n",
       " 'Memphis, Tenn.      \\xa0\\xa0',\n",
       " 'Jackson State 49, Tennessee State 44\\xa0\\xa0',\n",
       " '\\xa0',\n",
       " 'Sep 7, 2019 \\xa0\\xa0',\n",
       " 'Murfreesboro, TN    \\xa0\\xa0',\n",
       " 'Middle Tennessee 45, Tennessee State 26\\xa0\\xa0',\n",
       " '\\xa0',\n",
       " 'Aug 31, 2019\\xa0\\xa0',\n",
       " 'Nashville, Tenn.    \\xa0\\xa0',\n",
       " 'Tennessee State 26, Mississippi Valley 20\\xa0\\xa0',\n",
       " '\\xa0']"
      ]
     },
     "execution_count": 288,
     "metadata": {},
     "output_type": "execute_result"
    }
   ],
   "source": [
    "#2019 data\n",
    "#use requests.get() to get web page with 2019 data\n",
    "page = requests.get('https://tennstate_ftp.sidearmsports.com/custompages/tsutigers/E018AECE-A1B8-46E7-B1B7-46FE1BCEBFB6/teamstat.htm')\n",
    "#parse data on web page using html module.fromstring\n",
    "mytree = html.fromstring(page.content)\n",
    "#go to web address above , right click on page and select inspect to get HTML code for data from right side of page\n",
    "#create XPath query and use xpath function to get list of data from web page\n",
    "schedule2019 = mytree.xpath('body//tr/td/font[@color=\"#000000\"]/text()')\n",
    "#look at list\n",
    "schedule2019"
   ]
  },
  {
   "cell_type": "code",
   "execution_count": 289,
   "metadata": {},
   "outputs": [
    {
     "data": {
      "text/plain": [
       "['Nov 23 2019',\n",
       " 'Cookeville Tenn',\n",
       " 'Tennessee State 37 Tennessee Tech 27',\n",
       " '',\n",
       " 'Nov 16 2019',\n",
       " 'Martin Tenn',\n",
       " 'Tennessee Martin 28 Tennessee State 17',\n",
       " '',\n",
       " 'Nov 09 2019',\n",
       " 'Nashville Tenn',\n",
       " 'Eastern Illinois 49 Tennessee State 38',\n",
       " '',\n",
       " 'Nov 02 2019',\n",
       " 'Nashville Tenn',\n",
       " 'Southeast Missouri 32 Tennessee State 13',\n",
       " '',\n",
       " 'Oct 19 2019',\n",
       " 'Nashville Tenn',\n",
       " 'Tennessee State 26 Austin Peay 24',\n",
       " '',\n",
       " 'Oct 12 2019',\n",
       " 'Nashville Tenn',\n",
       " 'Murray State 31 Tennessee State 17',\n",
       " '',\n",
       " 'Oct 05 2019',\n",
       " 'Jacksonville Ala',\n",
       " 'Jacksonville State 31 Tennessee State 23',\n",
       " '',\n",
       " 'Sep 28 2019',\n",
       " 'Richmond Ky',\n",
       " 'Eastern Kentucky 42 Tennessee State 16',\n",
       " '',\n",
       " 'Sep 21 2019',\n",
       " 'Nashville Tenn',\n",
       " 'Pine Bluff 37 Tennessee State 31',\n",
       " '',\n",
       " 'Sep 14 2019',\n",
       " 'Memphis Tenn',\n",
       " 'Jackson State 49 Tennessee State 44',\n",
       " '',\n",
       " 'Sep 7 2019',\n",
       " 'Murfreesboro TN',\n",
       " 'Middle Tennessee 45 Tennessee State 26',\n",
       " '',\n",
       " 'Aug 31 2019',\n",
       " 'Nashville Tenn',\n",
       " 'Tennessee State 26 Mississippi Valley 20',\n",
       " '']"
      ]
     },
     "execution_count": 289,
     "metadata": {},
     "output_type": "execute_result"
    }
   ],
   "source": [
    "#get rid of extra text and spaces in list\n",
    "#put text for school name and city into format that's compatible for data frame\n",
    "schedule2019=[s.replace(\"UAPB\",\"Pine Bluff\") for s in schedule2019]\n",
    "schedule2019=[t.replace(\"SEMO\",\"Southeast Missouri\") for t in schedule2019]\n",
    "schedule2019=[u.replace(\"EIU\",\"Eastern Illinois\") for u in schedule2019]\n",
    "schedule2019=[v.replace(\"UT\",\"Tennessee\") for v in schedule2019]\n",
    "schedule2019=[w.replace(\".\", \"\") for w in schedule2019]\n",
    "schedule2019=[x.replace(\"\\xa0\", \"\") for x in schedule2019]\n",
    "schedule2019=[y.replace(\",\",\"\") for y in schedule2019]\n",
    "schedule2019=[z.strip() for z in schedule2019]\n",
    "schedule2019"
   ]
  },
  {
   "cell_type": "code",
   "execution_count": 290,
   "metadata": {},
   "outputs": [
    {
     "data": {
      "text/plain": [
       "['Nov 17, 2018\\xa0\\xa0',\n",
       " 'Nashville, Tenn.    \\xa0\\xa0',\n",
       " 'Tennessee State 31, UTM 28\\xa0\\xa0',\n",
       " '\\xa0',\n",
       " 'Nov 10, 2018\\xa0\\xa0',\n",
       " 'Nashville, Tenn.    \\xa0\\xa0',\n",
       " 'Jacksonville State 41, Tennessee State 14\\xa0\\xa0',\n",
       " '\\xa0',\n",
       " '11-03-18    \\xa0\\xa0',\n",
       " 'Cape Girardeau, Mo. \\xa0\\xa0',\n",
       " 'Southeast Missouri 38, Tennessee State 21\\xa0\\xa0',\n",
       " '\\xa0',\n",
       " 'Oct 20, 2018\\xa0\\xa0',\n",
       " 'Nashville, TN       \\xa0\\xa0',\n",
       " 'Tennessee State 41, Tennessee Tech 14\\xa0\\xa0',\n",
       " '\\xa0',\n",
       " 'Oct 13, 2018\\xa0\\xa0',\n",
       " 'Murray, Ky.         \\xa0\\xa0',\n",
       " 'Murray St. 45, Tennessee State 21\\xa0\\xa0',\n",
       " '\\xa0',\n",
       " 'Oct 06, 2018\\xa0\\xa0',\n",
       " 'Clarksville, Tenn.  \\xa0\\xa0',\n",
       " 'Austin Peay 49, Tennessee State 34\\xa0\\xa0',\n",
       " '\\xa0',\n",
       " 'Sep 29, 2018\\xa0\\xa0',\n",
       " 'Nashville, Tenn.    \\xa0\\xa0',\n",
       " 'Vanderbilt 31, Tennessee State 27\\xa0\\xa0',\n",
       " '\\xa0',\n",
       " 'Sep 22, 2018\\xa0\\xa0',\n",
       " 'Charleston, Ill.    \\xa0\\xa0',\n",
       " 'Tennessee State 41, Eastern Illinois 40\\xa0\\xa0',\n",
       " '\\xa0',\n",
       " 'Sep 01, 2018\\xa0\\xa0',\n",
       " 'Nashville, Tenn.    \\xa0\\xa0',\n",
       " 'Tennessee State 34, Bethune-Cookman 3\\xa0\\xa0',\n",
       " '\\xa0']"
      ]
     },
     "execution_count": 290,
     "metadata": {},
     "output_type": "execute_result"
    }
   ],
   "source": [
    "#2018 data\n",
    "#use requests.get() to get web page with 2018 data\n",
    "page = requests.get('https://tennstate_ftp.sidearmsports.com/custompages/tsutigers/125803E8-C113-4C2F-890C-645D4ED8B38B/teamstat.htm')\n",
    "#parse data on web page using html module.fromstring\n",
    "mytree = html.fromstring(page.content)\n",
    "#go to web address above , right click on page and select inspect to get HTML code for data from right side of page\n",
    "#create XPath query and use xpath function to get list of data from web page\n",
    "schedule2018 = mytree.xpath('body//tr/td/font[@color=\"#000000\"]/text()')\n",
    "#look at list\n",
    "schedule2018"
   ]
  },
  {
   "cell_type": "code",
   "execution_count": 291,
   "metadata": {},
   "outputs": [
    {
     "data": {
      "text/plain": [
       "['Nov 17 2018',\n",
       " 'Nashville Tenn',\n",
       " 'Tennessee State 31 Tennessee Martin 28',\n",
       " '',\n",
       " 'Nov 10 2018',\n",
       " 'Nashville Tenn',\n",
       " 'Jacksonville State 41 Tennessee State 14',\n",
       " '',\n",
       " 'Nov 11 2018',\n",
       " 'CapeGirardeau Mo',\n",
       " 'Southeast Missouri 38 Tennessee State 21',\n",
       " '',\n",
       " 'Oct 20 2018',\n",
       " 'Nashville TN',\n",
       " 'Tennessee State 41 Tennessee Tech 14',\n",
       " '',\n",
       " 'Oct 13 2018',\n",
       " 'Murray Ky',\n",
       " 'Murray St 45 Tennessee State 21',\n",
       " '',\n",
       " 'Oct 06 2018',\n",
       " 'Clarksville Tenn',\n",
       " 'Austin Peay 49 Tennessee State 34',\n",
       " '',\n",
       " 'Sep 29 2018',\n",
       " 'Nashville Tenn',\n",
       " 'Vanderbilt University 31 Tennessee State 27',\n",
       " '',\n",
       " 'Sep 22 2018',\n",
       " 'Charleston Ill',\n",
       " 'Tennessee State 41 Eastern Illinois 40',\n",
       " '',\n",
       " 'Sep 01 2018',\n",
       " 'Nashville Tenn',\n",
       " 'Tennessee State 34 Bethune Cookman 3',\n",
       " '']"
      ]
     },
     "execution_count": 291,
     "metadata": {},
     "output_type": "execute_result"
    }
   ],
   "source": [
    "#get rid of extra text and spaces in list\n",
    "#put text for date, school name and city into format that's compatible for data frame\n",
    "schedule2018=[q.replace('Vanderbilt','Vanderbilt University') for q in schedule2018]\n",
    "schedule2018=[p.replace('Cape Girardeau','CapeGirardeau') for p in schedule2018]\n",
    "schedule2018=[r.replace('11-03-18','Nov 11 2018') for r in schedule2018]\n",
    "schedule2018=[s.replace(\"UTM\",\"Tennessee Martin\") for s in schedule2018]\n",
    "schedule2018=[t.replace(\"SEMO\",\"Southeast Missouri\") for t in schedule2018]\n",
    "schedule2018=[u.replace(\"Bethune-Cookman\",\"Bethune Cookman\") for u in schedule2018]\n",
    "schedule2018=[w.replace(\".\", \"\") for w in schedule2018]\n",
    "schedule2018=[x.replace(\"\\xa0\", \"\") for x in schedule2018]\n",
    "schedule2018=[y.replace(\",\",\"\") for y in schedule2018]\n",
    "schedule2018=[z.strip() for z in schedule2018]\n",
    "schedule2018"
   ]
  },
  {
   "cell_type": "code",
   "execution_count": 292,
   "metadata": {},
   "outputs": [
    {
     "data": {
      "text/plain": [
       "['Nov 16, 2017\\xa0\\xa0',\n",
       " 'Jacksonville, Ala.  \\xa0\\xa0',\n",
       " 'Jacksonville State 36, Tennessee State 6\\xa0\\xa0',\n",
       " '\\xa0',\n",
       " 'Nov 11, 2017\\xa0\\xa0',\n",
       " 'Nashville, Tenn.    \\xa0\\xa0',\n",
       " 'Tennessee State 23, SEMO 20\\xa0\\xa0',\n",
       " '\\xa0',\n",
       " 'Nov 04, 2017\\xa0\\xa0',\n",
       " 'Nashville, Tenn.    \\xa0\\xa0',\n",
       " 'Tennessee State 60, VUL 0\\xa0\\xa0',\n",
       " '\\xa0',\n",
       " 'Oct 28, 2017\\xa0\\xa0',\n",
       " 'Cookeville, Tenn.   \\xa0\\xa0',\n",
       " 'Tennessee Tech 30, Tennessee State 26\\xa0\\xa0',\n",
       " '\\xa0',\n",
       " 'Oct 14, 2017\\xa0\\xa0',\n",
       " 'Nashville, Tenn.    \\xa0\\xa0',\n",
       " 'Austin Peay 21, Tennessee State 17\\xa0\\xa0',\n",
       " '\\xa0',\n",
       " 'Oct 07, 2017\\xa0\\xa0',\n",
       " 'Richmond, Ky.       \\xa0\\xa0',\n",
       " 'Tennessee State 45, Eastern Kentucky 21\\xa0\\xa0',\n",
       " '\\xa0',\n",
       " 'Sep 30, 2017\\xa0\\xa0',\n",
       " 'Nashville, Tenn.    \\xa0\\xa0',\n",
       " 'Eastern Illinois 19, Tennessee State 16\\xa0\\xa0',\n",
       " '\\xa0',\n",
       " 'Sep 23, 2017\\xa0\\xa0',\n",
       " 'Martin, Tenn.       \\xa0\\xa0',\n",
       " 'UT Martin 31, Tennessee State 16\\xa0\\xa0',\n",
       " '\\xa0',\n",
       " 'Sep 17, 2017\\xa0\\xa0',\n",
       " 'Tampa, Fla          \\xa0\\xa0',\n",
       " 'Tennessee State 24, Florida A&M 13\\xa0\\xa0',\n",
       " '\\xa0',\n",
       " 'Sep 09, 2017\\xa0\\xa0',\n",
       " 'Memphis, Tenn.      \\xa0\\xa0',\n",
       " 'Tennessee State 17, Jackson State 15\\xa0\\xa0',\n",
       " '\\xa0',\n",
       " 'Aug 31, 2017\\xa0\\xa0',\n",
       " 'Atlanta, Ga.        \\xa0\\xa0',\n",
       " 'Tennessee State 17, Georgia State 10\\xa0\\xa0',\n",
       " '\\xa0']"
      ]
     },
     "execution_count": 292,
     "metadata": {},
     "output_type": "execute_result"
    }
   ],
   "source": [
    "#2017 data\n",
    "#use requests.get() to get web page with 2017 data\n",
    "page = requests.get('https://tennstate_ftp.sidearmsports.com/custompages/tsutigers/1EEBECA9-B01E-43AB-B6EB-AFDBF863957B/teamstat.htm')\n",
    "#parse data on web page using html module.fromstring\n",
    "mytree = html.fromstring(page.content)\n",
    "#go to web address above , right click on page and select inspect to get HTML code for data from right side of page\n",
    "#create XPath query and use xpath function to get list of data from web page\n",
    "schedule2017 = mytree.xpath('body//tr/td/font[@color=\"#000000\"]/text()')\n",
    "#look at list\n",
    "schedule2017"
   ]
  },
  {
   "cell_type": "code",
   "execution_count": 293,
   "metadata": {},
   "outputs": [
    {
     "data": {
      "text/plain": [
       "['Nov 16 2017',\n",
       " 'Jacksonville Ala',\n",
       " 'Jacksonville State 36 Tennessee State 6',\n",
       " '',\n",
       " 'Nov 11 2017',\n",
       " 'Nashville Tenn',\n",
       " 'Tennessee State 23 Southeast Missouri 20',\n",
       " '',\n",
       " 'Nov 04 2017',\n",
       " 'Nashville Tenn',\n",
       " 'Tennessee State 60 VirginiaU Lynchburg 0',\n",
       " '',\n",
       " 'Oct 28 2017',\n",
       " 'Cookeville Tenn',\n",
       " 'Tennessee Tech 30 Tennessee State 26',\n",
       " '',\n",
       " 'Oct 14 2017',\n",
       " 'Nashville Tenn',\n",
       " 'Austin Peay 21 Tennessee State 17',\n",
       " '',\n",
       " 'Oct 07 2017',\n",
       " 'Richmond Ky',\n",
       " 'Tennessee State 45 Eastern Kentucky 21',\n",
       " '',\n",
       " 'Sep 30 2017',\n",
       " 'Nashville Tenn',\n",
       " 'Eastern Illinois 19 Tennessee State 16',\n",
       " '',\n",
       " 'Sep 23 2017',\n",
       " 'Martin Tenn',\n",
       " 'Tennessee Martin 31 Tennessee State 16',\n",
       " '',\n",
       " 'Sep 17 2017',\n",
       " 'Tampa Fla',\n",
       " 'Tennessee State 24 Florida A&M 13',\n",
       " '',\n",
       " 'Sep 09 2017',\n",
       " 'Memphis Tenn',\n",
       " 'Tennessee State 17 Jackson State 15',\n",
       " '',\n",
       " 'Aug 31 2017',\n",
       " 'Atlanta Ga',\n",
       " 'Tennessee State 17 Georgia State 10',\n",
       " '']"
      ]
     },
     "execution_count": 293,
     "metadata": {},
     "output_type": "execute_result"
    }
   ],
   "source": [
    "#get rid of extra text and spaces in list\n",
    "#put text for school name and city into format that's compatible for data frame\n",
    "schedule2017=[t.replace(\"VUL\", \"VirginiaU Lynchburg\") for t in schedule2017]\n",
    "schedule2017=[u.replace(\"SEMO\",\"Southeast Missouri\") for u in schedule2017]\n",
    "schedule2017=[v.replace(\"UT\",\"Tennessee\")for v in schedule2017]\n",
    "schedule2017=[w.replace(\".\", \"\") for w in schedule2017]\n",
    "schedule2017=[x.replace(\"\\xa0\", \"\") for x in schedule2017]\n",
    "schedule2017=[y.replace(\",\",\"\") for y in schedule2017]\n",
    "schedule2017=[z.strip() for z in schedule2017]\n",
    "schedule2017"
   ]
  },
  {
   "cell_type": "code",
   "execution_count": 294,
   "metadata": {},
   "outputs": [
    {
     "data": {
      "text/plain": [
       "['11-19-16    \\xa0\\xa0',\n",
       " 'Cape Girardeau, Mo. \\xa0\\xa0',\n",
       " 'Tennessee State 32, Southeast Missouri 31\\xa0\\xa0',\n",
       " '\\xa0',\n",
       " 'Nov 12, 2016\\xa0\\xa0',\n",
       " 'Nashville, TN       \\xa0\\xa0',\n",
       " 'Tennessee Tech 44, Tennessee State 16\\xa0\\xa0',\n",
       " '\\xa0',\n",
       " 'Nov 05, 2016\\xa0\\xa0',\n",
       " 'Clarksville, Tenn.  \\xa0\\xa0',\n",
       " 'Tennessee State 41, Austin Peay 40\\xa0\\xa0',\n",
       " '\\xa0',\n",
       " 'Oct 29, 2016\\xa0\\xa0',\n",
       " 'Murray, Ky.         \\xa0\\xa0',\n",
       " 'Murray St. 38, Tennessee State 31\\xa0\\xa0',\n",
       " '\\xa0',\n",
       " 'Oct 22, 2016\\xa0\\xa0',\n",
       " 'Nashville, Tenn.    \\xa0\\xa0',\n",
       " 'Vanderbilt 35, Tennessee State 17\\xa0\\xa0',\n",
       " '\\xa0',\n",
       " 'Oct 15, 2016\\xa0\\xa0',\n",
       " 'Nashville, Tenn.    \\xa0\\xa0',\n",
       " 'Tennessee State 35, Eastern Kentucky 28\\xa0\\xa0',\n",
       " '\\xa0',\n",
       " 'Oct 08, 2016\\xa0\\xa0',\n",
       " 'Charleston, Ill.    \\xa0\\xa0',\n",
       " 'Eastern Illinois 35, Tennessee State 34\\xa0\\xa0',\n",
       " '\\xa0',\n",
       " 'Oct 01, 2016\\xa0\\xa0',\n",
       " 'Nashville, Tenn.    \\xa0\\xa0',\n",
       " 'Tennessee State 34, UT Martin 30\\xa0\\xa0',\n",
       " '\\xa0',\n",
       " 'Sep 17, 2016\\xa0\\xa0',\n",
       " 'Daytona Beach, Fla. \\xa0\\xa0',\n",
       " 'Tennessee State 31, Bethune-Cookman 24\\xa0\\xa0',\n",
       " '\\xa0',\n",
       " 'Sep 10, 2016\\xa0\\xa0',\n",
       " 'Memphis, Tenn.      \\xa0\\xa0',\n",
       " 'Tennessee State 40, Jackson State 26\\xa0\\xa0',\n",
       " '\\xa0',\n",
       " 'Sep 03, 2016\\xa0\\xa0',\n",
       " 'Nashville, Tenn.    \\xa0\\xa0',\n",
       " 'Tennessee State 44, Arkansas-Pine Bluff 0\\xa0\\xa0',\n",
       " '\\xa0']"
      ]
     },
     "execution_count": 294,
     "metadata": {},
     "output_type": "execute_result"
    }
   ],
   "source": [
    "#2016 data\n",
    "#use requests.get() to get web page with 2016 data\n",
    "page = requests.get('https://tennstate_ftp.sidearmsports.com/custompages/tsutigers/F8A9B17C-4555-45FB-AAF3-D88956A7F089/teamstat.htm')\n",
    "#parse data on web page using html module.fromstring\n",
    "mytree = html.fromstring(page.content)\n",
    "#go to web address above , right click on page and select inspect to get HTML code for data from right side of page\n",
    "#create XPath query and use xpath function to get list of data from web page\n",
    "schedule2016 = mytree.xpath('body//tr/td/font[@color=\"#000000\"]/text()')\n",
    "#look at list\n",
    "schedule2016"
   ]
  },
  {
   "cell_type": "code",
   "execution_count": 295,
   "metadata": {},
   "outputs": [
    {
     "data": {
      "text/plain": [
       "['Nov 19 2016',\n",
       " 'CapeGirardeau Mo',\n",
       " 'Tennessee State 32 Southeast Missouri 31',\n",
       " '',\n",
       " 'Nov 12 2016',\n",
       " 'Nashville TN',\n",
       " 'Tennessee Tech 44 Tennessee State 16',\n",
       " '',\n",
       " 'Nov 05 2016',\n",
       " 'Clarksville Tenn',\n",
       " 'Tennessee State 41 Austin Peay 40',\n",
       " '',\n",
       " 'Oct 29 2016',\n",
       " 'Murray Ky',\n",
       " 'Murray St 38 Tennessee State 31',\n",
       " '',\n",
       " 'Oct 22 2016',\n",
       " 'Nashville Tenn',\n",
       " 'Vanderbilt University 35 Tennessee State 17',\n",
       " '',\n",
       " 'Oct 15 2016',\n",
       " 'Nashville Tenn',\n",
       " 'Tennessee State 35 Eastern Kentucky 28',\n",
       " '',\n",
       " 'Oct 08 2016',\n",
       " 'Charleston Ill',\n",
       " 'Eastern Illinois 35 Tennessee State 34',\n",
       " '',\n",
       " 'Oct 01 2016',\n",
       " 'Nashville Tenn',\n",
       " 'Tennessee State 34 Tennessee Martin 30',\n",
       " '',\n",
       " 'Sep 17 2016',\n",
       " 'DaytonaBeach Fla',\n",
       " 'Tennessee State 31 Bethune Cookman 24',\n",
       " '',\n",
       " 'Sep 10 2016',\n",
       " 'Memphis Tenn',\n",
       " 'Tennessee State 40 Jackson State 26',\n",
       " '',\n",
       " 'Sep 03 2016',\n",
       " 'Nashville Tenn',\n",
       " 'Tennessee State 44 Arkansas PineBluff 0',\n",
       " '']"
      ]
     },
     "execution_count": 295,
     "metadata": {},
     "output_type": "execute_result"
    }
   ],
   "source": [
    "#get rid of extra text and spaces in list\n",
    "#put text for date,school name and city into format that's compatible for data frame\n",
    "schedule2016=[o.replace('Pine Bluff',\"PineBluff\") for o in schedule2016]\n",
    "schedule2016=[p.replace('11-19-16','Nov 19 2016') for p in schedule2016]\n",
    "schedule2016=[r.replace('Cape Girardeau','CapeGirardeau') for r in schedule2016]\n",
    "schedule2016=[s.replace(\"Vanderbilt\",\"Vanderbilt University\") for s in schedule2016]\n",
    "schedule2016=[t.replace(\"UT\",\"Tennessee\") for t in schedule2016]\n",
    "schedule2016=[u.replace(\"Daytona Beach\", \"DaytonaBeach\") for u in schedule2016]\n",
    "schedule2016=[v.replace(\"-\",\" \") for v in schedule2016]\n",
    "schedule2016=[w.replace(\".\", \"\") for w in schedule2016]\n",
    "schedule2016=[x.replace(\"\\xa0\", \"\") for x in schedule2016]\n",
    "schedule2016=[y.replace(\",\",\"\") for y in schedule2016]\n",
    "schedule2016=[z.strip() for z in schedule2016]\n",
    "schedule2016"
   ]
  },
  {
   "cell_type": "code",
   "execution_count": 296,
   "metadata": {},
   "outputs": [
    {
     "data": {
      "text/plain": [
       "['Nov 21, 2015\\xa0\\xa0',\n",
       " 'Cookeville, Tenn.   \\xa0\\xa0',\n",
       " 'Tennessee Tech 30, Tennessee State 24\\xa0\\xa0',\n",
       " '\\xa0',\n",
       " 'Nov 07, 2015\\xa0\\xa0',\n",
       " 'Nashville, Tenn.    \\xa0\\xa0',\n",
       " 'Murray State 46, Tennessee State 43\\xa0\\xa0',\n",
       " '\\xa0',\n",
       " 'Oct 31, 2015\\xa0\\xa0',\n",
       " 'Nashville, Tenn.    \\xa0\\xa0',\n",
       " 'Tennessee State 20, Austin Peay 6\\xa0\\xa0',\n",
       " '\\xa0',\n",
       " 'Oct 24, 2015\\xa0\\xa0',\n",
       " 'Richmond, Ky.       \\xa0\\xa0',\n",
       " 'Eastern Kentucky 45, Tennessee State 21\\xa0\\xa0',\n",
       " '\\xa0',\n",
       " 'Oct 17, 2015\\xa0\\xa0',\n",
       " 'Nashville, Tenn.    \\xa0\\xa0',\n",
       " 'Eastern Illinois 25, Tennessee State 22\\xa0\\xa0',\n",
       " '\\xa0',\n",
       " 'Oct 10, 2015\\xa0\\xa0',\n",
       " 'Martin, Tenn.       \\xa0\\xa0',\n",
       " 'UT Martin 28, Tennessee State 14\\xa0\\xa0',\n",
       " '\\xa0',\n",
       " 'Sep 26, 2015\\xa0\\xa0',\n",
       " 'Tallahassee, Fla.   \\xa0\\xa0',\n",
       " 'Tennessee State 30, FAMU 14\\xa0\\xa0',\n",
       " '\\xa0',\n",
       " 'Sep 19, 2015\\xa0\\xa0',\n",
       " 'Jacksonville, Ala.  \\xa0\\xa0',\n",
       " 'Jacksonville State 48, Tennessee State 13\\xa0\\xa0',\n",
       " '\\xa0',\n",
       " 'Sep 12, 2015\\xa0\\xa0',\n",
       " 'Memphis, TN         \\xa0\\xa0',\n",
       " 'Tennessee State 35, Jackson State Tigers 25\\xa0\\xa0',\n",
       " '\\xa0',\n",
       " 'Sep 06, 2015\\xa0\\xa0',\n",
       " 'Nashville, Tenn.    \\xa0\\xa0',\n",
       " 'Tennessee State 24, Alabama State 14\\xa0\\xa0',\n",
       " '\\xa0']"
      ]
     },
     "execution_count": 296,
     "metadata": {},
     "output_type": "execute_result"
    }
   ],
   "source": [
    "#2015 data\n",
    "#use requests.get() to get web page with 2015 data\n",
    "page = requests.get('https://tennstate_ftp.sidearmsports.com/custompages/tsutigers/B8713968-6888-4BB4-B12E-9BA4C76282AC/teamstat.htm')\n",
    "#parse data on web page using html module.fromstring\n",
    "mytree = html.fromstring(page.content)\n",
    "#go to web address above , right click on page and select inspect to get HTML code for data from right side of page\n",
    "#create XPath query and use xpath function to get list of data from web page\n",
    "schedule2015 = mytree.xpath('body//tr/td/font[@color=\"#000000\"]/text()')\n",
    "#look at list\n",
    "schedule2015"
   ]
  },
  {
   "cell_type": "code",
   "execution_count": 297,
   "metadata": {},
   "outputs": [
    {
     "data": {
      "text/plain": [
       "['Nov 21 2015',\n",
       " 'Cookeville Tenn',\n",
       " 'Tennessee Tech 30 Tennessee State 24',\n",
       " '',\n",
       " 'Nov 07 2015',\n",
       " 'Nashville Tenn',\n",
       " 'Murray State 46 Tennessee State 43',\n",
       " '',\n",
       " 'Oct 31 2015',\n",
       " 'Nashville Tenn',\n",
       " 'Tennessee State 20 Austin Peay 6',\n",
       " '',\n",
       " 'Oct 24 2015',\n",
       " 'Richmond Ky',\n",
       " 'Eastern Kentucky 45 Tennessee State 21',\n",
       " '',\n",
       " 'Oct 17 2015',\n",
       " 'Nashville Tenn',\n",
       " 'Eastern Illinois 25 Tennessee State 22',\n",
       " '',\n",
       " 'Oct 10 2015',\n",
       " 'Martin Tenn',\n",
       " 'Tennessee Martin 28 Tennessee State 14',\n",
       " '',\n",
       " 'Sep 26 2015',\n",
       " 'Tallahassee Fla',\n",
       " 'Tennessee State 30 Florida A&M 14',\n",
       " '',\n",
       " 'Sep 19 2015',\n",
       " 'Jacksonville Ala',\n",
       " 'Jacksonville State 48 Tennessee State 13',\n",
       " '',\n",
       " 'Sep 12 2015',\n",
       " 'Memphis TN',\n",
       " 'Tennessee State 35 Jackson State  25',\n",
       " '',\n",
       " 'Sep 06 2015',\n",
       " 'Nashville Tenn',\n",
       " 'Tennessee State 24 Alabama State 14',\n",
       " '']"
      ]
     },
     "execution_count": 297,
     "metadata": {},
     "output_type": "execute_result"
    }
   ],
   "source": [
    "#get rid of extra text and spaces in list\n",
    "#put text for school name and city into format that's compatible for data frame\n",
    "schedule2015=[s.replace(\"Tigers\",\"\") for s in schedule2015]\n",
    "schedule2015=[t.replace(\"UT\",\"Tennessee\") for t in schedule2015]\n",
    "schedule2015=[u.replace(\"FAMU\",\"Florida A&M\") for u in schedule2015]\n",
    "schedule2015=[v.replace(\"-\",\" \") for v in schedule2015]\n",
    "schedule2015=[w.replace(\".\", \"\") for w in schedule2015]\n",
    "schedule2015=[x.replace(\"\\xa0\", \"\") for x in schedule2015]\n",
    "schedule2015=[y.replace(\",\",\"\") for y in schedule2015]\n",
    "schedule2015=[z.strip() for z in schedule2015]\n",
    "schedule2015"
   ]
  },
  {
   "cell_type": "code",
   "execution_count": 298,
   "metadata": {},
   "outputs": [
    {
     "data": {
      "text/plain": [
       "['Nov 22, 2014\\xa0\\xa0',\n",
       " 'Murray, Ky.         \\xa0\\xa0',\n",
       " 'Tennessee State 48, Murray St. 33\\xa0\\xa0',\n",
       " '\\xa0',\n",
       " 'Nov 08, 2014\\xa0\\xa0',\n",
       " 'Clarksville, Tenn.  \\xa0\\xa0',\n",
       " 'Tennessee State 31, Austin Peay 27\\xa0\\xa0',\n",
       " '\\xa0',\n",
       " 'Nov 01, 2014\\xa0\\xa0',\n",
       " 'Nashville, Tenn.    \\xa0\\xa0',\n",
       " 'Eastern Kentucky 56, Tennessee State 42\\xa0\\xa0',\n",
       " '\\xa0',\n",
       " 'Oct 25, 2014\\xa0\\xa0',\n",
       " 'Charleston, Ill.    \\xa0\\xa0',\n",
       " 'Eastern Illinois 28, Tennessee State 3\\xa0\\xa0',\n",
       " '\\xa0',\n",
       " 'Oct 18, 2014\\xa0\\xa0',\n",
       " 'Hale Stadium        \\xa0\\xa0',\n",
       " 'UT Martin 21, Tennessee State 16\\xa0\\xa0',\n",
       " '\\xa0',\n",
       " 'Oct 11, 2014\\xa0\\xa0',\n",
       " 'Nashville, Tenn.    \\xa0\\xa0',\n",
       " 'Jacksonville State 27, Tennessee State 20\\xa0\\xa0',\n",
       " '\\xa0',\n",
       " '10-04-14    \\xa0\\xa0',\n",
       " 'Cape Girardeau, Mo. \\xa0\\xa0',\n",
       " 'Southeast Missouri 28, Tennessee State 21\\xa0\\xa0',\n",
       " '\\xa0',\n",
       " 'Sep 27, 2014\\xa0\\xa0',\n",
       " 'Nashville, Tenn.    \\xa0\\xa0',\n",
       " 'Tennessee State 27, Florida A&M 7\\xa0\\xa0',\n",
       " '\\xa0',\n",
       " 'Sep 20, 2014\\xa0\\xa0',\n",
       " 'Nashville, TN       \\xa0\\xa0',\n",
       " 'Tennessee State 10, Tennessee Tech 7\\xa0\\xa0',\n",
       " '\\xa0',\n",
       " 'Sep 13, 2014\\xa0\\xa0',\n",
       " 'Memphis, Tenn.      \\xa0\\xa0',\n",
       " 'Tennessee State 35, Jackson State 7\\xa0\\xa0',\n",
       " '\\xa0',\n",
       " 'Sep 06, 2014\\xa0\\xa0',\n",
       " 'Montgomery, Ala.    \\xa0\\xa0',\n",
       " 'Alabama State 27, Tennessee State 21\\xa0\\xa0',\n",
       " '\\xa0',\n",
       " 'Aug 30, 2014\\xa0\\xa0',\n",
       " 'Nashville, Tenn.    \\xa0\\xa0',\n",
       " 'Tennessee State 58, Edward Waters 6\\xa0\\xa0',\n",
       " '\\xa0']"
      ]
     },
     "execution_count": 298,
     "metadata": {},
     "output_type": "execute_result"
    }
   ],
   "source": [
    "#2014 data\n",
    "#use requests.get() to get web page with 2014 data\n",
    "page = requests.get('https://tennstate_ftp.sidearmsports.com/custompages/tsutigers/26C45AE2-D036-475D-A4EF-38BE29FA4865/teamstat.htm')\n",
    "#parse data on web page using html module.fromstring\n",
    "mytree = html.fromstring(page.content)\n",
    "#go to web address above , right click on page and select inspect to get HTML code for data from right side of page\n",
    "#create XPath query and use xpath function to get list of data from web page\n",
    "schedule2014 = mytree.xpath('body//tr/td/font[@color=\"#000000\"]/text()')\n",
    "#look at list\n",
    "schedule2014"
   ]
  },
  {
   "cell_type": "code",
   "execution_count": 299,
   "metadata": {},
   "outputs": [
    {
     "data": {
      "text/plain": [
       "['Nov 22 2014',\n",
       " 'Murray Ky',\n",
       " 'Tennessee State 48 Murray St 33',\n",
       " '',\n",
       " 'Nov 08 2014',\n",
       " 'Clarksville Tenn',\n",
       " 'Tennessee State 31 Austin Peay 27',\n",
       " '',\n",
       " 'Nov 01 2014',\n",
       " 'Nashville Tenn',\n",
       " 'Eastern Kentucky 56 Tennessee State 42',\n",
       " '',\n",
       " 'Oct 25 2014',\n",
       " 'Charleston Ill',\n",
       " 'Eastern Illinois 28 Tennessee State 3',\n",
       " '',\n",
       " 'Oct 18 2014',\n",
       " 'Nashville Tenn',\n",
       " 'UT Martin 21 Tennessee State 16',\n",
       " '',\n",
       " 'Oct 11 2014',\n",
       " 'Nashville Tenn',\n",
       " 'Jacksonville State 27 Tennessee State 20',\n",
       " '',\n",
       " 'Oct 04 2014',\n",
       " 'CapeGirardeau Mo',\n",
       " 'Southeast Missouri 28 Tennessee State 21',\n",
       " '',\n",
       " 'Sep 27 2014',\n",
       " 'Nashville Tenn',\n",
       " 'Tennessee State 27 Florida A&M 7',\n",
       " '',\n",
       " 'Sep 20 2014',\n",
       " 'Nashville TN',\n",
       " 'Tennessee State 10 Tennessee Tech 7',\n",
       " '',\n",
       " 'Sep 13 2014',\n",
       " 'Memphis Tenn',\n",
       " 'Tennessee State 35 Jackson State 7',\n",
       " '',\n",
       " 'Sep 06 2014',\n",
       " 'Montgomery Ala',\n",
       " 'Alabama State 27 Tennessee State 21',\n",
       " '',\n",
       " 'Aug 30 2014',\n",
       " 'Nashville Tenn',\n",
       " 'Tennessee State 58 Edward Waters 6',\n",
       " '']"
      ]
     },
     "execution_count": 299,
     "metadata": {},
     "output_type": "execute_result"
    }
   ],
   "source": [
    "#get rid of extra text and spaces in list\n",
    "#put text for date, school name and city into format that's compatible for data frame\n",
    "schedule2014=[s.replace(\"Hale Stadium\",\"Nashville, Tenn.\") for s in schedule2014]\n",
    "schedule2014=[t.replace(\"10-04-14\",\"Oct 04, 2014\") for t in schedule2014]\n",
    "schedule2014=[u.replace(\"Cape Girardeau\",\"CapeGirardeau\") for u in schedule2014]\n",
    "schedule2014=[v.replace(\"-\",\" \") for v in schedule2014]\n",
    "schedule2014=[w.replace(\".\", \"\") for w in schedule2014]\n",
    "schedule2014=[x.replace(\"\\xa0\", \"\") for x in schedule2014]\n",
    "schedule2014=[y.replace(\",\",\"\") for y in schedule2014]\n",
    "schedule2014=[z.strip() for z in schedule2014]\n",
    "schedule2014"
   ]
  },
  {
   "cell_type": "code",
   "execution_count": 300,
   "metadata": {},
   "outputs": [
    {
     "data": {
      "text/plain": [
       "['Dec 07, 2013\\xa0\\xa0',\n",
       " 'Charleston, Ill.    \\xa0\\xa0',\n",
       " 'Eastern Illinois 51, Tennessee State 10\\xa0\\xa0',\n",
       " '\\xa0',\n",
       " 'Nov 30, 2013\\xa0\\xa0',\n",
       " 'Indianapolis, Ind.  \\xa0\\xa0',\n",
       " 'Tennessee State 31, Butler 0\\xa0\\xa0',\n",
       " '\\xa0',\n",
       " 'Nov 09, 2013\\xa0\\xa0',\n",
       " 'Nashville, Tenn.    \\xa0\\xa0',\n",
       " 'Tennessee State 31, Austin Peay 6\\xa0\\xa0',\n",
       " '\\xa0',\n",
       " 'Nov 16, 2013\\xa0\\xa0',\n",
       " 'Nashville, Tenn.    \\xa0\\xa0',\n",
       " 'Tennessee State 17, Murray State 10\\xa0\\xa0',\n",
       " '\\xa0',\n",
       " 'Nov 02, 2013\\xa0\\xa0',\n",
       " 'Richmond, Ky.       \\xa0\\xa0',\n",
       " 'Eastern Kentucky 44, Tennessee State 0\\xa0\\xa0',\n",
       " '\\xa0',\n",
       " 'Oct 26, 2013\\xa0\\xa0',\n",
       " 'Nashville, Tenn.    \\xa0\\xa0',\n",
       " 'Eastern Illinois 34, Tennessee State 16\\xa0\\xa0',\n",
       " '\\xa0',\n",
       " 'Oct 19, 2013\\xa0\\xa0',\n",
       " 'Martin, Tenn.       \\xa0\\xa0',\n",
       " 'Tennessee State 29, UT Martin 15\\xa0\\xa0',\n",
       " '\\xa0',\n",
       " 'Oct 12, 2013\\xa0\\xa0',\n",
       " 'Jacksonville, Ala.  \\xa0\\xa0',\n",
       " 'Tennessee State 31, Jacksonville State 15\\xa0\\xa0',\n",
       " '\\xa0',\n",
       " 'Oct 05, 2013\\xa0\\xa0',\n",
       " 'Nashville, Tenn.    \\xa0\\xa0',\n",
       " 'Tennessee State 40, Southeast Missouri 16\\xa0\\xa0',\n",
       " '\\xa0',\n",
       " 'Sep 28, 2013\\xa0\\xa0',\n",
       " 'St. Louis, Missouri \\xa0\\xa0',\n",
       " 'Tennessee State 73, Central State 6\\xa0\\xa0',\n",
       " '\\xa0',\n",
       " 'Sep 21, 2013\\xa0\\xa0',\n",
       " 'Cookeville, Tenn.   \\xa0\\xa0',\n",
       " 'Tennessee State 41, Tennessee Tech 21\\xa0\\xa0',\n",
       " '\\xa0',\n",
       " 'Sep 14, 2013\\xa0\\xa0',\n",
       " 'Memphis, Tenn.      \\xa0\\xa0',\n",
       " 'Tennessee State 26, Jackson State Tigers 16\\xa0\\xa0',\n",
       " '\\xa0',\n",
       " 'Sep 07, 2013\\xa0\\xa0',\n",
       " 'Tallahassee, Fla.   \\xa0\\xa0',\n",
       " 'Tennessee State 27, Florida A&M 7\\xa0\\xa0',\n",
       " '\\xa0',\n",
       " 'Sep 01, 2013\\xa0\\xa0',\n",
       " 'Nashville, Tenn.    \\xa0\\xa0',\n",
       " 'Bethune-Cookman 12, Tennessee State 9\\xa0\\xa0',\n",
       " '\\xa0']"
      ]
     },
     "execution_count": 300,
     "metadata": {},
     "output_type": "execute_result"
    }
   ],
   "source": [
    "#2013 data\n",
    "#use requests.get() to get web page with 2013 data\n",
    "page = requests.get('https://tennstate_ftp.sidearmsports.com/custompages/tsutigers/E394BBB1-387B-4C6A-9B21-E33D34956811/teamstat.htm')\n",
    "#parse data on web page using html module.fromstring\n",
    "mytree = html.fromstring(page.content)\n",
    "#go to web address above , right click on page and select inspect to get HTML code for data from right side of page\n",
    "#create XPath query and use xpath function to get list of data from web page\n",
    "schedule2013 = mytree.xpath('body//tr/td/font[@color=\"#000000\"]/text()')\n",
    "#look at list\n",
    "schedule2013"
   ]
  },
  {
   "cell_type": "code",
   "execution_count": 301,
   "metadata": {},
   "outputs": [
    {
     "data": {
      "text/plain": [
       "['Dec 07 2013',\n",
       " 'Charleston Ill',\n",
       " 'Eastern Illinois 51 Tennessee State 10',\n",
       " '',\n",
       " 'Nov 30 2013',\n",
       " 'Indianapolis Ind',\n",
       " 'Tennessee State 31 Butler University 0',\n",
       " '',\n",
       " 'Nov 09 2013',\n",
       " 'Nashville Tenn',\n",
       " 'Tennessee State 31 Austin Peay 6',\n",
       " '',\n",
       " 'Nov 16 2013',\n",
       " 'Nashville Tenn',\n",
       " 'Tennessee State 17 Murray State 10',\n",
       " '',\n",
       " 'Nov 02 2013',\n",
       " 'Richmond Ky',\n",
       " 'Eastern Kentucky 44 Tennessee State 0',\n",
       " '',\n",
       " 'Oct 26 2013',\n",
       " 'Nashville Tenn',\n",
       " 'Eastern Illinois 34 Tennessee State 16',\n",
       " '',\n",
       " 'Oct 19 2013',\n",
       " 'Martin Tenn',\n",
       " 'Tennessee State 29 Tennessee Martin 15',\n",
       " '',\n",
       " 'Oct 12 2013',\n",
       " 'Jacksonville Ala',\n",
       " 'Tennessee State 31 Jacksonville State 15',\n",
       " '',\n",
       " 'Oct 05 2013',\n",
       " 'Nashville Tenn',\n",
       " 'Tennessee State 40 Southeast Missouri 16',\n",
       " '',\n",
       " 'Sep 28 2013',\n",
       " 'StLouis Missouri',\n",
       " 'Tennessee State 73 Central State 6',\n",
       " '',\n",
       " 'Sep 21 2013',\n",
       " 'Cookeville Tenn',\n",
       " 'Tennessee State 41 Tennessee Tech 21',\n",
       " '',\n",
       " 'Sep 14 2013',\n",
       " 'Memphis Tenn',\n",
       " 'Tennessee State 26 Jackson State  16',\n",
       " '',\n",
       " 'Sep 07 2013',\n",
       " 'Tallahassee Fla',\n",
       " 'Tennessee State 27 Florida A&M 7',\n",
       " '',\n",
       " 'Sep 01 2013',\n",
       " 'Nashville Tenn',\n",
       " 'Bethune Cookman 12 Tennessee State 9',\n",
       " '']"
      ]
     },
     "execution_count": 301,
     "metadata": {},
     "output_type": "execute_result"
    }
   ],
   "source": [
    "#get rid of extra text and spaces in list\n",
    "#put text for school name and city into format that's compatible for data frame\n",
    "schedule2013=[r.replace(\"St. Louis\",\"StLouis\") for r in schedule2013]\n",
    "schedule2013=[s.replace(\"Butler\",\"Butler University\") for s in schedule2013]\n",
    "schedule2013=[t.replace(\"UT\",\"Tennessee\") for t in schedule2013]\n",
    "schedule2013=[u.replace(\"Tigers\",\"\") for u in schedule2013]\n",
    "schedule2013=[v.replace(\"-\",\" \") for v in schedule2013]\n",
    "schedule2013=[w.replace(\".\", \"\") for w in schedule2013]\n",
    "schedule2013=[x.replace(\"\\xa0\", \"\") for x in schedule2013]\n",
    "schedule2013=[y.replace(\",\",\"\") for y in schedule2013]\n",
    "schedule2013=[z.strip() for z in schedule2013]\n",
    "schedule2013"
   ]
  },
  {
   "cell_type": "code",
   "execution_count": 302,
   "metadata": {},
   "outputs": [
    {
     "data": {
      "text/plain": [
       "['Nov 17, 2012\\xa0\\xa0',\n",
       " 'Martin, Tenn.       \\xa0\\xa0',\n",
       " 'UT Martin 35, Tennessee State 26\\xa0\\xa0',\n",
       " '\\xa0',\n",
       " 'Nov 03, 2012\\xa0\\xa0',\n",
       " 'Murray, Ky.         \\xa0\\xa0',\n",
       " 'Murray State 49, Tennessee State 28\\xa0\\xa0',\n",
       " '\\xa0',\n",
       " 'Oct 27, 2012\\xa0\\xa0',\n",
       " 'Nashville, Tennessee\\xa0\\xa0',\n",
       " 'Tennessee State 22, Tennessee Tech 21\\xa0\\xa0',\n",
       " '\\xa0',\n",
       " 'Oct 20, 2012\\xa0\\xa0',\n",
       " 'Jacksonville, Ala.  \\xa0\\xa0',\n",
       " 'Jacksonville State 31, Tennessee State 28\\xa0\\xa0',\n",
       " '\\xa0',\n",
       " 'Oct 13, 2012\\xa0\\xa0',\n",
       " 'Cape Girardeau, Mo. \\xa0\\xa0',\n",
       " 'Tennessee State 40, Southeast Missouri 28\\xa0\\xa0',\n",
       " '\\xa0',\n",
       " 'Oct 05, 2012\\xa0\\xa0',\n",
       " 'Nashville, Tennessee\\xa0\\xa0',\n",
       " 'Tennessee State 23, Eastern Kentucky 20\\xa0\\xa0',\n",
       " '\\xa0',\n",
       " 'Sep 29, 2012\\xa0\\xa0',\n",
       " 'Nashville, Tennessee\\xa0\\xa0',\n",
       " 'Tennessee State 40, Arkansas Pine Bluff 13\\xa0\\xa0',\n",
       " '\\xa0',\n",
       " 'Sep 22, 2012\\xa0\\xa0',\n",
       " 'Daytona Beach, Fla. \\xa0\\xa0',\n",
       " 'Tennessee State 21, Bethune-Cookman 14\\xa0\\xa0',\n",
       " '\\xa0',\n",
       " 'Sep 15, 2012\\xa0\\xa0',\n",
       " 'Nashville, Tennessee\\xa0\\xa0',\n",
       " 'Tennessee State 34, Austin Peay 14\\xa0\\xa0',\n",
       " '\\xa0',\n",
       " 'Sep 08, 2012\\xa0\\xa0',\n",
       " 'Memphis. Tennessee  \\xa0\\xa0',\n",
       " 'Tennessee State 38, Jackson State 12\\xa0\\xa0',\n",
       " '\\xa0',\n",
       " 'Sep 01, 2012\\xa0\\xa0',\n",
       " 'Nashville, Tennessee\\xa0\\xa0',\n",
       " 'Tennessee State 17, Florida A&M 14\\xa0\\xa0',\n",
       " '\\xa0']"
      ]
     },
     "execution_count": 302,
     "metadata": {},
     "output_type": "execute_result"
    }
   ],
   "source": [
    "#2012 data\n",
    "#use requests.get() to get web page with 2012 data\n",
    "page = requests.get('https://tennstate_ftp.sidearmsports.com/custompages/tsutigers/BDF8C4F3-D7B6-4D50-847F-9227A0B71B68/teamstat.htm')\n",
    "#parse data on web page using html module.fromstring\n",
    "mytree = html.fromstring(page.content)\n",
    "#go to web address above , right click on page and select inspect to get HTML code for data from right side of page\n",
    "#create XPath query and use xpath function to get list of data from web page\n",
    "schedule2012 = mytree.xpath('body//tr/td/font[@color=\"#000000\"]/text()')\n",
    "#look at list\n",
    "schedule2012"
   ]
  },
  {
   "cell_type": "code",
   "execution_count": 303,
   "metadata": {},
   "outputs": [
    {
     "data": {
      "text/plain": [
       "['Nov 17 2012',\n",
       " 'Martin Tenn',\n",
       " 'Tennessee Martin 35 Tennessee State 26',\n",
       " '',\n",
       " 'Nov 03 2012',\n",
       " 'Murray Ky',\n",
       " 'Murray State 49 Tennessee State 28',\n",
       " '',\n",
       " 'Oct 27 2012',\n",
       " 'Nashville Tennessee',\n",
       " 'Tennessee State 22 Tennessee Tech 21',\n",
       " '',\n",
       " 'Oct 20 2012',\n",
       " 'Jacksonville Ala',\n",
       " 'Jacksonville State 31 Tennessee State 28',\n",
       " '',\n",
       " 'Oct 13 2012',\n",
       " 'CapeGirardeau Mo',\n",
       " 'Tennessee State 40 Southeast Missouri 28',\n",
       " '',\n",
       " 'Oct 05 2012',\n",
       " 'Nashville Tennessee',\n",
       " 'Tennessee State 23 Eastern Kentucky 20',\n",
       " '',\n",
       " 'Sep 29 2012',\n",
       " 'Nashville Tennessee',\n",
       " 'Tennessee State 40 Arkansas PineBluff 13',\n",
       " '',\n",
       " 'Sep 22 2012',\n",
       " 'DaytonaBeach Fla',\n",
       " 'Tennessee State 21 Bethune Cookman 14',\n",
       " '',\n",
       " 'Sep 15 2012',\n",
       " 'Nashville Tennessee',\n",
       " 'Tennessee State 34 Austin Peay 14',\n",
       " '',\n",
       " 'Sep 08 2012',\n",
       " 'Memphis Tennessee',\n",
       " 'Tennessee State 38 Jackson State 12',\n",
       " '',\n",
       " 'Sep 01 2012',\n",
       " 'Nashville Tennessee',\n",
       " 'Tennessee State 17 Florida A&M 14',\n",
       " '']"
      ]
     },
     "execution_count": 303,
     "metadata": {},
     "output_type": "execute_result"
    }
   ],
   "source": [
    "#get rid of extra text and spaces in list\n",
    "#put text for school name and city into format that's compatible for data frame\n",
    "schedule2012=[r.replace(\"Cape Girardeau\",\"CapeGirardeau\") for r in schedule2012]\n",
    "schedule2012=[s.replace(\"Daytona Beach\",\"DaytonaBeach\") for s in schedule2012]\n",
    "schedule2012=[t.replace(\"UT\",\"Tennessee\") for t in schedule2012]\n",
    "schedule2012=[u.replace(\"Pine Bluff\",\"PineBluff\") for u in schedule2012]\n",
    "schedule2012=[v.replace(\"-\",\" \") for v in schedule2012]\n",
    "schedule2012=[w.replace(\".\", \"\") for w in schedule2012]\n",
    "schedule2012=[x.replace(\"\\xa0\", \"\") for x in schedule2012]\n",
    "schedule2012=[y.replace(\",\",\"\") for y in schedule2012]\n",
    "schedule2012=[z.strip() for z in schedule2012]\n",
    "schedule2012"
   ]
  },
  {
   "cell_type": "code",
   "execution_count": 304,
   "metadata": {},
   "outputs": [
    {
     "data": {
      "text/plain": [
       "['Nov 19, 2011\\xa0\\xa0',\n",
       " 'Nashville, TN       \\xa0\\xa0',\n",
       " 'Jacksonville State 38, Tennessee State 16\\xa0\\xa0',\n",
       " '\\xa0',\n",
       " 'Nov 12, 2011\\xa0\\xa0',\n",
       " 'Nashville, Tenn.    \\xa0\\xa0',\n",
       " 'Tennessee State 35, UT Martin 30\\xa0\\xa0',\n",
       " '\\xa0',\n",
       " 'Nov 05, 2011\\xa0\\xa0',\n",
       " 'Charleston, Ill.    \\xa0\\xa0',\n",
       " 'Tennessee State 18, Eastern Illinois 17\\xa0\\xa0',\n",
       " '\\xa0',\n",
       " 'Oct 22, 2011\\xa0\\xa0',\n",
       " 'Richmond, Ky.       \\xa0\\xa0',\n",
       " 'Eastern Kentucky 33, Tennessee State 22\\xa0\\xa0',\n",
       " '\\xa0',\n",
       " 'Oct 15, 2011\\xa0\\xa0',\n",
       " 'Cookeville, Tenn.   \\xa0\\xa0',\n",
       " 'Tennessee State 42, Tennessee Tech 40\\xa0\\xa0',\n",
       " '\\xa0',\n",
       " 'Oct 08, 2011\\xa0\\xa0',\n",
       " 'Nashville, Tenn.    \\xa0\\xa0',\n",
       " 'Tennessee State 55, Southeast Missouri 3\\xa0\\xa0',\n",
       " '\\xa0',\n",
       " 'Oct 01, 2011\\xa0\\xa0',\n",
       " 'Clarksville, Tenn.  \\xa0\\xa0',\n",
       " 'Austin Peay 37, Tennessee State 34\\xa0\\xa0',\n",
       " '\\xa0',\n",
       " 'Sep 24, 2011\\xa0\\xa0',\n",
       " 'USAFA, Colo.        \\xa0\\xa0',\n",
       " 'Air Force 63, Tennessee State 24\\xa0\\xa0',\n",
       " '\\xa0',\n",
       " 'Sep 17, 2011\\xa0\\xa0',\n",
       " 'Murray, Ky.         \\xa0\\xa0',\n",
       " 'Murray State 58, Tennessee State 27\\xa0\\xa0',\n",
       " '\\xa0',\n",
       " 'Sep 10, 2011\\xa0\\xa0',\n",
       " 'Memphis, TN         \\xa0\\xa0',\n",
       " 'Jackson State 35, Tennessee State 29\\xa0\\xa0',\n",
       " '\\xa0',\n",
       " 'Sep 03, 2011\\xa0\\xa0',\n",
       " 'Nashville, TN       \\xa0\\xa0',\n",
       " 'Tennessee State 33, Southern U. 7\\xa0\\xa0',\n",
       " '\\xa0']"
      ]
     },
     "execution_count": 304,
     "metadata": {},
     "output_type": "execute_result"
    }
   ],
   "source": [
    "#2011 data\n",
    "#use requests.get() to get web page with 2011 data\n",
    "page = requests.get('https://tennstate_ftp.sidearmsports.com/custompages/tsutigers/CA835442-6528-4937-854B-D964C9CC70B5/teamstat.htm')\n",
    "#parse data on web page using html module.fromstring\n",
    "mytree = html.fromstring(page.content)\n",
    "#go to web address above , right click on page and select inspect to get HTML code for data from right side of page\n",
    "#create XPath query and use xpath function to get list of data from web page\n",
    "schedule2011 = mytree.xpath('body//tr/td/font[@color=\"#000000\"]/text()')\n",
    "#look at list\n",
    "schedule2011"
   ]
  },
  {
   "cell_type": "code",
   "execution_count": 305,
   "metadata": {},
   "outputs": [
    {
     "data": {
      "text/plain": [
       "['Nov 19 2011',\n",
       " 'Nashville TN',\n",
       " 'Jacksonville State 38 Tennessee State 16',\n",
       " '',\n",
       " 'Nov 12 2011',\n",
       " 'Nashville Tenn',\n",
       " 'Tennessee State 35 Tennessee Martin 30',\n",
       " '',\n",
       " 'Nov 05 2011',\n",
       " 'Charleston Ill',\n",
       " 'Tennessee State 18 Eastern Illinois 17',\n",
       " '',\n",
       " 'Oct 22 2011',\n",
       " 'Richmond Ky',\n",
       " 'Eastern Kentucky 33 Tennessee State 22',\n",
       " '',\n",
       " 'Oct 15 2011',\n",
       " 'Cookeville Tenn',\n",
       " 'Tennessee State 42 Tennessee Tech 40',\n",
       " '',\n",
       " 'Oct 08 2011',\n",
       " 'Nashville Tenn',\n",
       " 'Tennessee State 55 Southeast Missouri 3',\n",
       " '',\n",
       " 'Oct 01 2011',\n",
       " 'Clarksville Tenn',\n",
       " 'Austin Peay 37 Tennessee State 34',\n",
       " '',\n",
       " 'Sep 24 2011',\n",
       " 'AirForceAcademy Colo',\n",
       " 'Air Force 63 Tennessee State 24',\n",
       " '',\n",
       " 'Sep 17 2011',\n",
       " 'Murray Ky',\n",
       " 'Murray State 58 Tennessee State 27',\n",
       " '',\n",
       " 'Sep 10 2011',\n",
       " 'Memphis TN',\n",
       " 'Jackson State 35 Tennessee State 29',\n",
       " '',\n",
       " 'Sep 03 2011',\n",
       " 'Nashville TN',\n",
       " 'Tennessee State 33 Southern University 7',\n",
       " '']"
      ]
     },
     "execution_count": 305,
     "metadata": {},
     "output_type": "execute_result"
    }
   ],
   "source": [
    "#get rid of extra text and spaces in list\n",
    "#put text for school name and city into format that's compatible for data frame\n",
    "schedule2011=[r.replace(\"USAFA\",\"AirForceAcademy\") for r in schedule2011]\n",
    "schedule2011=[s.replace(\"UT\",\"Tennessee\") for s in schedule2011]\n",
    "schedule2011=[t.replace(\"Southern U.\",\"Southern University\") for t in schedule2011]\n",
    "schedule2011=[v.replace(\"-\",\" \") for v in schedule2011]\n",
    "schedule2011=[w.replace(\".\", \"\") for w in schedule2011]\n",
    "schedule2011=[x.replace(\"\\xa0\", \"\") for x in schedule2011]\n",
    "schedule2011=[y.replace(\",\",\"\") for y in schedule2011]\n",
    "schedule2011=[z.strip() for z in schedule2011]\n",
    "schedule2011"
   ]
  },
  {
   "cell_type": "code",
   "execution_count": 306,
   "metadata": {},
   "outputs": [
    {
     "data": {
      "text/plain": [
       "['Nov 20, 2010\\xa0\\xa0',\n",
       " 'Murray, Ky.         \\xa0\\xa0',\n",
       " 'Murray State 28, Tennessee State 23\\xa0\\xa0',\n",
       " '\\xa0',\n",
       " 'Nov 13, 2010\\xa0\\xa0',\n",
       " 'Martin, Tenn.       \\xa0\\xa0',\n",
       " 'UT Martin 37, Tennessee State 0\\xa0\\xa0',\n",
       " '\\xa0',\n",
       " 'Nov 06, 2010\\xa0\\xa0',\n",
       " 'Nashville, TN       \\xa0\\xa0',\n",
       " 'Eastern Illinois 31, Tennessee State 28\\xa0\\xa0',\n",
       " '\\xa0',\n",
       " 'Oct 23, 2010\\xa0\\xa0',\n",
       " 'Nashville, TN       \\xa0\\xa0',\n",
       " 'Tennessee Tech 21, Tennessee State 10\\xa0\\xa0',\n",
       " '\\xa0',\n",
       " 'Oct 16, 2010\\xa0\\xa0',\n",
       " 'Jacksonville, Ala.  \\xa0\\xa0',\n",
       " 'Jacksonville State 24, Tennessee State 0\\xa0\\xa0',\n",
       " '\\xa0',\n",
       " 'Oct. 9, 2010\\xa0\\xa0',\n",
       " 'Cape Girardeau, Mo. \\xa0\\xa0',\n",
       " 'Southeast Missouri 19, Tennessee State 17\\xa0\\xa0',\n",
       " '\\xa0',\n",
       " 'Oct. 2, 2010\\xa0\\xa0',\n",
       " 'Indianapolis, Ind.  \\xa0\\xa0',\n",
       " 'Tennessee State 37, North Carolina A&T 7\\xa0\\xa0',\n",
       " '\\xa0',\n",
       " 'Sep 25, 2010\\xa0\\xa0',\n",
       " 'Atlanta, GA         \\xa0\\xa0',\n",
       " 'Tennessee State 29, Florida A&M 18\\xa0\\xa0',\n",
       " '\\xa0',\n",
       " 'Sep 18, 2010\\xa0\\xa0',\n",
       " 'Nashville, TN       \\xa0\\xa0',\n",
       " 'Austin Peay 26, Tennessee State 23\\xa0\\xa0',\n",
       " '\\xa0',\n",
       " 'Sep 11, 2010\\xa0\\xa0',\n",
       " 'Memphis, TN         \\xa0\\xa0',\n",
       " 'Jackson State 33, Tennessee State 26\\xa0\\xa0',\n",
       " '\\xa0',\n",
       " 'Sep 04, 2010\\xa0\\xa0',\n",
       " 'Nashville, TN       \\xa0\\xa0',\n",
       " 'Tennessee State 27, Alabama A&M 14\\xa0\\xa0',\n",
       " '\\xa0']"
      ]
     },
     "execution_count": 306,
     "metadata": {},
     "output_type": "execute_result"
    }
   ],
   "source": [
    "#2010 data\n",
    "#use requests.get() to get web page with 2010 data\n",
    "page = requests.get('https://tennstate_ftp.sidearmsports.com/custompages/tsutigers/108733F9-E3AE-4C3D-95EE-76C09DDBE24B/teamstat.htm')\n",
    "#parse data on web page using html module.fromstring\n",
    "mytree = html.fromstring(page.content)\n",
    "#go to web address above , right click on page and select inspect to get HTML code for data from right side of page\n",
    "#create XPath query and use xpath function to get list of data from web page\n",
    "schedule2010 = mytree.xpath('body//tr/td/font[@color=\"#000000\"]/text()')\n",
    "#look at list\n",
    "schedule2010"
   ]
  },
  {
   "cell_type": "code",
   "execution_count": 307,
   "metadata": {},
   "outputs": [
    {
     "data": {
      "text/plain": [
       "['Nov 20 2010',\n",
       " 'Murray Ky',\n",
       " 'Murray State 28 Tennessee State 23',\n",
       " '',\n",
       " 'Nov 13 2010',\n",
       " 'Martin Tenn',\n",
       " 'Tennessee Martin 37 Tennessee State 0',\n",
       " '',\n",
       " 'Nov 06 2010',\n",
       " 'Nashville TN',\n",
       " 'Eastern Illinois 31 Tennessee State 28',\n",
       " '',\n",
       " 'Oct 23 2010',\n",
       " 'Nashville TN',\n",
       " 'Tennessee Tech 21 Tennessee State 10',\n",
       " '',\n",
       " 'Oct 16 2010',\n",
       " 'Jacksonville Ala',\n",
       " 'Jacksonville State 24 Tennessee State 0',\n",
       " '',\n",
       " 'Oct 09 2010',\n",
       " 'CapeGirardeau Mo',\n",
       " 'Southeast Missouri 19 Tennessee State 17',\n",
       " '',\n",
       " 'Oct 02 2010',\n",
       " 'Indianapolis Ind',\n",
       " 'Tennessee State 37 NorthCarolina A&T 7',\n",
       " '',\n",
       " 'Sep 25 2010',\n",
       " 'Atlanta GA',\n",
       " 'Tennessee State 29 Florida A&M 18',\n",
       " '',\n",
       " 'Sep 18 2010',\n",
       " 'Nashville TN',\n",
       " 'Austin Peay 26 Tennessee State 23',\n",
       " '',\n",
       " 'Sep 11 2010',\n",
       " 'Memphis TN',\n",
       " 'Jackson State 33 Tennessee State 26',\n",
       " '',\n",
       " 'Sep 04 2010',\n",
       " 'Nashville TN',\n",
       " 'Tennessee State 27 Alabama A&M 14',\n",
       " '']"
      ]
     },
     "execution_count": 307,
     "metadata": {},
     "output_type": "execute_result"
    }
   ],
   "source": [
    "#get rid of extra text and spaces in list\n",
    "#put text for date, school name and city into format that's compatible for data frame\n",
    "schedule2010=[r.replace(\"Oct. 9, 2010\",\"Oct. 09, 2010\") for r in schedule2010]\n",
    "schedule2010=[r.replace(\"Oct. 2, 2010\",\"Oct. 02, 2010\") for r in schedule2010]\n",
    "schedule2010=[r.replace(\"Cape Girardeau\",\"CapeGirardeau\") for r in schedule2010]\n",
    "schedule2010=[s.replace(\"UT\",\"Tennessee\") for s in schedule2010]\n",
    "schedule2010=[t.replace(\"North Carolina \",\"NorthCarolina \") for t in schedule2010]\n",
    "schedule2010=[v.replace(\"-\",\" \") for v in schedule2010]\n",
    "schedule2010=[w.replace(\".\", \"\") for w in schedule2010]\n",
    "schedule2010=[x.replace(\"\\xa0\", \"\") for x in schedule2010]\n",
    "schedule2010=[y.replace(\",\",\"\") for y in schedule2010]\n",
    "schedule2010=[z.strip() for z in schedule2010]\n",
    "schedule2010"
   ]
  },
  {
   "cell_type": "code",
   "execution_count": 308,
   "metadata": {},
   "outputs": [
    {
     "data": {
      "text/plain": [
       "['Nov 19, 2009\\xa0\\xa0',\n",
       " 'Charleston, Ill.    \\xa0\\xa0',\n",
       " 'Tennessee State 21, Eastern Illinois 10\\xa0\\xa0',\n",
       " '\\xa0',\n",
       " 'Nov 14, 2009\\xa0\\xa0',\n",
       " 'Clarksville, Tenn.  \\xa0\\xa0',\n",
       " 'Austin Peay 24, Tennessee State 21\\xa0\\xa0',\n",
       " '\\xa0',\n",
       " 'Nov 07, 2009\\xa0\\xa0',\n",
       " 'Nashville, TN       \\xa0\\xa0',\n",
       " 'Tennessee Martin 28, Tennessee State 7\\xa0\\xa0',\n",
       " '\\xa0',\n",
       " 'Oct 31, 2009\\xa0\\xa0',\n",
       " 'Cookeville, Tenn.   \\xa0\\xa0',\n",
       " 'Tennessee Tech 20, Tennessee State 13\\xa0\\xa0',\n",
       " '\\xa0',\n",
       " 'Oct 17, 2009\\xa0\\xa0',\n",
       " 'Nashville, TN       \\xa0\\xa0',\n",
       " 'Murray State 9, Tennessee State 6\\xa0\\xa0',\n",
       " '\\xa0',\n",
       " 'Oct 10, 2009\\xa0\\xa0',\n",
       " 'Richmond, Ky.       \\xa0\\xa0',\n",
       " 'Tennessee State 20, Eastern Kentucky 17\\xa0\\xa0',\n",
       " '\\xa0',\n",
       " 'Oct 03, 2009\\xa0\\xa0',\n",
       " 'Nashville, TN       \\xa0\\xa0',\n",
       " 'Tennessee State 23, Southeast Missouri 17\\xa0\\xa0',\n",
       " '\\xa0',\n",
       " 'Sep 26, 2009\\xa0\\xa0',\n",
       " 'Atlanta, Ga.        \\xa0\\xa0',\n",
       " '#25 Florida A&M 31, Tennessee State 12\\xa0\\xa0',\n",
       " '\\xa0',\n",
       " 'Sep 19, 2009\\xa0\\xa0',\n",
       " 'Baton Rouge, LA     \\xa0\\xa0',\n",
       " 'Southern University 21, Tennessee State 17\\xa0\\xa0',\n",
       " '\\xa0',\n",
       " 'Sep 12, 2009\\xa0\\xa0',\n",
       " 'Memphis, TN         \\xa0\\xa0',\n",
       " 'Tennessee State 14, Jackson State Tigers 7\\xa0\\xa0',\n",
       " '\\xa0',\n",
       " 'Sep 05, 2009\\xa0\\xa0',\n",
       " 'Nashville, TN       \\xa0\\xa0',\n",
       " 'Alabama A&M 24, Tennessee State 7\\xa0\\xa0',\n",
       " '\\xa0']"
      ]
     },
     "execution_count": 308,
     "metadata": {},
     "output_type": "execute_result"
    }
   ],
   "source": [
    "#2009 data\n",
    "#use requests.get() to get web page with 2009 data\n",
    "page = requests.get('https://tennstate_ftp.sidearmsports.com/custompages/tsutigers/DEDBD687-051A-4E37-98F7-ACE4706B60ED/teamstat.htm')\n",
    "#parse data on web page using html module.fromstring\n",
    "mytree = html.fromstring(page.content)\n",
    "#go to web address above , right click on page and select inspect to get HTML code for data from right side of page\n",
    "#create XPath query and use xpath function to get list of data from web page\n",
    "schedule2009 = mytree.xpath('body//tr/td/font[@color=\"#000000\"]/text()')\n",
    "#look at list\n",
    "schedule2009"
   ]
  },
  {
   "cell_type": "code",
   "execution_count": 309,
   "metadata": {},
   "outputs": [
    {
     "data": {
      "text/plain": [
       "['Nov 19 2009',\n",
       " 'Charleston Ill',\n",
       " 'Tennessee State 21 Eastern Illinois 10',\n",
       " '',\n",
       " 'Nov 14 2009',\n",
       " 'Clarksville Tenn',\n",
       " 'Austin Peay 24 Tennessee State 21',\n",
       " '',\n",
       " 'Nov 07 2009',\n",
       " 'Nashville TN',\n",
       " 'Tennessee Martin 28 Tennessee State 7',\n",
       " '',\n",
       " 'Oct 31 2009',\n",
       " 'Cookeville Tenn',\n",
       " 'Tennessee Tech 20 Tennessee State 13',\n",
       " '',\n",
       " 'Oct 17 2009',\n",
       " 'Nashville TN',\n",
       " 'Murray State 9 Tennessee State 6',\n",
       " '',\n",
       " 'Oct 10 2009',\n",
       " 'Richmond Ky',\n",
       " 'Tennessee State 20 Eastern Kentucky 17',\n",
       " '',\n",
       " 'Oct 03 2009',\n",
       " 'Nashville TN',\n",
       " 'Tennessee State 23 Southeast Missouri 17',\n",
       " '',\n",
       " 'Sep 26 2009',\n",
       " 'Atlanta Ga',\n",
       " 'Florida A&M 31 Tennessee State 12',\n",
       " '',\n",
       " 'Sep 19 2009',\n",
       " 'BatonRouge LA',\n",
       " 'Southern University 21 Tennessee State 17',\n",
       " '',\n",
       " 'Sep 12 2009',\n",
       " 'Memphis TN',\n",
       " 'Tennessee State 14 Jackson State  7',\n",
       " '',\n",
       " 'Sep 05 2009',\n",
       " 'Nashville TN',\n",
       " 'Alabama A&M 24 Tennessee State 7',\n",
       " '']"
      ]
     },
     "execution_count": 309,
     "metadata": {},
     "output_type": "execute_result"
    }
   ],
   "source": [
    "#get rid of extra text and spaces in list\n",
    "#put text for school name and city into format that's compatible for data frame\n",
    "schedule2009=[r.replace(\"#25\",\"\") for r in schedule2009]\n",
    "schedule2009=[s.replace(\"Tigers\",\"\") for s in schedule2009]\n",
    "schedule2009=[t.replace(\"Baton Rouge\",\"BatonRouge\") for t in schedule2009]\n",
    "schedule2009=[v.replace(\"-\",\" \") for v in schedule2009]\n",
    "schedule2009=[w.replace(\".\", \"\") for w in schedule2009]\n",
    "schedule2009=[x.replace(\"\\xa0\", \"\") for x in schedule2009]\n",
    "schedule2009=[y.replace(\",\",\"\") for y in schedule2009]\n",
    "schedule2009=[z.strip() for z in schedule2009]\n",
    "schedule2009"
   ]
  },
  {
   "cell_type": "code",
   "execution_count": 310,
   "metadata": {},
   "outputs": [
    {
     "data": {
      "text/plain": [
       "['Nov 22, 2008\\xa0\\xa0',\n",
       " 'Murray, Ky.         \\xa0\\xa0',\n",
       " 'Murray State 24, Tennessee State 17\\xa0\\xa0',\n",
       " '\\xa0',\n",
       " 'Nov 15, 2008\\xa0\\xa0',\n",
       " 'Jacksonville, Ala.  \\xa0\\xa0',\n",
       " 'Jacksonville State 26, Tennessee State 21\\xa0\\xa0',\n",
       " '\\xa0',\n",
       " 'Nov 08, 2008\\xa0\\xa0',\n",
       " 'Nashville, TN       \\xa0\\xa0',\n",
       " 'Tennessee State 45, Eastern Illinois 24\\xa0\\xa0',\n",
       " '\\xa0',\n",
       " 'Nov 01, 2008\\xa0\\xa0',\n",
       " 'Nashville, TN       \\xa0\\xa0',\n",
       " 'Tennessee State 41, Tennessee Tech 14\\xa0\\xa0',\n",
       " '\\xa0',\n",
       " 'Oct 25, 2008\\xa0\\xa0',\n",
       " 'Cape Girardeau, Mo. \\xa0\\xa0',\n",
       " 'Southeast Missouri 27, Tennessee State 20\\xa0\\xa0',\n",
       " '\\xa0',\n",
       " 'Oct 18, 2008\\xa0\\xa0',\n",
       " 'Nashville, TN       \\xa0\\xa0',\n",
       " 'Tennessee State 37, Austin Peay 34\\xa0\\xa0',\n",
       " '\\xa0',\n",
       " 'Oct 04, 2008\\xa0\\xa0',\n",
       " 'Martin, TN          \\xa0\\xa0',\n",
       " 'Tennessee State 30, UT Martin 27\\xa0\\xa0',\n",
       " '\\xa0',\n",
       " 'Sep 27, 2008\\xa0\\xa0',\n",
       " 'Atlanta, GA         \\xa0\\xa0',\n",
       " 'Florida A&M 28, Tennessee State 21\\xa0\\xa0',\n",
       " '\\xa0',\n",
       " 'Sep 20, 2008\\xa0\\xa0',\n",
       " 'Nashville, TN       \\xa0\\xa0',\n",
       " 'Tennessee State 34, Eastern Kentucky 20\\xa0\\xa0',\n",
       " '\\xa0',\n",
       " 'Sep 13, 2008\\xa0\\xa0',\n",
       " 'Memphis, TN         \\xa0\\xa0',\n",
       " 'Tennessee State 41, Jackson State 18\\xa0\\xa0',\n",
       " '\\xa0',\n",
       " 'Sep 06, 2008\\xa0\\xa0',\n",
       " 'Nashville, TN       \\xa0\\xa0',\n",
       " 'Tennessee State 34, Southern 32\\xa0\\xa0',\n",
       " '\\xa0',\n",
       " 'Aug 30, 2008\\xa0\\xa0',\n",
       " 'Huntsville, AL      \\xa0\\xa0',\n",
       " 'Tennessee State 34, Alabama A&M 13\\xa0\\xa0',\n",
       " '\\xa0']"
      ]
     },
     "execution_count": 310,
     "metadata": {},
     "output_type": "execute_result"
    }
   ],
   "source": [
    "#2008 data\n",
    "#use requests.get() to get web page with 2008 data\n",
    "page = requests.get('https://tennstate_ftp.sidearmsports.com/custompages/tsutigers/E0564A83-37A0-4B85-8811-B7EFB00E956D/teamstat.htm')\n",
    "#parse data on web page using html module.fromstring\n",
    "mytree = html.fromstring(page.content)\n",
    "#go to web address above , right click on page and select inspect to get HTML code for data from right side of page\n",
    "#create XPath query and use xpath function to get list of data from web page\n",
    "schedule2008 = mytree.xpath('body//tr/td/font[@color=\"#000000\"]/text()')\n",
    "#look at list\n",
    "schedule2008"
   ]
  },
  {
   "cell_type": "code",
   "execution_count": 311,
   "metadata": {},
   "outputs": [
    {
     "data": {
      "text/plain": [
       "['Nov 22 2008',\n",
       " 'Murray Ky',\n",
       " 'Murray State 24 Tennessee State 17',\n",
       " '',\n",
       " 'Nov 15 2008',\n",
       " 'Jacksonville Ala',\n",
       " 'Jacksonville State 26 Tennessee State 21',\n",
       " '',\n",
       " 'Nov 08 2008',\n",
       " 'Nashville TN',\n",
       " 'Tennessee State 45 Eastern Illinois 24',\n",
       " '',\n",
       " 'Nov 01 2008',\n",
       " 'Nashville TN',\n",
       " 'Tennessee State 41 Tennessee Tech 14',\n",
       " '',\n",
       " 'Oct 25 2008',\n",
       " 'CapeGirardeau Mo',\n",
       " 'Southeast Missouri 27 Tennessee State 20',\n",
       " '',\n",
       " 'Oct 18 2008',\n",
       " 'Nashville TN',\n",
       " 'Tennessee State 37 Austin Peay 34',\n",
       " '',\n",
       " 'Oct 04 2008',\n",
       " 'Martin TN',\n",
       " 'Tennessee State 30 Tennessee Martin 27',\n",
       " '',\n",
       " 'Sep 27 2008',\n",
       " 'Atlanta GA',\n",
       " 'Florida A&M 28 Tennessee State 21',\n",
       " '',\n",
       " 'Sep 20 2008',\n",
       " 'Nashville TN',\n",
       " 'Tennessee State 34 Eastern Kentucky 20',\n",
       " '',\n",
       " 'Sep 13 2008',\n",
       " 'Memphis TN',\n",
       " 'Tennessee State 41 Jackson State 18',\n",
       " '',\n",
       " 'Sep 06 2008',\n",
       " 'Nashville TN',\n",
       " 'Tennessee State 34 Southern University 32',\n",
       " '',\n",
       " 'Aug 30 2008',\n",
       " 'Huntsville AL',\n",
       " 'Tennessee State 34 Alabama A&M 13',\n",
       " '']"
      ]
     },
     "execution_count": 311,
     "metadata": {},
     "output_type": "execute_result"
    }
   ],
   "source": [
    "#get rid of extra text and spaces in list\n",
    "#put text for school name and city into format that's compatible for data frame\n",
    "schedule2008=[r.replace(\"Southern\",\"Southern University\") for r in schedule2008]\n",
    "schedule2008=[s.replace(\"UT\",\"Tennessee\") for s in schedule2008]\n",
    "schedule2008=[t.replace(\"Cape Girardeau\",\"CapeGirardeau\") for t in schedule2008]\n",
    "schedule2008=[v.replace(\"-\",\" \") for v in schedule2008]\n",
    "schedule2008=[w.replace(\".\", \"\") for w in schedule2008]\n",
    "schedule2008=[x.replace(\"\\xa0\", \"\") for x in schedule2008]\n",
    "schedule2008=[y.replace(\",\",\"\") for y in schedule2008]\n",
    "schedule2008=[z.strip() for z in schedule2008]\n",
    "schedule2008"
   ]
  },
  {
   "cell_type": "code",
   "execution_count": 312,
   "metadata": {},
   "outputs": [
    {
     "data": {
      "text/plain": [
       "['Nov 17, 2007\\xa0\\xa0',\n",
       " 'Nashville, TN       \\xa0\\xa0',\n",
       " 'Tennessee-Martin 43, Tennessee State 38\\xa0\\xa0',\n",
       " '\\xa0',\n",
       " 'Nov 08, 2007\\xa0\\xa0',\n",
       " 'Birmingham, AL      \\xa0\\xa0',\n",
       " 'Tennessee State 38, Samford 28\\xa0\\xa0',\n",
       " '\\xa0',\n",
       " 'Nov 03, 2007\\xa0\\xa0',\n",
       " 'Nashville, TN       \\xa0\\xa0',\n",
       " 'Tennessee State 42, Murray State 28\\xa0\\xa0',\n",
       " '\\xa0',\n",
       " 'Oct 27, 2007\\xa0\\xa0',\n",
       " 'Nashville, TN       \\xa0\\xa0',\n",
       " 'Eastern Illinois 38, Tennessee State 35\\xa0\\xa0',\n",
       " '\\xa0',\n",
       " 'Oct 20, 2007\\xa0\\xa0',\n",
       " 'Richmond, Ky.       \\xa0\\xa0',\n",
       " 'Eastern Kentucky 49, Tennessee State 7\\xa0\\xa0',\n",
       " '\\xa0',\n",
       " 'Oct 11, 2007\\xa0\\xa0',\n",
       " 'Cookeville, TN      \\xa0\\xa0',\n",
       " 'Tennessee State 45, Tennessee Tech 28\\xa0\\xa0',\n",
       " '\\xa0',\n",
       " 'Sep 29, 2007\\xa0\\xa0',\n",
       " 'Atlanta, Ga         \\xa0\\xa0',\n",
       " 'Florida A&M 18, Tennessee State 17\\xa0\\xa0',\n",
       " '\\xa0',\n",
       " 'Sep 22, 2007\\xa0\\xa0',\n",
       " 'Baton Rouge, LA     \\xa0\\xa0',\n",
       " 'Southern 41, Tennessee State 34\\xa0\\xa0',\n",
       " '\\xa0',\n",
       " 'Sep 15, 2007\\xa0\\xa0',\n",
       " 'Clarksville, Tenn.  \\xa0\\xa0',\n",
       " 'Tennessee State 33, Austin Peay 32\\xa0\\xa0',\n",
       " '\\xa0',\n",
       " 'Sep 08, 2007\\xa0\\xa0',\n",
       " 'Memphis, TN         \\xa0\\xa0',\n",
       " 'Tennessee State 16, Jackson State 13\\xa0\\xa0',\n",
       " '\\xa0',\n",
       " 'Sep 01, 2007\\xa0\\xa0',\n",
       " 'Nashville, TN       \\xa0\\xa0',\n",
       " 'Alabama A&M 49, Tennessee State 23\\xa0\\xa0',\n",
       " '\\xa0']"
      ]
     },
     "execution_count": 312,
     "metadata": {},
     "output_type": "execute_result"
    }
   ],
   "source": [
    "#2007 data\n",
    "#use requests.get() to get web page with 2007 data\n",
    "page = requests.get('https://tennstate_ftp.sidearmsports.com/custompages/tsutigers/4C48DA5B-76BE-4378-8E95-9BB2B0DE5E20/teamstat.htm')\n",
    "#parse data on web page using html module.fromstring\n",
    "mytree = html.fromstring(page.content)\n",
    "#go to web address above , right click on page and select inspect to get HTML code for data from right side of page\n",
    "#create XPath query and use xpath function to get list of data from web page\n",
    "schedule2007 = mytree.xpath('body//tr/td/font[@color=\"#000000\"]/text()')\n",
    "#look at list\n",
    "schedule2007"
   ]
  },
  {
   "cell_type": "code",
   "execution_count": 313,
   "metadata": {},
   "outputs": [
    {
     "data": {
      "text/plain": [
       "['Nov 17 2007',\n",
       " 'Nashville TN',\n",
       " 'Tennessee Martin 43 Tennessee State 38',\n",
       " '',\n",
       " 'Nov 08 2007',\n",
       " 'Birmingham AL',\n",
       " 'Tennessee State 38 Samford University 28',\n",
       " '',\n",
       " 'Nov 03 2007',\n",
       " 'Nashville TN',\n",
       " 'Tennessee State 42 Murray State 28',\n",
       " '',\n",
       " 'Oct 27 2007',\n",
       " 'Nashville TN',\n",
       " 'Eastern Illinois 38 Tennessee State 35',\n",
       " '',\n",
       " 'Oct 20 2007',\n",
       " 'Richmond Ky',\n",
       " 'Eastern Kentucky 49 Tennessee State 7',\n",
       " '',\n",
       " 'Oct 11 2007',\n",
       " 'Cookeville TN',\n",
       " 'Tennessee State 45 Tennessee Tech 28',\n",
       " '',\n",
       " 'Sep 29 2007',\n",
       " 'Atlanta Ga',\n",
       " 'Florida A&M 18 Tennessee State 17',\n",
       " '',\n",
       " 'Sep 22 2007',\n",
       " 'BatonRouge LA',\n",
       " 'Southern University 41 Tennessee State 34',\n",
       " '',\n",
       " 'Sep 15 2007',\n",
       " 'Clarksville Tenn',\n",
       " 'Tennessee State 33 Austin Peay 32',\n",
       " '',\n",
       " 'Sep 08 2007',\n",
       " 'Memphis TN',\n",
       " 'Tennessee State 16 Jackson State 13',\n",
       " '',\n",
       " 'Sep 01 2007',\n",
       " 'Nashville TN',\n",
       " 'Alabama A&M 49 Tennessee State 23',\n",
       " '']"
      ]
     },
     "execution_count": 313,
     "metadata": {},
     "output_type": "execute_result"
    }
   ],
   "source": [
    "#get rid of extra text and spaces in list\n",
    "#put text for school name and city into format that's compatible for data frame\n",
    "schedule2007=[r.replace(\"Southern\",\"Southern University\") for r in schedule2007]\n",
    "schedule2007=[s.replace(\"Samford\",\"Samford University\") for s in schedule2007]\n",
    "schedule2007=[t.replace(\"Baton Rouge\",\"BatonRouge\") for t in schedule2007]\n",
    "schedule2007=[v.replace(\"-\",\" \") for v in schedule2007]\n",
    "schedule2007=[w.replace(\".\", \"\") for w in schedule2007]\n",
    "schedule2007=[x.replace(\"\\xa0\", \"\") for x in schedule2007]\n",
    "schedule2007=[y.replace(\",\",\"\") for y in schedule2007]\n",
    "schedule2007=[z.strip() for z in schedule2007]\n",
    "schedule2007"
   ]
  },
  {
   "cell_type": "code",
   "execution_count": 314,
   "metadata": {},
   "outputs": [
    {
     "data": {
      "text/plain": [
       "['Nov 18, 2006\\xa0\\xa0',\n",
       " 'Richmond, Ky.       \\xa0\\xa0',\n",
       " 'Eastern Kentucky 20, Tennessee State 3\\xa0\\xa0',\n",
       " '\\xa0',\n",
       " 'Nov 11, 2006\\xa0\\xa0',\n",
       " 'Nashville, TN       \\xa0\\xa0',\n",
       " 'Tennessee State 31, Southeast Missouri 0\\xa0\\xa0',\n",
       " '\\xa0',\n",
       " 'Nov 04, 2006\\xa0\\xa0',\n",
       " 'Charleston, IL      \\xa0\\xa0',\n",
       " 'EASTERN ILLINOIS 29, Tennessee State 3\\xa0\\xa0',\n",
       " '\\xa0',\n",
       " 'Oct 28, 2006\\xa0\\xa0',\n",
       " 'Nashville, TN       \\xa0\\xa0',\n",
       " 'Tennessee State 29, Samford 7\\xa0\\xa0',\n",
       " '\\xa0',\n",
       " 'Oct 21, 2006\\xa0\\xa0',\n",
       " 'Jacksonville, Ala.  \\xa0\\xa0',\n",
       " 'Tennessee State 38, Jacksonville State 31\\xa0\\xa0',\n",
       " '\\xa0',\n",
       " 'Oct 14, 2006\\xa0\\xa0',\n",
       " 'Nashville, TN       \\xa0\\xa0',\n",
       " 'Tennessee State 30, Tennessee Tech 20\\xa0\\xa0',\n",
       " '\\xa0',\n",
       " 'Sep 30, 2006\\xa0\\xa0',\n",
       " 'Atlanta, GA         \\xa0\\xa0',\n",
       " 'Florida A&M 25, Tennessee State 22\\xa0\\xa0',\n",
       " '\\xa0',\n",
       " 'Sep 23, 2006\\xa0\\xa0',\n",
       " 'Nashville, TN       \\xa0\\xa0',\n",
       " 'Vanderbilt 38, Tennessee State 9\\xa0\\xa0',\n",
       " '\\xa0',\n",
       " 'Sep 16, 2006\\xa0\\xa0',\n",
       " 'Memphis, TN         \\xa0\\xa0',\n",
       " 'Tennessee State 31, Jackson State 30\\xa0\\xa0',\n",
       " '\\xa0',\n",
       " 'Sep 09, 2006\\xa0\\xa0',\n",
       " 'Nashville, TN       \\xa0\\xa0',\n",
       " 'Tennessee State 25, Murray State Univ 15\\xa0\\xa0',\n",
       " '\\xa0',\n",
       " 'Sep 02, 2006\\xa0\\xa0',\n",
       " 'Nashville,TN        \\xa0\\xa0',\n",
       " 'Alabama A&M 27, Tennessee State 20\\xa0\\xa0',\n",
       " '\\xa0']"
      ]
     },
     "execution_count": 314,
     "metadata": {},
     "output_type": "execute_result"
    }
   ],
   "source": [
    "#2006 data\n",
    "#use requests.get() to get web page with 2006 data\n",
    "page = requests.get('https://tennstate_ftp.sidearmsports.com/custompages/tsutigers/902C2D72-E881-4838-87F2-28BA2F9902FC/teamstat.htm')\n",
    "#parse data on web page using html module.fromstring\n",
    "mytree = html.fromstring(page.content)\n",
    "#go to web address above , right click on page and select inspect to get HTML code for data from right side of page\n",
    "#create XPath query and use xpath function to get list of data from web page\n",
    "schedule2006 = mytree.xpath('body//tr/td/font[@color=\"#000000\"]/text()')\n",
    "#look at list\n",
    "schedule2006"
   ]
  },
  {
   "cell_type": "code",
   "execution_count": 315,
   "metadata": {},
   "outputs": [
    {
     "data": {
      "text/plain": [
       "['Nov 18 2006',\n",
       " 'Richmond Ky',\n",
       " 'Eastern Kentucky 20 Tennessee State 3',\n",
       " '',\n",
       " 'Nov 11 2006',\n",
       " 'Nashville TN',\n",
       " 'Tennessee State 31 Southeast Missouri 0',\n",
       " '',\n",
       " 'Nov 04 2006',\n",
       " 'Charleston IL',\n",
       " 'Eastern Illinois 29 Tennessee State 3',\n",
       " '',\n",
       " 'Oct 28 2006',\n",
       " 'Nashville TN',\n",
       " 'Tennessee State 29 Samford University 7',\n",
       " '',\n",
       " 'Oct 21 2006',\n",
       " 'Jacksonville Ala',\n",
       " 'Tennessee State 38 Jacksonville State 31',\n",
       " '',\n",
       " 'Oct 14 2006',\n",
       " 'Nashville TN',\n",
       " 'Tennessee State 30 Tennessee Tech 20',\n",
       " '',\n",
       " 'Sep 30 2006',\n",
       " 'Atlanta GA',\n",
       " 'Florida A&M 25 Tennessee State 22',\n",
       " '',\n",
       " 'Sep 23 2006',\n",
       " 'Nashville TN',\n",
       " 'Vanderbilt University 38 Tennessee State 9',\n",
       " '',\n",
       " 'Sep 16 2006',\n",
       " 'Memphis TN',\n",
       " 'Tennessee State 31 Jackson State 30',\n",
       " '',\n",
       " 'Sep 09 2006',\n",
       " 'Nashville TN',\n",
       " 'Tennessee State 25 Murray State 15',\n",
       " '',\n",
       " 'Sep 02 2006',\n",
       " 'Nashville TN',\n",
       " 'Alabama A&M 27 Tennessee State 20',\n",
       " '']"
      ]
     },
     "execution_count": 315,
     "metadata": {},
     "output_type": "execute_result"
    }
   ],
   "source": [
    "#get rid of extra text and spaces in list\n",
    "#put text for school name and city into format that's compatible for data frame\n",
    "schedule2006=[p.replace(\"Nashville,TN\",\"Nashville, TN\") for p in schedule2006]\n",
    "schedule2006=[q.replace(\"Murray State Univ\",\"Murray State\") for q in schedule2006]\n",
    "schedule2006=[r.replace(\"Vanderbilt\",\"Vanderbilt University\") for r in schedule2006]\n",
    "schedule2006=[s.replace(\"Samford\",\"Samford University\") for s in schedule2006]\n",
    "schedule2006=[t.replace(\"EASTERN ILLINOIS\",\"Eastern Illinois\") for t in schedule2006]\n",
    "schedule2006=[v.replace(\"-\",\" \") for v in schedule2006]\n",
    "schedule2006=[w.replace(\".\", \"\") for w in schedule2006]\n",
    "schedule2006=[x.replace(\"\\xa0\", \"\") for x in schedule2006]\n",
    "schedule2006=[y.replace(\",\",\"\") for y in schedule2006]\n",
    "schedule2006=[z.strip() for z in schedule2006]\n",
    "schedule2006"
   ]
  },
  {
   "cell_type": "code",
   "execution_count": 316,
   "metadata": {},
   "outputs": [
    {
     "data": {
      "text/plain": [
       "['Nov 19, 2005\\xa0\\xa0',\n",
       " 'Nashville, TN       \\xa0\\xa0',\n",
       " 'EKU 49, Tennessee State 0\\xa0\\xa0',\n",
       " '\\xa0',\n",
       " 'Nov 12, 2005\\xa0\\xa0',\n",
       " 'Cape Girardeau, Mo. \\xa0\\xa0',\n",
       " 'SEMO 32, Tennessee State 24\\xa0\\xa0',\n",
       " '\\xa0',\n",
       " 'Nov 05, 2005\\xa0\\xa0',\n",
       " 'Nashville, TN       \\xa0\\xa0',\n",
       " 'Eastern Illinois Uni 27, Tennessee State 3\\xa0\\xa0',\n",
       " '\\xa0',\n",
       " 'Oct 29, 2005\\xa0\\xa0',\n",
       " 'Birmingham, Ala.    \\xa0\\xa0',\n",
       " 'Samford 31, Tennessee State 11\\xa0\\xa0',\n",
       " '\\xa0',\n",
       " 'Oct 22, 2005\\xa0\\xa0',\n",
       " 'Nashville,TN        \\xa0\\xa0',\n",
       " 'Jacksonville State 33, Tennessee State 3\\xa0\\xa0',\n",
       " '\\xa0',\n",
       " 'Oct 13, 2005\\xa0\\xa0',\n",
       " 'Cookeville, Tenn.   \\xa0\\xa0',\n",
       " 'Tennessee State 31, Tennessee Tech 20\\xa0\\xa0',\n",
       " '\\xa0',\n",
       " 'Oct 01, 2005\\xa0\\xa0',\n",
       " 'Indianapolis, Ind.  \\xa0\\xa0',\n",
       " 'No. Carolina A&T St. 16, Tennessee State 3\\xa0\\xa0',\n",
       " '\\xa0',\n",
       " 'Sep 24, 2005\\xa0\\xa0',\n",
       " 'Atlanta, GA         \\xa0\\xa0',\n",
       " 'Florida A&M 12, Tennessee State 7\\xa0\\xa0',\n",
       " '\\xa0',\n",
       " 'Sep 17, 2005\\xa0\\xa0',\n",
       " 'Martin, Tenn        \\xa0\\xa0',\n",
       " 'Tennessee-Martin 42, Tennessee State 20\\xa0\\xa0',\n",
       " '\\xa0',\n",
       " 'Sep 10, 2005\\xa0\\xa0',\n",
       " 'Memphis, TN         \\xa0\\xa0',\n",
       " 'Tennessee State 20, Jackson State 14\\xa0\\xa0',\n",
       " '\\xa0',\n",
       " 'Sep 03, 2005\\xa0\\xa0',\n",
       " 'Nashville,TN        \\xa0\\xa0',\n",
       " 'Alabama A&M Univ 27, Tennessee State 14\\xa0\\xa0',\n",
       " '\\xa0']"
      ]
     },
     "execution_count": 316,
     "metadata": {},
     "output_type": "execute_result"
    }
   ],
   "source": [
    "#2005 data\n",
    "#use requests.get() to get web page with 2005 data\n",
    "page = requests.get('https://tennstate_ftp.sidearmsports.com/custompages/tsutigers/99B728E2-12D4-4887-A990-249892B83897/teamstat.htm')\n",
    "#parse data on web page using html module.fromstring\n",
    "mytree = html.fromstring(page.content)\n",
    "#go to web address above , right click on page and select inspect to get HTML code for data from right side of page\n",
    "#create XPath query and use xpath function to get list of data from web page\n",
    "schedule2005 = mytree.xpath('body//tr/td/font[@color=\"#000000\"]/text()')\n",
    "#look at list\n",
    "schedule2005"
   ]
  },
  {
   "cell_type": "code",
   "execution_count": 317,
   "metadata": {},
   "outputs": [
    {
     "data": {
      "text/plain": [
       "['Nov 19 2005',\n",
       " 'Nashville TN',\n",
       " 'Eastern Kentucky 49 Tennessee State 0',\n",
       " '',\n",
       " 'Nov 12 2005',\n",
       " 'CapeGirardeau Mo',\n",
       " 'Southeast Missouri 32 Tennessee State 24',\n",
       " '',\n",
       " 'Nov 05 2005',\n",
       " 'Nashville TN',\n",
       " 'Eastern Illinois 27 Tennessee State 3',\n",
       " '',\n",
       " 'Oct 29 2005',\n",
       " 'Birmingham Ala',\n",
       " 'Samford University 31 Tennessee State 11',\n",
       " '',\n",
       " 'Oct 22 2005',\n",
       " 'Nashville TN',\n",
       " 'Jacksonville State 33 Tennessee State 3',\n",
       " '',\n",
       " 'Oct 13 2005',\n",
       " 'Cookeville Tenn',\n",
       " 'Tennessee State 31 Tennessee Tech 20',\n",
       " '',\n",
       " 'Oct 01 2005',\n",
       " 'Indianapolis Ind',\n",
       " 'NorthCarolina A&T 16 Tennessee State 3',\n",
       " '',\n",
       " 'Sep 24 2005',\n",
       " 'Atlanta GA',\n",
       " 'Florida A&M 12 Tennessee State 7',\n",
       " '',\n",
       " 'Sep 17 2005',\n",
       " 'Martin Tenn',\n",
       " 'Tennessee Martin 42 Tennessee State 20',\n",
       " '',\n",
       " 'Sep 10 2005',\n",
       " 'Memphis TN',\n",
       " 'Tennessee State 20 Jackson State 14',\n",
       " '',\n",
       " 'Sep 03 2005',\n",
       " 'Nashville TN',\n",
       " 'Alabama A&M 27 Tennessee State 14',\n",
       " '']"
      ]
     },
     "execution_count": 317,
     "metadata": {},
     "output_type": "execute_result"
    }
   ],
   "source": [
    "#get rid of extra text and spaces in list\n",
    "#put text for school name and city into format that's compatible for data frame\n",
    "schedule2005=[m.replace(\"Eastern Illinois Uni\",\"Eastern Illinois\") for m in schedule2005]\n",
    "schedule2005=[n.replace(\"No. Carolina A&T St.\",\"NorthCarolina A&T\") for n in schedule2005]\n",
    "schedule2005=[o.replace(\"Alabama A&M Univ\",\"Alabama A&M\") for o in schedule2005]\n",
    "schedule2005=[p.replace(\"Nashville,TN\",\"Nashville, TN\") for p in schedule2005]\n",
    "schedule2005=[q.replace(\"Samford\",\"Samford University\") for q in schedule2005]\n",
    "schedule2005=[r.replace(\"SEMO\",\"Southeast Missouri\") for r in schedule2005]\n",
    "schedule2005=[s.replace(\"EKU\",\"Eastern Kentucky\") for s in schedule2005]\n",
    "schedule2005=[t.replace(\"Cape Girardeau\",\"CapeGirardeau\") for t in schedule2005]\n",
    "schedule2005=[v.replace(\"-\",\" \") for v in schedule2005]\n",
    "schedule2005=[w.replace(\".\", \"\") for w in schedule2005]\n",
    "schedule2005=[x.replace(\"\\xa0\", \"\") for x in schedule2005]\n",
    "schedule2005=[y.replace(\",\",\"\") for y in schedule2005]\n",
    "schedule2005=[z.strip() for z in schedule2005]\n",
    "schedule2005"
   ]
  },
  {
   "cell_type": "code",
   "execution_count": 318,
   "metadata": {},
   "outputs": [
    {
     "data": {
      "text/plain": [
       "['Nov 20, 2004\\xa0\\xa0',\n",
       " 'Nashville, TN       \\xa0\\xa0',\n",
       " 'Murray State 30, Tennessee State 13\\xa0\\xa0',\n",
       " 'Nov 13, 2004\\xa0\\xa0',\n",
       " 'Richmond KY         \\xa0\\xa0',\n",
       " 'Eastern Kentucky 29, Tennessee State 14\\xa0\\xa0',\n",
       " 'Nov 06, 2004\\xa0\\xa0',\n",
       " 'Nashville,TN        \\xa0\\xa0',\n",
       " 'Tennessee State 38, Southeast Missouri 36\\xa0\\xa0',\n",
       " 'Oct 30, 2004\\xa0\\xa0',\n",
       " 'Charleston, Illinois\\xa0\\xa0',\n",
       " 'Eastern Illinois 34, Tennessee State 24\\xa0\\xa0',\n",
       " 'Oct 23, 2004\\xa0\\xa0',\n",
       " 'Nashville, TN       \\xa0\\xa0',\n",
       " 'Samford University 42, Tennessee State 36\\xa0\\xa0',\n",
       " 'Oct 16, 2004\\xa0\\xa0',\n",
       " 'Jacksonville, Ala.  \\xa0\\xa0',\n",
       " 'Jacksonville State 49, Tennessee State 35\\xa0\\xa0',\n",
       " 'Oct 02, 2004\\xa0\\xa0',\n",
       " 'RCA Dome            \\xa0\\xa0',\n",
       " 'South Carolina State 30, Tennessee State 13\\xa0\\xa0',\n",
       " 'Sep 25, 2004\\xa0\\xa0',\n",
       " 'Atlanta, Georgia    \\xa0\\xa0',\n",
       " 'Florida A&M 21, Tennessee State 15\\xa0\\xa0',\n",
       " 'Sep 18, 2004\\xa0\\xa0',\n",
       " 'Memphis, Tennessee  \\xa0\\xa0',\n",
       " 'Tennessee State 21, Jackson State 20\\xa0\\xa0',\n",
       " 'Sep 09, 2004\\xa0\\xa0',\n",
       " 'Martin, Tennessee   \\xa0\\xa0',\n",
       " 'Tennessee State 27, Tennessee-Martin 13\\xa0\\xa0',\n",
       " 'Sep. 4, 2003\\xa0\\xa0',\n",
       " 'Nashville, TN       \\xa0\\xa0',\n",
       " 'Tennessee State 42, Alabama A&M 7\\xa0\\xa0']"
      ]
     },
     "execution_count": 318,
     "metadata": {},
     "output_type": "execute_result"
    }
   ],
   "source": [
    "#2004 data\n",
    "#use requests.get() to get web page with 2004 data\n",
    "page = requests.get('https://tennstate_ftp.sidearmsports.com/custompages/tsutigers/57C54C44-DE63-4F94-99EB-2BB3329FC2BA/teamstat.htm')\n",
    "#parse data on web page using html module.fromstring\n",
    "mytree = html.fromstring(page.content)\n",
    "#go to web address above , right click on page and select inspect to get HTML code for data from right side of page\n",
    "#create XPath query and use xpath function to get list of data from web page\n",
    "schedule2004 = mytree.xpath('body//tr/td/font[@color=\"#000000\"]/text()')\n",
    "#look at list\n",
    "schedule2004"
   ]
  },
  {
   "cell_type": "code",
   "execution_count": 319,
   "metadata": {},
   "outputs": [
    {
     "data": {
      "text/plain": [
       "['Nov 20 2004',\n",
       " 'Nashville TN',\n",
       " 'Murray State 30 Tennessee State 13',\n",
       " '',\n",
       " 'Nov 13 2004',\n",
       " 'Richmond KY',\n",
       " 'Eastern Kentucky 29 Tennessee State 14',\n",
       " '',\n",
       " 'Nov 06 2004',\n",
       " 'Nashville TN',\n",
       " 'Tennessee State 38 Southeast Missouri 36',\n",
       " '',\n",
       " 'Oct 30 2004',\n",
       " 'Charleston Illinois',\n",
       " 'Eastern Illinois 34 Tennessee State 24',\n",
       " '',\n",
       " 'Oct 23 2004',\n",
       " 'Nashville TN',\n",
       " 'Samford University 42 Tennessee State 36',\n",
       " '',\n",
       " 'Oct 16 2004',\n",
       " 'Jacksonville Ala',\n",
       " 'Jacksonville State 49 Tennessee State 35',\n",
       " '',\n",
       " 'Oct 02 2004',\n",
       " 'Indianapolis IN',\n",
       " 'SouthCarolina State 30 Tennessee State 13',\n",
       " '',\n",
       " 'Sep 25 2004',\n",
       " 'Atlanta Georgia',\n",
       " 'Florida A&M 21 Tennessee State 15',\n",
       " '',\n",
       " 'Sep 18 2004',\n",
       " 'Memphis Tennessee',\n",
       " 'Tennessee State 21 Jackson State 20',\n",
       " '',\n",
       " 'Sep 09 2004',\n",
       " 'Martin Tennessee',\n",
       " 'Tennessee State 27 Tennessee Martin 13',\n",
       " '',\n",
       " 'Sep 4 2003',\n",
       " 'Nashville TN',\n",
       " 'Tennessee State 42 Alabama A&M 7',\n",
       " '']"
      ]
     },
     "execution_count": 319,
     "metadata": {},
     "output_type": "execute_result"
    }
   ],
   "source": [
    "#get rid of extra text and spaces in list\n",
    "#put text for school name and city into format that's compatible for data frame\n",
    "schedule2004=[r.replace(\"Nashville,TN\",\"Nashville, TN\") for r in schedule2004]\n",
    "schedule2004=[s.replace(\"South Carolina State\",\"SouthCarolina State\") for s in schedule2004]\n",
    "schedule2004=[t.replace(\"RCA Dome\",\"Indianapolis, IN\") for t in schedule2004]\n",
    "schedule2004=[v.replace(\"-\",\" \") for v in schedule2004]\n",
    "schedule2004=[w.replace(\".\", \"\") for w in schedule2004]\n",
    "schedule2004=[x.replace(\"\\xa0\", \"\") for x in schedule2004]\n",
    "schedule2004=[y.replace(\",\",\"\") for y in schedule2004]\n",
    "schedule2004=[z.strip() for z in schedule2004]\n",
    "\n",
    "#adding blank elements to list to make it similar to other lists being concatenated\n",
    "#can't assign it back to itself or I'll get a Nonetype error\n",
    "schedule2004.insert(3, \"\")\n",
    "schedule2004.insert(7, \"\")\n",
    "schedule2004.insert(11, \"\")\n",
    "schedule2004.insert(15, \"\")\n",
    "schedule2004.insert(19, \"\")\n",
    "schedule2004.insert(23, \"\")\n",
    "schedule2004.insert(27, \"\")\n",
    "schedule2004.insert(31, \"\")\n",
    "schedule2004.insert(35, \"\")\n",
    "schedule2004.insert(39, \"\")\n",
    "schedule2004.insert(43, \"\")\n",
    "schedule2004"
   ]
  },
  {
   "cell_type": "code",
   "execution_count": 320,
   "metadata": {},
   "outputs": [
    {
     "data": {
      "text/plain": [
       "['Nov 22, 2003\\xa0\\xa0',\n",
       " 'Murray, Ky.         \\xa0\\xa0',\n",
       " 'Tennessee State 35, Murray State 10\\xa0\\xa0',\n",
       " 'Nov 15, 2003\\xa0\\xa0',\n",
       " 'Nashville, Tenn.    \\xa0\\xa0',\n",
       " 'Eastern Kentucky 43, Tennessee State 38\\xa0\\xa0',\n",
       " 'Nov 08, 2003\\xa0\\xa0',\n",
       " 'Cape Girardeau, Mo. \\xa0\\xa0',\n",
       " 'Southeast Missouri 52, Tennessee State 35\\xa0\\xa0',\n",
       " 'Nov 01, 2003\\xa0\\xa0',\n",
       " 'Nashville, Tenn.    \\xa0\\xa0',\n",
       " 'Tennessee State 24, Eastern Illinois 14\\xa0\\xa0',\n",
       " 'Oct 25, 2003\\xa0\\xa0',\n",
       " 'Birmingham, Ala.    \\xa0\\xa0',\n",
       " 'Tennessee State 29, Samford 24\\xa0\\xa0',\n",
       " 'Oct 18, 2003\\xa0\\xa0',\n",
       " 'Nashville, Tennessee\\xa0\\xa0',\n",
       " 'Jacksonville State 34, Tennessee State 7\\xa0\\xa0',\n",
       " 'Oct 11, 2003\\xa0\\xa0',\n",
       " 'Cookeville, Tenn.   \\xa0\\xa0',\n",
       " 'Tennessee State 27, Tennessee Tech 23\\xa0\\xa0',\n",
       " 'Sep 27, 2003\\xa0\\xa0',\n",
       " 'Nashville, Tenn.    \\xa0\\xa0',\n",
       " 'Tennessee State 41, Tennessee-Martin 10\\xa0\\xa0',\n",
       " 'Sep 20, 2003\\xa0\\xa0',\n",
       " 'Atlanta, Ga.        \\xa0\\xa0',\n",
       " 'Florida A&M Univ. 10, Tennessee State 7\\xa0\\xa0',\n",
       " 'Sep 13, 2003\\xa0\\xa0',\n",
       " 'Memphis, Tennessee  \\xa0\\xa0',\n",
       " 'Tennessee State 44, Jackson State Tigers 14\\xa0\\xa0',\n",
       " 'Sep. 6, 2003\\xa0\\xa0',\n",
       " 'Huntsville, Alabama \\xa0\\xa0',\n",
       " 'Alabama A&M 31, Tennessee State 24\\xa0\\xa0',\n",
       " 'Aug 30, 2003\\xa0\\xa0',\n",
       " 'Nashville, Tenn.    \\xa0\\xa0',\n",
       " 'Tennessee State 37, South Carolina State 20\\xa0\\xa0']"
      ]
     },
     "execution_count": 320,
     "metadata": {},
     "output_type": "execute_result"
    }
   ],
   "source": [
    "#2003 data\n",
    "#use requests.get() to get web page with 2003 data\n",
    "page = requests.get('https://tennstate_ftp.sidearmsports.com/custompages/tsutigers/A5FB3AA1-8151-496A-A022-754FE722F59E/teamstat.htm')\n",
    "#parse data on web page using html module.fromstring\n",
    "mytree = html.fromstring(page.content)\n",
    "#go to web address above , right click on page and select inspect to get HTML code for data from right side of page\n",
    "#create XPath query and use xpath function to get list of data from web page\n",
    "schedule2003 = mytree.xpath('body//tr/td/font[@color=\"#000000\"]/text()')\n",
    "#look at list\n",
    "schedule2003"
   ]
  },
  {
   "cell_type": "code",
   "execution_count": 321,
   "metadata": {},
   "outputs": [
    {
     "data": {
      "text/plain": [
       "['Nov 22 2003',\n",
       " 'Murray Ky',\n",
       " 'Tennessee State 35 Murray State 10',\n",
       " '',\n",
       " 'Nov 15 2003',\n",
       " 'Nashville Tenn',\n",
       " 'Eastern Kentucky 43 Tennessee State 38',\n",
       " '',\n",
       " 'Nov 08 2003',\n",
       " 'CapeGirardeau Mo',\n",
       " 'Southeast Missouri 52 Tennessee State 35',\n",
       " '',\n",
       " 'Nov 01 2003',\n",
       " 'Nashville Tenn',\n",
       " 'Tennessee State 24 Eastern Illinois 14',\n",
       " '',\n",
       " 'Oct 25 2003',\n",
       " 'Birmingham Ala',\n",
       " 'Tennessee State 29 Samford University 24',\n",
       " '',\n",
       " 'Oct 18 2003',\n",
       " 'Nashville Tennessee',\n",
       " 'Jacksonville State 34 Tennessee State 7',\n",
       " '',\n",
       " 'Oct 11 2003',\n",
       " 'Cookeville Tenn',\n",
       " 'Tennessee State 27 Tennessee Tech 23',\n",
       " '',\n",
       " 'Sep 27 2003',\n",
       " 'Nashville Tenn',\n",
       " 'Tennessee State 41 Tennessee Martin 10',\n",
       " '',\n",
       " 'Sep 20 2003',\n",
       " 'Atlanta Ga',\n",
       " 'Florida A&M  10 Tennessee State 7',\n",
       " '',\n",
       " 'Sep 13 2003',\n",
       " 'Memphis Tennessee',\n",
       " 'Tennessee State 44 Jackson State  14',\n",
       " '',\n",
       " 'Sep 6 2003',\n",
       " 'Huntsville Alabama',\n",
       " 'Alabama A&M 31 Tennessee State 24',\n",
       " '',\n",
       " 'Aug 30 2003',\n",
       " 'Nashville Tenn',\n",
       " 'Tennessee State 37 SouthCarolina State 20',\n",
       " '']"
      ]
     },
     "execution_count": 321,
     "metadata": {},
     "output_type": "execute_result"
    }
   ],
   "source": [
    "#get rid of extra text and spaces in list\n",
    "#put text for school name and city into format that's compatible for data frame\n",
    "schedule2003=[q.replace(\"Univ.\",\"\") for q in schedule2003]\n",
    "schedule2003=[r.replace(\"South Carolina State\",\"SouthCarolina State\") for r in schedule2003]\n",
    "schedule2003=[s.replace(\"Samford\",\"Samford University\") for s in schedule2003]\n",
    "schedule2003=[s.replace(\"Tigers\",\"\") for s in schedule2003]\n",
    "schedule2003=[t.replace(\"Cape Girardeau\",\"CapeGirardeau\") for t in schedule2003]\n",
    "schedule2003=[v.replace(\"-\",\" \") for v in schedule2003]\n",
    "schedule2003=[w.replace(\".\", \"\") for w in schedule2003]\n",
    "schedule2003=[x.replace(\"\\xa0\", \"\") for x in schedule2003]\n",
    "schedule2003=[y.replace(\",\",\"\") for y in schedule2003]\n",
    "schedule2003=[z.strip() for z in schedule2003]\n",
    "schedule2003\n",
    "\n",
    "#adding blank elements to list to make it similar to other lists being concatenated\n",
    "#can't assign it back to itself or I'll get a Nonetype error\n",
    "schedule2003.insert(3, \"\")\n",
    "schedule2003.insert(7, \"\")\n",
    "schedule2003.insert(11, \"\")\n",
    "schedule2003.insert(15, \"\")\n",
    "schedule2003.insert(19, \"\")\n",
    "schedule2003.insert(23, \"\")\n",
    "schedule2003.insert(27, \"\")\n",
    "schedule2003.insert(31, \"\")\n",
    "schedule2003.insert(35, \"\")\n",
    "schedule2003.insert(39, \"\")\n",
    "schedule2003.insert(43, \"\")\n",
    "schedule2003.insert(47, \"\")\n",
    "schedule2003"
   ]
  },
  {
   "cell_type": "code",
   "execution_count": 322,
   "metadata": {},
   "outputs": [
    {
     "data": {
      "text/plain": [
       "48"
      ]
     },
     "execution_count": 322,
     "metadata": {},
     "output_type": "execute_result"
    }
   ],
   "source": [
    "#get number of elements for 2003 list\n",
    "len(schedule2003)"
   ]
  },
  {
   "cell_type": "code",
   "execution_count": 323,
   "metadata": {},
   "outputs": [
    {
     "data": {
      "text/plain": [
       "44"
      ]
     },
     "execution_count": 323,
     "metadata": {},
     "output_type": "execute_result"
    }
   ],
   "source": [
    "#get number of elements for 2004 list\n",
    "len(schedule2004)"
   ]
  },
  {
   "cell_type": "code",
   "execution_count": 324,
   "metadata": {},
   "outputs": [
    {
     "data": {
      "text/plain": [
       "44"
      ]
     },
     "execution_count": 324,
     "metadata": {},
     "output_type": "execute_result"
    }
   ],
   "source": [
    "#get number of elements for 2005 list\n",
    "len(schedule2005)"
   ]
  },
  {
   "cell_type": "code",
   "execution_count": 325,
   "metadata": {},
   "outputs": [
    {
     "data": {
      "text/plain": [
       "44"
      ]
     },
     "execution_count": 325,
     "metadata": {},
     "output_type": "execute_result"
    }
   ],
   "source": [
    "#get number of elements for 2006 list\n",
    "len(schedule2006)"
   ]
  },
  {
   "cell_type": "code",
   "execution_count": 326,
   "metadata": {},
   "outputs": [
    {
     "data": {
      "text/plain": [
       "44"
      ]
     },
     "execution_count": 326,
     "metadata": {},
     "output_type": "execute_result"
    }
   ],
   "source": [
    "#get number of elements for 2007 list\n",
    "len(schedule2007)"
   ]
  },
  {
   "cell_type": "code",
   "execution_count": 327,
   "metadata": {},
   "outputs": [
    {
     "data": {
      "text/plain": [
       "48"
      ]
     },
     "execution_count": 327,
     "metadata": {},
     "output_type": "execute_result"
    }
   ],
   "source": [
    "#get number of elements for 2008 list\n",
    "len(schedule2008)"
   ]
  },
  {
   "cell_type": "code",
   "execution_count": 328,
   "metadata": {},
   "outputs": [
    {
     "data": {
      "text/plain": [
       "44"
      ]
     },
     "execution_count": 328,
     "metadata": {},
     "output_type": "execute_result"
    }
   ],
   "source": [
    "#get number of elements for 2009 list\n",
    "len(schedule2009)"
   ]
  },
  {
   "cell_type": "code",
   "execution_count": 329,
   "metadata": {},
   "outputs": [
    {
     "data": {
      "text/plain": [
       "44"
      ]
     },
     "execution_count": 329,
     "metadata": {},
     "output_type": "execute_result"
    }
   ],
   "source": [
    "#get number of elements for 2010 list\n",
    "len(schedule2010)"
   ]
  },
  {
   "cell_type": "code",
   "execution_count": 330,
   "metadata": {},
   "outputs": [
    {
     "data": {
      "text/plain": [
       "44"
      ]
     },
     "execution_count": 330,
     "metadata": {},
     "output_type": "execute_result"
    }
   ],
   "source": [
    "#get number of elements for 2011 list\n",
    "len(schedule2011)"
   ]
  },
  {
   "cell_type": "code",
   "execution_count": 331,
   "metadata": {},
   "outputs": [
    {
     "data": {
      "text/plain": [
       "44"
      ]
     },
     "execution_count": 331,
     "metadata": {},
     "output_type": "execute_result"
    }
   ],
   "source": [
    "#get number of elements for 2012 list\n",
    "len(schedule2012)"
   ]
  },
  {
   "cell_type": "code",
   "execution_count": 332,
   "metadata": {},
   "outputs": [
    {
     "data": {
      "text/plain": [
       "56"
      ]
     },
     "execution_count": 332,
     "metadata": {},
     "output_type": "execute_result"
    }
   ],
   "source": [
    "#get number of elements for 2013 list\n",
    "len(schedule2013)"
   ]
  },
  {
   "cell_type": "code",
   "execution_count": 333,
   "metadata": {},
   "outputs": [
    {
     "data": {
      "text/plain": [
       "48"
      ]
     },
     "execution_count": 333,
     "metadata": {},
     "output_type": "execute_result"
    }
   ],
   "source": [
    "# get number of elements for 2014 list\n",
    "len(schedule2014)"
   ]
  },
  {
   "cell_type": "code",
   "execution_count": 334,
   "metadata": {},
   "outputs": [
    {
     "data": {
      "text/plain": [
       "40"
      ]
     },
     "execution_count": 334,
     "metadata": {},
     "output_type": "execute_result"
    }
   ],
   "source": [
    "# get number of elements for 2015 list\n",
    "len(schedule2015)"
   ]
  },
  {
   "cell_type": "code",
   "execution_count": 335,
   "metadata": {},
   "outputs": [
    {
     "data": {
      "text/plain": [
       "44"
      ]
     },
     "execution_count": 335,
     "metadata": {},
     "output_type": "execute_result"
    }
   ],
   "source": [
    "# get number of elements for 2016 list\n",
    "len(schedule2016)"
   ]
  },
  {
   "cell_type": "code",
   "execution_count": 336,
   "metadata": {},
   "outputs": [
    {
     "data": {
      "text/plain": [
       "44"
      ]
     },
     "execution_count": 336,
     "metadata": {},
     "output_type": "execute_result"
    }
   ],
   "source": [
    "# get number of elements for 2017 list\n",
    "len(schedule2017)"
   ]
  },
  {
   "cell_type": "code",
   "execution_count": 337,
   "metadata": {},
   "outputs": [
    {
     "data": {
      "text/plain": [
       "36"
      ]
     },
     "execution_count": 337,
     "metadata": {},
     "output_type": "execute_result"
    }
   ],
   "source": [
    "# get number of elements for 2018 list\n",
    "len(schedule2018)"
   ]
  },
  {
   "cell_type": "code",
   "execution_count": 338,
   "metadata": {},
   "outputs": [
    {
     "data": {
      "text/plain": [
       "48"
      ]
     },
     "execution_count": 338,
     "metadata": {},
     "output_type": "execute_result"
    }
   ],
   "source": [
    "# get number of elements for 2019 list\n",
    "len(schedule2019)"
   ]
  },
  {
   "cell_type": "code",
   "execution_count": 339,
   "metadata": {},
   "outputs": [
    {
     "data": {
      "text/plain": [
       "764"
      ]
     },
     "execution_count": 339,
     "metadata": {},
     "output_type": "execute_result"
    }
   ],
   "source": [
    "#create a single list for all 5 years\n",
    "fulldata=schedule2003+schedule2004+schedule2005+schedule2006+schedule2007+schedule2008+schedule2009+schedule2010+schedule2011+schedule2012+schedule2013+schedule2014+schedule2015+schedule2016+schedule2017+schedule2018+schedule2019\n",
    "#get number of elements for full data\n",
    "len(fulldata)"
   ]
  },
  {
   "cell_type": "code",
   "execution_count": 340,
   "metadata": {},
   "outputs": [
    {
     "data": {
      "text/plain": [
       "[['Nov 22 2003', 'Murray Ky', 'Tennessee State 35 Murray State 10', ''],\n",
       " ['Nov 15 2003',\n",
       "  'Nashville Tenn',\n",
       "  'Eastern Kentucky 43 Tennessee State 38',\n",
       "  ''],\n",
       " ['Nov 08 2003',\n",
       "  'CapeGirardeau Mo',\n",
       "  'Southeast Missouri 52 Tennessee State 35',\n",
       "  ''],\n",
       " ['Nov 01 2003',\n",
       "  'Nashville Tenn',\n",
       "  'Tennessee State 24 Eastern Illinois 14',\n",
       "  ''],\n",
       " ['Oct 25 2003',\n",
       "  'Birmingham Ala',\n",
       "  'Tennessee State 29 Samford University 24',\n",
       "  '']]"
      ]
     },
     "execution_count": 340,
     "metadata": {},
     "output_type": "execute_result"
    }
   ],
   "source": [
    "#create list of lists\n",
    "#from list of sublists (each sublist is a game) (each sublist will be a row in the data frame)\n",
    "#using list comprehension that takes every 4 elements of list in order (each single game details) and creates a sublist \n",
    "#within list_of_lists\n",
    "list_of_lists=[fulldata[i:i+4] for i in range(0,len(fulldata),4)]\n",
    "#print 1st 5 elements of list\n",
    "list_of_lists[:5]"
   ]
  },
  {
   "cell_type": "code",
   "execution_count": 341,
   "metadata": {},
   "outputs": [
    {
     "data": {
      "text/html": [
       "<div>\n",
       "<style scoped>\n",
       "    .dataframe tbody tr th:only-of-type {\n",
       "        vertical-align: middle;\n",
       "    }\n",
       "\n",
       "    .dataframe tbody tr th {\n",
       "        vertical-align: top;\n",
       "    }\n",
       "\n",
       "    .dataframe thead th {\n",
       "        text-align: right;\n",
       "    }\n",
       "</style>\n",
       "<table border=\"1\" class=\"dataframe\">\n",
       "  <thead>\n",
       "    <tr style=\"text-align: right;\">\n",
       "      <th></th>\n",
       "      <th>date</th>\n",
       "      <th>location</th>\n",
       "      <th>scores</th>\n",
       "      <th>reserve</th>\n",
       "    </tr>\n",
       "  </thead>\n",
       "  <tbody>\n",
       "    <tr>\n",
       "      <th>0</th>\n",
       "      <td>Nov 22 2003</td>\n",
       "      <td>Murray Ky</td>\n",
       "      <td>Tennessee State 35 Murray State 10</td>\n",
       "      <td></td>\n",
       "    </tr>\n",
       "    <tr>\n",
       "      <th>1</th>\n",
       "      <td>Nov 15 2003</td>\n",
       "      <td>Nashville Tenn</td>\n",
       "      <td>Eastern Kentucky 43 Tennessee State 38</td>\n",
       "      <td></td>\n",
       "    </tr>\n",
       "    <tr>\n",
       "      <th>2</th>\n",
       "      <td>Nov 08 2003</td>\n",
       "      <td>CapeGirardeau Mo</td>\n",
       "      <td>Southeast Missouri 52 Tennessee State 35</td>\n",
       "      <td></td>\n",
       "    </tr>\n",
       "    <tr>\n",
       "      <th>3</th>\n",
       "      <td>Nov 01 2003</td>\n",
       "      <td>Nashville Tenn</td>\n",
       "      <td>Tennessee State 24 Eastern Illinois 14</td>\n",
       "      <td></td>\n",
       "    </tr>\n",
       "    <tr>\n",
       "      <th>4</th>\n",
       "      <td>Oct 25 2003</td>\n",
       "      <td>Birmingham Ala</td>\n",
       "      <td>Tennessee State 29 Samford University 24</td>\n",
       "      <td></td>\n",
       "    </tr>\n",
       "  </tbody>\n",
       "</table>\n",
       "</div>"
      ],
      "text/plain": [
       "          date          location                                    scores  \\\n",
       "0  Nov 22 2003         Murray Ky        Tennessee State 35 Murray State 10   \n",
       "1  Nov 15 2003    Nashville Tenn    Eastern Kentucky 43 Tennessee State 38   \n",
       "2  Nov 08 2003  CapeGirardeau Mo  Southeast Missouri 52 Tennessee State 35   \n",
       "3  Nov 01 2003    Nashville Tenn    Tennessee State 24 Eastern Illinois 14   \n",
       "4  Oct 25 2003    Birmingham Ala  Tennessee State 29 Samford University 24   \n",
       "\n",
       "  reserve  \n",
       "0          \n",
       "1          \n",
       "2          \n",
       "3          \n",
       "4          "
      ]
     },
     "execution_count": 341,
     "metadata": {},
     "output_type": "execute_result"
    }
   ],
   "source": [
    "#create dataframe from list of lists\n",
    "#adding columns names\n",
    "df=pd.DataFrame(list_of_lists, columns=['date','location','scores', 'reserve'])\n",
    "df.head()"
   ]
  },
  {
   "cell_type": "code",
   "execution_count": 342,
   "metadata": {},
   "outputs": [
    {
     "data": {
      "text/plain": [
       "reserve    False\n",
       "dtype: bool"
      ]
     },
     "execution_count": 342,
     "metadata": {},
     "output_type": "execute_result"
    }
   ],
   "source": [
    "#check reserve column to see if there any values in there to see if any text extended out of the scores column\n",
    "df[['reserve']].any()"
   ]
  },
  {
   "cell_type": "code",
   "execution_count": 343,
   "metadata": {},
   "outputs": [
    {
     "data": {
      "text/html": [
       "<div>\n",
       "<style scoped>\n",
       "    .dataframe tbody tr th:only-of-type {\n",
       "        vertical-align: middle;\n",
       "    }\n",
       "\n",
       "    .dataframe tbody tr th {\n",
       "        vertical-align: top;\n",
       "    }\n",
       "\n",
       "    .dataframe thead th {\n",
       "        text-align: right;\n",
       "    }\n",
       "</style>\n",
       "<table border=\"1\" class=\"dataframe\">\n",
       "  <thead>\n",
       "    <tr style=\"text-align: right;\">\n",
       "      <th></th>\n",
       "      <th>date</th>\n",
       "      <th>location</th>\n",
       "      <th>scores</th>\n",
       "    </tr>\n",
       "  </thead>\n",
       "  <tbody>\n",
       "    <tr>\n",
       "      <th>0</th>\n",
       "      <td>Nov 22 2003</td>\n",
       "      <td>Murray Ky</td>\n",
       "      <td>Tennessee State 35 Murray State 10</td>\n",
       "    </tr>\n",
       "    <tr>\n",
       "      <th>1</th>\n",
       "      <td>Nov 15 2003</td>\n",
       "      <td>Nashville Tenn</td>\n",
       "      <td>Eastern Kentucky 43 Tennessee State 38</td>\n",
       "    </tr>\n",
       "    <tr>\n",
       "      <th>2</th>\n",
       "      <td>Nov 08 2003</td>\n",
       "      <td>CapeGirardeau Mo</td>\n",
       "      <td>Southeast Missouri 52 Tennessee State 35</td>\n",
       "    </tr>\n",
       "    <tr>\n",
       "      <th>3</th>\n",
       "      <td>Nov 01 2003</td>\n",
       "      <td>Nashville Tenn</td>\n",
       "      <td>Tennessee State 24 Eastern Illinois 14</td>\n",
       "    </tr>\n",
       "    <tr>\n",
       "      <th>4</th>\n",
       "      <td>Oct 25 2003</td>\n",
       "      <td>Birmingham Ala</td>\n",
       "      <td>Tennessee State 29 Samford University 24</td>\n",
       "    </tr>\n",
       "  </tbody>\n",
       "</table>\n",
       "</div>"
      ],
      "text/plain": [
       "          date          location                                    scores\n",
       "0  Nov 22 2003         Murray Ky        Tennessee State 35 Murray State 10\n",
       "1  Nov 15 2003    Nashville Tenn    Eastern Kentucky 43 Tennessee State 38\n",
       "2  Nov 08 2003  CapeGirardeau Mo  Southeast Missouri 52 Tennessee State 35\n",
       "3  Nov 01 2003    Nashville Tenn    Tennessee State 24 Eastern Illinois 14\n",
       "4  Oct 25 2003    Birmingham Ala  Tennessee State 29 Samford University 24"
      ]
     },
     "execution_count": 343,
     "metadata": {},
     "output_type": "execute_result"
    }
   ],
   "source": [
    "#drop reserve since it's empty\n",
    "df=df.drop('reserve',axis=1)\n",
    "df.head()"
   ]
  },
  {
   "cell_type": "code",
   "execution_count": 344,
   "metadata": {},
   "outputs": [
    {
     "data": {
      "text/plain": [
       "(191, 3)"
      ]
     },
     "execution_count": 344,
     "metadata": {},
     "output_type": "execute_result"
    }
   ],
   "source": [
    "#get number of rows and columns in file\n",
    "df.shape"
   ]
  },
  {
   "cell_type": "code",
   "execution_count": 345,
   "metadata": {},
   "outputs": [
    {
     "data": {
      "text/html": [
       "<div>\n",
       "<style scoped>\n",
       "    .dataframe tbody tr th:only-of-type {\n",
       "        vertical-align: middle;\n",
       "    }\n",
       "\n",
       "    .dataframe tbody tr th {\n",
       "        vertical-align: top;\n",
       "    }\n",
       "\n",
       "    .dataframe thead th {\n",
       "        text-align: right;\n",
       "    }\n",
       "</style>\n",
       "<table border=\"1\" class=\"dataframe\">\n",
       "  <thead>\n",
       "    <tr style=\"text-align: right;\">\n",
       "      <th></th>\n",
       "      <th>date</th>\n",
       "      <th>location</th>\n",
       "      <th>scores</th>\n",
       "      <th>month</th>\n",
       "      <th>day</th>\n",
       "      <th>year</th>\n",
       "      <th>city</th>\n",
       "      <th>state</th>\n",
       "      <th>win1</th>\n",
       "      <th>win2</th>\n",
       "      <th>...</th>\n",
       "      <th>los2</th>\n",
       "      <th>losscore</th>\n",
       "      <th>loser</th>\n",
       "      <th>winner</th>\n",
       "      <th>locale</th>\n",
       "      <th>TSU score</th>\n",
       "      <th>opponent score</th>\n",
       "      <th>scorediff</th>\n",
       "      <th>scorediff_abs</th>\n",
       "      <th>winloss</th>\n",
       "    </tr>\n",
       "  </thead>\n",
       "  <tbody>\n",
       "    <tr>\n",
       "      <th>0</th>\n",
       "      <td>Nov 22 2003</td>\n",
       "      <td>Murray Ky</td>\n",
       "      <td>Tennessee State 35 Murray State 10</td>\n",
       "      <td>Nov</td>\n",
       "      <td>22</td>\n",
       "      <td>2003</td>\n",
       "      <td>Murray</td>\n",
       "      <td>Ky</td>\n",
       "      <td>Tennessee</td>\n",
       "      <td>State</td>\n",
       "      <td>...</td>\n",
       "      <td>State</td>\n",
       "      <td>10</td>\n",
       "      <td>Murray State</td>\n",
       "      <td>Tennessee State</td>\n",
       "      <td>Away</td>\n",
       "      <td>35</td>\n",
       "      <td>10</td>\n",
       "      <td>25</td>\n",
       "      <td>25</td>\n",
       "      <td>Win</td>\n",
       "    </tr>\n",
       "    <tr>\n",
       "      <th>1</th>\n",
       "      <td>Nov 15 2003</td>\n",
       "      <td>Nashville Tenn</td>\n",
       "      <td>Eastern Kentucky 43 Tennessee State 38</td>\n",
       "      <td>Nov</td>\n",
       "      <td>15</td>\n",
       "      <td>2003</td>\n",
       "      <td>Nashville</td>\n",
       "      <td>Tenn</td>\n",
       "      <td>Eastern</td>\n",
       "      <td>Kentucky</td>\n",
       "      <td>...</td>\n",
       "      <td>State</td>\n",
       "      <td>38</td>\n",
       "      <td>Tennessee State</td>\n",
       "      <td>Eastern Kentucky</td>\n",
       "      <td>Home</td>\n",
       "      <td>38</td>\n",
       "      <td>43</td>\n",
       "      <td>-5</td>\n",
       "      <td>5</td>\n",
       "      <td>Loss</td>\n",
       "    </tr>\n",
       "    <tr>\n",
       "      <th>2</th>\n",
       "      <td>Nov 08 2003</td>\n",
       "      <td>CapeGirardeau Mo</td>\n",
       "      <td>Southeast Missouri 52 Tennessee State 35</td>\n",
       "      <td>Nov</td>\n",
       "      <td>08</td>\n",
       "      <td>2003</td>\n",
       "      <td>CapeGirardeau</td>\n",
       "      <td>Mo</td>\n",
       "      <td>Southeast</td>\n",
       "      <td>Missouri</td>\n",
       "      <td>...</td>\n",
       "      <td>State</td>\n",
       "      <td>35</td>\n",
       "      <td>Tennessee State</td>\n",
       "      <td>Southeast Missouri</td>\n",
       "      <td>Away</td>\n",
       "      <td>35</td>\n",
       "      <td>52</td>\n",
       "      <td>-17</td>\n",
       "      <td>17</td>\n",
       "      <td>Loss</td>\n",
       "    </tr>\n",
       "    <tr>\n",
       "      <th>3</th>\n",
       "      <td>Nov 01 2003</td>\n",
       "      <td>Nashville Tenn</td>\n",
       "      <td>Tennessee State 24 Eastern Illinois 14</td>\n",
       "      <td>Nov</td>\n",
       "      <td>01</td>\n",
       "      <td>2003</td>\n",
       "      <td>Nashville</td>\n",
       "      <td>Tenn</td>\n",
       "      <td>Tennessee</td>\n",
       "      <td>State</td>\n",
       "      <td>...</td>\n",
       "      <td>Illinois</td>\n",
       "      <td>14</td>\n",
       "      <td>Eastern Illinois</td>\n",
       "      <td>Tennessee State</td>\n",
       "      <td>Home</td>\n",
       "      <td>24</td>\n",
       "      <td>14</td>\n",
       "      <td>10</td>\n",
       "      <td>10</td>\n",
       "      <td>Win</td>\n",
       "    </tr>\n",
       "    <tr>\n",
       "      <th>4</th>\n",
       "      <td>Oct 25 2003</td>\n",
       "      <td>Birmingham Ala</td>\n",
       "      <td>Tennessee State 29 Samford University 24</td>\n",
       "      <td>Oct</td>\n",
       "      <td>25</td>\n",
       "      <td>2003</td>\n",
       "      <td>Birmingham</td>\n",
       "      <td>Ala</td>\n",
       "      <td>Tennessee</td>\n",
       "      <td>State</td>\n",
       "      <td>...</td>\n",
       "      <td>University</td>\n",
       "      <td>24</td>\n",
       "      <td>Samford University</td>\n",
       "      <td>Tennessee State</td>\n",
       "      <td>Away</td>\n",
       "      <td>29</td>\n",
       "      <td>24</td>\n",
       "      <td>5</td>\n",
       "      <td>5</td>\n",
       "      <td>Win</td>\n",
       "    </tr>\n",
       "  </tbody>\n",
       "</table>\n",
       "<p>5 rows × 22 columns</p>\n",
       "</div>"
      ],
      "text/plain": [
       "          date          location                                    scores  \\\n",
       "0  Nov 22 2003         Murray Ky        Tennessee State 35 Murray State 10   \n",
       "1  Nov 15 2003    Nashville Tenn    Eastern Kentucky 43 Tennessee State 38   \n",
       "2  Nov 08 2003  CapeGirardeau Mo  Southeast Missouri 52 Tennessee State 35   \n",
       "3  Nov 01 2003    Nashville Tenn    Tennessee State 24 Eastern Illinois 14   \n",
       "4  Oct 25 2003    Birmingham Ala  Tennessee State 29 Samford University 24   \n",
       "\n",
       "  month day  year           city state       win1      win2  ...        los2  \\\n",
       "0   Nov  22  2003         Murray    Ky  Tennessee     State  ...       State   \n",
       "1   Nov  15  2003      Nashville  Tenn    Eastern  Kentucky  ...       State   \n",
       "2   Nov  08  2003  CapeGirardeau    Mo  Southeast  Missouri  ...       State   \n",
       "3   Nov  01  2003      Nashville  Tenn  Tennessee     State  ...    Illinois   \n",
       "4   Oct  25  2003     Birmingham   Ala  Tennessee     State  ...  University   \n",
       "\n",
       "  losscore               loser              winner locale TSU score  \\\n",
       "0       10        Murray State     Tennessee State   Away        35   \n",
       "1       38     Tennessee State    Eastern Kentucky   Home        38   \n",
       "2       35     Tennessee State  Southeast Missouri   Away        35   \n",
       "3       14    Eastern Illinois     Tennessee State   Home        24   \n",
       "4       24  Samford University     Tennessee State   Away        29   \n",
       "\n",
       "  opponent score  scorediff  scorediff_abs  winloss  \n",
       "0             10         25             25      Win  \n",
       "1             43         -5              5     Loss  \n",
       "2             52        -17             17     Loss  \n",
       "3             14         10             10      Win  \n",
       "4             24          5              5      Win  \n",
       "\n",
       "[5 rows x 22 columns]"
      ]
     },
     "execution_count": 345,
     "metadata": {},
     "output_type": "execute_result"
    }
   ],
   "source": [
    "#data wrangling- creating variables to use in analysis below\n",
    "#splitting date column into month, day, & year columns \n",
    "df[['month','day','year']]=df.date.str.split(expand=True)\n",
    "#split location column into city and state columns \n",
    "df[['city','state']]=df.location.str.split(expand=True)\n",
    "#expand scores column into win1 (1st part of winner name), win2 (2nd part of winner name), winscore (winner score),\n",
    "#los1 (1st part of loser name), los2 (2nd part of loser name), losscore (loser score)\n",
    "df[['win1','win2','winscore','los1','los2','losscore']]=df.scores.str.split(expand=True)\n",
    "#create combined school names (names of 1 school in a single cell with a space between 1st and 2nd prts of name)\n",
    "df['loser']=df['los1']+ ' ' +df['los2']\n",
    "df['winner']=df['win1']+ ' ' +df['win2']  \n",
    "#add home/away column to dataframe\n",
    "df['locale'] = np.where(df['city']== 'Nashville', 'Home', 'Away')\n",
    "#add column for TSU score\n",
    "df['TSU score']=np.where(df['winner']=='Tennessee State',df['winscore'],df['losscore'])\n",
    "#make TSU score numeric\n",
    "df['TSU score']=pd.to_numeric(df['TSU score'])\n",
    "#add opponent score column\n",
    "df['opponent score']=np.where(df['winner']=='Tennessee State',df['losscore'],df['winscore'])\n",
    "#make opponent score numeric\n",
    "df['opponent score']=pd.to_numeric(df['opponent score'])\n",
    "#make winscore and losscore numeric\n",
    "df['winscore']=pd.to_numeric(df['winscore'])\n",
    "df['losscore']=pd.to_numeric(df['losscore'])\n",
    "#make difference olumn\n",
    "df['scorediff']=df['TSU score']-df['opponent score']\n",
    "#make absolute value difference column\n",
    "df['scorediff_abs']=abs(df['scorediff'])\n",
    "#create column for win and loss\n",
    "df['winloss']=np.where(df['winner']=='Tennessee State','Win','Loss')\n",
    "df.head()"
   ]
  },
  {
   "cell_type": "code",
   "execution_count": 346,
   "metadata": {},
   "outputs": [
    {
     "data": {
      "text/html": [
       "<div>\n",
       "<style scoped>\n",
       "    .dataframe tbody tr th:only-of-type {\n",
       "        vertical-align: middle;\n",
       "    }\n",
       "\n",
       "    .dataframe tbody tr th {\n",
       "        vertical-align: top;\n",
       "    }\n",
       "\n",
       "    .dataframe thead th {\n",
       "        text-align: right;\n",
       "    }\n",
       "</style>\n",
       "<table border=\"1\" class=\"dataframe\">\n",
       "  <thead>\n",
       "    <tr style=\"text-align: right;\">\n",
       "      <th></th>\n",
       "      <th>month</th>\n",
       "      <th>day</th>\n",
       "      <th>year</th>\n",
       "      <th>city</th>\n",
       "      <th>state</th>\n",
       "      <th>winscore</th>\n",
       "      <th>losscore</th>\n",
       "      <th>loser</th>\n",
       "      <th>winner</th>\n",
       "      <th>locale</th>\n",
       "      <th>TSU score</th>\n",
       "      <th>opponent score</th>\n",
       "      <th>scorediff</th>\n",
       "      <th>scorediff_abs</th>\n",
       "      <th>winloss</th>\n",
       "    </tr>\n",
       "  </thead>\n",
       "  <tbody>\n",
       "    <tr>\n",
       "      <th>0</th>\n",
       "      <td>Nov</td>\n",
       "      <td>22</td>\n",
       "      <td>2003</td>\n",
       "      <td>Murray</td>\n",
       "      <td>Ky</td>\n",
       "      <td>35</td>\n",
       "      <td>10</td>\n",
       "      <td>Murray State</td>\n",
       "      <td>Tennessee State</td>\n",
       "      <td>Away</td>\n",
       "      <td>35</td>\n",
       "      <td>10</td>\n",
       "      <td>25</td>\n",
       "      <td>25</td>\n",
       "      <td>Win</td>\n",
       "    </tr>\n",
       "    <tr>\n",
       "      <th>1</th>\n",
       "      <td>Nov</td>\n",
       "      <td>15</td>\n",
       "      <td>2003</td>\n",
       "      <td>Nashville</td>\n",
       "      <td>Tenn</td>\n",
       "      <td>43</td>\n",
       "      <td>38</td>\n",
       "      <td>Tennessee State</td>\n",
       "      <td>Eastern Kentucky</td>\n",
       "      <td>Home</td>\n",
       "      <td>38</td>\n",
       "      <td>43</td>\n",
       "      <td>-5</td>\n",
       "      <td>5</td>\n",
       "      <td>Loss</td>\n",
       "    </tr>\n",
       "    <tr>\n",
       "      <th>2</th>\n",
       "      <td>Nov</td>\n",
       "      <td>08</td>\n",
       "      <td>2003</td>\n",
       "      <td>CapeGirardeau</td>\n",
       "      <td>Mo</td>\n",
       "      <td>52</td>\n",
       "      <td>35</td>\n",
       "      <td>Tennessee State</td>\n",
       "      <td>Southeast Missouri</td>\n",
       "      <td>Away</td>\n",
       "      <td>35</td>\n",
       "      <td>52</td>\n",
       "      <td>-17</td>\n",
       "      <td>17</td>\n",
       "      <td>Loss</td>\n",
       "    </tr>\n",
       "    <tr>\n",
       "      <th>3</th>\n",
       "      <td>Nov</td>\n",
       "      <td>01</td>\n",
       "      <td>2003</td>\n",
       "      <td>Nashville</td>\n",
       "      <td>Tenn</td>\n",
       "      <td>24</td>\n",
       "      <td>14</td>\n",
       "      <td>Eastern Illinois</td>\n",
       "      <td>Tennessee State</td>\n",
       "      <td>Home</td>\n",
       "      <td>24</td>\n",
       "      <td>14</td>\n",
       "      <td>10</td>\n",
       "      <td>10</td>\n",
       "      <td>Win</td>\n",
       "    </tr>\n",
       "    <tr>\n",
       "      <th>4</th>\n",
       "      <td>Oct</td>\n",
       "      <td>25</td>\n",
       "      <td>2003</td>\n",
       "      <td>Birmingham</td>\n",
       "      <td>Ala</td>\n",
       "      <td>29</td>\n",
       "      <td>24</td>\n",
       "      <td>Samford University</td>\n",
       "      <td>Tennessee State</td>\n",
       "      <td>Away</td>\n",
       "      <td>29</td>\n",
       "      <td>24</td>\n",
       "      <td>5</td>\n",
       "      <td>5</td>\n",
       "      <td>Win</td>\n",
       "    </tr>\n",
       "  </tbody>\n",
       "</table>\n",
       "</div>"
      ],
      "text/plain": [
       "  month day  year           city state  winscore  losscore  \\\n",
       "0   Nov  22  2003         Murray    Ky        35        10   \n",
       "1   Nov  15  2003      Nashville  Tenn        43        38   \n",
       "2   Nov  08  2003  CapeGirardeau    Mo        52        35   \n",
       "3   Nov  01  2003      Nashville  Tenn        24        14   \n",
       "4   Oct  25  2003     Birmingham   Ala        29        24   \n",
       "\n",
       "                loser              winner locale  TSU score  opponent score  \\\n",
       "0        Murray State     Tennessee State   Away         35              10   \n",
       "1     Tennessee State    Eastern Kentucky   Home         38              43   \n",
       "2     Tennessee State  Southeast Missouri   Away         35              52   \n",
       "3    Eastern Illinois     Tennessee State   Home         24              14   \n",
       "4  Samford University     Tennessee State   Away         29              24   \n",
       "\n",
       "   scorediff  scorediff_abs winloss  \n",
       "0         25             25     Win  \n",
       "1         -5              5    Loss  \n",
       "2        -17             17    Loss  \n",
       "3         10             10     Win  \n",
       "4          5              5     Win  "
      ]
     },
     "execution_count": 346,
     "metadata": {},
     "output_type": "execute_result"
    }
   ],
   "source": [
    "#dropping unneccesary columns\n",
    "df=df.drop(['date','location','scores','win1','win2','los1','los2'], axis=1)\n",
    "df.head()"
   ]
  },
  {
   "cell_type": "code",
   "execution_count": 347,
   "metadata": {},
   "outputs": [
    {
     "data": {
      "text/html": [
       "<div>\n",
       "<style scoped>\n",
       "    .dataframe tbody tr th:only-of-type {\n",
       "        vertical-align: middle;\n",
       "    }\n",
       "\n",
       "    .dataframe tbody tr th {\n",
       "        vertical-align: top;\n",
       "    }\n",
       "\n",
       "    .dataframe thead th {\n",
       "        text-align: right;\n",
       "    }\n",
       "</style>\n",
       "<table border=\"1\" class=\"dataframe\">\n",
       "  <thead>\n",
       "    <tr style=\"text-align: right;\">\n",
       "      <th></th>\n",
       "      <th>year</th>\n",
       "      <th>city</th>\n",
       "      <th>state</th>\n",
       "      <th>winscore</th>\n",
       "      <th>losscore</th>\n",
       "      <th>loser</th>\n",
       "      <th>winner</th>\n",
       "      <th>locale</th>\n",
       "      <th>TSU score</th>\n",
       "      <th>opponent score</th>\n",
       "      <th>scorediff</th>\n",
       "      <th>scorediff_abs</th>\n",
       "      <th>winloss</th>\n",
       "      <th>date</th>\n",
       "    </tr>\n",
       "  </thead>\n",
       "  <tbody>\n",
       "    <tr>\n",
       "      <th>0</th>\n",
       "      <td>2003</td>\n",
       "      <td>Murray</td>\n",
       "      <td>Ky</td>\n",
       "      <td>35</td>\n",
       "      <td>10</td>\n",
       "      <td>Murray State</td>\n",
       "      <td>Tennessee State</td>\n",
       "      <td>Away</td>\n",
       "      <td>35</td>\n",
       "      <td>10</td>\n",
       "      <td>25</td>\n",
       "      <td>25</td>\n",
       "      <td>Win</td>\n",
       "      <td>2003-11-22</td>\n",
       "    </tr>\n",
       "    <tr>\n",
       "      <th>1</th>\n",
       "      <td>2003</td>\n",
       "      <td>Nashville</td>\n",
       "      <td>Tenn</td>\n",
       "      <td>43</td>\n",
       "      <td>38</td>\n",
       "      <td>Tennessee State</td>\n",
       "      <td>Eastern Kentucky</td>\n",
       "      <td>Home</td>\n",
       "      <td>38</td>\n",
       "      <td>43</td>\n",
       "      <td>-5</td>\n",
       "      <td>5</td>\n",
       "      <td>Loss</td>\n",
       "      <td>2003-11-15</td>\n",
       "    </tr>\n",
       "    <tr>\n",
       "      <th>2</th>\n",
       "      <td>2003</td>\n",
       "      <td>CapeGirardeau</td>\n",
       "      <td>Mo</td>\n",
       "      <td>52</td>\n",
       "      <td>35</td>\n",
       "      <td>Tennessee State</td>\n",
       "      <td>Southeast Missouri</td>\n",
       "      <td>Away</td>\n",
       "      <td>35</td>\n",
       "      <td>52</td>\n",
       "      <td>-17</td>\n",
       "      <td>17</td>\n",
       "      <td>Loss</td>\n",
       "      <td>2003-11-08</td>\n",
       "    </tr>\n",
       "    <tr>\n",
       "      <th>3</th>\n",
       "      <td>2003</td>\n",
       "      <td>Nashville</td>\n",
       "      <td>Tenn</td>\n",
       "      <td>24</td>\n",
       "      <td>14</td>\n",
       "      <td>Eastern Illinois</td>\n",
       "      <td>Tennessee State</td>\n",
       "      <td>Home</td>\n",
       "      <td>24</td>\n",
       "      <td>14</td>\n",
       "      <td>10</td>\n",
       "      <td>10</td>\n",
       "      <td>Win</td>\n",
       "      <td>2003-11-01</td>\n",
       "    </tr>\n",
       "    <tr>\n",
       "      <th>4</th>\n",
       "      <td>2003</td>\n",
       "      <td>Birmingham</td>\n",
       "      <td>Ala</td>\n",
       "      <td>29</td>\n",
       "      <td>24</td>\n",
       "      <td>Samford University</td>\n",
       "      <td>Tennessee State</td>\n",
       "      <td>Away</td>\n",
       "      <td>29</td>\n",
       "      <td>24</td>\n",
       "      <td>5</td>\n",
       "      <td>5</td>\n",
       "      <td>Win</td>\n",
       "      <td>2003-10-25</td>\n",
       "    </tr>\n",
       "  </tbody>\n",
       "</table>\n",
       "</div>"
      ],
      "text/plain": [
       "   year           city state  winscore  losscore               loser  \\\n",
       "0  2003         Murray    Ky        35        10        Murray State   \n",
       "1  2003      Nashville  Tenn        43        38     Tennessee State   \n",
       "2  2003  CapeGirardeau    Mo        52        35     Tennessee State   \n",
       "3  2003      Nashville  Tenn        24        14    Eastern Illinois   \n",
       "4  2003     Birmingham   Ala        29        24  Samford University   \n",
       "\n",
       "               winner locale  TSU score  opponent score  scorediff  \\\n",
       "0     Tennessee State   Away         35              10         25   \n",
       "1    Eastern Kentucky   Home         38              43         -5   \n",
       "2  Southeast Missouri   Away         35              52        -17   \n",
       "3     Tennessee State   Home         24              14         10   \n",
       "4     Tennessee State   Away         29              24          5   \n",
       "\n",
       "   scorediff_abs winloss       date  \n",
       "0             25     Win 2003-11-22  \n",
       "1              5    Loss 2003-11-15  \n",
       "2             17    Loss 2003-11-08  \n",
       "3             10     Win 2003-11-01  \n",
       "4              5     Win 2003-10-25  "
      ]
     },
     "execution_count": 347,
     "metadata": {},
     "output_type": "execute_result"
    }
   ],
   "source": [
    "#create a new date variable\n",
    "#change month variable to a 2 digit string variable\n",
    "df['month'] = df['month'].str.replace('Aug','08')\n",
    "df['month'] = df['month'].str.replace('Sep','09')\n",
    "df['month'] = df['month'].str.replace('Oct','10')\n",
    "df['month'] = df['month'].str.replace('Nov','11')\n",
    "df['month'] = df['month'].str.replace('Dec','12')\n",
    "#merge month,day and year variables\n",
    "df['date']=df['year']+ '-' +df['month']+ '-'+df['day']\n",
    "#make date into a datetime variable\n",
    "df['date']= pd.to_datetime(df['date'], format='%Y-%m-%d')\n",
    "#drop individual month,day, variables (keep year variable for later analysis)\n",
    "df=df.drop(['month','day'], axis=1)\n",
    "#make year numeric\n",
    "df['year']=pd.to_numeric(df['year'])\n",
    "df.head()"
   ]
  },
  {
   "cell_type": "code",
   "execution_count": 348,
   "metadata": {},
   "outputs": [
    {
     "data": {
      "text/plain": [
       "array(['Murray', 'Nashville', 'CapeGirardeau', 'Birmingham', 'Cookeville',\n",
       "       'Atlanta', 'Memphis', 'Huntsville', 'Richmond', 'Charleston',\n",
       "       'Jacksonville', 'Indianapolis', 'Martin', 'BatonRouge',\n",
       "       'Clarksville', 'AirForceAcademy', 'DaytonaBeach', 'StLouis',\n",
       "       'Tallahassee', 'Montgomery', 'Tampa', 'Murfreesboro'], dtype=object)"
      ]
     },
     "execution_count": 348,
     "metadata": {},
     "output_type": "execute_result"
    }
   ],
   "source": [
    "#handle city name (some names were collasped because they had multiple word names)\n",
    "#get names in city column\n",
    "df['city'].unique()"
   ]
  },
  {
   "cell_type": "code",
   "execution_count": 349,
   "metadata": {},
   "outputs": [
    {
     "data": {
      "text/plain": [
       "array(['Murray', 'Nashville', 'Cape Girardeau', 'Birmingham',\n",
       "       'Cookeville', 'Atlanta', 'Memphis', 'Huntsville', 'Richmond',\n",
       "       'Charleston', 'Jacksonville', 'Indianapolis', 'Martin',\n",
       "       'Baton Rouge', 'Clarksville', 'Air Force Academy', 'Daytona Beach',\n",
       "       'St. Louis', 'Tallahassee', 'Montgomery', 'Tampa', 'Murfreesboro'],\n",
       "      dtype=object)"
      ]
     },
     "execution_count": 349,
     "metadata": {},
     "output_type": "execute_result"
    }
   ],
   "source": [
    "#put appropriate spaces and period in city names \n",
    "df['city']=df['city'].replace(\"CapeGirardeau\",\"Cape Girardeau\").replace(\"AirForceAcademy\",\"Air Force Academy\")\n",
    "df['city']=df['city'].replace(\"DaytonaBeach\",\"Daytona Beach\").replace(\"StLouis\", \"St. Louis\")\n",
    "df['city']=df['city'].replace(\"BatonRouge\",\"Baton Rouge\")\n",
    "#check names in city column\n",
    "df['city'].unique()"
   ]
  },
  {
   "cell_type": "code",
   "execution_count": 350,
   "metadata": {},
   "outputs": [
    {
     "data": {
      "text/plain": [
       "array(['Ky', 'Tenn', 'Mo', 'Ala', 'Tennessee', 'Ga', 'Alabama', 'TN',\n",
       "       'KY', 'Illinois', 'IN', 'Georgia', 'Ind', 'GA', 'IL', 'AL', 'LA',\n",
       "       'Ill', 'Colo', 'Fla', 'Missouri'], dtype=object)"
      ]
     },
     "execution_count": 350,
     "metadata": {},
     "output_type": "execute_result"
    }
   ],
   "source": [
    "#making state names consistent\n",
    "#get names from column\n",
    "df['state'].unique()"
   ]
  },
  {
   "cell_type": "code",
   "execution_count": 351,
   "metadata": {},
   "outputs": [
    {
     "data": {
      "text/plain": [
       "array(['KY', 'TN', 'MO', 'AL', 'GA', 'IL', 'IN', 'LA', 'CO', 'FL'],\n",
       "      dtype=object)"
      ]
     },
     "execution_count": 351,
     "metadata": {},
     "output_type": "execute_result"
    }
   ],
   "source": [
    "#make state names consistent\n",
    "df['state']=df['state'].replace([\"Ga\",\"Georgia\"],\"GA\").replace([\"Tenn\",\"Tennessee\"],\"TN\").replace(\"Ind\",\"IN\")\n",
    "df['state']=df['state'].replace([\"Mo\",\"Missouri\"],\"MO\").replace([\"Ala\",\"Alabama\"],\"AL\").replace(\"Ky\",\"KY\")\n",
    "df['state']=df['state'].replace([\"Ill\",\"Illinois\"],\"IL\").replace(\"Fla\",\"FL\").replace(\"Colo\",\"CO\").replace(\"Ind\",\"IN\")\n",
    "df['state'].unique()"
   ]
  },
  {
   "cell_type": "code",
   "execution_count": 352,
   "metadata": {},
   "outputs": [
    {
     "data": {
      "text/plain": [
       "array(['Murray State', 'Tennessee State', 'Eastern Illinois',\n",
       "       'Samford University', 'Tennessee Tech', 'Tennessee Martin',\n",
       "       'Jackson State', 'SouthCarolina State', 'Southeast Missouri',\n",
       "       'Alabama A&M', 'Jacksonville State', 'Austin Peay',\n",
       "       'Eastern Kentucky', 'Southern University', 'NorthCarolina A&T',\n",
       "       'Florida A&M', 'Arkansas PineBluff', 'Bethune Cookman',\n",
       "       'Butler University', 'Central State', 'Murray St', 'Edward Waters',\n",
       "       'Alabama State', 'VirginiaU Lynchburg', 'Georgia State',\n",
       "       'Mississippi Valley'], dtype=object)"
      ]
     },
     "execution_count": 352,
     "metadata": {},
     "output_type": "execute_result"
    }
   ],
   "source": [
    "#checking loser column values\n",
    "df['loser'].unique()"
   ]
  },
  {
   "cell_type": "code",
   "execution_count": 353,
   "metadata": {},
   "outputs": [
    {
     "data": {
      "text/plain": [
       "array(['Murray State University', 'Tennessee State University',\n",
       "       'Eastern Illinois University', 'Samford University',\n",
       "       'Tennessee Tech University', 'University of Tennessee Martin',\n",
       "       'Jackson State University', 'South Carolina State University',\n",
       "       'Southeast Missouri State University', 'Alabama A&M University',\n",
       "       'Jacksonville State University', 'Austin Peay State University',\n",
       "       'Eastern Kentucky University', 'Southern University & A&M College',\n",
       "       'North Carolina A&T State University', 'Florida A&M University',\n",
       "       'University of Arkansas Pine Bluff', 'Bethune Cookman University',\n",
       "       'Butler University', 'Central State University',\n",
       "       'Edward Waters College', 'Alabama State University',\n",
       "       'Virginia University Lynchburg', 'Georgia State University',\n",
       "       'Mississippi Valley State University'], dtype=object)"
      ]
     },
     "execution_count": 353,
     "metadata": {},
     "output_type": "execute_result"
    }
   ],
   "source": [
    "#correcting spelling of school names in loser column\n",
    "df['loser']=df['loser'].replace([\"Murray St\",\"Murray State\"], \"Murray State University\")\n",
    "df['loser']=df['loser'].replace(\"Tennessee State\",\"Tennessee State University\")\n",
    "df['loser']=df['loser'].replace(\"Eastern Illinois\",\"Eastern Illinois University\")\n",
    "df['loser']=df['loser'].replace(\"Tennessee Tech\",\"Tennessee Tech University\")\n",
    "df['loser']=df['loser'].replace(\"Tennessee Martin\", \"University of Tennessee Martin\")\n",
    "df['loser']=df['loser'].replace(\"Jackson State\",\"Jackson State University\")\n",
    "df['loser']=df['loser'].replace(\"SouthCarolina State\",\"South Carolina State University\")\n",
    "df['loser']=df['loser'].replace('Southeast Missouri','Southeast Missouri State University')\n",
    "df['loser']=df['loser'].replace('Alabama A&M','Alabama A&M University')\n",
    "df['loser']=df['loser'].replace('Jacksonville State','Jacksonville State University')\n",
    "df['loser']=df['loser'].replace('Austin Peay','Austin Peay State University')\n",
    "df['loser']=df['loser'].replace('Eastern Kentucky','Eastern Kentucky University')\n",
    "df['loser']=df['loser'].replace('Southern University','Southern University & A&M College')\n",
    "df['loser']=df['loser'].replace(\"NorthCarolina A&T\", \"North Carolina A&T State University\")\n",
    "df['loser']=df['loser'].replace(\"Florida A&M\", \"Florida A&M University\")\n",
    "df['loser']=df['loser'].replace(\"Arkansas PineBluff\",\"University of Arkansas Pine Bluff\")\n",
    "df['loser']=df['loser'].replace('Bethune Cookman','Bethune Cookman University')\n",
    "df['loser']=df['loser'].replace('Central State','Central State University')\n",
    "df['loser']=df['loser'].replace('Edward Waters','Edward Waters College')\n",
    "df['loser']=df['loser'].replace('Alabama State','Alabama State University')\n",
    "df['loser']=df['loser'].replace(\"VirginiaU Lynchburg\",\"Virginia University Lynchburg\")\n",
    "df['loser']=df['loser'].replace('Georgia State','Georgia State University')\n",
    "df['loser']=df['loser'].replace('Mississippi Valley','Mississippi Valley State University')\n",
    "#check values\n",
    "df['loser'].unique()"
   ]
  },
  {
   "cell_type": "code",
   "execution_count": 354,
   "metadata": {},
   "outputs": [
    {
     "data": {
      "text/plain": [
       "array(['Tennessee State', 'Eastern Kentucky', 'Southeast Missouri',\n",
       "       'Jacksonville State', 'Florida A&M', 'Alabama A&M', 'Murray State',\n",
       "       'Eastern Illinois', 'Samford University', 'SouthCarolina State',\n",
       "       'NorthCarolina A&T', 'Tennessee Martin', 'Vanderbilt University',\n",
       "       'Southern University', 'Austin Peay', 'Tennessee Tech',\n",
       "       'Jackson State', 'Air Force', 'Bethune Cookman', 'UT Martin',\n",
       "       'Alabama State', 'Murray St', 'Pine Bluff', 'Middle Tennessee'],\n",
       "      dtype=object)"
      ]
     },
     "execution_count": 354,
     "metadata": {},
     "output_type": "execute_result"
    }
   ],
   "source": [
    "#checking winner column values\n",
    "df['winner'].unique()"
   ]
  },
  {
   "cell_type": "code",
   "execution_count": 355,
   "metadata": {},
   "outputs": [
    {
     "data": {
      "text/plain": [
       "array(['Tennessee State University', 'Eastern Kentucky University',\n",
       "       'Southeast Missouri State University',\n",
       "       'Jacksonville State University', 'Florida A&M University',\n",
       "       'Alabama A&M University', 'Murray State University',\n",
       "       'Eastern Illinois University', 'Samford University',\n",
       "       'South Carolina State University',\n",
       "       'North Carolina A&T State University',\n",
       "       'University of Tennessee Martin', 'Vanderbilt University',\n",
       "       'Southern University & A&M College',\n",
       "       'Austin Peay State University', 'Tennessee Tech University',\n",
       "       'Jackson State University', 'Air Force Academy',\n",
       "       'Bethune Cookman University', 'Alabama State University',\n",
       "       'University of Arkansas Pine Bluff',\n",
       "       'Middle Tennessee State University'], dtype=object)"
      ]
     },
     "execution_count": 355,
     "metadata": {},
     "output_type": "execute_result"
    }
   ],
   "source": [
    "#correcting school names in winner column\n",
    "df['winner']=df['winner'].replace(\"Tennessee State\",\"Tennessee State University\")\n",
    "df['winner']=df['winner'].replace('Eastern Kentucky','Eastern Kentucky University')\n",
    "df['winner']=df['winner'].replace('Southeast Missouri','Southeast Missouri State University')\n",
    "df['winner']=df['winner'].replace('Jacksonville State','Jacksonville State University')\n",
    "df['winner']=df['winner'].replace(\"Florida A&M\", \"Florida A&M University\")\n",
    "df['winner']=df['winner'].replace('Alabama A&M','Alabama A&M University')\n",
    "df['winner']=df['winner'].replace([\"Murray St\",\"Murray State\"], \"Murray State University\")\n",
    "df['winner']=df['winner'].replace(\"Eastern Illinois\",\"Eastern Illinois University\")\n",
    "df['winner']=df['winner'].replace(\"SouthCarolina State\",\"South Carolina State University\")\n",
    "df['winner']=df['winner'].replace(\"NorthCarolina A&T\", \"North Carolina A&T State University\")\n",
    "df['winner']=df['winner'].replace([\"UT Martin\",\"Tennessee Martin\"], \"University of Tennessee Martin\")\n",
    "df['winner']=df['winner'].replace('Southern University','Southern University & A&M College')\n",
    "df['winner']=df['winner'].replace('Austin Peay','Austin Peay State University')\n",
    "df['winner']=df['winner'].replace(\"Tennessee Tech\",\"Tennessee Tech University\")\n",
    "df['winner']=df['winner'].replace(\"Jackson State\",\"Jackson State University\")\n",
    "df['winner']=df['winner'].replace(\"Air Force\", \"Air Force Academy\")\n",
    "df['winner']=df['winner'].replace('Bethune Cookman','Bethune Cookman University')\n",
    "df['winner']=df['winner'].replace('Alabama State','Alabama State University')\n",
    "df['winner']=df['winner'].replace(\"Pine Bluff\",\"University of Arkansas Pine Bluff\")\n",
    "df['winner']=df['winner'].replace('Middle Tennessee','Middle Tennessee State University')\n",
    "df['winner'].unique()"
   ]
  },
  {
   "cell_type": "code",
   "execution_count": 356,
   "metadata": {},
   "outputs": [
    {
     "data": {
      "text/html": [
       "<div>\n",
       "<style scoped>\n",
       "    .dataframe tbody tr th:only-of-type {\n",
       "        vertical-align: middle;\n",
       "    }\n",
       "\n",
       "    .dataframe tbody tr th {\n",
       "        vertical-align: top;\n",
       "    }\n",
       "\n",
       "    .dataframe thead th {\n",
       "        text-align: right;\n",
       "    }\n",
       "</style>\n",
       "<table border=\"1\" class=\"dataframe\">\n",
       "  <thead>\n",
       "    <tr style=\"text-align: right;\">\n",
       "      <th></th>\n",
       "      <th>year</th>\n",
       "      <th>city</th>\n",
       "      <th>state</th>\n",
       "      <th>winscore</th>\n",
       "      <th>losscore</th>\n",
       "      <th>loser</th>\n",
       "      <th>winner</th>\n",
       "      <th>locale</th>\n",
       "      <th>TSU score</th>\n",
       "      <th>opponent score</th>\n",
       "      <th>scorediff</th>\n",
       "      <th>scorediff_abs</th>\n",
       "      <th>winloss</th>\n",
       "      <th>date</th>\n",
       "    </tr>\n",
       "  </thead>\n",
       "  <tbody>\n",
       "    <tr>\n",
       "      <th>0</th>\n",
       "      <td>2003</td>\n",
       "      <td>Nashville</td>\n",
       "      <td>TN</td>\n",
       "      <td>37</td>\n",
       "      <td>20</td>\n",
       "      <td>South Carolina State University</td>\n",
       "      <td>Tennessee State University</td>\n",
       "      <td>Home</td>\n",
       "      <td>37</td>\n",
       "      <td>20</td>\n",
       "      <td>17</td>\n",
       "      <td>17</td>\n",
       "      <td>Win</td>\n",
       "      <td>2003-08-30</td>\n",
       "    </tr>\n",
       "    <tr>\n",
       "      <th>1</th>\n",
       "      <td>2003</td>\n",
       "      <td>Nashville</td>\n",
       "      <td>TN</td>\n",
       "      <td>42</td>\n",
       "      <td>7</td>\n",
       "      <td>Alabama A&amp;M University</td>\n",
       "      <td>Tennessee State University</td>\n",
       "      <td>Home</td>\n",
       "      <td>42</td>\n",
       "      <td>7</td>\n",
       "      <td>35</td>\n",
       "      <td>35</td>\n",
       "      <td>Win</td>\n",
       "      <td>2003-09-04</td>\n",
       "    </tr>\n",
       "    <tr>\n",
       "      <th>2</th>\n",
       "      <td>2003</td>\n",
       "      <td>Huntsville</td>\n",
       "      <td>AL</td>\n",
       "      <td>31</td>\n",
       "      <td>24</td>\n",
       "      <td>Tennessee State University</td>\n",
       "      <td>Alabama A&amp;M University</td>\n",
       "      <td>Away</td>\n",
       "      <td>24</td>\n",
       "      <td>31</td>\n",
       "      <td>-7</td>\n",
       "      <td>7</td>\n",
       "      <td>Loss</td>\n",
       "      <td>2003-09-06</td>\n",
       "    </tr>\n",
       "    <tr>\n",
       "      <th>3</th>\n",
       "      <td>2003</td>\n",
       "      <td>Memphis</td>\n",
       "      <td>TN</td>\n",
       "      <td>44</td>\n",
       "      <td>14</td>\n",
       "      <td>Jackson State University</td>\n",
       "      <td>Tennessee State University</td>\n",
       "      <td>Away</td>\n",
       "      <td>44</td>\n",
       "      <td>14</td>\n",
       "      <td>30</td>\n",
       "      <td>30</td>\n",
       "      <td>Win</td>\n",
       "      <td>2003-09-13</td>\n",
       "    </tr>\n",
       "    <tr>\n",
       "      <th>4</th>\n",
       "      <td>2003</td>\n",
       "      <td>Atlanta</td>\n",
       "      <td>GA</td>\n",
       "      <td>10</td>\n",
       "      <td>7</td>\n",
       "      <td>Tennessee State University</td>\n",
       "      <td>Florida A&amp;M University</td>\n",
       "      <td>Away</td>\n",
       "      <td>7</td>\n",
       "      <td>10</td>\n",
       "      <td>-3</td>\n",
       "      <td>3</td>\n",
       "      <td>Loss</td>\n",
       "      <td>2003-09-20</td>\n",
       "    </tr>\n",
       "  </tbody>\n",
       "</table>\n",
       "</div>"
      ],
      "text/plain": [
       "   year        city state  winscore  losscore  \\\n",
       "0  2003   Nashville    TN        37        20   \n",
       "1  2003   Nashville    TN        42         7   \n",
       "2  2003  Huntsville    AL        31        24   \n",
       "3  2003     Memphis    TN        44        14   \n",
       "4  2003     Atlanta    GA        10         7   \n",
       "\n",
       "                             loser                      winner locale  \\\n",
       "0  South Carolina State University  Tennessee State University   Home   \n",
       "1           Alabama A&M University  Tennessee State University   Home   \n",
       "2       Tennessee State University      Alabama A&M University   Away   \n",
       "3         Jackson State University  Tennessee State University   Away   \n",
       "4       Tennessee State University      Florida A&M University   Away   \n",
       "\n",
       "   TSU score  opponent score  scorediff  scorediff_abs winloss       date  \n",
       "0         37              20         17             17     Win 2003-08-30  \n",
       "1         42               7         35             35     Win 2003-09-04  \n",
       "2         24              31         -7              7    Loss 2003-09-06  \n",
       "3         44              14         30             30     Win 2003-09-13  \n",
       "4          7              10         -3              3    Loss 2003-09-20  "
      ]
     },
     "execution_count": 356,
     "metadata": {},
     "output_type": "execute_result"
    }
   ],
   "source": [
    "#sort rows by date\n",
    "df=df.sort_values('date',ignore_index=True)\n",
    "df.head()"
   ]
  },
  {
   "cell_type": "code",
   "execution_count": 357,
   "metadata": {},
   "outputs": [
    {
     "data": {
      "text/plain": [
       "year                       int64\n",
       "city                      object\n",
       "state                     object\n",
       "winscore                   int64\n",
       "losscore                   int64\n",
       "loser                     object\n",
       "winner                    object\n",
       "locale                    object\n",
       "TSU score                  int64\n",
       "opponent score             int64\n",
       "scorediff                  int64\n",
       "scorediff_abs              int64\n",
       "winloss                   object\n",
       "date              datetime64[ns]\n",
       "dtype: object"
      ]
     },
     "execution_count": 357,
     "metadata": {},
     "output_type": "execute_result"
    }
   ],
   "source": [
    "#check data types of columns\n",
    "df.dtypes"
   ]
  },
  {
   "cell_type": "code",
   "execution_count": 358,
   "metadata": {},
   "outputs": [
    {
     "data": {
      "text/plain": [
       "(191, 14)"
      ]
     },
     "execution_count": 358,
     "metadata": {},
     "output_type": "execute_result"
    }
   ],
   "source": [
    "#get number of rows and columns in dataframe\n",
    "df.shape"
   ]
  },
  {
   "cell_type": "code",
   "execution_count": 359,
   "metadata": {},
   "outputs": [
    {
     "data": {
      "text/html": [
       "<div>\n",
       "<style scoped>\n",
       "    .dataframe tbody tr th:only-of-type {\n",
       "        vertical-align: middle;\n",
       "    }\n",
       "\n",
       "    .dataframe tbody tr th {\n",
       "        vertical-align: top;\n",
       "    }\n",
       "\n",
       "    .dataframe thead th {\n",
       "        text-align: right;\n",
       "    }\n",
       "</style>\n",
       "<table border=\"1\" class=\"dataframe\">\n",
       "  <thead>\n",
       "    <tr style=\"text-align: right;\">\n",
       "      <th></th>\n",
       "      <th>year</th>\n",
       "      <th>winscore</th>\n",
       "      <th>losscore</th>\n",
       "      <th>TSU score</th>\n",
       "      <th>opponent score</th>\n",
       "      <th>scorediff</th>\n",
       "      <th>scorediff_abs</th>\n",
       "    </tr>\n",
       "  </thead>\n",
       "  <tbody>\n",
       "    <tr>\n",
       "      <th>count</th>\n",
       "      <td>191.000000</td>\n",
       "      <td>191.000000</td>\n",
       "      <td>191.000000</td>\n",
       "      <td>191.000000</td>\n",
       "      <td>191.00000</td>\n",
       "      <td>191.000000</td>\n",
       "      <td>191.000000</td>\n",
       "    </tr>\n",
       "    <tr>\n",
       "      <th>mean</th>\n",
       "      <td>2010.931937</td>\n",
       "      <td>32.984293</td>\n",
       "      <td>18.481675</td>\n",
       "      <td>25.643979</td>\n",
       "      <td>25.82199</td>\n",
       "      <td>-0.178010</td>\n",
       "      <td>14.502618</td>\n",
       "    </tr>\n",
       "    <tr>\n",
       "      <th>std</th>\n",
       "      <td>4.891515</td>\n",
       "      <td>10.659553</td>\n",
       "      <td>10.215490</td>\n",
       "      <td>12.489530</td>\n",
       "      <td>12.94969</td>\n",
       "      <td>19.109373</td>\n",
       "      <td>12.400286</td>\n",
       "    </tr>\n",
       "    <tr>\n",
       "      <th>min</th>\n",
       "      <td>2003.000000</td>\n",
       "      <td>9.000000</td>\n",
       "      <td>0.000000</td>\n",
       "      <td>0.000000</td>\n",
       "      <td>0.00000</td>\n",
       "      <td>-49.000000</td>\n",
       "      <td>1.000000</td>\n",
       "    </tr>\n",
       "    <tr>\n",
       "      <th>25%</th>\n",
       "      <td>2007.000000</td>\n",
       "      <td>26.500000</td>\n",
       "      <td>12.000000</td>\n",
       "      <td>17.000000</td>\n",
       "      <td>15.00000</td>\n",
       "      <td>-11.000000</td>\n",
       "      <td>5.000000</td>\n",
       "    </tr>\n",
       "    <tr>\n",
       "      <th>50%</th>\n",
       "      <td>2011.000000</td>\n",
       "      <td>31.000000</td>\n",
       "      <td>17.000000</td>\n",
       "      <td>26.000000</td>\n",
       "      <td>27.00000</td>\n",
       "      <td>-3.000000</td>\n",
       "      <td>11.000000</td>\n",
       "    </tr>\n",
       "    <tr>\n",
       "      <th>75%</th>\n",
       "      <td>2015.000000</td>\n",
       "      <td>40.000000</td>\n",
       "      <td>26.000000</td>\n",
       "      <td>34.000000</td>\n",
       "      <td>33.50000</td>\n",
       "      <td>10.000000</td>\n",
       "      <td>21.500000</td>\n",
       "    </tr>\n",
       "    <tr>\n",
       "      <th>max</th>\n",
       "      <td>2019.000000</td>\n",
       "      <td>73.000000</td>\n",
       "      <td>44.000000</td>\n",
       "      <td>73.000000</td>\n",
       "      <td>63.00000</td>\n",
       "      <td>67.000000</td>\n",
       "      <td>67.000000</td>\n",
       "    </tr>\n",
       "  </tbody>\n",
       "</table>\n",
       "</div>"
      ],
      "text/plain": [
       "              year    winscore    losscore   TSU score  opponent score  \\\n",
       "count   191.000000  191.000000  191.000000  191.000000       191.00000   \n",
       "mean   2010.931937   32.984293   18.481675   25.643979        25.82199   \n",
       "std       4.891515   10.659553   10.215490   12.489530        12.94969   \n",
       "min    2003.000000    9.000000    0.000000    0.000000         0.00000   \n",
       "25%    2007.000000   26.500000   12.000000   17.000000        15.00000   \n",
       "50%    2011.000000   31.000000   17.000000   26.000000        27.00000   \n",
       "75%    2015.000000   40.000000   26.000000   34.000000        33.50000   \n",
       "max    2019.000000   73.000000   44.000000   73.000000        63.00000   \n",
       "\n",
       "        scorediff  scorediff_abs  \n",
       "count  191.000000     191.000000  \n",
       "mean    -0.178010      14.502618  \n",
       "std     19.109373      12.400286  \n",
       "min    -49.000000       1.000000  \n",
       "25%    -11.000000       5.000000  \n",
       "50%     -3.000000      11.000000  \n",
       "75%     10.000000      21.500000  \n",
       "max     67.000000      67.000000  "
      ]
     },
     "execution_count": 359,
     "metadata": {},
     "output_type": "execute_result"
    }
   ],
   "source": [
    "#get information about numeric columns in data frame\n",
    "df.describe()"
   ]
  },
  {
   "cell_type": "code",
   "execution_count": 360,
   "metadata": {},
   "outputs": [
    {
     "data": {
      "text/plain": [
       "year              0\n",
       "city              0\n",
       "state             0\n",
       "winscore          0\n",
       "losscore          0\n",
       "loser             0\n",
       "winner            0\n",
       "locale            0\n",
       "TSU score         0\n",
       "opponent score    0\n",
       "scorediff         0\n",
       "scorediff_abs     0\n",
       "winloss           0\n",
       "date              0\n",
       "dtype: int64"
      ]
     },
     "execution_count": 360,
     "metadata": {},
     "output_type": "execute_result"
    }
   ],
   "source": [
    "#get number of missing values in each column\n",
    "df.isna().sum()"
   ]
  },
  {
   "cell_type": "code",
   "execution_count": 393,
   "metadata": {},
   "outputs": [
    {
     "data": {
      "image/png": "[encoded data removed]",
      "text/plain": [
       "<Figure size 432x288 with 1 Axes>"
      ]
     },
     "metadata": {
      "needs_background": "light"
     },
     "output_type": "display_data"
    }
   ],
   "source": [
    "#number of games each year\n",
    "plt.hist(df['year'],bins=17)\n",
    "plt.show()"
   ]
  },
  {
   "cell_type": "code",
   "execution_count": 394,
   "metadata": {},
   "outputs": [
    {
     "data": {
      "text/plain": [
       "<function matplotlib.pyplot.show(close=None, block=None)>"
      ]
     },
     "execution_count": 394,
     "metadata": {},
     "output_type": "execute_result"
    },
    {
     "data": {
      "image/png": "[encoded data removed]",
      "text/plain": [
       "<Figure size 432x288 with 1 Axes>"
      ]
     },
     "metadata": {
      "needs_background": "light"
     },
     "output_type": "display_data"
    }
   ],
   "source": [
    "#TSU score distribution\n",
    "plt.hist(df['TSU score'])\n",
    "plt.show"
   ]
  },
  {
   "cell_type": "code",
   "execution_count": 395,
   "metadata": {},
   "outputs": [
    {
     "data": {
      "image/png": "[encoded data removed]",
      "text/plain": [
       "<Figure size 432x288 with 1 Axes>"
      ]
     },
     "metadata": {
      "needs_background": "light"
     },
     "output_type": "display_data"
    }
   ],
   "source": [
    "#scatter plot of TSU scores by year\n",
    "plt.scatter(x='TSU score', y='year', data=df)\n",
    "plt.show()"
   ]
  },
  {
   "cell_type": "code",
   "execution_count": 396,
   "metadata": {},
   "outputs": [
    {
     "data": {
      "text/plain": [
       "25.643979057591622"
      ]
     },
     "execution_count": 396,
     "metadata": {},
     "output_type": "execute_result"
    }
   ],
   "source": [
    "#overall mean TSU score\n",
    "df['TSU score'].mean()"
   ]
  },
  {
   "cell_type": "code",
   "execution_count": 397,
   "metadata": {},
   "outputs": [
    {
     "data": {
      "text/plain": [
       "0"
      ]
     },
     "execution_count": 397,
     "metadata": {},
     "output_type": "execute_result"
    }
   ],
   "source": [
    "#minimum TSU score\n",
    "df['TSU score'].min()"
   ]
  },
  {
   "cell_type": "code",
   "execution_count": 398,
   "metadata": {},
   "outputs": [
    {
     "data": {
      "text/plain": [
       "73"
      ]
     },
     "execution_count": 398,
     "metadata": {},
     "output_type": "execute_result"
    }
   ],
   "source": [
    "#mazimum TSU score\n",
    "df['TSU score'].max()"
   ]
  },
  {
   "cell_type": "code",
   "execution_count": 399,
   "metadata": {},
   "outputs": [
    {
     "data": {
      "text/plain": [
       "<AxesSubplot:title={'center':'Mean TSU score by year'}, xlabel='year'>"
      ]
     },
     "execution_count": 399,
     "metadata": {},
     "output_type": "execute_result"
    },
    {
     "data": {
      "image/png": "[encoded data removed]",
      "text/plain": [
       "<Figure size 432x288 with 1 Axes>"
      ]
     },
     "metadata": {
      "needs_background": "light"
     },
     "output_type": "display_data"
    }
   ],
   "source": [
    "#Mean TSU score by year\n",
    "#plot average score by year\n",
    "mean_score_by_year=df.groupby([\"year\"])['TSU score'].mean()\n",
    "mean_score_by_year.plot(kind='bar', title='Mean TSU score by year')"
   ]
  },
  {
   "cell_type": "code",
   "execution_count": 400,
   "metadata": {},
   "outputs": [
    {
     "data": {
      "text/plain": [
       "<AxesSubplot:title={'center':'Minimum TSU score by year'}, xlabel='year'>"
      ]
     },
     "execution_count": 400,
     "metadata": {},
     "output_type": "execute_result"
    },
    {
     "data": {
      "image/png": "[encoded data removed]",
      "text/plain": [
       "<Figure size 432x288 with 1 Axes>"
      ]
     },
     "metadata": {
      "needs_background": "light"
     },
     "output_type": "display_data"
    }
   ],
   "source": [
    "#Minimum TSU score by year\n",
    "#plot average score by winloss and year\n",
    "min_score_by_year=df.groupby([\"year\"])['TSU score'].min()\n",
    "min_score_by_year.plot(kind='bar', title='Minimum TSU score by year')"
   ]
  },
  {
   "cell_type": "code",
   "execution_count": 401,
   "metadata": {},
   "outputs": [
    {
     "data": {
      "text/plain": [
       "<AxesSubplot:title={'center':'Maximum TSU score by year'}, xlabel='year'>"
      ]
     },
     "execution_count": 401,
     "metadata": {},
     "output_type": "execute_result"
    },
    {
     "data": {
      "image/png": "[encoded data removed]",
      "text/plain": [
       "<Figure size 432x288 with 1 Axes>"
      ]
     },
     "metadata": {
      "needs_background": "light"
     },
     "output_type": "display_data"
    }
   ],
   "source": [
    "#Maximum TSU score by year\n",
    "#plot average score by winloss and year\n",
    "max_score_by_year=df.groupby([\"year\"])['TSU score'].max()\n",
    "max_score_by_year.plot(kind='bar', title='Maximum TSU score by year')"
   ]
  },
  {
   "cell_type": "code",
   "execution_count": 402,
   "metadata": {},
   "outputs": [
    {
     "data": {
      "text/plain": [
       "<AxesSubplot:title={'center':'Number of TSU wins and losses per year'}, xlabel='year,winloss'>"
      ]
     },
     "execution_count": 402,
     "metadata": {},
     "output_type": "execute_result"
    },
    {
     "data": {
      "image/png": "[encoded data removed]",
      "text/plain": [
       "<Figure size 432x288 with 1 Axes>"
      ]
     },
     "metadata": {
      "needs_background": "light"
     },
     "output_type": "display_data"
    }
   ],
   "source": [
    "#number of wins and losses by year\n",
    "num_win_loss_by_year=df.groupby(['year'])['winloss'].value_counts()\n",
    "num_win_loss_by_year.plot(kind='bar',title='Number of TSU wins and losses per year')"
   ]
  },
  {
   "cell_type": "code",
   "execution_count": 403,
   "metadata": {},
   "outputs": [
    {
     "data": {
      "text/plain": [
       "Loss    99\n",
       "Win     92\n",
       "Name: winloss, dtype: int64"
      ]
     },
     "execution_count": 403,
     "metadata": {},
     "output_type": "execute_result"
    }
   ],
   "source": [
    "#wins and losses \n",
    "df['winloss'].value_counts()"
   ]
  },
  {
   "cell_type": "code",
   "execution_count": 404,
   "metadata": {},
   "outputs": [
    {
     "data": {
      "text/html": [
       "<div>\n",
       "<style scoped>\n",
       "    .dataframe tbody tr th:only-of-type {\n",
       "        vertical-align: middle;\n",
       "    }\n",
       "\n",
       "    .dataframe tbody tr th {\n",
       "        vertical-align: top;\n",
       "    }\n",
       "\n",
       "    .dataframe thead th {\n",
       "        text-align: right;\n",
       "    }\n",
       "</style>\n",
       "<table border=\"1\" class=\"dataframe\">\n",
       "  <thead>\n",
       "    <tr style=\"text-align: right;\">\n",
       "      <th></th>\n",
       "      <th>TSU score</th>\n",
       "    </tr>\n",
       "    <tr>\n",
       "      <th>winloss</th>\n",
       "      <th></th>\n",
       "    </tr>\n",
       "  </thead>\n",
       "  <tbody>\n",
       "    <tr>\n",
       "      <th>Loss</th>\n",
       "      <td>19.151515</td>\n",
       "    </tr>\n",
       "    <tr>\n",
       "      <th>Win</th>\n",
       "      <td>32.630435</td>\n",
       "    </tr>\n",
       "  </tbody>\n",
       "</table>\n",
       "</div>"
      ],
      "text/plain": [
       "         TSU score\n",
       "winloss           \n",
       "Loss     19.151515\n",
       "Win      32.630435"
      ]
     },
     "execution_count": 404,
     "metadata": {},
     "output_type": "execute_result"
    }
   ],
   "source": [
    "#Mean TSU score by wins and losses \n",
    "df.pivot_table(\"TSU score\",index='winloss')"
   ]
  },
  {
   "cell_type": "code",
   "execution_count": 405,
   "metadata": {},
   "outputs": [
    {
     "data": {
      "text/html": [
       "<div>\n",
       "<style scoped>\n",
       "    .dataframe tbody tr th:only-of-type {\n",
       "        vertical-align: middle;\n",
       "    }\n",
       "\n",
       "    .dataframe tbody tr th {\n",
       "        vertical-align: top;\n",
       "    }\n",
       "\n",
       "    .dataframe thead th {\n",
       "        text-align: right;\n",
       "    }\n",
       "</style>\n",
       "<table border=\"1\" class=\"dataframe\">\n",
       "  <thead>\n",
       "    <tr style=\"text-align: right;\">\n",
       "      <th></th>\n",
       "      <th>TSU score</th>\n",
       "    </tr>\n",
       "    <tr>\n",
       "      <th>winloss</th>\n",
       "      <th></th>\n",
       "    </tr>\n",
       "  </thead>\n",
       "  <tbody>\n",
       "    <tr>\n",
       "      <th>Loss</th>\n",
       "      <td>0</td>\n",
       "    </tr>\n",
       "    <tr>\n",
       "      <th>Win</th>\n",
       "      <td>10</td>\n",
       "    </tr>\n",
       "  </tbody>\n",
       "</table>\n",
       "</div>"
      ],
      "text/plain": [
       "         TSU score\n",
       "winloss           \n",
       "Loss             0\n",
       "Win             10"
      ]
     },
     "execution_count": 405,
     "metadata": {},
     "output_type": "execute_result"
    }
   ],
   "source": [
    "#minimum TSU score by wins and losses\n",
    "df.pivot_table(\"TSU score\",index='winloss',aggfunc=np.min)"
   ]
  },
  {
   "cell_type": "code",
   "execution_count": 406,
   "metadata": {},
   "outputs": [
    {
     "data": {
      "text/html": [
       "<div>\n",
       "<style scoped>\n",
       "    .dataframe tbody tr th:only-of-type {\n",
       "        vertical-align: middle;\n",
       "    }\n",
       "\n",
       "    .dataframe tbody tr th {\n",
       "        vertical-align: top;\n",
       "    }\n",
       "\n",
       "    .dataframe thead th {\n",
       "        text-align: right;\n",
       "    }\n",
       "</style>\n",
       "<table border=\"1\" class=\"dataframe\">\n",
       "  <thead>\n",
       "    <tr style=\"text-align: right;\">\n",
       "      <th></th>\n",
       "      <th>TSU score</th>\n",
       "    </tr>\n",
       "    <tr>\n",
       "      <th>winloss</th>\n",
       "      <th></th>\n",
       "    </tr>\n",
       "  </thead>\n",
       "  <tbody>\n",
       "    <tr>\n",
       "      <th>Loss</th>\n",
       "      <td>44</td>\n",
       "    </tr>\n",
       "    <tr>\n",
       "      <th>Win</th>\n",
       "      <td>73</td>\n",
       "    </tr>\n",
       "  </tbody>\n",
       "</table>\n",
       "</div>"
      ],
      "text/plain": [
       "         TSU score\n",
       "winloss           \n",
       "Loss            44\n",
       "Win             73"
      ]
     },
     "execution_count": 406,
     "metadata": {},
     "output_type": "execute_result"
    }
   ],
   "source": [
    "#maximum score by wins and losses\n",
    "df.pivot_table(\"TSU score\",index='winloss',aggfunc=np.max)"
   ]
  },
  {
   "cell_type": "code",
   "execution_count": 407,
   "metadata": {},
   "outputs": [
    {
     "data": {
      "text/html": [
       "<div>\n",
       "<style scoped>\n",
       "    .dataframe tbody tr th:only-of-type {\n",
       "        vertical-align: middle;\n",
       "    }\n",
       "\n",
       "    .dataframe tbody tr th {\n",
       "        vertical-align: top;\n",
       "    }\n",
       "\n",
       "    .dataframe thead th {\n",
       "        text-align: right;\n",
       "    }\n",
       "</style>\n",
       "<table border=\"1\" class=\"dataframe\">\n",
       "  <thead>\n",
       "    <tr style=\"text-align: right;\">\n",
       "      <th>year</th>\n",
       "      <th>2003</th>\n",
       "      <th>2004</th>\n",
       "      <th>2005</th>\n",
       "      <th>2006</th>\n",
       "      <th>2007</th>\n",
       "      <th>2008</th>\n",
       "      <th>2009</th>\n",
       "      <th>2010</th>\n",
       "      <th>2011</th>\n",
       "      <th>2012</th>\n",
       "      <th>2013</th>\n",
       "      <th>2014</th>\n",
       "      <th>2015</th>\n",
       "      <th>2016</th>\n",
       "      <th>2017</th>\n",
       "      <th>2018</th>\n",
       "      <th>2019</th>\n",
       "    </tr>\n",
       "    <tr>\n",
       "      <th>winloss</th>\n",
       "      <th></th>\n",
       "      <th></th>\n",
       "      <th></th>\n",
       "      <th></th>\n",
       "      <th></th>\n",
       "      <th></th>\n",
       "      <th></th>\n",
       "      <th></th>\n",
       "      <th></th>\n",
       "      <th></th>\n",
       "      <th></th>\n",
       "      <th></th>\n",
       "      <th></th>\n",
       "      <th></th>\n",
       "      <th></th>\n",
       "      <th></th>\n",
       "      <th></th>\n",
       "    </tr>\n",
       "  </thead>\n",
       "  <tbody>\n",
       "    <tr>\n",
       "      <th>Loss</th>\n",
       "      <td>22.200</td>\n",
       "      <td>21.428571</td>\n",
       "      <td>9.444444</td>\n",
       "      <td>11.400000</td>\n",
       "      <td>25.666667</td>\n",
       "      <td>19.75</td>\n",
       "      <td>11.857143</td>\n",
       "      <td>15.875</td>\n",
       "      <td>25.333333</td>\n",
       "      <td>27.333333</td>\n",
       "      <td>8.75</td>\n",
       "      <td>20.500000</td>\n",
       "      <td>22.833333</td>\n",
       "      <td>24.500000</td>\n",
       "      <td>16.2</td>\n",
       "      <td>23.40</td>\n",
       "      <td>25.000000</td>\n",
       "    </tr>\n",
       "    <tr>\n",
       "      <th>Win</th>\n",
       "      <td>34.875</td>\n",
       "      <td>28.666667</td>\n",
       "      <td>25.500000</td>\n",
       "      <td>30.666667</td>\n",
       "      <td>34.800000</td>\n",
       "      <td>37.00</td>\n",
       "      <td>19.500000</td>\n",
       "      <td>31.000</td>\n",
       "      <td>36.600000</td>\n",
       "      <td>29.375000</td>\n",
       "      <td>34.60</td>\n",
       "      <td>34.833333</td>\n",
       "      <td>27.250000</td>\n",
       "      <td>36.714286</td>\n",
       "      <td>31.0</td>\n",
       "      <td>36.75</td>\n",
       "      <td>29.666667</td>\n",
       "    </tr>\n",
       "  </tbody>\n",
       "</table>\n",
       "</div>"
      ],
      "text/plain": [
       "year       2003       2004       2005       2006       2007   2008       2009  \\\n",
       "winloss                                                                         \n",
       "Loss     22.200  21.428571   9.444444  11.400000  25.666667  19.75  11.857143   \n",
       "Win      34.875  28.666667  25.500000  30.666667  34.800000  37.00  19.500000   \n",
       "\n",
       "year       2010       2011       2012   2013       2014       2015       2016  \\\n",
       "winloss                                                                         \n",
       "Loss     15.875  25.333333  27.333333   8.75  20.500000  22.833333  24.500000   \n",
       "Win      31.000  36.600000  29.375000  34.60  34.833333  27.250000  36.714286   \n",
       "\n",
       "year     2017   2018       2019  \n",
       "winloss                          \n",
       "Loss     16.2  23.40  25.000000  \n",
       "Win      31.0  36.75  29.666667  "
      ]
     },
     "execution_count": 407,
     "metadata": {},
     "output_type": "execute_result"
    }
   ],
   "source": [
    " #Mean TSU score by wins and losses by year\n",
    "df.pivot_table(\"TSU score\",index='winloss', columns='year')"
   ]
  },
  {
   "cell_type": "code",
   "execution_count": 408,
   "metadata": {},
   "outputs": [
    {
     "data": {
      "text/html": [
       "<div>\n",
       "<style scoped>\n",
       "    .dataframe tbody tr th:only-of-type {\n",
       "        vertical-align: middle;\n",
       "    }\n",
       "\n",
       "    .dataframe tbody tr th {\n",
       "        vertical-align: top;\n",
       "    }\n",
       "\n",
       "    .dataframe thead th {\n",
       "        text-align: right;\n",
       "    }\n",
       "</style>\n",
       "<table border=\"1\" class=\"dataframe\">\n",
       "  <thead>\n",
       "    <tr style=\"text-align: right;\">\n",
       "      <th>year</th>\n",
       "      <th>2003</th>\n",
       "      <th>2004</th>\n",
       "      <th>2005</th>\n",
       "      <th>2006</th>\n",
       "      <th>2007</th>\n",
       "      <th>2008</th>\n",
       "      <th>2009</th>\n",
       "      <th>2010</th>\n",
       "      <th>2011</th>\n",
       "      <th>2012</th>\n",
       "      <th>2013</th>\n",
       "      <th>2014</th>\n",
       "      <th>2015</th>\n",
       "      <th>2016</th>\n",
       "      <th>2017</th>\n",
       "      <th>2018</th>\n",
       "      <th>2019</th>\n",
       "    </tr>\n",
       "    <tr>\n",
       "      <th>winloss</th>\n",
       "      <th></th>\n",
       "      <th></th>\n",
       "      <th></th>\n",
       "      <th></th>\n",
       "      <th></th>\n",
       "      <th></th>\n",
       "      <th></th>\n",
       "      <th></th>\n",
       "      <th></th>\n",
       "      <th></th>\n",
       "      <th></th>\n",
       "      <th></th>\n",
       "      <th></th>\n",
       "      <th></th>\n",
       "      <th></th>\n",
       "      <th></th>\n",
       "      <th></th>\n",
       "    </tr>\n",
       "  </thead>\n",
       "  <tbody>\n",
       "    <tr>\n",
       "      <th>Loss</th>\n",
       "      <td>38</td>\n",
       "      <td>36</td>\n",
       "      <td>24</td>\n",
       "      <td>22</td>\n",
       "      <td>38</td>\n",
       "      <td>21</td>\n",
       "      <td>21</td>\n",
       "      <td>28</td>\n",
       "      <td>34</td>\n",
       "      <td>28</td>\n",
       "      <td>16</td>\n",
       "      <td>42</td>\n",
       "      <td>43</td>\n",
       "      <td>34</td>\n",
       "      <td>26</td>\n",
       "      <td>34</td>\n",
       "      <td>44</td>\n",
       "    </tr>\n",
       "    <tr>\n",
       "      <th>Win</th>\n",
       "      <td>44</td>\n",
       "      <td>38</td>\n",
       "      <td>31</td>\n",
       "      <td>38</td>\n",
       "      <td>45</td>\n",
       "      <td>45</td>\n",
       "      <td>23</td>\n",
       "      <td>37</td>\n",
       "      <td>55</td>\n",
       "      <td>40</td>\n",
       "      <td>73</td>\n",
       "      <td>58</td>\n",
       "      <td>35</td>\n",
       "      <td>44</td>\n",
       "      <td>60</td>\n",
       "      <td>41</td>\n",
       "      <td>37</td>\n",
       "    </tr>\n",
       "  </tbody>\n",
       "</table>\n",
       "</div>"
      ],
      "text/plain": [
       "year     2003  2004  2005  2006  2007  2008  2009  2010  2011  2012  2013  \\\n",
       "winloss                                                                     \n",
       "Loss       38    36    24    22    38    21    21    28    34    28    16   \n",
       "Win        44    38    31    38    45    45    23    37    55    40    73   \n",
       "\n",
       "year     2014  2015  2016  2017  2018  2019  \n",
       "winloss                                      \n",
       "Loss       42    43    34    26    34    44  \n",
       "Win        58    35    44    60    41    37  "
      ]
     },
     "execution_count": 408,
     "metadata": {},
     "output_type": "execute_result"
    }
   ],
   "source": [
    " #Maximum TSU score by wins and losses by year\n",
    "df.pivot_table(\"TSU score\",index='winloss', columns='year',aggfunc=np.max)"
   ]
  },
  {
   "cell_type": "code",
   "execution_count": 409,
   "metadata": {},
   "outputs": [
    {
     "data": {
      "text/html": [
       "<div>\n",
       "<style scoped>\n",
       "    .dataframe tbody tr th:only-of-type {\n",
       "        vertical-align: middle;\n",
       "    }\n",
       "\n",
       "    .dataframe tbody tr th {\n",
       "        vertical-align: top;\n",
       "    }\n",
       "\n",
       "    .dataframe thead th {\n",
       "        text-align: right;\n",
       "    }\n",
       "</style>\n",
       "<table border=\"1\" class=\"dataframe\">\n",
       "  <thead>\n",
       "    <tr style=\"text-align: right;\">\n",
       "      <th>year</th>\n",
       "      <th>2003</th>\n",
       "      <th>2004</th>\n",
       "      <th>2005</th>\n",
       "      <th>2006</th>\n",
       "      <th>2007</th>\n",
       "      <th>2008</th>\n",
       "      <th>2009</th>\n",
       "      <th>2010</th>\n",
       "      <th>2011</th>\n",
       "      <th>2012</th>\n",
       "      <th>2013</th>\n",
       "      <th>2014</th>\n",
       "      <th>2015</th>\n",
       "      <th>2016</th>\n",
       "      <th>2017</th>\n",
       "      <th>2018</th>\n",
       "      <th>2019</th>\n",
       "    </tr>\n",
       "    <tr>\n",
       "      <th>winloss</th>\n",
       "      <th></th>\n",
       "      <th></th>\n",
       "      <th></th>\n",
       "      <th></th>\n",
       "      <th></th>\n",
       "      <th></th>\n",
       "      <th></th>\n",
       "      <th></th>\n",
       "      <th></th>\n",
       "      <th></th>\n",
       "      <th></th>\n",
       "      <th></th>\n",
       "      <th></th>\n",
       "      <th></th>\n",
       "      <th></th>\n",
       "      <th></th>\n",
       "      <th></th>\n",
       "    </tr>\n",
       "  </thead>\n",
       "  <tbody>\n",
       "    <tr>\n",
       "      <th>Loss</th>\n",
       "      <td>7</td>\n",
       "      <td>13</td>\n",
       "      <td>0</td>\n",
       "      <td>3</td>\n",
       "      <td>7</td>\n",
       "      <td>17</td>\n",
       "      <td>6</td>\n",
       "      <td>0</td>\n",
       "      <td>16</td>\n",
       "      <td>26</td>\n",
       "      <td>0</td>\n",
       "      <td>3</td>\n",
       "      <td>13</td>\n",
       "      <td>16</td>\n",
       "      <td>6</td>\n",
       "      <td>14</td>\n",
       "      <td>13</td>\n",
       "    </tr>\n",
       "    <tr>\n",
       "      <th>Win</th>\n",
       "      <td>24</td>\n",
       "      <td>21</td>\n",
       "      <td>20</td>\n",
       "      <td>25</td>\n",
       "      <td>16</td>\n",
       "      <td>30</td>\n",
       "      <td>14</td>\n",
       "      <td>27</td>\n",
       "      <td>18</td>\n",
       "      <td>17</td>\n",
       "      <td>17</td>\n",
       "      <td>10</td>\n",
       "      <td>20</td>\n",
       "      <td>31</td>\n",
       "      <td>17</td>\n",
       "      <td>31</td>\n",
       "      <td>26</td>\n",
       "    </tr>\n",
       "  </tbody>\n",
       "</table>\n",
       "</div>"
      ],
      "text/plain": [
       "year     2003  2004  2005  2006  2007  2008  2009  2010  2011  2012  2013  \\\n",
       "winloss                                                                     \n",
       "Loss        7    13     0     3     7    17     6     0    16    26     0   \n",
       "Win        24    21    20    25    16    30    14    27    18    17    17   \n",
       "\n",
       "year     2014  2015  2016  2017  2018  2019  \n",
       "winloss                                      \n",
       "Loss        3    13    16     6    14    13  \n",
       "Win        10    20    31    17    31    26  "
      ]
     },
     "execution_count": 409,
     "metadata": {},
     "output_type": "execute_result"
    }
   ],
   "source": [
    " #Minimum TSU score by wins and losses by year\n",
    "df.pivot_table(\"TSU score\",index='winloss', columns='year',aggfunc=np.min)"
   ]
  },
  {
   "cell_type": "code",
   "execution_count": 410,
   "metadata": {},
   "outputs": [
    {
     "data": {
      "text/plain": [
       "<AxesSubplot:title={'center':'Mean TSU score by wins and losses'}, xlabel='winloss'>"
      ]
     },
     "execution_count": 410,
     "metadata": {},
     "output_type": "execute_result"
    },
    {
     "data": {
      "image/png": "[encoded data removed]",
      "text/plain": [
       "<Figure size 432x288 with 1 Axes>"
      ]
     },
     "metadata": {
      "needs_background": "light"
     },
     "output_type": "display_data"
    }
   ],
   "source": [
    "#plot average TSU score by winloss \n",
    "avg_score=df.groupby([\"winloss\"])['TSU score'].mean()\n",
    "avg_score.plot(kind='bar', title='Mean TSU score by wins and losses')"
   ]
  },
  {
   "cell_type": "code",
   "execution_count": 411,
   "metadata": {},
   "outputs": [
    {
     "data": {
      "text/plain": [
       "<AxesSubplot:title={'center':'Mean TSU score by year and wins and losses'}, xlabel='year,winloss'>"
      ]
     },
     "execution_count": 411,
     "metadata": {},
     "output_type": "execute_result"
    },
    {
     "data": {
      "image/png": "[encoded data removed]",
      "text/plain": [
       "<Figure size 432x288 with 1 Axes>"
      ]
     },
     "metadata": {
      "needs_background": "light"
     },
     "output_type": "display_data"
    }
   ],
   "source": [
    "#plot average TSU score by winloss and year\n",
    "avg_score=df.groupby([\"year\",\"winloss\"])['TSU score'].mean()\n",
    "avg_score.plot(kind='bar', title='Mean TSU score by year and wins and losses')"
   ]
  },
  {
   "cell_type": "code",
   "execution_count": 412,
   "metadata": {},
   "outputs": [
    {
     "data": {
      "text/plain": [
       "Away    111\n",
       "Home     80\n",
       "Name: locale, dtype: int64"
      ]
     },
     "execution_count": 412,
     "metadata": {},
     "output_type": "execute_result"
    }
   ],
   "source": [
    "#number of home and away games\n",
    "df['locale'].value_counts()"
   ]
  },
  {
   "cell_type": "code",
   "execution_count": 413,
   "metadata": {},
   "outputs": [
    {
     "data": {
      "text/html": [
       "<div>\n",
       "<style scoped>\n",
       "    .dataframe tbody tr th:only-of-type {\n",
       "        vertical-align: middle;\n",
       "    }\n",
       "\n",
       "    .dataframe tbody tr th {\n",
       "        vertical-align: top;\n",
       "    }\n",
       "\n",
       "    .dataframe thead th {\n",
       "        text-align: right;\n",
       "    }\n",
       "</style>\n",
       "<table border=\"1\" class=\"dataframe\">\n",
       "  <thead>\n",
       "    <tr style=\"text-align: right;\">\n",
       "      <th></th>\n",
       "      <th>TSU score</th>\n",
       "    </tr>\n",
       "    <tr>\n",
       "      <th>locale</th>\n",
       "      <th></th>\n",
       "    </tr>\n",
       "  </thead>\n",
       "  <tbody>\n",
       "    <tr>\n",
       "      <th>Away</th>\n",
       "      <td>24.936937</td>\n",
       "    </tr>\n",
       "    <tr>\n",
       "      <th>Home</th>\n",
       "      <td>26.625000</td>\n",
       "    </tr>\n",
       "  </tbody>\n",
       "</table>\n",
       "</div>"
      ],
      "text/plain": [
       "        TSU score\n",
       "locale           \n",
       "Away    24.936937\n",
       "Home    26.625000"
      ]
     },
     "execution_count": 413,
     "metadata": {},
     "output_type": "execute_result"
    }
   ],
   "source": [
    "#Mean TSU score by locale\n",
    "df.pivot_table(\"TSU score\",index='locale')"
   ]
  },
  {
   "cell_type": "code",
   "execution_count": 414,
   "metadata": {},
   "outputs": [
    {
     "data": {
      "text/html": [
       "<div>\n",
       "<style scoped>\n",
       "    .dataframe tbody tr th:only-of-type {\n",
       "        vertical-align: middle;\n",
       "    }\n",
       "\n",
       "    .dataframe tbody tr th {\n",
       "        vertical-align: top;\n",
       "    }\n",
       "\n",
       "    .dataframe thead tr th {\n",
       "        text-align: left;\n",
       "    }\n",
       "\n",
       "    .dataframe thead tr:last-of-type th {\n",
       "        text-align: right;\n",
       "    }\n",
       "</style>\n",
       "<table border=\"1\" class=\"dataframe\">\n",
       "  <thead>\n",
       "    <tr>\n",
       "      <th></th>\n",
       "      <th>amax</th>\n",
       "      <th>amin</th>\n",
       "    </tr>\n",
       "    <tr>\n",
       "      <th></th>\n",
       "      <th>TSU score</th>\n",
       "      <th>TSU score</th>\n",
       "    </tr>\n",
       "    <tr>\n",
       "      <th>locale</th>\n",
       "      <th></th>\n",
       "      <th></th>\n",
       "    </tr>\n",
       "  </thead>\n",
       "  <tbody>\n",
       "    <tr>\n",
       "      <th>Away</th>\n",
       "      <td>73</td>\n",
       "      <td>0</td>\n",
       "    </tr>\n",
       "    <tr>\n",
       "      <th>Home</th>\n",
       "      <td>60</td>\n",
       "      <td>0</td>\n",
       "    </tr>\n",
       "  </tbody>\n",
       "</table>\n",
       "</div>"
      ],
      "text/plain": [
       "            amax      amin\n",
       "       TSU score TSU score\n",
       "locale                    \n",
       "Away          73         0\n",
       "Home          60         0"
      ]
     },
     "execution_count": 414,
     "metadata": {},
     "output_type": "execute_result"
    }
   ],
   "source": [
    "#Maximum and minimum TSU score by locale \n",
    "df.pivot_table(\"TSU score\",index='locale',aggfunc=[np.max,np.min])"
   ]
  },
  {
   "cell_type": "code",
   "execution_count": 415,
   "metadata": {},
   "outputs": [
    {
     "data": {
      "text/plain": [
       "year  locale\n",
       "2003  Away      7\n",
       "      Home      6\n",
       "2004  Away      7\n",
       "      Home      3\n",
       "2005  Away      7\n",
       "      Home      4\n",
       "2006  Home      6\n",
       "      Away      5\n",
       "2007  Away      7\n",
       "      Home      4\n",
       "2008  Away      7\n",
       "      Home      5\n",
       "2009  Away      7\n",
       "      Home      4\n",
       "2010  Away      7\n",
       "      Home      4\n",
       "2011  Away      7\n",
       "      Home      4\n",
       "2012  Away      6\n",
       "      Home      5\n",
       "2013  Away      9\n",
       "      Home      5\n",
       "2014  Away      6\n",
       "      Home      6\n",
       "2015  Away      6\n",
       "      Home      4\n",
       "2016  Away      6\n",
       "      Home      5\n",
       "2017  Away      7\n",
       "      Home      4\n",
       "2018  Home      5\n",
       "      Away      4\n",
       "2019  Away      6\n",
       "      Home      6\n",
       "Name: locale, dtype: int64"
      ]
     },
     "execution_count": 415,
     "metadata": {},
     "output_type": "execute_result"
    }
   ],
   "source": [
    "#number of home and away games by year\n",
    "df.groupby(['year'])['locale'].value_counts()"
   ]
  },
  {
   "cell_type": "code",
   "execution_count": 416,
   "metadata": {},
   "outputs": [
    {
     "data": {
      "text/plain": [
       "<AxesSubplot:title={'center':'Mean TSU score for locale by year'}, xlabel='year,locale'>"
      ]
     },
     "execution_count": 416,
     "metadata": {},
     "output_type": "execute_result"
    },
    {
     "data": {
      "image/png": "[encoded data removed]",
      "text/plain": [
       "<Figure size 432x288 with 1 Axes>"
      ]
     },
     "metadata": {
      "needs_background": "light"
     },
     "output_type": "display_data"
    }
   ],
   "source": [
    "#plot average score by locale and year\n",
    "avg_score_by_winloss=df.groupby([\"year\",'locale'])['TSU score'].mean()\n",
    "avg_score_by_winloss.plot(kind='bar', title='Mean TSU score for locale by year')"
   ]
  },
  {
   "cell_type": "code",
   "execution_count": 422,
   "metadata": {},
   "outputs": [
    {
     "data": {
      "text/plain": [
       "14.502617801047121"
      ]
     },
     "execution_count": 422,
     "metadata": {},
     "output_type": "execute_result"
    }
   ],
   "source": [
    "#mean absolute value score difference\n",
    "df['scorediff_abs'].mean()"
   ]
  },
  {
   "cell_type": "code",
   "execution_count": 423,
   "metadata": {},
   "outputs": [
    {
     "data": {
      "text/plain": [
       "1"
      ]
     },
     "execution_count": 423,
     "metadata": {},
     "output_type": "execute_result"
    }
   ],
   "source": [
    "#minimum absolute value score difference\n",
    "df['scorediff_abs'].min()"
   ]
  },
  {
   "cell_type": "code",
   "execution_count": 424,
   "metadata": {},
   "outputs": [
    {
     "data": {
      "text/plain": [
       "67"
      ]
     },
     "execution_count": 424,
     "metadata": {},
     "output_type": "execute_result"
    }
   ],
   "source": [
    "#maximum absolute value score difference\n",
    "df['scorediff_abs'].max()"
   ]
  },
  {
   "cell_type": "code",
   "execution_count": 425,
   "metadata": {},
   "outputs": [
    {
     "data": {
      "text/plain": [
       "<AxesSubplot:title={'center':'Mean absolute value score difference by year'}, xlabel='year'>"
      ]
     },
     "execution_count": 425,
     "metadata": {},
     "output_type": "execute_result"
    },
    {
     "data": {
      "image/png": "[encoded data removed]",
      "text/plain": [
       "<Figure size 432x288 with 1 Axes>"
      ]
     },
     "metadata": {
      "needs_background": "light"
     },
     "output_type": "display_data"
    }
   ],
   "source": [
    "#mean absoluute value score difference by year\n",
    "avg_diff_by_year=df.groupby([\"year\",])['scorediff_abs'].mean()\n",
    "avg_diff_by_year.plot(kind='bar', title='Mean absolute value score difference by year')"
   ]
  },
  {
   "cell_type": "code",
   "execution_count": 427,
   "metadata": {},
   "outputs": [
    {
     "data": {
      "text/plain": [
       "<AxesSubplot:title={'center':'Maximum absolute value score difference by year'}, xlabel='year'>"
      ]
     },
     "execution_count": 427,
     "metadata": {},
     "output_type": "execute_result"
    },
    {
     "data": {
      "image/png": "[encoded data removed]",
      "text/plain": [
       "<Figure size 432x288 with 1 Axes>"
      ]
     },
     "metadata": {
      "needs_background": "light"
     },
     "output_type": "display_data"
    }
   ],
   "source": [
    "#maximum absolute value score difference by year\n",
    "max_diff_by_year=df.groupby([\"year\",])['scorediff_abs'].max()\n",
    "max_diff_by_year.plot(kind='bar', title='Maximum absolute value score difference by year')"
   ]
  },
  {
   "cell_type": "code",
   "execution_count": 428,
   "metadata": {},
   "outputs": [
    {
     "data": {
      "text/plain": [
       "<AxesSubplot:title={'center':'Minimum absolute value score difference by year'}, xlabel='year'>"
      ]
     },
     "execution_count": 428,
     "metadata": {},
     "output_type": "execute_result"
    },
    {
     "data": {
      "image/png": "[encoded data removed]",
      "text/plain": [
       "<Figure size 432x288 with 1 Axes>"
      ]
     },
     "metadata": {
      "needs_background": "light"
     },
     "output_type": "display_data"
    }
   ],
   "source": [
    "#minimum absolute value score difference by year\n",
    "min_diff_by_year=df.groupby([\"year\",])['scorediff_abs'].min()\n",
    "min_diff_by_year.plot(kind='bar', title='Minimum absolute value score difference by year')"
   ]
  },
  {
   "cell_type": "code",
   "execution_count": 429,
   "metadata": {},
   "outputs": [
    {
     "data": {
      "text/plain": [
       "locale\n",
       "Away    13.648649\n",
       "Home    15.687500\n",
       "Name: scorediff_abs, dtype: float64"
      ]
     },
     "execution_count": 429,
     "metadata": {},
     "output_type": "execute_result"
    }
   ],
   "source": [
    "#mean absolute value difference by locale\n",
    "df.groupby(['locale'])['scorediff_abs'].mean()"
   ]
  },
  {
   "cell_type": "code",
   "execution_count": 430,
   "metadata": {},
   "outputs": [
    {
     "data": {
      "text/plain": [
       "locale\n",
       "Away    67\n",
       "Home    60\n",
       "Name: scorediff_abs, dtype: int64"
      ]
     },
     "execution_count": 430,
     "metadata": {},
     "output_type": "execute_result"
    }
   ],
   "source": [
    "#maximum absolute value difference by locale\n",
    "df.groupby(['locale'])['scorediff_abs'].max()"
   ]
  },
  {
   "cell_type": "code",
   "execution_count": 431,
   "metadata": {},
   "outputs": [
    {
     "data": {
      "text/plain": [
       "locale\n",
       "Away    1\n",
       "Home    1\n",
       "Name: scorediff_abs, dtype: int64"
      ]
     },
     "execution_count": 431,
     "metadata": {},
     "output_type": "execute_result"
    }
   ],
   "source": [
    "#minimum  absolute value difference by locale\n",
    "df.groupby(['locale'])['scorediff_abs'].min()"
   ]
  },
  {
   "cell_type": "code",
   "execution_count": null,
   "metadata": {},
   "outputs": [],
   "source": []
  },
  {
   "cell_type": "code",
   "execution_count": null,
   "metadata": {},
   "outputs": [],
   "source": []
  }
 ],
 "metadata": {
  "kernelspec": {
   "display_name": "Python 3",
   "language": "python",
   "name": "python3"
  },
  "language_info": {
   "codemirror_mode": {
    "name": "ipython",
    "version": 3
   },
   "file_extension": ".py",
   "mimetype": "text/x-python",
   "name": "python",
   "nbconvert_exporter": "python",
   "pygments_lexer": "ipython3",
   "version": "3.8.5"
  }
 },
 "nbformat": 4,
 "nbformat_minor": 4
}
