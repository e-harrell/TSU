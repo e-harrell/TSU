{
 "cells": [
  {
   "cell_type": "code",
   "execution_count": 89,
   "metadata": {},
   "outputs": [
    {
     "data": {
      "text/plain": [
       "['Aug 30 2003',\n",
       " 'Sep 06 2003',\n",
       " 'Sep 13 2003',\n",
       " 'Sep 20 2003',\n",
       " 'Sep 27 2003',\n",
       " 'Oct 11 2003',\n",
       " 'Oct 18 2003',\n",
       " 'Oct 25 2003',\n",
       " 'Nov 01 2003',\n",
       " 'Nov 08 2003',\n",
       " 'Nov 15 2003',\n",
       " 'Nov 22 2003']"
      ]
     },
     "execution_count": 89,
     "metadata": {},
     "output_type": "execute_result"
    }
   ],
   "source": [
    "#libraries to use\n",
    "import pandas as pd\n",
    "import numpy as np\n",
    "import matplotlib.pyplot as plt\n",
    "import datetime as dt\n",
    "#python's lxml library parses xml and html files\n",
    "from lxml import html\n",
    "\n",
    "#use requests to get data from web pages\n",
    "import requests \n",
    "\n",
    "#use requests.get() to get web page with data\n",
    "page = requests.get('https://tennstate_ftp.sidearmsports.com/custompages/tsutigers/A5FB3AA1-8151-496A-A022-754FE722F59E/teamgbg.htm')\n",
    "\n",
    "#parse data on web page using html module.fromstring\n",
    "mytree = html.fromstring(page.content)\n",
    "\n",
    "#go to web address above , right click on page and select inspect to get HTML code for data from right side of page\n",
    "#create XPath query and use xpath function to get data\n",
    "#date data\n",
    "date = mytree.xpath('body/center//tr/td/font[@color=\"#000000\"]/text()')[1:120:10]\n",
    "date=[a.replace(\"\\xa0\",\"\") for a in date]\n",
    "date=[a.replace('Sep. 6, 2003','Sep 06 2003') for a in date]\n",
    "date=[a.replace(\",\",\"\") for a in date]\n",
    "date"
   ]
  },
  {
   "cell_type": "code",
   "execution_count": 2,
   "metadata": {},
   "outputs": [
    {
     "data": {
      "text/plain": [
       "[' 18124',\n",
       " ' 18085',\n",
       " ' 52603',\n",
       " ' 70185',\n",
       " '  8434',\n",
       " '  8127',\n",
       " '  8023',\n",
       " ' 10360',\n",
       " ' 25037',\n",
       " '  5375',\n",
       " '  3875',\n",
       " '  2814']"
      ]
     },
     "execution_count": 2,
     "metadata": {},
     "output_type": "execute_result"
    }
   ],
   "source": [
    "#get attendance data\n",
    "attendance=mytree.xpath('body/center//tr/td/font[@color=\"#000000\"]/text()')[9:120:10]\n",
    "attendance=[a.replace(\"\\xa0\",\"\") for a in attendance]\n",
    "attendance"
   ]
  },
  {
   "cell_type": "code",
   "execution_count": 3,
   "metadata": {},
   "outputs": [
    {
     "data": {
      "text/plain": [
       "['113',\n",
       " '141',\n",
       " '209',\n",
       " '153',\n",
       " '142',\n",
       " '182',\n",
       " '47',\n",
       " '132',\n",
       " '223',\n",
       " '149',\n",
       " '144',\n",
       " '191']"
      ]
     },
     "execution_count": 3,
     "metadata": {},
     "output_type": "execute_result"
    }
   ],
   "source": [
    "#get TSU rushing yards\n",
    "TSUrushyards=mytree.xpath('body/center//tr/td/font[@color=\"#000000\"]/text()')[124:380:23]\n",
    "TSUrushyards=[a.replace(\"\\xa0\",\"\") for a in TSUrushyards]\n",
    "TSUrushyards"
   ]
  },
  {
   "cell_type": "code",
   "execution_count": 4,
   "metadata": {},
   "outputs": [
    {
     "data": {
      "text/plain": [
       "['365',\n",
       " '146',\n",
       " '132',\n",
       " '138',\n",
       " '285',\n",
       " '297',\n",
       " '175',\n",
       " '271',\n",
       " '184',\n",
       " '196',\n",
       " '371',\n",
       " '195']"
      ]
     },
     "execution_count": 4,
     "metadata": {},
     "output_type": "execute_result"
    }
   ],
   "source": [
    "#get TSU receiving yards\n",
    "TSUreceiveyards=mytree.xpath('body/center//tr/td/font[@color=\"#000000\"]/text()')[128:400:23]\n",
    "TSUreceiveyards=[a.replace(\"\\xa0\",\"\") for a in TSUreceiveyards]\n",
    "TSUreceiveyards"
   ]
  },
  {
   "cell_type": "code",
   "execution_count": 5,
   "metadata": {},
   "outputs": [
    {
     "data": {
      "text/plain": [
       "['69', '147', '138', '86', '11', '33', '90', '50', '8', '139', '112', '63']"
      ]
     },
     "execution_count": 5,
     "metadata": {},
     "output_type": "execute_result"
    }
   ],
   "source": [
    "#get TSU kick return yards\n",
    "TSUkreturnyards=mytree.xpath('body/center//tr/td/font[@color=\"#000000\"]/text()')[136:400:23]\n",
    "TSUkreturnyards=[a.replace(\"\\xa0\",\"\") for a in TSUkreturnyards]\n",
    "TSUkreturnyards"
   ]
  },
  {
   "cell_type": "code",
   "execution_count": 6,
   "metadata": {},
   "outputs": [
    {
     "data": {
      "text/plain": [
       "['88', '8', '107', '2', '29', '52', '-17', '45', '9', '18', '0', '15']"
      ]
     },
     "execution_count": 6,
     "metadata": {},
     "output_type": "execute_result"
    }
   ],
   "source": [
    "#get TSU punt return yards\n",
    "TSUpreturnyards=mytree.xpath('body/center//tr/td/font[@color=\"#000000\"]/text()')[140:400:23]\n",
    "TSUpreturnyards=[a.replace(\"\\xa0\",\"\") for a in TSUpreturnyards]\n",
    "TSUpreturnyards"
   ]
  },
  {
   "cell_type": "code",
   "execution_count": 7,
   "metadata": {},
   "outputs": [
    {
     "data": {
      "text/plain": [
       "['69', '68', '84', '50', '76', '74', '79', '83', '65', '65', '75', '67']"
      ]
     },
     "execution_count": 7,
     "metadata": {},
     "output_type": "execute_result"
    }
   ],
   "source": [
    "#get TSU total tackles\n",
    "TSUtackles=mytree.xpath('body/center//tr/td/font[@color=\"#000000\"]/text()')[447:700:22]\n",
    "TSUtackles=[a.replace(\"\\xa0\",\"\") for a in TSUtackles]\n",
    "TSUtackles"
   ]
  },
  {
   "cell_type": "code",
   "execution_count": 8,
   "metadata": {},
   "outputs": [
    {
     "data": {
      "text/plain": [
       "['33', '22', '26', '22', '46', '44', '9', '34', '23', '23', '32', '37']"
      ]
     },
     "execution_count": 8,
     "metadata": {},
     "output_type": "execute_result"
    }
   ],
   "source": [
    "#get TSU tackle yards\n",
    "TSUtackleyd=mytree.xpath('body/center//tr/td/font[@color=\"#000000\"]/text()')[449:700:22]\n",
    "TSUtackleyd=[a.replace(\"\\xa0\",\"\") for a in TSUtackleyd]\n",
    "TSUtackleyd"
   ]
  },
  {
   "cell_type": "code",
   "execution_count": 9,
   "metadata": {},
   "outputs": [
    {
     "data": {
      "text/plain": [
       "['3.0',\n",
       " '0.0',\n",
       " '1.0',\n",
       " '0.0',\n",
       " '4.0',\n",
       " '4.0',\n",
       " '1.0',\n",
       " '2.0',\n",
       " '2.0',\n",
       " '2.0',\n",
       " '4.0',\n",
       " '5.0']"
      ]
     },
     "execution_count": 9,
     "metadata": {},
     "output_type": "execute_result"
    }
   ],
   "source": [
    "#get TSU sacks\n",
    "TSUsacks=mytree.xpath('body/center//tr/td/font[@color=\"#000000\"]/text()')[450:700:22]\n",
    "TSUsacks=[a.replace(\"\\xa0\",\"\") for a in TSUsacks]\n",
    "TSUsacks"
   ]
  },
  {
   "cell_type": "code",
   "execution_count": 10,
   "metadata": {},
   "outputs": [
    {
     "data": {
      "text/plain": [
       "['21', '0', '4', '0', '22', '30', '9', '24', '12', '14', '20', '28']"
      ]
     },
     "execution_count": 10,
     "metadata": {},
     "output_type": "execute_result"
    }
   ],
   "source": [
    "#get TSU sack yards\n",
    "TSUsackyd=mytree.xpath('body/center//tr/td/font[@color=\"#000000\"]/text()')[451:700:22]\n",
    "TSUsackyd=[a.replace(\"\\xa0\",\"\") for a in TSUsackyd]\n",
    "TSUsackyd"
   ]
  },
  {
   "cell_type": "code",
   "execution_count": 11,
   "metadata": {},
   "outputs": [
    {
     "data": {
      "text/plain": [
       "['5', '7', '5', '6', '3', '2', '6', '8', '5', '5', '10', '7']"
      ]
     },
     "execution_count": 11,
     "metadata": {},
     "output_type": "execute_result"
    }
   ],
   "source": [
    "#TSU punts\n",
    "TSUpunt=mytree.xpath('body/center//tr/td/font[@color=\"#000000\"]/text()')[753:969:19]\n",
    "TSUpunt=[a.replace(\"\\xa0\",\"\") for a in TSUpunt]\n",
    "TSUpunt"
   ]
  },
  {
   "cell_type": "code",
   "execution_count": 12,
   "metadata": {},
   "outputs": [
    {
     "data": {
      "text/plain": [
       "['54', '272', '51', '88', '55', '82', '278', '91', '112', '291', '174', '46']"
      ]
     },
     "execution_count": 12,
     "metadata": {},
     "output_type": "execute_result"
    }
   ],
   "source": [
    "#get opponent rushing yards\n",
    "OPPrushyards=mytree.xpath('body/center//tr/td/font[@color=\"#000000\"]/text()')[1020:1280:23]\n",
    "OPPrushyards=[a.replace(\"\\xa0\",\"\") for a in OPPrushyards]\n",
    "OPPrushyards"
   ]
  },
  {
   "cell_type": "code",
   "execution_count": 13,
   "metadata": {},
   "outputs": [
    {
     "data": {
      "text/plain": [
       "['224',\n",
       " '133',\n",
       " '327',\n",
       " '83',\n",
       " '170',\n",
       " '30',\n",
       " '132',\n",
       " '263',\n",
       " '161',\n",
       " '264',\n",
       " '278',\n",
       " '181']"
      ]
     },
     "execution_count": 13,
     "metadata": {},
     "output_type": "execute_result"
    }
   ],
   "source": [
    "#get opponent receiving yards\n",
    "OPPreceiveyards=mytree.xpath('body/center//tr/td/font[@color=\"#000000\"]/text()')[1024:1280:23]\n",
    "OPPreceiveyards=[a.replace(\"\\xa0\",\"\") for a in OPPreceiveyards]\n",
    "OPPreceiveyards"
   ]
  },
  {
   "cell_type": "code",
   "execution_count": 14,
   "metadata": {},
   "outputs": [
    {
     "data": {
      "text/plain": [
       "['114', '41', '167', '36', '98', '73', '30', '117', '150', '85', '167', '80']"
      ]
     },
     "execution_count": 14,
     "metadata": {},
     "output_type": "execute_result"
    }
   ],
   "source": [
    "#get opponent kick return yards\n",
    "OPPkreturnyards=mytree.xpath('body/center//tr/td/font[@color=\"#000000\"]/text()')[1032:1303:23]\n",
    "OPPkreturnyards=[a.replace(\"\\xa0\",\"\") for a in OPPkreturnyards]\n",
    "OPPkreturnyards"
   ]
  },
  {
   "cell_type": "code",
   "execution_count": 15,
   "metadata": {},
   "outputs": [
    {
     "data": {
      "text/plain": [
       "['22', '8', '24', '19', '0', '0', '50', '2', '0', '5', '59', '7']"
      ]
     },
     "execution_count": 15,
     "metadata": {},
     "output_type": "execute_result"
    }
   ],
   "source": [
    "#get opponent punt return yards\n",
    "OPPpreturnyards=mytree.xpath('body/center//tr/td/font[@color=\"#000000\"]/text()')[1036:1303:23]\n",
    "OPPpreturnyards=[a.replace(\"\\xa0\",\"\") for a in OPPpreturnyards]\n",
    "OPPpreturnyards"
   ]
  },
  {
   "cell_type": "code",
   "execution_count": 16,
   "metadata": {},
   "outputs": [
    {
     "data": {
      "text/plain": [
       "['47', '61', '55', '70', '61', '105', '57', '65', '65', '68', '79', '62']"
      ]
     },
     "execution_count": 16,
     "metadata": {},
     "output_type": "execute_result"
    }
   ],
   "source": [
    "#get opponent total tackles\n",
    "OPPtackles=mytree.xpath('body/center//tr/td/font[@color=\"#000000\"]/text()')[1343:1588:22]\n",
    "OPPtackles=[a.replace(\"\\xa0\",\"\") for a in OPPtackles]\n",
    "OPPtackles"
   ]
  },
  {
   "cell_type": "code",
   "execution_count": 17,
   "metadata": {},
   "outputs": [
    {
     "data": {
      "text/plain": [
       "['16', '51', '25', '21', '73', '34', '39', '60', '27', '33', '45', '46']"
      ]
     },
     "execution_count": 17,
     "metadata": {},
     "output_type": "execute_result"
    }
   ],
   "source": [
    "#get opponent tackle yards\n",
    "OPPtackleyd=mytree.xpath('body/center//tr/td/font[@color=\"#000000\"]/text()')[1345:1588:22]\n",
    "OPPtackleyd=[a.replace(\"\\xa0\",\"\") for a in OPPtackleyd]\n",
    "OPPtackleyd"
   ]
  },
  {
   "cell_type": "code",
   "execution_count": 18,
   "metadata": {},
   "outputs": [
    {
     "data": {
      "text/plain": [
       "['0', '36', '2', '6', '42', '17', '31', '30', '7', '5', '28', '9']"
      ]
     },
     "execution_count": 18,
     "metadata": {},
     "output_type": "execute_result"
    }
   ],
   "source": [
    "#get opponent sacks\n",
    "OPPsacks=mytree.xpath('body/center//tr/td/font[@color=\"#000000\"]/text()')[1347:1600:22]\n",
    "OPPsacks=[a.replace(\"\\xa0\",\"\") for a in OPPsacks]\n",
    "OPPsacks"
   ]
  },
  {
   "cell_type": "code",
   "execution_count": 19,
   "metadata": {},
   "outputs": [
    {
     "data": {
      "text/plain": [
       "['1', '0', '1', '1', '0', '1', '0', '2', '0', '5', '2', '3']"
      ]
     },
     "execution_count": 19,
     "metadata": {},
     "output_type": "execute_result"
    }
   ],
   "source": [
    "#get opponent sack yards\n",
    "OPPsackyd=mytree.xpath('body/center//tr/td/font[@color=\"#000000\"]/text()')[1348:1600:22]\n",
    "OPPsackyd=[a.replace(\"\\xa0\",\"\") for a in OPPsackyd]\n",
    "OPPsackyd"
   ]
  },
  {
   "cell_type": "code",
   "execution_count": 20,
   "metadata": {},
   "outputs": [
    {
     "data": {
      "text/plain": [
       "['6', '6', '3', '5', '9', '7', '3', '6', '5', '3', '8', '11']"
      ]
     },
     "execution_count": 20,
     "metadata": {},
     "output_type": "execute_result"
    }
   ],
   "source": [
    "#opponent punts\n",
    "OPPpunt=mytree.xpath('body/center//tr/td/font[@color=\"#000000\"]/text()')[1649:1860:19]\n",
    "OPPpunt=[a.replace(\"\\xa0\",\"\") for a in OPPpunt]\n",
    "OPPpunt"
   ]
  },
  {
   "cell_type": "code",
   "execution_count": 54,
   "metadata": {},
   "outputs": [
    {
     "data": {
      "text/plain": [
       "['15 17',\n",
       " '19 15',\n",
       " '16 18',\n",
       " '18 08',\n",
       " '20 11',\n",
       " '24 06',\n",
       " '13 20',\n",
       " '18 21',\n",
       " '19 16',\n",
       " '24 24',\n",
       " '24 20',\n",
       " '17 15']"
      ]
     },
     "execution_count": 54,
     "metadata": {},
     "output_type": "execute_result"
    }
   ],
   "source": [
    "#1st downs\n",
    "firstdowns=mytree.xpath('body/center//tr/td/font[@color=\"#000000\"]/text()')[1915:2095:15]\n",
    "firstdowns=[a.replace(\"\\xa0\",\"\") for a in firstdowns]\n",
    "firstdowns=[a.replace(\"18/8\",\"18/08\") for a in firstdowns]\n",
    "firstdowns=[a.replace(\"24/6\",\"24/06\") for a in firstdowns]\n",
    "firstdowns=[a.replace(\"/\",\" \") for a in firstdowns]\n",
    "firstdowns"
   ]
  },
  {
   "cell_type": "code",
   "execution_count": 60,
   "metadata": {},
   "outputs": [
    {
     "data": {
      "text/plain": [
       "['2 4',\n",
       " '3 2',\n",
       " '1 3',\n",
       " '2 3',\n",
       " '4 1',\n",
       " '5 2',\n",
       " '2 2',\n",
       " '2 3',\n",
       " '2 2',\n",
       " '3 3',\n",
       " '1 1',\n",
       " '1 1']"
      ]
     },
     "execution_count": 60,
     "metadata": {},
     "output_type": "execute_result"
    }
   ],
   "source": [
    "#turnovers\n",
    "turnovers=mytree.xpath('body/center//tr/td/font[@color=\"#000000\"]/text()')[1927:2095:15]\n",
    "turnovers=[a.replace(\"\\xa0\",\"\") for a in turnovers]\n",
    "turnovers=[a.replace(\"/\",\" \") for a in turnovers]\n",
    "turnovers"
   ]
  },
  {
   "cell_type": "code",
   "execution_count": 23,
   "metadata": {},
   "outputs": [
    {
     "data": {
      "text/plain": [
       "['4-13',\n",
       " '5-16',\n",
       " '4-12',\n",
       " '6-19',\n",
       " '3-10',\n",
       " '9-15',\n",
       " '4-14',\n",
       " '1-13',\n",
       " '5-13',\n",
       " '8-16',\n",
       " '7-22',\n",
       " '2-13']"
      ]
     },
     "execution_count": 23,
     "metadata": {},
     "output_type": "execute_result"
    }
   ],
   "source": [
    "#TSU 3rd down conversions\n",
    "TSUthirddownconv=mytree.xpath('body/center//tr/td/font[@color=\"#000000\"]/text()')[2110:2278:14]\n",
    "TSUthirddownconv=[a.replace(\"\\xa0\",\"\") for a in TSUthirddownconv]\n",
    "TSUthirddownconv=[a.replace(\" /\",\"\") for a in TSUthirddownconv]\n",
    "TSUthirddownconv"
   ]
  },
  {
   "cell_type": "code",
   "execution_count": 24,
   "metadata": {},
   "outputs": [
    {
     "data": {
      "text/plain": [
       "['1-14',\n",
       " '9-19',\n",
       " '7-19',\n",
       " '3-12',\n",
       " '7-22',\n",
       " '2-14',\n",
       " '4-11',\n",
       " '5-14',\n",
       " '7-14',\n",
       " '4-12',\n",
       " '1-13',\n",
       " '4-19']"
      ]
     },
     "execution_count": 24,
     "metadata": {},
     "output_type": "execute_result"
    }
   ],
   "source": [
    "#opponent 3rd down conversions\n",
    "OPPthirddownconv=mytree.xpath('body/center//tr/td/font[@color=\"#000000\"]/text()')[2111:2279:14]\n",
    "OPPthirddownconv=[a.replace(\"\\xa0\",\"\") for a in OPPthirddownconv]\n",
    "OPPthirddownconv"
   ]
  },
  {
   "cell_type": "code",
   "execution_count": 25,
   "metadata": {},
   "outputs": [
    {
     "data": {
      "text/plain": [
       "['0-1',\n",
       " '0-3',\n",
       " '3-3',\n",
       " '1-3',\n",
       " '1-2',\n",
       " '0-3',\n",
       " '0-1',\n",
       " '1-2',\n",
       " '1-1',\n",
       " '0-0',\n",
       " '2-4',\n",
       " '1-3']"
      ]
     },
     "execution_count": 25,
     "metadata": {},
     "output_type": "execute_result"
    }
   ],
   "source": [
    "#TSU 4th down conversions\n",
    "TSUfourthdownconv=mytree.xpath('body/center//tr/td/font[@color=\"#000000\"]/text()')[2112:2279:14]\n",
    "TSUfourthdownconv=[a.replace(\"\\xa0\",\"\") for a in TSUfourthdownconv]\n",
    "TSUfourthdownconv=[a.replace(\" /\",\"\") for a in TSUfourthdownconv]\n",
    "TSUfourthdownconv"
   ]
  },
  {
   "cell_type": "code",
   "execution_count": 26,
   "metadata": {},
   "outputs": [
    {
     "data": {
      "text/plain": [
       "['2-3',\n",
       " '0-3',\n",
       " '2-6',\n",
       " '0-3',\n",
       " '1-4',\n",
       " '2-3',\n",
       " '1-2',\n",
       " '0-0',\n",
       " '0-2',\n",
       " '0-1',\n",
       " '0-0',\n",
       " '2-3']"
      ]
     },
     "execution_count": 26,
     "metadata": {},
     "output_type": "execute_result"
    }
   ],
   "source": [
    "#opponent 4th down conversions\n",
    "OPPfourthdownconv=mytree.xpath('body/center//tr/td/font[@color=\"#000000\"]/text()')[2113:2279:14]\n",
    "OPPfourthdownconv=[a.replace(\"\\xa0\",\"\") for a in OPPfourthdownconv]\n",
    "OPPfourthdownconv=[a.replace(\" /\",\"\") for a in OPPfourthdownconv]\n",
    "OPPfourthdownconv"
   ]
  },
  {
   "cell_type": "code",
   "execution_count": 27,
   "metadata": {},
   "outputs": [
    {
     "data": {
      "text/plain": [
       "['22:55 37:05',\n",
       " '28:06 31:54',\n",
       " '27:17 32:43',\n",
       " '36:39 23:21',\n",
       " '26:49 33:11',\n",
       " '30:42 29:18',\n",
       " '26:40 33:20',\n",
       " '25:50 34:10',\n",
       " '30:01 29:59',\n",
       " '28:01 31:59',\n",
       " '29:56 30:04',\n",
       " '28:19 31:41']"
      ]
     },
     "execution_count": 27,
     "metadata": {},
     "output_type": "execute_result"
    }
   ],
   "source": [
    "#possession time\n",
    "possesstime=mytree.xpath('body/center//tr/td/font[@color=\"#000000\"]/text()')[2114:2279:14]\n",
    "possesstime=[a.replace(\"\\xa0\",\"\") for a in possesstime]\n",
    "possesstime=[a.replace(\" /\",\"\") for a in possesstime]\n",
    "possesstime"
   ]
  },
  {
   "cell_type": "code",
   "execution_count": 74,
   "metadata": {},
   "outputs": [
    {
     "data": {
      "text/plain": [
       "['15 092',\n",
       " '08 050',\n",
       " '09 049',\n",
       " '08 065',\n",
       " '09 079',\n",
       " '08 069',\n",
       " '08 059',\n",
       " '09 053',\n",
       " '15 150',\n",
       " '14 116',\n",
       " '05 050',\n",
       " '14 119']"
      ]
     },
     "execution_count": 74,
     "metadata": {},
     "output_type": "execute_result"
    }
   ],
   "source": [
    "#TSU penalty number and yards\n",
    "TSUpenalty=mytree.xpath('body/center//tr/td/font[@color=\"#000000\"]/text()')[2121:2279:14]\n",
    "TSUpenalty=[a.replace(\"\\xa0\",\"\") for a in TSUpenalty]\n",
    "TSUpenalty=[a.replace('15-92 /','15-092') for a in TSUpenalty]\n",
    "TSUpenalty=[a.replace('8-50 /','08-050') for a in TSUpenalty]\n",
    "TSUpenalty=[a.replace('9-49 /','09-049') for a in TSUpenalty]\n",
    "TSUpenalty=[a.replace('8-65 /','08-065') for a in TSUpenalty]\n",
    "TSUpenalty=[a.replace('9-79 /','09-079') for a in TSUpenalty]\n",
    "TSUpenalty=[a.replace('8-69 /','08-069') for a in TSUpenalty]\n",
    "TSUpenalty=[a.replace('8-59 /','08-059') for a in TSUpenalty]\n",
    "TSUpenalty=[a.replace('9-53 /', '09-053') for a in TSUpenalty]\n",
    "TSUpenalty=[a.replace('5-50 /','05-050') for a in TSUpenalty]\n",
    "TSUpenalty=[a.replace(' /','') for a in TSUpenalty]\n",
    "TSUpenalty=[a.replace('-',' ') for a in TSUpenalty]\n",
    "TSUpenalty"
   ]
  },
  {
   "cell_type": "code",
   "execution_count": 79,
   "metadata": {},
   "outputs": [
    {
     "data": {
      "text/plain": [
       "['08 060',\n",
       " '13 087',\n",
       " '07 050',\n",
       " '08 118',\n",
       " '14 115',\n",
       " '08 049',\n",
       " '07 062',\n",
       " '03 040',\n",
       " '08 061',\n",
       " '14 124',\n",
       " '09 060',\n",
       " '05 064']"
      ]
     },
     "execution_count": 79,
     "metadata": {},
     "output_type": "execute_result"
    }
   ],
   "source": [
    "#opponent penalty number and yards\n",
    "OPPpenalty=mytree.xpath('body/center//tr/td/font[@color=\"#000000\"]/text()')[2122:2279:14]\n",
    "OPPpenalty=[a.replace(\"\\xa0\",\"\") for a in OPPpenalty]\n",
    "OPPpenalty=[a.replace('8-60','08-060') for a in OPPpenalty]\n",
    "OPPpenalty=[a.replace('13-87','13-087') for a in OPPpenalty]\n",
    "OPPpenalty=[a.replace('7-50','07-050') for a in OPPpenalty]\n",
    "OPPpenalty=[a.replace('8-118','08-118') for a in OPPpenalty]\n",
    "OPPpenalty=[a.replace('8-49','08-049') for a in OPPpenalty]\n",
    "OPPpenalty=[a.replace('7-62','07-062') for a in OPPpenalty]\n",
    "OPPpenalty=[a.replace('3-40','03-040') for a in OPPpenalty]\n",
    "OPPpenalty=[a.replace('8-61','08-061') for a in OPPpenalty]\n",
    "OPPpenalty=[a.replace('8-60','08-060') for a in OPPpenalty]\n",
    "OPPpenalty=[a.replace('9-60','09-060') for a in OPPpenalty]\n",
    "OPPpenalty=[a.replace('5-64','05-064') for a in OPPpenalty]\n",
    "OPPpenalty=[a.replace(\"-\",\" \") for a in OPPpenalty]\n",
    "OPPpenalty"
   ]
  },
  {
   "cell_type": "code",
   "execution_count": 119,
   "metadata": {},
   "outputs": [
    {
     "data": {
      "text/html": [
       "<div>\n",
       "<style scoped>\n",
       "    .dataframe tbody tr th:only-of-type {\n",
       "        vertical-align: middle;\n",
       "    }\n",
       "\n",
       "    .dataframe tbody tr th {\n",
       "        vertical-align: top;\n",
       "    }\n",
       "\n",
       "    .dataframe thead th {\n",
       "        text-align: right;\n",
       "    }\n",
       "</style>\n",
       "<table border=\"1\" class=\"dataframe\">\n",
       "  <thead>\n",
       "    <tr style=\"text-align: right;\">\n",
       "      <th></th>\n",
       "      <th>date</th>\n",
       "      <th>attendance</th>\n",
       "      <th>TSUrushyards</th>\n",
       "      <th>TSUreceiveyards</th>\n",
       "      <th>TSUkreturnyards</th>\n",
       "      <th>TSUpreturnyards</th>\n",
       "      <th>TSUtackles</th>\n",
       "      <th>TSUtackleyd</th>\n",
       "      <th>TSUsacks</th>\n",
       "      <th>TSUsackyd</th>\n",
       "      <th>...</th>\n",
       "      <th>OPPpunt</th>\n",
       "      <th>firstdowns</th>\n",
       "      <th>turnovers</th>\n",
       "      <th>TSUthirddownconv</th>\n",
       "      <th>OPPthirddownconv</th>\n",
       "      <th>TSUfourthdownconv</th>\n",
       "      <th>OPPfourthdownconv</th>\n",
       "      <th>possesstime</th>\n",
       "      <th>TSUpenalty</th>\n",
       "      <th>OPPpenalty</th>\n",
       "    </tr>\n",
       "  </thead>\n",
       "  <tbody>\n",
       "    <tr>\n",
       "      <th>0</th>\n",
       "      <td>Aug 30 2003</td>\n",
       "      <td>18124</td>\n",
       "      <td>113</td>\n",
       "      <td>365</td>\n",
       "      <td>69</td>\n",
       "      <td>88</td>\n",
       "      <td>69</td>\n",
       "      <td>33</td>\n",
       "      <td>3.0</td>\n",
       "      <td>21</td>\n",
       "      <td>...</td>\n",
       "      <td>6</td>\n",
       "      <td>15 17</td>\n",
       "      <td>2 4</td>\n",
       "      <td>4-13</td>\n",
       "      <td>1-14</td>\n",
       "      <td>0-1</td>\n",
       "      <td>2-3</td>\n",
       "      <td>22:55 37:05</td>\n",
       "      <td>15 092</td>\n",
       "      <td>08 060</td>\n",
       "    </tr>\n",
       "    <tr>\n",
       "      <th>1</th>\n",
       "      <td>Sep 06 2003</td>\n",
       "      <td>18085</td>\n",
       "      <td>141</td>\n",
       "      <td>146</td>\n",
       "      <td>147</td>\n",
       "      <td>8</td>\n",
       "      <td>68</td>\n",
       "      <td>22</td>\n",
       "      <td>0.0</td>\n",
       "      <td>0</td>\n",
       "      <td>...</td>\n",
       "      <td>6</td>\n",
       "      <td>19 15</td>\n",
       "      <td>3 2</td>\n",
       "      <td>5-16</td>\n",
       "      <td>9-19</td>\n",
       "      <td>0-3</td>\n",
       "      <td>0-3</td>\n",
       "      <td>28:06 31:54</td>\n",
       "      <td>08 050</td>\n",
       "      <td>13 087</td>\n",
       "    </tr>\n",
       "    <tr>\n",
       "      <th>2</th>\n",
       "      <td>Sep 13 2003</td>\n",
       "      <td>52603</td>\n",
       "      <td>209</td>\n",
       "      <td>132</td>\n",
       "      <td>138</td>\n",
       "      <td>107</td>\n",
       "      <td>84</td>\n",
       "      <td>26</td>\n",
       "      <td>1.0</td>\n",
       "      <td>4</td>\n",
       "      <td>...</td>\n",
       "      <td>3</td>\n",
       "      <td>16 18</td>\n",
       "      <td>1 3</td>\n",
       "      <td>4-12</td>\n",
       "      <td>7-19</td>\n",
       "      <td>3-3</td>\n",
       "      <td>2-6</td>\n",
       "      <td>27:17 32:43</td>\n",
       "      <td>09 049</td>\n",
       "      <td>07 050</td>\n",
       "    </tr>\n",
       "    <tr>\n",
       "      <th>3</th>\n",
       "      <td>Sep 20 2003</td>\n",
       "      <td>70185</td>\n",
       "      <td>153</td>\n",
       "      <td>138</td>\n",
       "      <td>86</td>\n",
       "      <td>2</td>\n",
       "      <td>50</td>\n",
       "      <td>22</td>\n",
       "      <td>0.0</td>\n",
       "      <td>0</td>\n",
       "      <td>...</td>\n",
       "      <td>5</td>\n",
       "      <td>18 08</td>\n",
       "      <td>2 3</td>\n",
       "      <td>6-19</td>\n",
       "      <td>3-12</td>\n",
       "      <td>1-3</td>\n",
       "      <td>0-3</td>\n",
       "      <td>36:39 23:21</td>\n",
       "      <td>08 065</td>\n",
       "      <td>08 118</td>\n",
       "    </tr>\n",
       "    <tr>\n",
       "      <th>4</th>\n",
       "      <td>Sep 27 2003</td>\n",
       "      <td>8434</td>\n",
       "      <td>142</td>\n",
       "      <td>285</td>\n",
       "      <td>11</td>\n",
       "      <td>29</td>\n",
       "      <td>76</td>\n",
       "      <td>46</td>\n",
       "      <td>4.0</td>\n",
       "      <td>22</td>\n",
       "      <td>...</td>\n",
       "      <td>9</td>\n",
       "      <td>20 11</td>\n",
       "      <td>4 1</td>\n",
       "      <td>3-10</td>\n",
       "      <td>7-22</td>\n",
       "      <td>1-2</td>\n",
       "      <td>1-4</td>\n",
       "      <td>26:49 33:11</td>\n",
       "      <td>09 079</td>\n",
       "      <td>14 115</td>\n",
       "    </tr>\n",
       "  </tbody>\n",
       "</table>\n",
       "<p>5 rows × 29 columns</p>\n",
       "</div>"
      ],
      "text/plain": [
       "          date attendance TSUrushyards TSUreceiveyards TSUkreturnyards  \\\n",
       "0  Aug 30 2003      18124          113             365              69   \n",
       "1  Sep 06 2003      18085          141             146             147   \n",
       "2  Sep 13 2003      52603          209             132             138   \n",
       "3  Sep 20 2003      70185          153             138              86   \n",
       "4  Sep 27 2003       8434          142             285              11   \n",
       "\n",
       "  TSUpreturnyards TSUtackles TSUtackleyd TSUsacks TSUsackyd  ... OPPpunt  \\\n",
       "0              88         69          33      3.0        21  ...       6   \n",
       "1               8         68          22      0.0         0  ...       6   \n",
       "2             107         84          26      1.0         4  ...       3   \n",
       "3               2         50          22      0.0         0  ...       5   \n",
       "4              29         76          46      4.0        22  ...       9   \n",
       "\n",
       "  firstdowns turnovers TSUthirddownconv OPPthirddownconv TSUfourthdownconv  \\\n",
       "0      15 17       2 4             4-13             1-14               0-1   \n",
       "1      19 15       3 2             5-16             9-19               0-3   \n",
       "2      16 18       1 3             4-12             7-19               3-3   \n",
       "3      18 08       2 3             6-19             3-12               1-3   \n",
       "4      20 11       4 1             3-10             7-22               1-2   \n",
       "\n",
       "  OPPfourthdownconv  possesstime TSUpenalty OPPpenalty  \n",
       "0               2-3  22:55 37:05     15 092     08 060  \n",
       "1               0-3  28:06 31:54     08 050     13 087  \n",
       "2               2-6  27:17 32:43     09 049     07 050  \n",
       "3               0-3  36:39 23:21     08 065     08 118  \n",
       "4               1-4  26:49 33:11     09 079     14 115  \n",
       "\n",
       "[5 rows x 29 columns]"
      ]
     },
     "execution_count": 119,
     "metadata": {},
     "output_type": "execute_result"
    }
   ],
   "source": [
    "#create data frame\n",
    "#change dictionary of lists to data frame\n",
    "list_of_dicts={'date':date,\n",
    "     'attendance':attendance,\n",
    "     'TSUrushyards':TSUrushyards,\n",
    "     'TSUreceiveyards':TSUreceiveyards,\n",
    "     'TSUkreturnyards':TSUkreturnyards,\n",
    "     'TSUpreturnyards':TSUpreturnyards,\n",
    "     'TSUtackles':TSUtackles,\n",
    "     'TSUtackleyd':TSUtackleyd,\n",
    "     'TSUsacks':TSUsacks,\n",
    "     'TSUsackyd':TSUsackyd,\n",
    "     'TSUpunt':TSUpunt,\n",
    "     'OPPrushyards':OPPrushyards,\n",
    "     'OPPreceiveyards':OPPreceiveyards,\n",
    "     'OPPkreturnyards':OPPkreturnyards,\n",
    "     'OPPpreturnyards':OPPpreturnyards,\n",
    "     'OPPtackles':OPPtackles,\n",
    "     'OPPtackleyd':OPPtackleyd,\n",
    "     'OPPsacks':OPPsacks,\n",
    "     'OPPsackyd':OPPsackyd,\n",
    "     'OPPpunt':OPPpunt,\n",
    "     'firstdowns':firstdowns,\n",
    "     'turnovers':turnovers,\n",
    "     'TSUthirddownconv':TSUthirddownconv,\n",
    "     'OPPthirddownconv':OPPthirddownconv,\n",
    "     'TSUfourthdownconv':TSUfourthdownconv,\n",
    "     'OPPfourthdownconv':OPPfourthdownconv,\n",
    "     'possesstime':possesstime,\n",
    "     'TSUpenalty':TSUpenalty,\n",
    "     'OPPpenalty':OPPpenalty}\n",
    "df2003=pd.DataFrame(list_of_dicts)\n",
    "df2003.head()"
   ]
  },
  {
   "cell_type": "code",
   "execution_count": 120,
   "metadata": {},
   "outputs": [
    {
     "data": {
      "text/html": [
       "<div>\n",
       "<style scoped>\n",
       "    .dataframe tbody tr th:only-of-type {\n",
       "        vertical-align: middle;\n",
       "    }\n",
       "\n",
       "    .dataframe tbody tr th {\n",
       "        vertical-align: top;\n",
       "    }\n",
       "\n",
       "    .dataframe thead th {\n",
       "        text-align: right;\n",
       "    }\n",
       "</style>\n",
       "<table border=\"1\" class=\"dataframe\">\n",
       "  <thead>\n",
       "    <tr style=\"text-align: right;\">\n",
       "      <th></th>\n",
       "      <th>date</th>\n",
       "      <th>attendance</th>\n",
       "      <th>TSUrushyards</th>\n",
       "      <th>TSUreceiveyards</th>\n",
       "      <th>TSUkreturnyards</th>\n",
       "      <th>TSUpreturnyards</th>\n",
       "      <th>TSUtackles</th>\n",
       "      <th>TSUtackleyd</th>\n",
       "      <th>TSUsacks</th>\n",
       "      <th>TSUsackyd</th>\n",
       "      <th>...</th>\n",
       "      <th>OPPturnovers</th>\n",
       "      <th>TSUpossesstime</th>\n",
       "      <th>OPPposeesstime</th>\n",
       "      <th>TSUpenaltycount</th>\n",
       "      <th>TSUpenaltyyd</th>\n",
       "      <th>OPPpenaltycount</th>\n",
       "      <th>OPPpenaltyyd</th>\n",
       "      <th>month</th>\n",
       "      <th>day</th>\n",
       "      <th>year</th>\n",
       "    </tr>\n",
       "  </thead>\n",
       "  <tbody>\n",
       "    <tr>\n",
       "      <th>0</th>\n",
       "      <td>Aug 30 2003</td>\n",
       "      <td>18124</td>\n",
       "      <td>113</td>\n",
       "      <td>365</td>\n",
       "      <td>69</td>\n",
       "      <td>88</td>\n",
       "      <td>69</td>\n",
       "      <td>33</td>\n",
       "      <td>3.0</td>\n",
       "      <td>21</td>\n",
       "      <td>...</td>\n",
       "      <td>4</td>\n",
       "      <td>22:55</td>\n",
       "      <td>37:05</td>\n",
       "      <td>15</td>\n",
       "      <td>092</td>\n",
       "      <td>08</td>\n",
       "      <td>060</td>\n",
       "      <td>Aug</td>\n",
       "      <td>30</td>\n",
       "      <td>2003</td>\n",
       "    </tr>\n",
       "    <tr>\n",
       "      <th>1</th>\n",
       "      <td>Sep 06 2003</td>\n",
       "      <td>18085</td>\n",
       "      <td>141</td>\n",
       "      <td>146</td>\n",
       "      <td>147</td>\n",
       "      <td>8</td>\n",
       "      <td>68</td>\n",
       "      <td>22</td>\n",
       "      <td>0.0</td>\n",
       "      <td>0</td>\n",
       "      <td>...</td>\n",
       "      <td>2</td>\n",
       "      <td>28:06</td>\n",
       "      <td>31:54</td>\n",
       "      <td>08</td>\n",
       "      <td>050</td>\n",
       "      <td>13</td>\n",
       "      <td>087</td>\n",
       "      <td>Sep</td>\n",
       "      <td>06</td>\n",
       "      <td>2003</td>\n",
       "    </tr>\n",
       "    <tr>\n",
       "      <th>2</th>\n",
       "      <td>Sep 13 2003</td>\n",
       "      <td>52603</td>\n",
       "      <td>209</td>\n",
       "      <td>132</td>\n",
       "      <td>138</td>\n",
       "      <td>107</td>\n",
       "      <td>84</td>\n",
       "      <td>26</td>\n",
       "      <td>1.0</td>\n",
       "      <td>4</td>\n",
       "      <td>...</td>\n",
       "      <td>3</td>\n",
       "      <td>27:17</td>\n",
       "      <td>32:43</td>\n",
       "      <td>09</td>\n",
       "      <td>049</td>\n",
       "      <td>07</td>\n",
       "      <td>050</td>\n",
       "      <td>Sep</td>\n",
       "      <td>13</td>\n",
       "      <td>2003</td>\n",
       "    </tr>\n",
       "    <tr>\n",
       "      <th>3</th>\n",
       "      <td>Sep 20 2003</td>\n",
       "      <td>70185</td>\n",
       "      <td>153</td>\n",
       "      <td>138</td>\n",
       "      <td>86</td>\n",
       "      <td>2</td>\n",
       "      <td>50</td>\n",
       "      <td>22</td>\n",
       "      <td>0.0</td>\n",
       "      <td>0</td>\n",
       "      <td>...</td>\n",
       "      <td>3</td>\n",
       "      <td>36:39</td>\n",
       "      <td>23:21</td>\n",
       "      <td>08</td>\n",
       "      <td>065</td>\n",
       "      <td>08</td>\n",
       "      <td>118</td>\n",
       "      <td>Sep</td>\n",
       "      <td>20</td>\n",
       "      <td>2003</td>\n",
       "    </tr>\n",
       "    <tr>\n",
       "      <th>4</th>\n",
       "      <td>Sep 27 2003</td>\n",
       "      <td>8434</td>\n",
       "      <td>142</td>\n",
       "      <td>285</td>\n",
       "      <td>11</td>\n",
       "      <td>29</td>\n",
       "      <td>76</td>\n",
       "      <td>46</td>\n",
       "      <td>4.0</td>\n",
       "      <td>22</td>\n",
       "      <td>...</td>\n",
       "      <td>1</td>\n",
       "      <td>26:49</td>\n",
       "      <td>33:11</td>\n",
       "      <td>09</td>\n",
       "      <td>079</td>\n",
       "      <td>14</td>\n",
       "      <td>115</td>\n",
       "      <td>Sep</td>\n",
       "      <td>27</td>\n",
       "      <td>2003</td>\n",
       "    </tr>\n",
       "  </tbody>\n",
       "</table>\n",
       "<p>5 rows × 42 columns</p>\n",
       "</div>"
      ],
      "text/plain": [
       "          date attendance TSUrushyards TSUreceiveyards TSUkreturnyards  \\\n",
       "0  Aug 30 2003      18124          113             365              69   \n",
       "1  Sep 06 2003      18085          141             146             147   \n",
       "2  Sep 13 2003      52603          209             132             138   \n",
       "3  Sep 20 2003      70185          153             138              86   \n",
       "4  Sep 27 2003       8434          142             285              11   \n",
       "\n",
       "  TSUpreturnyards TSUtackles TSUtackleyd TSUsacks TSUsackyd  ... OPPturnovers  \\\n",
       "0              88         69          33      3.0        21  ...            4   \n",
       "1               8         68          22      0.0         0  ...            2   \n",
       "2             107         84          26      1.0         4  ...            3   \n",
       "3               2         50          22      0.0         0  ...            3   \n",
       "4              29         76          46      4.0        22  ...            1   \n",
       "\n",
       "  TSUpossesstime OPPposeesstime TSUpenaltycount TSUpenaltyyd OPPpenaltycount  \\\n",
       "0          22:55          37:05              15          092              08   \n",
       "1          28:06          31:54              08          050              13   \n",
       "2          27:17          32:43              09          049              07   \n",
       "3          36:39          23:21              08          065              08   \n",
       "4          26:49          33:11              09          079              14   \n",
       "\n",
       "  OPPpenaltyyd month day  year  \n",
       "0          060   Aug  30  2003  \n",
       "1          087   Sep  06  2003  \n",
       "2          050   Sep  13  2003  \n",
       "3          118   Sep  20  2003  \n",
       "4          115   Sep  27  2003  \n",
       "\n",
       "[5 rows x 42 columns]"
      ]
     },
     "execution_count": 120,
     "metadata": {},
     "output_type": "execute_result"
    }
   ],
   "source": [
    "#splitting firstdowns category into firstdowns for TSU and opponent\n",
    "df2003[['TSUfirstdowns','OPPfirstdowns']]=df2003.firstdowns.str.split(expand=True)\n",
    "#splitting turnovers into TSUturnovers and OPPturnovers\n",
    "df2003[['TSUturnovers','OPPturnovers']]=df2003.turnovers.str.split(expand=True)\n",
    "#splitting possesstime into TSUpossesstime and OPPpossesstime\n",
    "df2003[['TSUpossesstime','OPPposeesstime']]=df2003.possesstime.str.split(expand=True)\n",
    "#splitting TSUpenalty into TSUpenaltycount and TSUpenaltyyards\n",
    "df2003[['TSUpenaltycount','TSUpenaltyyd']]=df2003.TSUpenalty.str.split(expand=True)\n",
    "#splitting OPPpenalty into OPPpenaltycount and OPPpenaltyyards\n",
    "df2003[['OPPpenaltycount','OPPpenaltyyd']]=df2003.OPPpenalty.str.split(expand=True)\n",
    "#splitting date column into month, day, & year columns \n",
    "df2003[['month','day','year']]=df2003.date.str.split(expand=True)\n",
    "df2003.drop('date',axis=1)\n",
    "df2003.head()"
   ]
  },
  {
   "cell_type": "code",
   "execution_count": 121,
   "metadata": {},
   "outputs": [
    {
     "name": "stdout",
     "output_type": "stream",
     "text": [
      "<class 'pandas.core.frame.DataFrame'>\n",
      "RangeIndex: 12 entries, 0 to 11\n",
      "Data columns (total 40 columns):\n",
      " #   Column             Non-Null Count  Dtype         \n",
      "---  ------             --------------  -----         \n",
      " 0   date               12 non-null     datetime64[ns]\n",
      " 1   attendance         12 non-null     object        \n",
      " 2   TSUrushyards       12 non-null     object        \n",
      " 3   TSUreceiveyards    12 non-null     object        \n",
      " 4   TSUkreturnyards    12 non-null     object        \n",
      " 5   TSUpreturnyards    12 non-null     object        \n",
      " 6   TSUtackles         12 non-null     object        \n",
      " 7   TSUtackleyd        12 non-null     object        \n",
      " 8   TSUsacks           12 non-null     object        \n",
      " 9   TSUsackyd          12 non-null     object        \n",
      " 10  TSUpunt            12 non-null     object        \n",
      " 11  OPPrushyards       12 non-null     object        \n",
      " 12  OPPreceiveyards    12 non-null     object        \n",
      " 13  OPPkreturnyards    12 non-null     object        \n",
      " 14  OPPpreturnyards    12 non-null     object        \n",
      " 15  OPPtackles         12 non-null     object        \n",
      " 16  OPPtackleyd        12 non-null     object        \n",
      " 17  OPPsacks           12 non-null     object        \n",
      " 18  OPPsackyd          12 non-null     object        \n",
      " 19  OPPpunt            12 non-null     object        \n",
      " 20  firstdowns         12 non-null     object        \n",
      " 21  turnovers          12 non-null     object        \n",
      " 22  TSUthirddownconv   12 non-null     object        \n",
      " 23  OPPthirddownconv   12 non-null     object        \n",
      " 24  TSUfourthdownconv  12 non-null     object        \n",
      " 25  OPPfourthdownconv  12 non-null     object        \n",
      " 26  possesstime        12 non-null     object        \n",
      " 27  TSUpenalty         12 non-null     object        \n",
      " 28  OPPpenalty         12 non-null     object        \n",
      " 29  TSUfirstdowns      12 non-null     object        \n",
      " 30  OPPfirstdowns      12 non-null     object        \n",
      " 31  TSUturnovers       12 non-null     object        \n",
      " 32  OPPturnovers       12 non-null     object        \n",
      " 33  TSUpossesstime     12 non-null     object        \n",
      " 34  OPPposeesstime     12 non-null     object        \n",
      " 35  TSUpenaltycount    12 non-null     object        \n",
      " 36  TSUpenaltyyd       12 non-null     object        \n",
      " 37  OPPpenaltycount    12 non-null     object        \n",
      " 38  OPPpenaltyyd       12 non-null     object        \n",
      " 39  year               12 non-null     int64         \n",
      "dtypes: datetime64[ns](1), int64(1), object(38)\n",
      "memory usage: 3.9+ KB\n"
     ]
    }
   ],
   "source": [
    "#create a new date variable\n",
    "#change month variable to a 2 digit string variable\n",
    "df2003['month'] = df2003['month'].str.replace('Aug','08')\n",
    "df2003['month'] = df2003['month'].str.replace('Sep','09')\n",
    "df2003['month'] = df2003['month'].str.replace('Oct','10')\n",
    "df2003['month'] = df2003['month'].str.replace('Nov','11')\n",
    "df2003['month'] = df2003['month'].str.replace('Dec','12')\n",
    "#merge month,day and year variables\n",
    "df2003['date']=df2003['year']+ '-' +df2003['month']+ '-'+df2003['day']\n",
    "#make date into a datetime variable\n",
    "df2003['date']= pd.to_datetime(df2003['date'], format='%Y-%m-%d')\n",
    "#drop individual month,day, variables (keep year variable for later analysis)\n",
    "df2003=df2003.drop(['month','day'], axis=1)\n",
    "#make year numeric\n",
    "df2003['year']=pd.to_numeric(df2003['year'])\n",
    "df2003.info()"
   ]
  },
  {
   "cell_type": "code",
   "execution_count": null,
   "metadata": {},
   "outputs": [],
   "source": []
  },
  {
   "cell_type": "code",
   "execution_count": null,
   "metadata": {},
   "outputs": [],
   "source": []
  }
 ],
 "metadata": {
  "kernelspec": {
   "display_name": "Python 3",
   "language": "python",
   "name": "python3"
  },
  "language_info": {
   "codemirror_mode": {
    "name": "ipython",
    "version": 3
   },
   "file_extension": ".py",
   "mimetype": "text/x-python",
   "name": "python",
   "nbconvert_exporter": "python",
   "pygments_lexer": "ipython3",
   "version": "3.8.5"
  }
 },
 "nbformat": 4,
 "nbformat_minor": 4
}
