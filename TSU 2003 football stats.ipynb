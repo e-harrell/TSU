{
 "cells": [
  {
   "cell_type": "code",
   "execution_count": 1,
   "metadata": {},
   "outputs": [
    {
     "data": {
      "text/plain": [
       "['Aug 30 2003',\n",
       " 'Sep 06 2003',\n",
       " 'Sep 13 2003',\n",
       " 'Sep 20 2003',\n",
       " 'Sep 27 2003',\n",
       " 'Oct 11 2003',\n",
       " 'Oct 18 2003',\n",
       " 'Oct 25 2003',\n",
       " 'Nov 01 2003',\n",
       " 'Nov 08 2003',\n",
       " 'Nov 15 2003',\n",
       " 'Nov 22 2003']"
      ]
     },
     "execution_count": 1,
     "metadata": {},
     "output_type": "execute_result"
    }
   ],
   "source": [
    "#libraries to use\n",
    "import pandas as pd\n",
    "import numpy as np\n",
    "import matplotlib.pyplot as plt\n",
    "import datetime as dt\n",
    "#python's lxml library parses xml and html files\n",
    "from lxml import html\n",
    "\n",
    "#use requests to get data from web pages\n",
    "import requests \n",
    "\n",
    "#use requests.get() to get web page with data\n",
    "page = requests.get('https://tennstate_ftp.sidearmsports.com/custompages/tsutigers/A5FB3AA1-8151-496A-A022-754FE722F59E/teamgbg.htm')\n",
    "\n",
    "#parse data on web page using html module.fromstring\n",
    "mytree = html.fromstring(page.content)\n",
    "\n",
    "#go to web address above , right click on page and select inspect to get HTML code for data from right side of page\n",
    "#create XPath query and use xpath function to get data\n",
    "#date data\n",
    "date = mytree.xpath('body/center//tr/td/font[@color=\"#000000\"]/text()')[1:120:10]\n",
    "date=[a.replace(\"\\xa0\",\"\") for a in date]\n",
    "date=[a.replace('Sep. 6, 2003','Sep 06 2003') for a in date]\n",
    "date=[a.replace(\",\",\"\") for a in date]\n",
    "date"
   ]
  },
  {
   "cell_type": "code",
   "execution_count": 4,
   "metadata": {},
   "outputs": [
    {
     "data": {
      "text/plain": [
       "['18124',\n",
       " '18085',\n",
       " '52603',\n",
       " '70185',\n",
       " '8434',\n",
       " '8127',\n",
       " '8023',\n",
       " '10360',\n",
       " '25037',\n",
       " '5375',\n",
       " '3875',\n",
       " '2814']"
      ]
     },
     "execution_count": 4,
     "metadata": {},
     "output_type": "execute_result"
    }
   ],
   "source": [
    "#get attendance data\n",
    "attendance=mytree.xpath('body/center//tr/td/font[@color=\"#000000\"]/text()')[9:120:10]\n",
    "attendance=[a.replace(\"\\xa0\",\"\") for a in attendance]\n",
    "attendance=[a.strip() for a in attendance]\n",
    "attendance"
   ]
  },
  {
   "cell_type": "code",
   "execution_count": 5,
   "metadata": {},
   "outputs": [
    {
     "data": {
      "text/plain": [
       "['113',\n",
       " '141',\n",
       " '209',\n",
       " '153',\n",
       " '142',\n",
       " '182',\n",
       " '47',\n",
       " '132',\n",
       " '223',\n",
       " '149',\n",
       " '144',\n",
       " '191']"
      ]
     },
     "execution_count": 5,
     "metadata": {},
     "output_type": "execute_result"
    }
   ],
   "source": [
    "#get TSU rushing yards\n",
    "TSUrushyards=mytree.xpath('body/center//tr/td/font[@color=\"#000000\"]/text()')[124:380:23]\n",
    "TSUrushyards=[a.replace(\"\\xa0\",\"\") for a in TSUrushyards]\n",
    "TSUrushyards"
   ]
  },
  {
   "cell_type": "code",
   "execution_count": 6,
   "metadata": {},
   "outputs": [
    {
     "data": {
      "text/plain": [
       "['365',\n",
       " '146',\n",
       " '132',\n",
       " '138',\n",
       " '285',\n",
       " '297',\n",
       " '175',\n",
       " '271',\n",
       " '184',\n",
       " '196',\n",
       " '371',\n",
       " '195']"
      ]
     },
     "execution_count": 6,
     "metadata": {},
     "output_type": "execute_result"
    }
   ],
   "source": [
    "#get TSU receiving yards\n",
    "TSUreceiveyards=mytree.xpath('body/center//tr/td/font[@color=\"#000000\"]/text()')[128:400:23]\n",
    "TSUreceiveyards=[a.replace(\"\\xa0\",\"\") for a in TSUreceiveyards]\n",
    "TSUreceiveyards"
   ]
  },
  {
   "cell_type": "code",
   "execution_count": 7,
   "metadata": {},
   "outputs": [
    {
     "data": {
      "text/plain": [
       "['69', '147', '138', '86', '11', '33', '90', '50', '8', '139', '112', '63']"
      ]
     },
     "execution_count": 7,
     "metadata": {},
     "output_type": "execute_result"
    }
   ],
   "source": [
    "#get TSU kick return yards\n",
    "TSUkreturnyards=mytree.xpath('body/center//tr/td/font[@color=\"#000000\"]/text()')[136:400:23]\n",
    "TSUkreturnyards=[a.replace(\"\\xa0\",\"\") for a in TSUkreturnyards]\n",
    "TSUkreturnyards"
   ]
  },
  {
   "cell_type": "code",
   "execution_count": 8,
   "metadata": {},
   "outputs": [
    {
     "data": {
      "text/plain": [
       "['88', '8', '107', '2', '29', '52', '-17', '45', '9', '18', '0', '15']"
      ]
     },
     "execution_count": 8,
     "metadata": {},
     "output_type": "execute_result"
    }
   ],
   "source": [
    "#get TSU punt return yards\n",
    "TSUpreturnyards=mytree.xpath('body/center//tr/td/font[@color=\"#000000\"]/text()')[140:400:23]\n",
    "TSUpreturnyards=[a.replace(\"\\xa0\",\"\") for a in TSUpreturnyards]\n",
    "TSUpreturnyards"
   ]
  },
  {
   "cell_type": "code",
   "execution_count": 9,
   "metadata": {},
   "outputs": [
    {
     "data": {
      "text/plain": [
       "['69', '68', '84', '50', '76', '74', '79', '83', '65', '65', '75', '67']"
      ]
     },
     "execution_count": 9,
     "metadata": {},
     "output_type": "execute_result"
    }
   ],
   "source": [
    "#get TSU total tackles\n",
    "TSUtackles=mytree.xpath('body/center//tr/td/font[@color=\"#000000\"]/text()')[447:700:22]\n",
    "TSUtackles=[a.replace(\"\\xa0\",\"\") for a in TSUtackles]\n",
    "TSUtackles"
   ]
  },
  {
   "cell_type": "code",
   "execution_count": 10,
   "metadata": {},
   "outputs": [
    {
     "data": {
      "text/plain": [
       "['33', '22', '26', '22', '46', '44', '9', '34', '23', '23', '32', '37']"
      ]
     },
     "execution_count": 10,
     "metadata": {},
     "output_type": "execute_result"
    }
   ],
   "source": [
    "#get TSU tackle yards\n",
    "TSUtackleyd=mytree.xpath('body/center//tr/td/font[@color=\"#000000\"]/text()')[449:700:22]\n",
    "TSUtackleyd=[a.replace(\"\\xa0\",\"\") for a in TSUtackleyd]\n",
    "TSUtackleyd"
   ]
  },
  {
   "cell_type": "code",
   "execution_count": 11,
   "metadata": {},
   "outputs": [
    {
     "data": {
      "text/plain": [
       "['3.0',\n",
       " '0.0',\n",
       " '1.0',\n",
       " '0.0',\n",
       " '4.0',\n",
       " '4.0',\n",
       " '1.0',\n",
       " '2.0',\n",
       " '2.0',\n",
       " '2.0',\n",
       " '4.0',\n",
       " '5.0']"
      ]
     },
     "execution_count": 11,
     "metadata": {},
     "output_type": "execute_result"
    }
   ],
   "source": [
    "#get TSU sacks\n",
    "TSUsacks=mytree.xpath('body/center//tr/td/font[@color=\"#000000\"]/text()')[450:700:22]\n",
    "TSUsacks=[a.replace(\"\\xa0\",\"\") for a in TSUsacks]\n",
    "TSUsacks"
   ]
  },
  {
   "cell_type": "code",
   "execution_count": 12,
   "metadata": {},
   "outputs": [
    {
     "data": {
      "text/plain": [
       "['21', '0', '4', '0', '22', '30', '9', '24', '12', '14', '20', '28']"
      ]
     },
     "execution_count": 12,
     "metadata": {},
     "output_type": "execute_result"
    }
   ],
   "source": [
    "#get TSU sack yards\n",
    "TSUsackyd=mytree.xpath('body/center//tr/td/font[@color=\"#000000\"]/text()')[451:700:22]\n",
    "TSUsackyd=[a.replace(\"\\xa0\",\"\") for a in TSUsackyd]\n",
    "TSUsackyd"
   ]
  },
  {
   "cell_type": "code",
   "execution_count": 13,
   "metadata": {},
   "outputs": [
    {
     "data": {
      "text/plain": [
       "['5', '7', '5', '6', '3', '2', '6', '8', '5', '5', '10', '7']"
      ]
     },
     "execution_count": 13,
     "metadata": {},
     "output_type": "execute_result"
    }
   ],
   "source": [
    "#TSU punts\n",
    "TSUpunt=mytree.xpath('body/center//tr/td/font[@color=\"#000000\"]/text()')[753:969:19]\n",
    "TSUpunt=[a.replace(\"\\xa0\",\"\") for a in TSUpunt]\n",
    "TSUpunt"
   ]
  },
  {
   "cell_type": "code",
   "execution_count": 14,
   "metadata": {},
   "outputs": [
    {
     "data": {
      "text/html": [
       "<div>\n",
       "<style scoped>\n",
       "    .dataframe tbody tr th:only-of-type {\n",
       "        vertical-align: middle;\n",
       "    }\n",
       "\n",
       "    .dataframe tbody tr th {\n",
       "        vertical-align: top;\n",
       "    }\n",
       "\n",
       "    .dataframe thead th {\n",
       "        text-align: right;\n",
       "    }\n",
       "</style>\n",
       "<table border=\"1\" class=\"dataframe\">\n",
       "  <thead>\n",
       "    <tr style=\"text-align: right;\">\n",
       "      <th></th>\n",
       "      <th>date</th>\n",
       "      <th>attendance</th>\n",
       "      <th>TSUrushyards</th>\n",
       "      <th>TSUreceiveyards</th>\n",
       "      <th>TSUkreturnyards</th>\n",
       "      <th>TSUpreturnyards</th>\n",
       "      <th>TSUtackles</th>\n",
       "      <th>TSUtackleyd</th>\n",
       "      <th>TSUsacks</th>\n",
       "      <th>TSUsackyd</th>\n",
       "      <th>TSUpunt</th>\n",
       "    </tr>\n",
       "  </thead>\n",
       "  <tbody>\n",
       "    <tr>\n",
       "      <th>0</th>\n",
       "      <td>Aug 30 2003</td>\n",
       "      <td>18124</td>\n",
       "      <td>113</td>\n",
       "      <td>365</td>\n",
       "      <td>69</td>\n",
       "      <td>88</td>\n",
       "      <td>69</td>\n",
       "      <td>33</td>\n",
       "      <td>3.0</td>\n",
       "      <td>21</td>\n",
       "      <td>5</td>\n",
       "    </tr>\n",
       "    <tr>\n",
       "      <th>1</th>\n",
       "      <td>Sep 06 2003</td>\n",
       "      <td>18085</td>\n",
       "      <td>141</td>\n",
       "      <td>146</td>\n",
       "      <td>147</td>\n",
       "      <td>8</td>\n",
       "      <td>68</td>\n",
       "      <td>22</td>\n",
       "      <td>0.0</td>\n",
       "      <td>0</td>\n",
       "      <td>7</td>\n",
       "    </tr>\n",
       "    <tr>\n",
       "      <th>2</th>\n",
       "      <td>Sep 13 2003</td>\n",
       "      <td>52603</td>\n",
       "      <td>209</td>\n",
       "      <td>132</td>\n",
       "      <td>138</td>\n",
       "      <td>107</td>\n",
       "      <td>84</td>\n",
       "      <td>26</td>\n",
       "      <td>1.0</td>\n",
       "      <td>4</td>\n",
       "      <td>5</td>\n",
       "    </tr>\n",
       "    <tr>\n",
       "      <th>3</th>\n",
       "      <td>Sep 20 2003</td>\n",
       "      <td>70185</td>\n",
       "      <td>153</td>\n",
       "      <td>138</td>\n",
       "      <td>86</td>\n",
       "      <td>2</td>\n",
       "      <td>50</td>\n",
       "      <td>22</td>\n",
       "      <td>0.0</td>\n",
       "      <td>0</td>\n",
       "      <td>6</td>\n",
       "    </tr>\n",
       "    <tr>\n",
       "      <th>4</th>\n",
       "      <td>Sep 27 2003</td>\n",
       "      <td>8434</td>\n",
       "      <td>142</td>\n",
       "      <td>285</td>\n",
       "      <td>11</td>\n",
       "      <td>29</td>\n",
       "      <td>76</td>\n",
       "      <td>46</td>\n",
       "      <td>4.0</td>\n",
       "      <td>22</td>\n",
       "      <td>3</td>\n",
       "    </tr>\n",
       "  </tbody>\n",
       "</table>\n",
       "</div>"
      ],
      "text/plain": [
       "          date attendance TSUrushyards TSUreceiveyards TSUkreturnyards  \\\n",
       "0  Aug 30 2003      18124          113             365              69   \n",
       "1  Sep 06 2003      18085          141             146             147   \n",
       "2  Sep 13 2003      52603          209             132             138   \n",
       "3  Sep 20 2003      70185          153             138              86   \n",
       "4  Sep 27 2003       8434          142             285              11   \n",
       "\n",
       "  TSUpreturnyards TSUtackles TSUtackleyd TSUsacks TSUsackyd TSUpunt  \n",
       "0              88         69          33      3.0        21       5  \n",
       "1               8         68          22      0.0         0       7  \n",
       "2             107         84          26      1.0         4       5  \n",
       "3               2         50          22      0.0         0       6  \n",
       "4              29         76          46      4.0        22       3  "
      ]
     },
     "execution_count": 14,
     "metadata": {},
     "output_type": "execute_result"
    }
   ],
   "source": [
    "#create data frame\n",
    "#change dictionary of lists to data frame\n",
    "list_of_dicts={'date':date,\n",
    "     'attendance':attendance,\n",
    "     'TSUrushyards':TSUrushyards,\n",
    "     'TSUreceiveyards':TSUreceiveyards,\n",
    "     'TSUkreturnyards':TSUkreturnyards,\n",
    "     'TSUpreturnyards':TSUpreturnyards,\n",
    "     'TSUtackles':TSUtackles,\n",
    "     'TSUtackleyd':TSUtackleyd,\n",
    "     'TSUsacks':TSUsacks,\n",
    "     'TSUsackyd':TSUsackyd,\n",
    "     'TSUpunt':TSUpunt}\n",
    "df2003=pd.DataFrame(list_of_dicts)\n",
    "df2003.head()"
   ]
  },
  {
   "cell_type": "code",
   "execution_count": 15,
   "metadata": {},
   "outputs": [
    {
     "data": {
      "text/html": [
       "<div>\n",
       "<style scoped>\n",
       "    .dataframe tbody tr th:only-of-type {\n",
       "        vertical-align: middle;\n",
       "    }\n",
       "\n",
       "    .dataframe tbody tr th {\n",
       "        vertical-align: top;\n",
       "    }\n",
       "\n",
       "    .dataframe thead th {\n",
       "        text-align: right;\n",
       "    }\n",
       "</style>\n",
       "<table border=\"1\" class=\"dataframe\">\n",
       "  <thead>\n",
       "    <tr style=\"text-align: right;\">\n",
       "      <th></th>\n",
       "      <th>date</th>\n",
       "      <th>attendance</th>\n",
       "      <th>TSUrushyards</th>\n",
       "      <th>TSUreceiveyards</th>\n",
       "      <th>TSUkreturnyards</th>\n",
       "      <th>TSUpreturnyards</th>\n",
       "      <th>TSUtackles</th>\n",
       "      <th>TSUtackleyd</th>\n",
       "      <th>TSUsacks</th>\n",
       "      <th>TSUsackyd</th>\n",
       "      <th>TSUpunt</th>\n",
       "      <th>month</th>\n",
       "      <th>day</th>\n",
       "      <th>year</th>\n",
       "    </tr>\n",
       "  </thead>\n",
       "  <tbody>\n",
       "    <tr>\n",
       "      <th>0</th>\n",
       "      <td>Aug 30 2003</td>\n",
       "      <td>18124</td>\n",
       "      <td>113</td>\n",
       "      <td>365</td>\n",
       "      <td>69</td>\n",
       "      <td>88</td>\n",
       "      <td>69</td>\n",
       "      <td>33</td>\n",
       "      <td>3.0</td>\n",
       "      <td>21</td>\n",
       "      <td>5</td>\n",
       "      <td>Aug</td>\n",
       "      <td>30</td>\n",
       "      <td>2003</td>\n",
       "    </tr>\n",
       "    <tr>\n",
       "      <th>1</th>\n",
       "      <td>Sep 06 2003</td>\n",
       "      <td>18085</td>\n",
       "      <td>141</td>\n",
       "      <td>146</td>\n",
       "      <td>147</td>\n",
       "      <td>8</td>\n",
       "      <td>68</td>\n",
       "      <td>22</td>\n",
       "      <td>0.0</td>\n",
       "      <td>0</td>\n",
       "      <td>7</td>\n",
       "      <td>Sep</td>\n",
       "      <td>06</td>\n",
       "      <td>2003</td>\n",
       "    </tr>\n",
       "    <tr>\n",
       "      <th>2</th>\n",
       "      <td>Sep 13 2003</td>\n",
       "      <td>52603</td>\n",
       "      <td>209</td>\n",
       "      <td>132</td>\n",
       "      <td>138</td>\n",
       "      <td>107</td>\n",
       "      <td>84</td>\n",
       "      <td>26</td>\n",
       "      <td>1.0</td>\n",
       "      <td>4</td>\n",
       "      <td>5</td>\n",
       "      <td>Sep</td>\n",
       "      <td>13</td>\n",
       "      <td>2003</td>\n",
       "    </tr>\n",
       "    <tr>\n",
       "      <th>3</th>\n",
       "      <td>Sep 20 2003</td>\n",
       "      <td>70185</td>\n",
       "      <td>153</td>\n",
       "      <td>138</td>\n",
       "      <td>86</td>\n",
       "      <td>2</td>\n",
       "      <td>50</td>\n",
       "      <td>22</td>\n",
       "      <td>0.0</td>\n",
       "      <td>0</td>\n",
       "      <td>6</td>\n",
       "      <td>Sep</td>\n",
       "      <td>20</td>\n",
       "      <td>2003</td>\n",
       "    </tr>\n",
       "    <tr>\n",
       "      <th>4</th>\n",
       "      <td>Sep 27 2003</td>\n",
       "      <td>8434</td>\n",
       "      <td>142</td>\n",
       "      <td>285</td>\n",
       "      <td>11</td>\n",
       "      <td>29</td>\n",
       "      <td>76</td>\n",
       "      <td>46</td>\n",
       "      <td>4.0</td>\n",
       "      <td>22</td>\n",
       "      <td>3</td>\n",
       "      <td>Sep</td>\n",
       "      <td>27</td>\n",
       "      <td>2003</td>\n",
       "    </tr>\n",
       "  </tbody>\n",
       "</table>\n",
       "</div>"
      ],
      "text/plain": [
       "          date attendance TSUrushyards TSUreceiveyards TSUkreturnyards  \\\n",
       "0  Aug 30 2003      18124          113             365              69   \n",
       "1  Sep 06 2003      18085          141             146             147   \n",
       "2  Sep 13 2003      52603          209             132             138   \n",
       "3  Sep 20 2003      70185          153             138              86   \n",
       "4  Sep 27 2003       8434          142             285              11   \n",
       "\n",
       "  TSUpreturnyards TSUtackles TSUtackleyd TSUsacks TSUsackyd TSUpunt month day  \\\n",
       "0              88         69          33      3.0        21       5   Aug  30   \n",
       "1               8         68          22      0.0         0       7   Sep  06   \n",
       "2             107         84          26      1.0         4       5   Sep  13   \n",
       "3               2         50          22      0.0         0       6   Sep  20   \n",
       "4              29         76          46      4.0        22       3   Sep  27   \n",
       "\n",
       "   year  \n",
       "0  2003  \n",
       "1  2003  \n",
       "2  2003  \n",
       "3  2003  \n",
       "4  2003  "
      ]
     },
     "execution_count": 15,
     "metadata": {},
     "output_type": "execute_result"
    }
   ],
   "source": [
    "\n",
    "#splitting date column into month, day, & year columns \n",
    "df2003[['month','day','year']]=df2003.date.str.split(expand=True)\n",
    "df2003.drop('date',axis=1)\n",
    "df2003.head()"
   ]
  },
  {
   "cell_type": "code",
   "execution_count": 16,
   "metadata": {},
   "outputs": [
    {
     "name": "stdout",
     "output_type": "stream",
     "text": [
      "<class 'pandas.core.frame.DataFrame'>\n",
      "RangeIndex: 12 entries, 0 to 11\n",
      "Data columns (total 12 columns):\n",
      " #   Column           Non-Null Count  Dtype         \n",
      "---  ------           --------------  -----         \n",
      " 0   date             12 non-null     datetime64[ns]\n",
      " 1   attendance       12 non-null     object        \n",
      " 2   TSUrushyards     12 non-null     object        \n",
      " 3   TSUreceiveyards  12 non-null     object        \n",
      " 4   TSUkreturnyards  12 non-null     object        \n",
      " 5   TSUpreturnyards  12 non-null     object        \n",
      " 6   TSUtackles       12 non-null     object        \n",
      " 7   TSUtackleyd      12 non-null     object        \n",
      " 8   TSUsacks         12 non-null     object        \n",
      " 9   TSUsackyd        12 non-null     object        \n",
      " 10  TSUpunt          12 non-null     object        \n",
      " 11  year             12 non-null     int64         \n",
      "dtypes: datetime64[ns](1), int64(1), object(10)\n",
      "memory usage: 1.2+ KB\n"
     ]
    }
   ],
   "source": [
    "#create a new date variable\n",
    "#change month variable to a 2 digit string variable\n",
    "df2003['month'] = df2003['month'].str.replace('Aug','08')\n",
    "df2003['month'] = df2003['month'].str.replace('Sep','09')\n",
    "df2003['month'] = df2003['month'].str.replace('Oct','10')\n",
    "df2003['month'] = df2003['month'].str.replace('Nov','11')\n",
    "df2003['month'] = df2003['month'].str.replace('Dec','12')\n",
    "#merge month,day and year variables\n",
    "df2003['date']=df2003['year']+ '-' +df2003['month']+ '-'+df2003['day']\n",
    "#make date into a datetime variable\n",
    "df2003['date']= pd.to_datetime(df2003['date'], format='%Y-%m-%d')\n",
    "#drop individual month,day, variables (keep year variable for later analysis)\n",
    "df2003=df2003.drop(['month','day'], axis=1)\n",
    "#make year numeric\n",
    "df2003['year']=pd.to_numeric(df2003['year'])\n",
    "df2003.info()"
   ]
  },
  {
   "cell_type": "code",
   "execution_count": null,
   "metadata": {},
   "outputs": [],
   "source": []
  },
  {
   "cell_type": "code",
   "execution_count": null,
   "metadata": {},
   "outputs": [],
   "source": []
  }
 ],
 "metadata": {
  "kernelspec": {
   "display_name": "Python 3",
   "language": "python",
   "name": "python3"
  },
  "language_info": {
   "codemirror_mode": {
    "name": "ipython",
    "version": 3
   },
   "file_extension": ".py",
   "mimetype": "text/x-python",
   "name": "python",
   "nbconvert_exporter": "python",
   "pygments_lexer": "ipython3",
   "version": "3.8.5"
  }
 },
 "nbformat": 4,
 "nbformat_minor": 4
}
