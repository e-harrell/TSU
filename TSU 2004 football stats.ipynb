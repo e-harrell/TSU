{
 "cells": [
  {
   "cell_type": "code",
   "execution_count": 5,
   "metadata": {},
   "outputs": [
    {
     "data": {
      "text/plain": [
       "['Sep 04 2004',\n",
       " 'Sep 09 2004',\n",
       " 'Sep 18 2004',\n",
       " 'Sep 25 2004',\n",
       " 'Oct 02 2004',\n",
       " 'Oct 16 2004',\n",
       " 'Oct 23 2004',\n",
       " 'Oct 30 2004',\n",
       " 'Nov 06 2004',\n",
       " 'Nov 13 2004',\n",
       " 'Nov 20 2004']"
      ]
     },
     "execution_count": 5,
     "metadata": {},
     "output_type": "execute_result"
    }
   ],
   "source": [
    "#libraries to use\n",
    "import pandas as pd\n",
    "import numpy as np\n",
    "import matplotlib.pyplot as plt\n",
    "import datetime as dt\n",
    "#python's lxml library parses xml and html files\n",
    "from lxml import html\n",
    "\n",
    "#use requests to get data from web pages\n",
    "import requests \n",
    "\n",
    "#use requests.get() to get web page with data\n",
    "page = requests.get('https://tennstate_ftp.sidearmsports.com/custompages/tsutigers/57C54C44-DE63-4F94-99EB-2BB3329FC2BA/teamgbg.htm')\n",
    "\n",
    "#parse data on web page using html module.fromstring\n",
    "mytree = html.fromstring(page.content)\n",
    "\n",
    "#go to web address above , right click on page and select inspect to get HTML code for data from right side of page\n",
    "#create XPath query and use xpath function to get data\n",
    "#date data\n",
    "date = mytree.xpath('body/center//tr/td/font[@color=\"#000000\"]/text()')[1:110:10]\n",
    "date=[a.replace(\"\\xa0\",\"\") for a in date]\n",
    "date=[a.replace('2003','2004') for a in date]\n",
    "date=[a.replace(\",\",\"\") for a in date]\n",
    "date=[a.replace(\".\",\"\") for a in date]\n",
    "date=[a.replace(\" 4\",\" 04\") for a in date]\n",
    "date"
   ]
  },
  {
   "cell_type": "code",
   "execution_count": 9,
   "metadata": {},
   "outputs": [
    {
     "data": {
      "text/plain": [
       "['25117',\n",
       " '7019',\n",
       " '55015',\n",
       " '67712',\n",
       " '51082',\n",
       " '14722',\n",
       " '5041',\n",
       " '5422',\n",
       " '23421',\n",
       " '7100',\n",
       " '4864']"
      ]
     },
     "execution_count": 9,
     "metadata": {},
     "output_type": "execute_result"
    }
   ],
   "source": [
    "#get attendance data\n",
    "attendance=mytree.xpath('body/center//tr/td/font[@color=\"#000000\"]/text()')[9:110:10]\n",
    "attendance=[a.replace(\"\\xa0\",\"\") for a in attendance]\n",
    "attendance=[a.strip() for a in attendance]\n",
    "attendance"
   ]
  },
  {
   "cell_type": "code",
   "execution_count": 11,
   "metadata": {},
   "outputs": [
    {
     "data": {
      "text/plain": [
       "['152', '156', '164', '161', '22', '106', '290', '22', '243', '194', '83']"
      ]
     },
     "execution_count": 11,
     "metadata": {},
     "output_type": "execute_result"
    }
   ],
   "source": [
    "#get TSU rushing yards\n",
    "TSUrushyards=mytree.xpath('body/center//tr/td/font[@color=\"#000000\"]/text()')[114:357:23]\n",
    "TSUrushyards=[a.replace(\"\\xa0\",\"\") for a in TSUrushyards]\n",
    "TSUrushyards"
   ]
  },
  {
   "cell_type": "code",
   "execution_count": 16,
   "metadata": {},
   "outputs": [
    {
     "data": {
      "text/plain": [
       "['203', '158', '149', '163', '173', '381', '211', '192', '215', '162', '142']"
      ]
     },
     "execution_count": 16,
     "metadata": {},
     "output_type": "execute_result"
    }
   ],
   "source": [
    "#get TSU receiving yards\n",
    "TSUreceiveyards=mytree.xpath('body/center//tr/td/font[@color=\"#000000\"]/text()')[118:360:23]\n",
    "TSUreceiveyards=[a.replace(\"\\xa0\",\"\") for a in TSUreceiveyards]\n",
    "TSUreceiveyards"
   ]
  },
  {
   "cell_type": "code",
   "execution_count": 18,
   "metadata": {},
   "outputs": [
    {
     "data": {
      "text/plain": [
       "['24', '34', '39', '49', '57', '120', '127', '100', '76', '95', '130']"
      ]
     },
     "execution_count": 18,
     "metadata": {},
     "output_type": "execute_result"
    }
   ],
   "source": [
    "#get TSU kick return yards\n",
    "TSUkreturnyards=mytree.xpath('body/center//tr/td/font[@color=\"#000000\"]/text()')[126:360:23]\n",
    "TSUkreturnyards=[a.replace(\"\\xa0\",\"\") for a in TSUkreturnyards]\n",
    "TSUkreturnyards"
   ]
  },
  {
   "cell_type": "code",
   "execution_count": 22,
   "metadata": {},
   "outputs": [
    {
     "data": {
      "text/plain": [
       "['26', '32', '10', '32', '0', '0', '36', '77', '22', '63', '0']"
      ]
     },
     "execution_count": 22,
     "metadata": {},
     "output_type": "execute_result"
    }
   ],
   "source": [
    "#get TSU punt return yards\n",
    "TSUpreturnyards=mytree.xpath('body/center//tr/td/font[@color=\"#000000\"]/text()')[130:380:23]\n",
    "TSUpreturnyards=[a.replace(\"\\xa0\",\"\") for a in TSUpreturnyards]\n",
    "TSUpreturnyards"
   ]
  },
  {
   "cell_type": "code",
   "execution_count": 26,
   "metadata": {},
   "outputs": [
    {
     "data": {
      "text/plain": [
       "['74', '65', '63', '78', '91', '77', '88', '66', '63', '67', '66']"
      ]
     },
     "execution_count": 26,
     "metadata": {},
     "output_type": "execute_result"
    }
   ],
   "source": [
    "#get TSU total tackles\n",
    "TSUtackles=mytree.xpath('body/center//tr/td/font[@color=\"#000000\"]/text()')[414:650:22]\n",
    "TSUtackles=[a.replace(\"\\xa0\",\"\") for a in TSUtackles]\n",
    "TSUtackles"
   ]
  },
  {
   "cell_type": "code",
   "execution_count": 27,
   "metadata": {},
   "outputs": [
    {
     "data": {
      "text/plain": [
       "['35', '60', '19', '70', '17', '0', '23', '6', '31', '25', '16']"
      ]
     },
     "execution_count": 27,
     "metadata": {},
     "output_type": "execute_result"
    }
   ],
   "source": [
    "#get TSU tackle yards\n",
    "TSUtackleyd=mytree.xpath('body/center//tr/td/font[@color=\"#000000\"]/text()')[416:650:22]\n",
    "TSUtackleyd=[a.replace(\"\\xa0\",\"\") for a in TSUtackleyd]\n",
    "TSUtackleyd"
   ]
  },
  {
   "cell_type": "code",
   "execution_count": 29,
   "metadata": {},
   "outputs": [
    {
     "data": {
      "text/plain": [
       "['2.0', '4.0', '2.0', '5.0', '1.0', '0.0', '1.0', '0.0', '2.0', '1.0', '0.0']"
      ]
     },
     "execution_count": 29,
     "metadata": {},
     "output_type": "execute_result"
    }
   ],
   "source": [
    "#get TSU sacks\n",
    "TSUsacks=mytree.xpath('body/center//tr/td/font[@color=\"#000000\"]/text()')[417:650:22]\n",
    "TSUsacks=[a.replace(\"\\xa0\",\"\") for a in TSUsacks]\n",
    "TSUsacks"
   ]
  },
  {
   "cell_type": "code",
   "execution_count": 30,
   "metadata": {},
   "outputs": [
    {
     "data": {
      "text/plain": [
       "['12', '30', '7', '49', '4', '0', '5', '0', '12', '5', '0']"
      ]
     },
     "execution_count": 30,
     "metadata": {},
     "output_type": "execute_result"
    }
   ],
   "source": [
    "#get TSU sack yards\n",
    "TSUsackyd=mytree.xpath('body/center//tr/td/font[@color=\"#000000\"]/text()')[418:650:22]\n",
    "TSUsackyd=[a.replace(\"\\xa0\",\"\") for a in TSUsackyd]\n",
    "TSUsackyd"
   ]
  },
  {
   "cell_type": "code",
   "execution_count": 34,
   "metadata": {},
   "outputs": [
    {
     "data": {
      "text/plain": [
       "['4', '7', '7', '9', '9', '4', '4', '8', '7', '6', '8']"
      ]
     },
     "execution_count": 34,
     "metadata": {},
     "output_type": "execute_result"
    }
   ],
   "source": [
    "#TSU punts\n",
    "TSUpunt=mytree.xpath('body/center//tr/td/font[@color=\"#000000\"]/text()')[698:900:19]\n",
    "TSUpunt=[a.replace(\"\\xa0\",\"\") for a in TSUpunt]\n",
    "TSUpunt"
   ]
  },
  {
   "cell_type": "code",
   "execution_count": 45,
   "metadata": {},
   "outputs": [
    {
     "data": {
      "text/plain": [
       "['98', '82', '61', '63', '280', '358', '158', '178', '73', '153', '143']"
      ]
     },
     "execution_count": 45,
     "metadata": {},
     "output_type": "execute_result"
    }
   ],
   "source": [
    "#get opponent rushing yards\n",
    "OPPrushyards=mytree.xpath('body/center//tr/td/font[@color=\"#000000\"]/text()')[946:1183:23]\n",
    "OPPrushyards=[a.replace(\"\\xa0\",\"\") for a in OPPrushyards]\n",
    "OPPrushyards"
   ]
  },
  {
   "cell_type": "code",
   "execution_count": 47,
   "metadata": {},
   "outputs": [
    {
     "data": {
      "text/plain": [
       "['227', '167', '201', '340', '155', '227', '348', '145', '292', '79', '237']"
      ]
     },
     "execution_count": 47,
     "metadata": {},
     "output_type": "execute_result"
    }
   ],
   "source": [
    "#get opponent receiving yards\n",
    "OPPreceiveyards=mytree.xpath('body/center//tr/td/font[@color=\"#000000\"]/text()')[950:1200:23]\n",
    "OPPreceiveyards=[a.replace(\"\\xa0\",\"\") for a in OPPreceiveyards]\n",
    "OPPreceiveyards"
   ]
  },
  {
   "cell_type": "code",
   "execution_count": 50,
   "metadata": {},
   "outputs": [
    {
     "data": {
      "text/plain": [
       "['105', '61', '134', '21', '22', '76', '88', '108', '110', '149', '15']"
      ]
     },
     "execution_count": 50,
     "metadata": {},
     "output_type": "execute_result"
    }
   ],
   "source": [
    "#get opponent kick return yards\n",
    "OPPkreturnyards=mytree.xpath('body/center//tr/td/font[@color=\"#000000\"]/text()')[958:1200:23]\n",
    "OPPkreturnyards=[a.replace(\"\\xa0\",\"\") for a in OPPkreturnyards]\n",
    "OPPkreturnyards"
   ]
  },
  {
   "cell_type": "code",
   "execution_count": 52,
   "metadata": {},
   "outputs": [
    {
     "data": {
      "text/plain": [
       "['2', '5', '77', '31', '38', '7', '14', '83', '30', '-3', '91']"
      ]
     },
     "execution_count": 52,
     "metadata": {},
     "output_type": "execute_result"
    }
   ],
   "source": [
    "#get opponent punt return yards\n",
    "OPPpreturnyards=mytree.xpath('body/center//tr/td/font[@color=\"#000000\"]/text()')[962:1200:23]\n",
    "OPPpreturnyards=[a.replace(\"\\xa0\",\"\") for a in OPPpreturnyards]\n",
    "OPPpreturnyards"
   ]
  },
  {
   "cell_type": "code",
   "execution_count": 59,
   "metadata": {},
   "outputs": [
    {
     "data": {
      "text/plain": [
       "['54', '74', '70', '64', '45', '89', '58', '80', '62', '78', '50']"
      ]
     },
     "execution_count": 59,
     "metadata": {},
     "output_type": "execute_result"
    }
   ],
   "source": [
    "#get opponent total tackles\n",
    "OPPtackles=mytree.xpath('body/center//tr/td/font[@color=\"#000000\"]/text()')[1246:1480:22]\n",
    "OPPtackles=[a.replace(\"\\xa0\",\"\") for a in OPPtackles]\n",
    "OPPtackles"
   ]
  },
  {
   "cell_type": "code",
   "execution_count": 61,
   "metadata": {},
   "outputs": [
    {
     "data": {
      "text/plain": [
       "['60', '44', '26', '10', '35', '47', '16', '59', '30', '20', '40']"
      ]
     },
     "execution_count": 61,
     "metadata": {},
     "output_type": "execute_result"
    }
   ],
   "source": [
    "#get opponent tackle yards\n",
    "OPPtackleyd=mytree.xpath('body/center//tr/td/font[@color=\"#000000\"]/text()')[1248:1488:22]\n",
    "OPPtackleyd=[a.replace(\"\\xa0\",\"\") for a in OPPtackleyd]\n",
    "OPPtackleyd"
   ]
  },
  {
   "cell_type": "code",
   "execution_count": 64,
   "metadata": {},
   "outputs": [
    {
     "data": {
      "text/plain": [
       "['1.0', '3.0', '2.0', '1.0', '2.0', '6.0', '2.0', '5.0', '2.0', '1.0', '3.0']"
      ]
     },
     "execution_count": 64,
     "metadata": {},
     "output_type": "execute_result"
    }
   ],
   "source": [
    "#get opponent sacks\n",
    "OPPsacks=mytree.xpath('body/center//tr/td/font[@color=\"#000000\"]/text()')[1249:1488:22]\n",
    "OPPsacks=[a.replace(\"\\xa0\",\"\") for a in OPPsacks]\n",
    "OPPsacks"
   ]
  },
  {
   "cell_type": "code",
   "execution_count": 66,
   "metadata": {},
   "outputs": [
    {
     "data": {
      "text/plain": [
       "['7', '29', '17', '2', '22', '43', '4', '37', '22', '9', '12']"
      ]
     },
     "execution_count": 66,
     "metadata": {},
     "output_type": "execute_result"
    }
   ],
   "source": [
    "#get opponent sack yards\n",
    "OPPsackyd=mytree.xpath('body/center//tr/td/font[@color=\"#000000\"]/text()')[1250:1488:22]\n",
    "OPPsackyd=[a.replace(\"\\xa0\",\"\") for a in OPPsackyd]\n",
    "OPPsackyd"
   ]
  },
  {
   "cell_type": "code",
   "execution_count": 75,
   "metadata": {},
   "outputs": [
    {
     "data": {
      "text/plain": [
       "['3', '7', '3', '7', '4', '3', '8', '7', '5', '8', '6']"
      ]
     },
     "execution_count": 75,
     "metadata": {},
     "output_type": "execute_result"
    }
   ],
   "source": [
    "#opponent punts\n",
    "OPPpunt=mytree.xpath('body/center//tr/td/font[@color=\"#000000\"]/text()')[1530:1739:19]\n",
    "OPPpunt=[a.replace(\"\\xa0\",\"\") for a in OPPpunt]\n",
    "OPPpunt"
   ]
  },
  {
   "cell_type": "code",
   "execution_count": 88,
   "metadata": {},
   "outputs": [
    {
     "data": {
      "text/plain": [
       "['19 22',\n",
       " '19 19',\n",
       " '20 12',\n",
       " '17 25',\n",
       " '05 21',\n",
       " '28 28',\n",
       " '17 27',\n",
       " '15 16',\n",
       " '18 23',\n",
       " '18 15',\n",
       " '12 17']"
      ]
     },
     "execution_count": 88,
     "metadata": {},
     "output_type": "execute_result"
    }
   ],
   "source": [
    "#1st downs\n",
    "firstdowns=mytree.xpath('body/center//tr/td/font[@color=\"#000000\"]/text()')[1777:1930:15]\n",
    "firstdowns=[a.replace(\"\\xa0\",\"\") for a in firstdowns]\n",
    "firstdowns=[a.replace(\"/\",\" \") for a in firstdowns]\n",
    "firstdowns=[a.replace('5 21','05 21') for a in firstdowns]\n",
    "firstdowns"
   ]
  },
  {
   "cell_type": "code",
   "execution_count": 95,
   "metadata": {},
   "outputs": [
    {
     "data": {
      "text/plain": [
       "['0 4', '0 2', '0 2', '3 2', '3 5', '2 2', '6 2', '2 2', '1 2', '5 1', '4 1']"
      ]
     },
     "execution_count": 95,
     "metadata": {},
     "output_type": "execute_result"
    }
   ],
   "source": [
    "#turnovers\n",
    "turnovers=mytree.xpath('body/center//tr/td/font[@color=\"#000000\"]/text()')[1789:1945:15]\n",
    "turnovers=[a.replace(\"\\xa0\",\"\") for a in turnovers]\n",
    "turnovers=[a.replace(\"/\",\" \") for a in turnovers]\n",
    "turnovers"
   ]
  },
  {
   "cell_type": "code",
   "execution_count": 103,
   "metadata": {},
   "outputs": [
    {
     "data": {
      "text/plain": [
       "['8-16',\n",
       " '8-19',\n",
       " '8-19',\n",
       " '2-14',\n",
       " '1-13',\n",
       " '9-14',\n",
       " '3-11',\n",
       " '3-17',\n",
       " '1-13',\n",
       " '6-17',\n",
       " '4-14']"
      ]
     },
     "execution_count": 103,
     "metadata": {},
     "output_type": "execute_result"
    }
   ],
   "source": [
    "#TSU 3rd down conversions\n",
    "TSUthirddownconv=mytree.xpath('body/center//tr/td/font[@color=\"#000000\"]/text()')[1957:2100:14]\n",
    "TSUthirddownconv=[a.replace(\"\\xa0\",\"\") for a in TSUthirddownconv]\n",
    "TSUthirddownconv=[a.replace(\" /\",\"\") for a in TSUthirddownconv]\n",
    "TSUthirddownconv"
   ]
  },
  {
   "cell_type": "code",
   "execution_count": 105,
   "metadata": {},
   "outputs": [
    {
     "data": {
      "text/plain": [
       "['5-15',\n",
       " '4-13',\n",
       " '6-12',\n",
       " '9-18',\n",
       " '6-17',\n",
       " '3-8',\n",
       " '7-17',\n",
       " '6-15',\n",
       " '6-17',\n",
       " '4-14',\n",
       " '3-12']"
      ]
     },
     "execution_count": 105,
     "metadata": {},
     "output_type": "execute_result"
    }
   ],
   "source": [
    "#opponent 3rd down conversions\n",
    "OPPthirddownconv=mytree.xpath('body/center//tr/td/font[@color=\"#000000\"]/text()')[1958:2100:14]\n",
    "OPPthirddownconv=[a.replace(\"\\xa0\",\"\") for a in OPPthirddownconv]\n",
    "OPPthirddownconv"
   ]
  },
  {
   "cell_type": "code",
   "execution_count": 106,
   "metadata": {},
   "outputs": [
    {
     "data": {
      "text/plain": [
       "['1-1', '0-1', '2-2', '1-1', '1-1', '0-1', '1-3', '1-3', '2-2', '1-3', '0-0']"
      ]
     },
     "execution_count": 106,
     "metadata": {},
     "output_type": "execute_result"
    }
   ],
   "source": [
    "#TSU 4th down conversions\n",
    "TSUfourthdownconv=mytree.xpath('body/center//tr/td/font[@color=\"#000000\"]/text()')[1959:2100:14]\n",
    "TSUfourthdownconv=[a.replace(\"\\xa0\",\"\") for a in TSUfourthdownconv]\n",
    "TSUfourthdownconv=[a.replace(\" /\",\"\") for a in TSUfourthdownconv]\n",
    "TSUfourthdownconv"
   ]
  },
  {
   "cell_type": "code",
   "execution_count": 110,
   "metadata": {},
   "outputs": [
    {
     "data": {
      "text/plain": [
       "['1-2', '0-1', '0-1', '0-1', '4-6', '1-1', '0-1', '0-0', '1-1', '1-2', '0-1']"
      ]
     },
     "execution_count": 110,
     "metadata": {},
     "output_type": "execute_result"
    }
   ],
   "source": [
    "#opponent 4th down conversions\n",
    "OPPfourthdownconv=mytree.xpath('body/center//tr/td/font[@color=\"#000000\"]/text()')[1960:2106:14]\n",
    "OPPfourthdownconv=[a.replace(\"\\xa0\",\"\") for a in OPPfourthdownconv]\n",
    "OPPfourthdownconv=[a.replace(\" /\",\"\") for a in OPPfourthdownconv]\n",
    "OPPfourthdownconv"
   ]
  },
  {
   "cell_type": "code",
   "execution_count": 114,
   "metadata": {},
   "outputs": [
    {
     "data": {
      "text/plain": [
       "['29:12 30:48',\n",
       " '30:25 29:35',\n",
       " '29:30 30:30',\n",
       " '27:24 32:36',\n",
       " '21:14 38:46',\n",
       " '30:25 29:35',\n",
       " '24:21 35:39',\n",
       " '32:30 27:30',\n",
       " '32:17 27:43',\n",
       " '29:45 30:15',\n",
       " '27:20 32:40']"
      ]
     },
     "execution_count": 114,
     "metadata": {},
     "output_type": "execute_result"
    }
   ],
   "source": [
    "#possession time\n",
    "possesstime=mytree.xpath('body/center//tr/td/font[@color=\"#000000\"]/text()')[1961:2106:14]\n",
    "possesstime=[a.replace(\"\\xa0\",\"\") for a in possesstime]\n",
    "possesstime=[a.replace(\" /\",\"\") for a in possesstime]\n",
    "possesstime"
   ]
  },
  {
   "cell_type": "code",
   "execution_count": 122,
   "metadata": {},
   "outputs": [
    {
     "data": {
      "text/plain": [
       "['15 153',\n",
       " '11 072',\n",
       " '04 028',\n",
       " '06 045',\n",
       " '11 081',\n",
       " '09 045',\n",
       " '06 055',\n",
       " '08 050',\n",
       " '16 137',\n",
       " '12 103',\n",
       " '07 047']"
      ]
     },
     "execution_count": 122,
     "metadata": {},
     "output_type": "execute_result"
    }
   ],
   "source": [
    "#TSU penalty number and yards\n",
    "TSUpenalty=mytree.xpath('body/center//tr/td/font[@color=\"#000000\"]/text()')[1968:2122:14]\n",
    "TSUpenalty=[a.replace(\"\\xa0\",\"\") for a in TSUpenalty]\n",
    "TSUpenalty=[a.replace('15-153 /','15 153') for a in TSUpenalty]\n",
    "TSUpenalty=[a.replace('11-72 /','11 072') for a in TSUpenalty]\n",
    "TSUpenalty=[a.replace('4-28 /' ,'04 028') for a in TSUpenalty]\n",
    "TSUpenalty=[a.replace('6-45 /','06 045') for a in TSUpenalty]\n",
    "TSUpenalty=[a.replace('11-81 /','11 081') for a in TSUpenalty]\n",
    "TSUpenalty=[a.replace('9-45 /','09 045') for a in TSUpenalty]\n",
    "TSUpenalty=[a.replace('6-55 /','06 055') for a in TSUpenalty]\n",
    "TSUpenalty=[a.replace('8-50 /','08 050') for a in TSUpenalty]\n",
    "TSUpenalty=[a.replace('16-137 /','16 137') for a in TSUpenalty]\n",
    "TSUpenalty=[a.replace('12-103 /','12 103') for a in TSUpenalty]\n",
    "TSUpenalty=[a.replace('7-47 /','07 047') for a in TSUpenalty]\n",
    "TSUpenalty"
   ]
  },
  {
   "cell_type": "code",
   "execution_count": 125,
   "metadata": {},
   "outputs": [
    {
     "data": {
      "text/plain": [
       "['12 102',\n",
       " '06 063',\n",
       " '07 051',\n",
       " '08 069',\n",
       " '12 086',\n",
       " '08 110',\n",
       " '03 019',\n",
       " '12 126',\n",
       " '08 072',\n",
       " '09 076',\n",
       " '07 060']"
      ]
     },
     "execution_count": 125,
     "metadata": {},
     "output_type": "execute_result"
    }
   ],
   "source": [
    "#opponent penalty number and yards\n",
    "OPPpenalty=mytree.xpath('body/center//tr/td/font[@color=\"#000000\"]/text()')[1969:2122:14]\n",
    "OPPpenalty=[a.replace(\"\\xa0\",\"\") for a in OPPpenalty]\n",
    "OPPpenalty=[a.replace('12-102','12 102') for a in OPPpenalty]\n",
    "OPPpenalty=[a.replace('6-63','06 063') for a in OPPpenalty]\n",
    "OPPpenalty=[a.replace('7-51','07 051') for a in OPPpenalty]\n",
    "OPPpenalty=[a.replace('8-69','08 069') for a in OPPpenalty]\n",
    "OPPpenalty=[a.replace('12-86','12 086') for a in OPPpenalty]\n",
    "OPPpenalty=[a.replace('8-110','08 110') for a in OPPpenalty]\n",
    "OPPpenalty=[a.replace( '3-19','03 019') for a in OPPpenalty]\n",
    "OPPpenalty=[a.replace('12-126','12 126') for a in OPPpenalty]\n",
    "OPPpenalty=[a.replace('8-72','08 072') for a in OPPpenalty]\n",
    "OPPpenalty=[a.replace('9-76','09 076') for a in OPPpenalty]\n",
    "OPPpenalty=[a.replace('7-60','07 060') for a in OPPpenalty]\n",
    "OPPpenalty"
   ]
  },
  {
   "cell_type": "code",
   "execution_count": 126,
   "metadata": {},
   "outputs": [
    {
     "data": {
      "text/html": [
       "<div>\n",
       "<style scoped>\n",
       "    .dataframe tbody tr th:only-of-type {\n",
       "        vertical-align: middle;\n",
       "    }\n",
       "\n",
       "    .dataframe tbody tr th {\n",
       "        vertical-align: top;\n",
       "    }\n",
       "\n",
       "    .dataframe thead th {\n",
       "        text-align: right;\n",
       "    }\n",
       "</style>\n",
       "<table border=\"1\" class=\"dataframe\">\n",
       "  <thead>\n",
       "    <tr style=\"text-align: right;\">\n",
       "      <th></th>\n",
       "      <th>date</th>\n",
       "      <th>attendance</th>\n",
       "      <th>TSUrushyards</th>\n",
       "      <th>TSUreceiveyards</th>\n",
       "      <th>TSUkreturnyards</th>\n",
       "      <th>TSUpreturnyards</th>\n",
       "      <th>TSUtackles</th>\n",
       "      <th>TSUtackleyd</th>\n",
       "      <th>TSUsacks</th>\n",
       "      <th>TSUsackyd</th>\n",
       "      <th>...</th>\n",
       "      <th>OPPpunt</th>\n",
       "      <th>firstdowns</th>\n",
       "      <th>turnovers</th>\n",
       "      <th>TSUthirddownconv</th>\n",
       "      <th>OPPthirddownconv</th>\n",
       "      <th>TSUfourthdownconv</th>\n",
       "      <th>OPPfourthdownconv</th>\n",
       "      <th>possesstime</th>\n",
       "      <th>TSUpenalty</th>\n",
       "      <th>OPPpenalty</th>\n",
       "    </tr>\n",
       "  </thead>\n",
       "  <tbody>\n",
       "    <tr>\n",
       "      <th>0</th>\n",
       "      <td>Sep 04 2004</td>\n",
       "      <td>25117</td>\n",
       "      <td>152</td>\n",
       "      <td>203</td>\n",
       "      <td>24</td>\n",
       "      <td>26</td>\n",
       "      <td>74</td>\n",
       "      <td>35</td>\n",
       "      <td>2.0</td>\n",
       "      <td>12</td>\n",
       "      <td>...</td>\n",
       "      <td>3</td>\n",
       "      <td>19 22</td>\n",
       "      <td>0 4</td>\n",
       "      <td>8-16</td>\n",
       "      <td>5-15</td>\n",
       "      <td>1-1</td>\n",
       "      <td>1-2</td>\n",
       "      <td>29:12 30:48</td>\n",
       "      <td>15 153</td>\n",
       "      <td>12 102</td>\n",
       "    </tr>\n",
       "    <tr>\n",
       "      <th>1</th>\n",
       "      <td>Sep 09 2004</td>\n",
       "      <td>7019</td>\n",
       "      <td>156</td>\n",
       "      <td>158</td>\n",
       "      <td>34</td>\n",
       "      <td>32</td>\n",
       "      <td>65</td>\n",
       "      <td>60</td>\n",
       "      <td>4.0</td>\n",
       "      <td>30</td>\n",
       "      <td>...</td>\n",
       "      <td>7</td>\n",
       "      <td>19 19</td>\n",
       "      <td>0 2</td>\n",
       "      <td>8-19</td>\n",
       "      <td>4-13</td>\n",
       "      <td>0-1</td>\n",
       "      <td>0-1</td>\n",
       "      <td>30:25 29:35</td>\n",
       "      <td>11 072</td>\n",
       "      <td>06 063</td>\n",
       "    </tr>\n",
       "    <tr>\n",
       "      <th>2</th>\n",
       "      <td>Sep 18 2004</td>\n",
       "      <td>55015</td>\n",
       "      <td>164</td>\n",
       "      <td>149</td>\n",
       "      <td>39</td>\n",
       "      <td>10</td>\n",
       "      <td>63</td>\n",
       "      <td>19</td>\n",
       "      <td>2.0</td>\n",
       "      <td>7</td>\n",
       "      <td>...</td>\n",
       "      <td>3</td>\n",
       "      <td>20 12</td>\n",
       "      <td>0 2</td>\n",
       "      <td>8-19</td>\n",
       "      <td>6-12</td>\n",
       "      <td>2-2</td>\n",
       "      <td>0-1</td>\n",
       "      <td>29:30 30:30</td>\n",
       "      <td>04 028</td>\n",
       "      <td>07 051</td>\n",
       "    </tr>\n",
       "    <tr>\n",
       "      <th>3</th>\n",
       "      <td>Sep 25 2004</td>\n",
       "      <td>67712</td>\n",
       "      <td>161</td>\n",
       "      <td>163</td>\n",
       "      <td>49</td>\n",
       "      <td>32</td>\n",
       "      <td>78</td>\n",
       "      <td>70</td>\n",
       "      <td>5.0</td>\n",
       "      <td>49</td>\n",
       "      <td>...</td>\n",
       "      <td>7</td>\n",
       "      <td>17 25</td>\n",
       "      <td>3 2</td>\n",
       "      <td>2-14</td>\n",
       "      <td>9-18</td>\n",
       "      <td>1-1</td>\n",
       "      <td>0-1</td>\n",
       "      <td>27:24 32:36</td>\n",
       "      <td>06 045</td>\n",
       "      <td>08 069</td>\n",
       "    </tr>\n",
       "    <tr>\n",
       "      <th>4</th>\n",
       "      <td>Oct 02 2004</td>\n",
       "      <td>51082</td>\n",
       "      <td>22</td>\n",
       "      <td>173</td>\n",
       "      <td>57</td>\n",
       "      <td>0</td>\n",
       "      <td>91</td>\n",
       "      <td>17</td>\n",
       "      <td>1.0</td>\n",
       "      <td>4</td>\n",
       "      <td>...</td>\n",
       "      <td>4</td>\n",
       "      <td>05 21</td>\n",
       "      <td>3 5</td>\n",
       "      <td>1-13</td>\n",
       "      <td>6-17</td>\n",
       "      <td>1-1</td>\n",
       "      <td>4-6</td>\n",
       "      <td>21:14 38:46</td>\n",
       "      <td>11 081</td>\n",
       "      <td>12 086</td>\n",
       "    </tr>\n",
       "  </tbody>\n",
       "</table>\n",
       "<p>5 rows × 29 columns</p>\n",
       "</div>"
      ],
      "text/plain": [
       "          date attendance TSUrushyards TSUreceiveyards TSUkreturnyards  \\\n",
       "0  Sep 04 2004      25117          152             203              24   \n",
       "1  Sep 09 2004       7019          156             158              34   \n",
       "2  Sep 18 2004      55015          164             149              39   \n",
       "3  Sep 25 2004      67712          161             163              49   \n",
       "4  Oct 02 2004      51082           22             173              57   \n",
       "\n",
       "  TSUpreturnyards TSUtackles TSUtackleyd TSUsacks TSUsackyd  ... OPPpunt  \\\n",
       "0              26         74          35      2.0        12  ...       3   \n",
       "1              32         65          60      4.0        30  ...       7   \n",
       "2              10         63          19      2.0         7  ...       3   \n",
       "3              32         78          70      5.0        49  ...       7   \n",
       "4               0         91          17      1.0         4  ...       4   \n",
       "\n",
       "  firstdowns turnovers TSUthirddownconv OPPthirddownconv TSUfourthdownconv  \\\n",
       "0      19 22       0 4             8-16             5-15               1-1   \n",
       "1      19 19       0 2             8-19             4-13               0-1   \n",
       "2      20 12       0 2             8-19             6-12               2-2   \n",
       "3      17 25       3 2             2-14             9-18               1-1   \n",
       "4      05 21       3 5             1-13             6-17               1-1   \n",
       "\n",
       "  OPPfourthdownconv  possesstime TSUpenalty OPPpenalty  \n",
       "0               1-2  29:12 30:48     15 153     12 102  \n",
       "1               0-1  30:25 29:35     11 072     06 063  \n",
       "2               0-1  29:30 30:30     04 028     07 051  \n",
       "3               0-1  27:24 32:36     06 045     08 069  \n",
       "4               4-6  21:14 38:46     11 081     12 086  \n",
       "\n",
       "[5 rows x 29 columns]"
      ]
     },
     "execution_count": 126,
     "metadata": {},
     "output_type": "execute_result"
    }
   ],
   "source": [
    "#create data frame\n",
    "#change dictionary of lists to data frame\n",
    "list_of_dicts={'date':date,\n",
    "     'attendance':attendance,\n",
    "     'TSUrushyards':TSUrushyards,\n",
    "     'TSUreceiveyards':TSUreceiveyards,\n",
    "     'TSUkreturnyards':TSUkreturnyards,\n",
    "     'TSUpreturnyards':TSUpreturnyards,\n",
    "     'TSUtackles':TSUtackles,\n",
    "     'TSUtackleyd':TSUtackleyd,\n",
    "     'TSUsacks':TSUsacks,\n",
    "     'TSUsackyd':TSUsackyd,\n",
    "     'TSUpunt':TSUpunt,\n",
    "     'OPPrushyards':OPPrushyards,\n",
    "     'OPPreceiveyards':OPPreceiveyards,\n",
    "     'OPPkreturnyards':OPPkreturnyards,\n",
    "     'OPPpreturnyards':OPPpreturnyards,\n",
    "     'OPPtackles':OPPtackles,\n",
    "     'OPPtackleyd':OPPtackleyd,\n",
    "     'OPPsacks':OPPsacks,\n",
    "     'OPPsackyd':OPPsackyd,\n",
    "     'OPPpunt':OPPpunt,\n",
    "     'firstdowns':firstdowns,\n",
    "     'turnovers':turnovers,\n",
    "     'TSUthirddownconv':TSUthirddownconv,\n",
    "     'OPPthirddownconv':OPPthirddownconv,\n",
    "     'TSUfourthdownconv':TSUfourthdownconv,\n",
    "     'OPPfourthdownconv':OPPfourthdownconv,\n",
    "     'possesstime':possesstime,\n",
    "     'TSUpenalty':TSUpenalty,\n",
    "     'OPPpenalty':OPPpenalty}\n",
    "df2004=pd.DataFrame(list_of_dicts)\n",
    "df2004.head()"
   ]
  },
  {
   "cell_type": "code",
   "execution_count": 127,
   "metadata": {},
   "outputs": [
    {
     "data": {
      "text/html": [
       "<div>\n",
       "<style scoped>\n",
       "    .dataframe tbody tr th:only-of-type {\n",
       "        vertical-align: middle;\n",
       "    }\n",
       "\n",
       "    .dataframe tbody tr th {\n",
       "        vertical-align: top;\n",
       "    }\n",
       "\n",
       "    .dataframe thead th {\n",
       "        text-align: right;\n",
       "    }\n",
       "</style>\n",
       "<table border=\"1\" class=\"dataframe\">\n",
       "  <thead>\n",
       "    <tr style=\"text-align: right;\">\n",
       "      <th></th>\n",
       "      <th>date</th>\n",
       "      <th>attendance</th>\n",
       "      <th>TSUrushyards</th>\n",
       "      <th>TSUreceiveyards</th>\n",
       "      <th>TSUkreturnyards</th>\n",
       "      <th>TSUpreturnyards</th>\n",
       "      <th>TSUtackles</th>\n",
       "      <th>TSUtackleyd</th>\n",
       "      <th>TSUsacks</th>\n",
       "      <th>TSUsackyd</th>\n",
       "      <th>...</th>\n",
       "      <th>OPPturnovers</th>\n",
       "      <th>TSUpossesstime</th>\n",
       "      <th>OPPposeesstime</th>\n",
       "      <th>TSUpenaltycount</th>\n",
       "      <th>TSUpenaltyyd</th>\n",
       "      <th>OPPpenaltycount</th>\n",
       "      <th>OPPpenaltyyd</th>\n",
       "      <th>month</th>\n",
       "      <th>day</th>\n",
       "      <th>year</th>\n",
       "    </tr>\n",
       "  </thead>\n",
       "  <tbody>\n",
       "    <tr>\n",
       "      <th>0</th>\n",
       "      <td>Sep 04 2004</td>\n",
       "      <td>25117</td>\n",
       "      <td>152</td>\n",
       "      <td>203</td>\n",
       "      <td>24</td>\n",
       "      <td>26</td>\n",
       "      <td>74</td>\n",
       "      <td>35</td>\n",
       "      <td>2.0</td>\n",
       "      <td>12</td>\n",
       "      <td>...</td>\n",
       "      <td>4</td>\n",
       "      <td>29:12</td>\n",
       "      <td>30:48</td>\n",
       "      <td>15</td>\n",
       "      <td>153</td>\n",
       "      <td>12</td>\n",
       "      <td>102</td>\n",
       "      <td>Sep</td>\n",
       "      <td>04</td>\n",
       "      <td>2004</td>\n",
       "    </tr>\n",
       "    <tr>\n",
       "      <th>1</th>\n",
       "      <td>Sep 09 2004</td>\n",
       "      <td>7019</td>\n",
       "      <td>156</td>\n",
       "      <td>158</td>\n",
       "      <td>34</td>\n",
       "      <td>32</td>\n",
       "      <td>65</td>\n",
       "      <td>60</td>\n",
       "      <td>4.0</td>\n",
       "      <td>30</td>\n",
       "      <td>...</td>\n",
       "      <td>2</td>\n",
       "      <td>30:25</td>\n",
       "      <td>29:35</td>\n",
       "      <td>11</td>\n",
       "      <td>072</td>\n",
       "      <td>06</td>\n",
       "      <td>063</td>\n",
       "      <td>Sep</td>\n",
       "      <td>09</td>\n",
       "      <td>2004</td>\n",
       "    </tr>\n",
       "    <tr>\n",
       "      <th>2</th>\n",
       "      <td>Sep 18 2004</td>\n",
       "      <td>55015</td>\n",
       "      <td>164</td>\n",
       "      <td>149</td>\n",
       "      <td>39</td>\n",
       "      <td>10</td>\n",
       "      <td>63</td>\n",
       "      <td>19</td>\n",
       "      <td>2.0</td>\n",
       "      <td>7</td>\n",
       "      <td>...</td>\n",
       "      <td>2</td>\n",
       "      <td>29:30</td>\n",
       "      <td>30:30</td>\n",
       "      <td>04</td>\n",
       "      <td>028</td>\n",
       "      <td>07</td>\n",
       "      <td>051</td>\n",
       "      <td>Sep</td>\n",
       "      <td>18</td>\n",
       "      <td>2004</td>\n",
       "    </tr>\n",
       "    <tr>\n",
       "      <th>3</th>\n",
       "      <td>Sep 25 2004</td>\n",
       "      <td>67712</td>\n",
       "      <td>161</td>\n",
       "      <td>163</td>\n",
       "      <td>49</td>\n",
       "      <td>32</td>\n",
       "      <td>78</td>\n",
       "      <td>70</td>\n",
       "      <td>5.0</td>\n",
       "      <td>49</td>\n",
       "      <td>...</td>\n",
       "      <td>2</td>\n",
       "      <td>27:24</td>\n",
       "      <td>32:36</td>\n",
       "      <td>06</td>\n",
       "      <td>045</td>\n",
       "      <td>08</td>\n",
       "      <td>069</td>\n",
       "      <td>Sep</td>\n",
       "      <td>25</td>\n",
       "      <td>2004</td>\n",
       "    </tr>\n",
       "    <tr>\n",
       "      <th>4</th>\n",
       "      <td>Oct 02 2004</td>\n",
       "      <td>51082</td>\n",
       "      <td>22</td>\n",
       "      <td>173</td>\n",
       "      <td>57</td>\n",
       "      <td>0</td>\n",
       "      <td>91</td>\n",
       "      <td>17</td>\n",
       "      <td>1.0</td>\n",
       "      <td>4</td>\n",
       "      <td>...</td>\n",
       "      <td>5</td>\n",
       "      <td>21:14</td>\n",
       "      <td>38:46</td>\n",
       "      <td>11</td>\n",
       "      <td>081</td>\n",
       "      <td>12</td>\n",
       "      <td>086</td>\n",
       "      <td>Oct</td>\n",
       "      <td>02</td>\n",
       "      <td>2004</td>\n",
       "    </tr>\n",
       "  </tbody>\n",
       "</table>\n",
       "<p>5 rows × 42 columns</p>\n",
       "</div>"
      ],
      "text/plain": [
       "          date attendance TSUrushyards TSUreceiveyards TSUkreturnyards  \\\n",
       "0  Sep 04 2004      25117          152             203              24   \n",
       "1  Sep 09 2004       7019          156             158              34   \n",
       "2  Sep 18 2004      55015          164             149              39   \n",
       "3  Sep 25 2004      67712          161             163              49   \n",
       "4  Oct 02 2004      51082           22             173              57   \n",
       "\n",
       "  TSUpreturnyards TSUtackles TSUtackleyd TSUsacks TSUsackyd  ... OPPturnovers  \\\n",
       "0              26         74          35      2.0        12  ...            4   \n",
       "1              32         65          60      4.0        30  ...            2   \n",
       "2              10         63          19      2.0         7  ...            2   \n",
       "3              32         78          70      5.0        49  ...            2   \n",
       "4               0         91          17      1.0         4  ...            5   \n",
       "\n",
       "  TSUpossesstime OPPposeesstime TSUpenaltycount TSUpenaltyyd OPPpenaltycount  \\\n",
       "0          29:12          30:48              15          153              12   \n",
       "1          30:25          29:35              11          072              06   \n",
       "2          29:30          30:30              04          028              07   \n",
       "3          27:24          32:36              06          045              08   \n",
       "4          21:14          38:46              11          081              12   \n",
       "\n",
       "  OPPpenaltyyd month day  year  \n",
       "0          102   Sep  04  2004  \n",
       "1          063   Sep  09  2004  \n",
       "2          051   Sep  18  2004  \n",
       "3          069   Sep  25  2004  \n",
       "4          086   Oct  02  2004  \n",
       "\n",
       "[5 rows x 42 columns]"
      ]
     },
     "execution_count": 127,
     "metadata": {},
     "output_type": "execute_result"
    }
   ],
   "source": [
    "#splitting firstdowns category into firstdowns for TSU and opponent\n",
    "df2004[['TSUfirstdowns','OPPfirstdowns']]=df2004.firstdowns.str.split(expand=True)\n",
    "#splitting turnovers into TSUturnovers and OPPturnovers\n",
    "df2004[['TSUturnovers','OPPturnovers']]=df2004.turnovers.str.split(expand=True)\n",
    "#splitting possesstime into TSUpossesstime and OPPpossesstime\n",
    "df2004[['TSUpossesstime','OPPposeesstime']]=df2004.possesstime.str.split(expand=True)\n",
    "#splitting TSUpenalty into TSUpenaltycount and TSUpenaltyyards\n",
    "df2004[['TSUpenaltycount','TSUpenaltyyd']]=df2004.TSUpenalty.str.split(expand=True)\n",
    "#splitting OPPpenalty into OPPpenaltycount and OPPpenaltyyards\n",
    "df2004[['OPPpenaltycount','OPPpenaltyyd']]=df2004.OPPpenalty.str.split(expand=True)\n",
    "#splitting date column into month, day, & year columns \n",
    "df2004[['month','day','year']]=df2004.date.str.split(expand=True)\n",
    "df2004.drop('date',axis=1)\n",
    "df2004.head()"
   ]
  },
  {
   "cell_type": "code",
   "execution_count": 128,
   "metadata": {},
   "outputs": [
    {
     "name": "stdout",
     "output_type": "stream",
     "text": [
      "<class 'pandas.core.frame.DataFrame'>\n",
      "RangeIndex: 11 entries, 0 to 10\n",
      "Data columns (total 40 columns):\n",
      " #   Column             Non-Null Count  Dtype         \n",
      "---  ------             --------------  -----         \n",
      " 0   date               11 non-null     datetime64[ns]\n",
      " 1   attendance         11 non-null     object        \n",
      " 2   TSUrushyards       11 non-null     object        \n",
      " 3   TSUreceiveyards    11 non-null     object        \n",
      " 4   TSUkreturnyards    11 non-null     object        \n",
      " 5   TSUpreturnyards    11 non-null     object        \n",
      " 6   TSUtackles         11 non-null     object        \n",
      " 7   TSUtackleyd        11 non-null     object        \n",
      " 8   TSUsacks           11 non-null     object        \n",
      " 9   TSUsackyd          11 non-null     object        \n",
      " 10  TSUpunt            11 non-null     object        \n",
      " 11  OPPrushyards       11 non-null     object        \n",
      " 12  OPPreceiveyards    11 non-null     object        \n",
      " 13  OPPkreturnyards    11 non-null     object        \n",
      " 14  OPPpreturnyards    11 non-null     object        \n",
      " 15  OPPtackles         11 non-null     object        \n",
      " 16  OPPtackleyd        11 non-null     object        \n",
      " 17  OPPsacks           11 non-null     object        \n",
      " 18  OPPsackyd          11 non-null     object        \n",
      " 19  OPPpunt            11 non-null     object        \n",
      " 20  firstdowns         11 non-null     object        \n",
      " 21  turnovers          11 non-null     object        \n",
      " 22  TSUthirddownconv   11 non-null     object        \n",
      " 23  OPPthirddownconv   11 non-null     object        \n",
      " 24  TSUfourthdownconv  11 non-null     object        \n",
      " 25  OPPfourthdownconv  11 non-null     object        \n",
      " 26  possesstime        11 non-null     object        \n",
      " 27  TSUpenalty         11 non-null     object        \n",
      " 28  OPPpenalty         11 non-null     object        \n",
      " 29  TSUfirstdowns      11 non-null     object        \n",
      " 30  OPPfirstdowns      11 non-null     object        \n",
      " 31  TSUturnovers       11 non-null     object        \n",
      " 32  OPPturnovers       11 non-null     object        \n",
      " 33  TSUpossesstime     11 non-null     object        \n",
      " 34  OPPposeesstime     11 non-null     object        \n",
      " 35  TSUpenaltycount    11 non-null     object        \n",
      " 36  TSUpenaltyyd       11 non-null     object        \n",
      " 37  OPPpenaltycount    11 non-null     object        \n",
      " 38  OPPpenaltyyd       11 non-null     object        \n",
      " 39  year               11 non-null     int64         \n",
      "dtypes: datetime64[ns](1), int64(1), object(38)\n",
      "memory usage: 3.6+ KB\n"
     ]
    }
   ],
   "source": [
    "#create a new date variable\n",
    "#change month variable to a 2 digit string variable\n",
    "df2004['month'] = df2004['month'].str.replace('Aug','08')\n",
    "df2004['month'] = df2004['month'].str.replace('Sep','09')\n",
    "df2004['month'] = df2004['month'].str.replace('Oct','10')\n",
    "df2004['month'] = df2004['month'].str.replace('Nov','11')\n",
    "df2004['month'] = df2004['month'].str.replace('Dec','12')\n",
    "#merge month,day and year variables\n",
    "df2004['date']=df2004['year']+ '-' +df2004['month']+ '-'+df2004['day']\n",
    "#make date into a datetime variable\n",
    "df2004['date']= pd.to_datetime(df2004['date'], format='%Y-%m-%d')\n",
    "#drop individual month,day, variables (keep year variable for later analysis)\n",
    "df2004=df2004.drop(['month','day'], axis=1)\n",
    "#make year numeric\n",
    "df2004['year']=pd.to_numeric(df2004['year'])\n",
    "df2004.info()"
   ]
  },
  {
   "cell_type": "code",
   "execution_count": null,
   "metadata": {},
   "outputs": [],
   "source": []
  },
  {
   "cell_type": "code",
   "execution_count": null,
   "metadata": {},
   "outputs": [],
   "source": []
  }
 ],
 "metadata": {
  "kernelspec": {
   "display_name": "Python 3",
   "language": "python",
   "name": "python3"
  },
  "language_info": {
   "codemirror_mode": {
    "name": "ipython",
    "version": 3
   },
   "file_extension": ".py",
   "mimetype": "text/x-python",
   "name": "python",
   "nbconvert_exporter": "python",
   "pygments_lexer": "ipython3",
   "version": "3.8.5"
  }
 },
 "nbformat": 4,
 "nbformat_minor": 4
}
