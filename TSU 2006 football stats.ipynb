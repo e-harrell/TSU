{
 "cells": [
  {
   "cell_type": "code",
   "execution_count": 41,
   "metadata": {},
   "outputs": [
    {
     "data": {
      "text/plain": [
       "['Sep 02 2006',\n",
       " 'Sep 09 2006',\n",
       " 'Sep 16 2006',\n",
       " 'Sep 23 2006',\n",
       " 'Sep 30 2006',\n",
       " 'Oct 14 2006',\n",
       " 'Oct 21 2006',\n",
       " 'Oct 28 2006',\n",
       " 'Nov 04 2006',\n",
       " 'Nov 11 2006',\n",
       " 'Nov 18 2006']"
      ]
     },
     "execution_count": 41,
     "metadata": {},
     "output_type": "execute_result"
    }
   ],
   "source": [
    "#libraries to use\n",
    "import pandas as pd\n",
    "import numpy as np\n",
    "import matplotlib.pyplot as plt\n",
    "import datetime as dt\n",
    "#python's lxml library parses xml and html files\n",
    "from lxml import html\n",
    "\n",
    "#use requests to get data from web pages\n",
    "import requests \n",
    "\n",
    "#use requests.get() to get web page with data\n",
    "page = requests.get('https://tennstate_ftp.sidearmsports.com/custompages/tsutigers/902C2D72-E881-4838-87F2-28BA2F9902FC/teamgbg.htm')\n",
    "\n",
    "#parse data on web page using html module.fromstring\n",
    "mytree = html.fromstring(page.content)\n",
    "\n",
    "#go to web address above , right click on page and select inspect to get HTML code for data from right side of page\n",
    "#create XPath query and use xpath function to get data\n",
    "#date data\n",
    "date = mytree.xpath('body/center//tr/td/font[@color=\"#000000\"]/text()')[1:110:10]\n",
    "date=[a.replace(\"\\xa0\",\"\") for a in date]\n",
    "date=[a.replace(\",\",\"\") for a in date]\n",
    "date=[a.replace(\".\",\"\") for a in date]\n",
    "date"
   ]
  },
  {
   "cell_type": "code",
   "execution_count": 42,
   "metadata": {},
   "outputs": [
    {
     "data": {
      "text/plain": [
       "['19487',\n",
       " '10613',\n",
       " '53441',\n",
       " '27460',\n",
       " '57885',\n",
       " '9720',\n",
       " '11800',\n",
       " '18758',\n",
       " '5912',\n",
       " '4271',\n",
       " '5500']"
      ]
     },
     "execution_count": 42,
     "metadata": {},
     "output_type": "execute_result"
    }
   ],
   "source": [
    "#get attendance data\n",
    "attendance=mytree.xpath('body/center//tr/td/font[@color=\"#000000\"]/text()')[9:110:10]\n",
    "attendance=[a.replace(\"\\xa0\",\"\") for a in attendance]\n",
    "attendance=[a.strip() for a in attendance]\n",
    "attendance"
   ]
  },
  {
   "cell_type": "code",
   "execution_count": 43,
   "metadata": {},
   "outputs": [
    {
     "data": {
      "text/plain": [
       "['156', '111', '146', '71', '227', '310', '103', '247', '49', '133', '95']"
      ]
     },
     "execution_count": 43,
     "metadata": {},
     "output_type": "execute_result"
    }
   ],
   "source": [
    "#get TSU rushing yards\n",
    "TSUrushyards=mytree.xpath('body/center//tr/td/font[@color=\"#000000\"]/text()')[114:357:23]\n",
    "TSUrushyards=[a.replace(\"\\xa0\",\"\") for a in TSUrushyards]\n",
    "TSUrushyards"
   ]
  },
  {
   "cell_type": "code",
   "execution_count": 44,
   "metadata": {},
   "outputs": [
    {
     "data": {
      "text/plain": [
       "['206', '230', '167', '181', '210', '169', '260', '105', '162', '152', '162']"
      ]
     },
     "execution_count": 44,
     "metadata": {},
     "output_type": "execute_result"
    }
   ],
   "source": [
    "#get TSU receiving yards\n",
    "TSUreceiveyards=mytree.xpath('body/center//tr/td/font[@color=\"#000000\"]/text()')[118:360:23]\n",
    "TSUreceiveyards=[a.replace(\"\\xa0\",\"\") for a in TSUreceiveyards]\n",
    "TSUreceiveyards"
   ]
  },
  {
   "cell_type": "code",
   "execution_count": 45,
   "metadata": {},
   "outputs": [
    {
     "data": {
      "text/plain": [
       "['105', '102', '77', '70', '98', '45', '119', '23', '115', '0', '126']"
      ]
     },
     "execution_count": 45,
     "metadata": {},
     "output_type": "execute_result"
    }
   ],
   "source": [
    "#get TSU kick return yards\n",
    "TSUkreturnyards=mytree.xpath('body/center//tr/td/font[@color=\"#000000\"]/text()')[126:360:23]\n",
    "TSUkreturnyards=[a.replace(\"\\xa0\",\"\") for a in TSUkreturnyards]\n",
    "TSUkreturnyards"
   ]
  },
  {
   "cell_type": "code",
   "execution_count": 46,
   "metadata": {},
   "outputs": [
    {
     "data": {
      "text/plain": [
       "['0', '0', '24', '0', '16', '4', '20', '13', '0', '17', '7']"
      ]
     },
     "execution_count": 46,
     "metadata": {},
     "output_type": "execute_result"
    }
   ],
   "source": [
    "#get TSU punt return yards\n",
    "TSUpreturnyards=mytree.xpath('body/center//tr/td/font[@color=\"#000000\"]/text()')[130:380:23]\n",
    "TSUpreturnyards=[a.replace(\"\\xa0\",\"\") for a in TSUpreturnyards]\n",
    "TSUpreturnyards"
   ]
  },
  {
   "cell_type": "code",
   "execution_count": 47,
   "metadata": {},
   "outputs": [
    {
     "data": {
      "text/plain": [
       "['63', '76', '63', '59', '54', '64', '77', '45', '88', '44', '70']"
      ]
     },
     "execution_count": 47,
     "metadata": {},
     "output_type": "execute_result"
    }
   ],
   "source": [
    "#get TSU total tackles\n",
    "TSUtackles=mytree.xpath('body/center//tr/td/font[@color=\"#000000\"]/text()')[414:650:22]\n",
    "TSUtackles=[a.replace(\"\\xa0\",\"\") for a in TSUtackles]\n",
    "TSUtackles"
   ]
  },
  {
   "cell_type": "code",
   "execution_count": 48,
   "metadata": {},
   "outputs": [
    {
     "data": {
      "text/plain": [
       "['3', '38', '18', '25', '14', '15', '26', '28', '22', '27', '30']"
      ]
     },
     "execution_count": 48,
     "metadata": {},
     "output_type": "execute_result"
    }
   ],
   "source": [
    "#get TSU tackle yards\n",
    "TSUtackleyd=mytree.xpath('body/center//tr/td/font[@color=\"#000000\"]/text()')[416:650:22]\n",
    "TSUtackleyd=[a.replace(\"\\xa0\",\"\") for a in TSUtackleyd]\n",
    "TSUtackleyd"
   ]
  },
  {
   "cell_type": "code",
   "execution_count": 49,
   "metadata": {},
   "outputs": [
    {
     "data": {
      "text/plain": [
       "['0.0', '3.0', '1.0', '1.0', '1.0', '1.0', '3.0', '3.0', '1.0', '4.0', '2.0']"
      ]
     },
     "execution_count": 49,
     "metadata": {},
     "output_type": "execute_result"
    }
   ],
   "source": [
    "#get TSU sacks\n",
    "TSUsacks=mytree.xpath('body/center//tr/td/font[@color=\"#000000\"]/text()')[417:650:22]\n",
    "TSUsacks=[a.replace(\"\\xa0\",\"\") for a in TSUsacks]\n",
    "TSUsacks"
   ]
  },
  {
   "cell_type": "code",
   "execution_count": 50,
   "metadata": {},
   "outputs": [
    {
     "data": {
      "text/plain": [
       "['0', '23', '6', '7', '4', '8', '20', '16', '10', '23', '14']"
      ]
     },
     "execution_count": 50,
     "metadata": {},
     "output_type": "execute_result"
    }
   ],
   "source": [
    "#get TSU sack yards\n",
    "TSUsackyd=mytree.xpath('body/center//tr/td/font[@color=\"#000000\"]/text()')[418:650:22]\n",
    "TSUsackyd=[a.replace(\"\\xa0\",\"\") for a in TSUsackyd]\n",
    "TSUsackyd"
   ]
  },
  {
   "cell_type": "code",
   "execution_count": 51,
   "metadata": {},
   "outputs": [
    {
     "data": {
      "text/plain": [
       "['2', '5', '2', '3', '4', '4', '6', '3', '6', '4', '1']"
      ]
     },
     "execution_count": 51,
     "metadata": {},
     "output_type": "execute_result"
    }
   ],
   "source": [
    "#TSU punts\n",
    "TSUpunt=mytree.xpath('body/center//tr/td/font[@color=\"#000000\"]/text()')[698:900:19]\n",
    "TSUpunt=[a.replace(\"\\xa0\",\"\") for a in TSUpunt]\n",
    "TSUpunt"
   ]
  },
  {
   "cell_type": "code",
   "execution_count": 52,
   "metadata": {},
   "outputs": [
    {
     "data": {
      "text/html": [
       "<div>\n",
       "<style scoped>\n",
       "    .dataframe tbody tr th:only-of-type {\n",
       "        vertical-align: middle;\n",
       "    }\n",
       "\n",
       "    .dataframe tbody tr th {\n",
       "        vertical-align: top;\n",
       "    }\n",
       "\n",
       "    .dataframe thead th {\n",
       "        text-align: right;\n",
       "    }\n",
       "</style>\n",
       "<table border=\"1\" class=\"dataframe\">\n",
       "  <thead>\n",
       "    <tr style=\"text-align: right;\">\n",
       "      <th></th>\n",
       "      <th>date</th>\n",
       "      <th>attendance</th>\n",
       "      <th>TSUrushyards</th>\n",
       "      <th>TSUreceiveyards</th>\n",
       "      <th>TSUkreturnyards</th>\n",
       "      <th>TSUpreturnyards</th>\n",
       "      <th>TSUtackles</th>\n",
       "      <th>TSUtackleyd</th>\n",
       "      <th>TSUsacks</th>\n",
       "      <th>TSUsackyd</th>\n",
       "      <th>TSUpunt</th>\n",
       "    </tr>\n",
       "  </thead>\n",
       "  <tbody>\n",
       "    <tr>\n",
       "      <th>0</th>\n",
       "      <td>Sep 02 2006</td>\n",
       "      <td>19487</td>\n",
       "      <td>156</td>\n",
       "      <td>206</td>\n",
       "      <td>105</td>\n",
       "      <td>0</td>\n",
       "      <td>63</td>\n",
       "      <td>3</td>\n",
       "      <td>0.0</td>\n",
       "      <td>0</td>\n",
       "      <td>2</td>\n",
       "    </tr>\n",
       "    <tr>\n",
       "      <th>1</th>\n",
       "      <td>Sep 09 2006</td>\n",
       "      <td>10613</td>\n",
       "      <td>111</td>\n",
       "      <td>230</td>\n",
       "      <td>102</td>\n",
       "      <td>0</td>\n",
       "      <td>76</td>\n",
       "      <td>38</td>\n",
       "      <td>3.0</td>\n",
       "      <td>23</td>\n",
       "      <td>5</td>\n",
       "    </tr>\n",
       "    <tr>\n",
       "      <th>2</th>\n",
       "      <td>Sep 16 2006</td>\n",
       "      <td>53441</td>\n",
       "      <td>146</td>\n",
       "      <td>167</td>\n",
       "      <td>77</td>\n",
       "      <td>24</td>\n",
       "      <td>63</td>\n",
       "      <td>18</td>\n",
       "      <td>1.0</td>\n",
       "      <td>6</td>\n",
       "      <td>2</td>\n",
       "    </tr>\n",
       "    <tr>\n",
       "      <th>3</th>\n",
       "      <td>Sep 23 2006</td>\n",
       "      <td>27460</td>\n",
       "      <td>71</td>\n",
       "      <td>181</td>\n",
       "      <td>70</td>\n",
       "      <td>0</td>\n",
       "      <td>59</td>\n",
       "      <td>25</td>\n",
       "      <td>1.0</td>\n",
       "      <td>7</td>\n",
       "      <td>3</td>\n",
       "    </tr>\n",
       "    <tr>\n",
       "      <th>4</th>\n",
       "      <td>Sep 30 2006</td>\n",
       "      <td>57885</td>\n",
       "      <td>227</td>\n",
       "      <td>210</td>\n",
       "      <td>98</td>\n",
       "      <td>16</td>\n",
       "      <td>54</td>\n",
       "      <td>14</td>\n",
       "      <td>1.0</td>\n",
       "      <td>4</td>\n",
       "      <td>4</td>\n",
       "    </tr>\n",
       "  </tbody>\n",
       "</table>\n",
       "</div>"
      ],
      "text/plain": [
       "          date attendance TSUrushyards TSUreceiveyards TSUkreturnyards  \\\n",
       "0  Sep 02 2006      19487          156             206             105   \n",
       "1  Sep 09 2006      10613          111             230             102   \n",
       "2  Sep 16 2006      53441          146             167              77   \n",
       "3  Sep 23 2006      27460           71             181              70   \n",
       "4  Sep 30 2006      57885          227             210              98   \n",
       "\n",
       "  TSUpreturnyards TSUtackles TSUtackleyd TSUsacks TSUsackyd TSUpunt  \n",
       "0               0         63           3      0.0         0       2  \n",
       "1               0         76          38      3.0        23       5  \n",
       "2              24         63          18      1.0         6       2  \n",
       "3               0         59          25      1.0         7       3  \n",
       "4              16         54          14      1.0         4       4  "
      ]
     },
     "execution_count": 52,
     "metadata": {},
     "output_type": "execute_result"
    }
   ],
   "source": [
    "#create data frame\n",
    "#change dictionary of lists to data frame\n",
    "list_of_dicts={'date':date,\n",
    "     'attendance':attendance,\n",
    "     'TSUrushyards':TSUrushyards,\n",
    "     'TSUreceiveyards':TSUreceiveyards,\n",
    "     'TSUkreturnyards':TSUkreturnyards,\n",
    "     'TSUpreturnyards':TSUpreturnyards,\n",
    "     'TSUtackles':TSUtackles,\n",
    "     'TSUtackleyd':TSUtackleyd,\n",
    "     'TSUsacks':TSUsacks,\n",
    "     'TSUsackyd':TSUsackyd,\n",
    "     'TSUpunt':TSUpunt}\n",
    "df2006=pd.DataFrame(list_of_dicts)\n",
    "df2006.head()"
   ]
  },
  {
   "cell_type": "code",
   "execution_count": 53,
   "metadata": {},
   "outputs": [
    {
     "data": {
      "text/html": [
       "<div>\n",
       "<style scoped>\n",
       "    .dataframe tbody tr th:only-of-type {\n",
       "        vertical-align: middle;\n",
       "    }\n",
       "\n",
       "    .dataframe tbody tr th {\n",
       "        vertical-align: top;\n",
       "    }\n",
       "\n",
       "    .dataframe thead th {\n",
       "        text-align: right;\n",
       "    }\n",
       "</style>\n",
       "<table border=\"1\" class=\"dataframe\">\n",
       "  <thead>\n",
       "    <tr style=\"text-align: right;\">\n",
       "      <th></th>\n",
       "      <th>date</th>\n",
       "      <th>attendance</th>\n",
       "      <th>TSUrushyards</th>\n",
       "      <th>TSUreceiveyards</th>\n",
       "      <th>TSUkreturnyards</th>\n",
       "      <th>TSUpreturnyards</th>\n",
       "      <th>TSUtackles</th>\n",
       "      <th>TSUtackleyd</th>\n",
       "      <th>TSUsacks</th>\n",
       "      <th>TSUsackyd</th>\n",
       "      <th>TSUpunt</th>\n",
       "      <th>month</th>\n",
       "      <th>day</th>\n",
       "      <th>year</th>\n",
       "    </tr>\n",
       "  </thead>\n",
       "  <tbody>\n",
       "    <tr>\n",
       "      <th>0</th>\n",
       "      <td>Sep 02 2006</td>\n",
       "      <td>19487</td>\n",
       "      <td>156</td>\n",
       "      <td>206</td>\n",
       "      <td>105</td>\n",
       "      <td>0</td>\n",
       "      <td>63</td>\n",
       "      <td>3</td>\n",
       "      <td>0.0</td>\n",
       "      <td>0</td>\n",
       "      <td>2</td>\n",
       "      <td>Sep</td>\n",
       "      <td>02</td>\n",
       "      <td>2006</td>\n",
       "    </tr>\n",
       "    <tr>\n",
       "      <th>1</th>\n",
       "      <td>Sep 09 2006</td>\n",
       "      <td>10613</td>\n",
       "      <td>111</td>\n",
       "      <td>230</td>\n",
       "      <td>102</td>\n",
       "      <td>0</td>\n",
       "      <td>76</td>\n",
       "      <td>38</td>\n",
       "      <td>3.0</td>\n",
       "      <td>23</td>\n",
       "      <td>5</td>\n",
       "      <td>Sep</td>\n",
       "      <td>09</td>\n",
       "      <td>2006</td>\n",
       "    </tr>\n",
       "    <tr>\n",
       "      <th>2</th>\n",
       "      <td>Sep 16 2006</td>\n",
       "      <td>53441</td>\n",
       "      <td>146</td>\n",
       "      <td>167</td>\n",
       "      <td>77</td>\n",
       "      <td>24</td>\n",
       "      <td>63</td>\n",
       "      <td>18</td>\n",
       "      <td>1.0</td>\n",
       "      <td>6</td>\n",
       "      <td>2</td>\n",
       "      <td>Sep</td>\n",
       "      <td>16</td>\n",
       "      <td>2006</td>\n",
       "    </tr>\n",
       "    <tr>\n",
       "      <th>3</th>\n",
       "      <td>Sep 23 2006</td>\n",
       "      <td>27460</td>\n",
       "      <td>71</td>\n",
       "      <td>181</td>\n",
       "      <td>70</td>\n",
       "      <td>0</td>\n",
       "      <td>59</td>\n",
       "      <td>25</td>\n",
       "      <td>1.0</td>\n",
       "      <td>7</td>\n",
       "      <td>3</td>\n",
       "      <td>Sep</td>\n",
       "      <td>23</td>\n",
       "      <td>2006</td>\n",
       "    </tr>\n",
       "    <tr>\n",
       "      <th>4</th>\n",
       "      <td>Sep 30 2006</td>\n",
       "      <td>57885</td>\n",
       "      <td>227</td>\n",
       "      <td>210</td>\n",
       "      <td>98</td>\n",
       "      <td>16</td>\n",
       "      <td>54</td>\n",
       "      <td>14</td>\n",
       "      <td>1.0</td>\n",
       "      <td>4</td>\n",
       "      <td>4</td>\n",
       "      <td>Sep</td>\n",
       "      <td>30</td>\n",
       "      <td>2006</td>\n",
       "    </tr>\n",
       "  </tbody>\n",
       "</table>\n",
       "</div>"
      ],
      "text/plain": [
       "          date attendance TSUrushyards TSUreceiveyards TSUkreturnyards  \\\n",
       "0  Sep 02 2006      19487          156             206             105   \n",
       "1  Sep 09 2006      10613          111             230             102   \n",
       "2  Sep 16 2006      53441          146             167              77   \n",
       "3  Sep 23 2006      27460           71             181              70   \n",
       "4  Sep 30 2006      57885          227             210              98   \n",
       "\n",
       "  TSUpreturnyards TSUtackles TSUtackleyd TSUsacks TSUsackyd TSUpunt month day  \\\n",
       "0               0         63           3      0.0         0       2   Sep  02   \n",
       "1               0         76          38      3.0        23       5   Sep  09   \n",
       "2              24         63          18      1.0         6       2   Sep  16   \n",
       "3               0         59          25      1.0         7       3   Sep  23   \n",
       "4              16         54          14      1.0         4       4   Sep  30   \n",
       "\n",
       "   year  \n",
       "0  2006  \n",
       "1  2006  \n",
       "2  2006  \n",
       "3  2006  \n",
       "4  2006  "
      ]
     },
     "execution_count": 53,
     "metadata": {},
     "output_type": "execute_result"
    }
   ],
   "source": [
    "#splitting date column into month, day, & year columns \n",
    "df2006[['month','day','year']]=df2006.date.str.split(expand=True)\n",
    "df2006.drop('date',axis=1)\n",
    "df2006.head()"
   ]
  },
  {
   "cell_type": "code",
   "execution_count": 54,
   "metadata": {},
   "outputs": [
    {
     "name": "stdout",
     "output_type": "stream",
     "text": [
      "<class 'pandas.core.frame.DataFrame'>\n",
      "RangeIndex: 11 entries, 0 to 10\n",
      "Data columns (total 12 columns):\n",
      " #   Column           Non-Null Count  Dtype         \n",
      "---  ------           --------------  -----         \n",
      " 0   date             11 non-null     datetime64[ns]\n",
      " 1   attendance       11 non-null     object        \n",
      " 2   TSUrushyards     11 non-null     object        \n",
      " 3   TSUreceiveyards  11 non-null     object        \n",
      " 4   TSUkreturnyards  11 non-null     object        \n",
      " 5   TSUpreturnyards  11 non-null     object        \n",
      " 6   TSUtackles       11 non-null     object        \n",
      " 7   TSUtackleyd      11 non-null     object        \n",
      " 8   TSUsacks         11 non-null     object        \n",
      " 9   TSUsackyd        11 non-null     object        \n",
      " 10  TSUpunt          11 non-null     object        \n",
      " 11  year             11 non-null     int64         \n",
      "dtypes: datetime64[ns](1), int64(1), object(10)\n",
      "memory usage: 1.2+ KB\n"
     ]
    }
   ],
   "source": [
    "#create a new date variable\n",
    "#change month variable to a 2 digit string variable\n",
    "df2006['month'] = df2006['month'].str.replace('Aug','08')\n",
    "df2006['month'] = df2006['month'].str.replace('Sep','09')\n",
    "df2006['month'] = df2006['month'].str.replace('Oct','10')\n",
    "df2006['month'] = df2006['month'].str.replace('Nov','11')\n",
    "df2006['month'] = df2006['month'].str.replace('Dec','12')\n",
    "#merge month,day and year variables\n",
    "df2006['date']=df2006['year']+ '-' +df2006['month']+ '-'+df2006['day']\n",
    "#make date into a datetime variable\n",
    "df2006['date']= pd.to_datetime(df2006['date'], format='%Y-%m-%d')\n",
    "#drop individual month,day, variables (keep year variable for later analysis)\n",
    "df2006=df2006.drop(['month','day'], axis=1)\n",
    "#make year numeric\n",
    "df2006['year']=pd.to_numeric(df2006['year'])\n",
    "df2006.info()"
   ]
  },
  {
   "cell_type": "code",
   "execution_count": null,
   "metadata": {},
   "outputs": [],
   "source": []
  },
  {
   "cell_type": "code",
   "execution_count": null,
   "metadata": {},
   "outputs": [],
   "source": []
  }
 ],
 "metadata": {
  "kernelspec": {
   "display_name": "Python 3",
   "language": "python",
   "name": "python3"
  },
  "language_info": {
   "codemirror_mode": {
    "name": "ipython",
    "version": 3
   },
   "file_extension": ".py",
   "mimetype": "text/x-python",
   "name": "python",
   "nbconvert_exporter": "python",
   "pygments_lexer": "ipython3",
   "version": "3.8.5"
  }
 },
 "nbformat": 4,
 "nbformat_minor": 4
}
