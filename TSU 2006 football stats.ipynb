{
 "cells": [
  {
   "cell_type": "code",
   "execution_count": 1,
   "metadata": {},
   "outputs": [
    {
     "data": {
      "text/plain": [
       "['Sep 02 2006',\n",
       " 'Sep 09 2006',\n",
       " 'Sep 16 2006',\n",
       " 'Sep 23 2006',\n",
       " 'Sep 30 2006',\n",
       " 'Oct 14 2006',\n",
       " 'Oct 21 2006',\n",
       " 'Oct 28 2006',\n",
       " 'Nov 04 2006',\n",
       " 'Nov 11 2006',\n",
       " 'Nov 18 2006']"
      ]
     },
     "execution_count": 1,
     "metadata": {},
     "output_type": "execute_result"
    }
   ],
   "source": [
    "#libraries to use\n",
    "import pandas as pd\n",
    "import numpy as np\n",
    "import matplotlib.pyplot as plt\n",
    "import datetime as dt\n",
    "#python's lxml library parses xml and html files\n",
    "from lxml import html\n",
    "\n",
    "#use requests to get data from web pages\n",
    "import requests \n",
    "\n",
    "#use requests.get() to get web page with data\n",
    "page = requests.get('https://tennstate_ftp.sidearmsports.com/custompages/tsutigers/902C2D72-E881-4838-87F2-28BA2F9902FC/teamgbg.htm')\n",
    "\n",
    "#parse data on web page using html module.fromstring\n",
    "mytree = html.fromstring(page.content)\n",
    "\n",
    "#go to web address above , right click on page and select inspect to get HTML code for data from right side of page\n",
    "#create XPath query and use xpath function to get data\n",
    "#date data\n",
    "date = mytree.xpath('body/center//tr/td/font[@color=\"#000000\"]/text()')[1:110:10]\n",
    "date=[a.replace(\"\\xa0\",\"\") for a in date]\n",
    "date=[a.replace(\",\",\"\") for a in date]\n",
    "date=[a.replace(\".\",\"\") for a in date]\n",
    "date"
   ]
  },
  {
   "cell_type": "code",
   "execution_count": 2,
   "metadata": {},
   "outputs": [
    {
     "data": {
      "text/plain": [
       "['19487',\n",
       " '10613',\n",
       " '53441',\n",
       " '27460',\n",
       " '57885',\n",
       " '9720',\n",
       " '11800',\n",
       " '18758',\n",
       " '5912',\n",
       " '4271',\n",
       " '5500']"
      ]
     },
     "execution_count": 2,
     "metadata": {},
     "output_type": "execute_result"
    }
   ],
   "source": [
    "#get attendance data\n",
    "attendance=mytree.xpath('body/center//tr/td/font[@color=\"#000000\"]/text()')[9:110:10]\n",
    "attendance=[a.replace(\"\\xa0\",\"\") for a in attendance]\n",
    "attendance=[a.strip() for a in attendance]\n",
    "attendance"
   ]
  },
  {
   "cell_type": "code",
   "execution_count": 3,
   "metadata": {},
   "outputs": [
    {
     "data": {
      "text/plain": [
       "['156', '111', '146', '71', '227', '310', '103', '247', '49', '133', '95']"
      ]
     },
     "execution_count": 3,
     "metadata": {},
     "output_type": "execute_result"
    }
   ],
   "source": [
    "#get TSU rushing yards\n",
    "TSUrushyards=mytree.xpath('body/center//tr/td/font[@color=\"#000000\"]/text()')[114:357:23]\n",
    "TSUrushyards=[a.replace(\"\\xa0\",\"\") for a in TSUrushyards]\n",
    "TSUrushyards"
   ]
  },
  {
   "cell_type": "code",
   "execution_count": 4,
   "metadata": {},
   "outputs": [
    {
     "data": {
      "text/plain": [
       "['206', '230', '167', '181', '210', '169', '260', '105', '162', '152', '162']"
      ]
     },
     "execution_count": 4,
     "metadata": {},
     "output_type": "execute_result"
    }
   ],
   "source": [
    "#get TSU receiving yards\n",
    "TSUreceiveyards=mytree.xpath('body/center//tr/td/font[@color=\"#000000\"]/text()')[118:360:23]\n",
    "TSUreceiveyards=[a.replace(\"\\xa0\",\"\") for a in TSUreceiveyards]\n",
    "TSUreceiveyards"
   ]
  },
  {
   "cell_type": "code",
   "execution_count": 5,
   "metadata": {},
   "outputs": [
    {
     "data": {
      "text/plain": [
       "['105', '102', '77', '70', '98', '45', '119', '23', '115', '0', '126']"
      ]
     },
     "execution_count": 5,
     "metadata": {},
     "output_type": "execute_result"
    }
   ],
   "source": [
    "#get TSU kick return yards\n",
    "TSUkreturnyards=mytree.xpath('body/center//tr/td/font[@color=\"#000000\"]/text()')[126:360:23]\n",
    "TSUkreturnyards=[a.replace(\"\\xa0\",\"\") for a in TSUkreturnyards]\n",
    "TSUkreturnyards"
   ]
  },
  {
   "cell_type": "code",
   "execution_count": 6,
   "metadata": {},
   "outputs": [
    {
     "data": {
      "text/plain": [
       "['0', '0', '24', '0', '16', '4', '20', '13', '0', '17', '7']"
      ]
     },
     "execution_count": 6,
     "metadata": {},
     "output_type": "execute_result"
    }
   ],
   "source": [
    "#get TSU punt return yards\n",
    "TSUpreturnyards=mytree.xpath('body/center//tr/td/font[@color=\"#000000\"]/text()')[130:380:23]\n",
    "TSUpreturnyards=[a.replace(\"\\xa0\",\"\") for a in TSUpreturnyards]\n",
    "TSUpreturnyards"
   ]
  },
  {
   "cell_type": "code",
   "execution_count": 7,
   "metadata": {},
   "outputs": [
    {
     "data": {
      "text/plain": [
       "['63', '76', '63', '59', '54', '64', '77', '45', '88', '44', '70']"
      ]
     },
     "execution_count": 7,
     "metadata": {},
     "output_type": "execute_result"
    }
   ],
   "source": [
    "#get TSU total tackles\n",
    "TSUtackles=mytree.xpath('body/center//tr/td/font[@color=\"#000000\"]/text()')[414:650:22]\n",
    "TSUtackles=[a.replace(\"\\xa0\",\"\") for a in TSUtackles]\n",
    "TSUtackles"
   ]
  },
  {
   "cell_type": "code",
   "execution_count": 8,
   "metadata": {},
   "outputs": [
    {
     "data": {
      "text/plain": [
       "['3', '38', '18', '25', '14', '15', '26', '28', '22', '27', '30']"
      ]
     },
     "execution_count": 8,
     "metadata": {},
     "output_type": "execute_result"
    }
   ],
   "source": [
    "#get TSU tackle yards\n",
    "TSUtackleyd=mytree.xpath('body/center//tr/td/font[@color=\"#000000\"]/text()')[416:650:22]\n",
    "TSUtackleyd=[a.replace(\"\\xa0\",\"\") for a in TSUtackleyd]\n",
    "TSUtackleyd"
   ]
  },
  {
   "cell_type": "code",
   "execution_count": 9,
   "metadata": {},
   "outputs": [
    {
     "data": {
      "text/plain": [
       "['0.0', '3.0', '1.0', '1.0', '1.0', '1.0', '3.0', '3.0', '1.0', '4.0', '2.0']"
      ]
     },
     "execution_count": 9,
     "metadata": {},
     "output_type": "execute_result"
    }
   ],
   "source": [
    "#get TSU sacks\n",
    "TSUsacks=mytree.xpath('body/center//tr/td/font[@color=\"#000000\"]/text()')[417:650:22]\n",
    "TSUsacks=[a.replace(\"\\xa0\",\"\") for a in TSUsacks]\n",
    "TSUsacks"
   ]
  },
  {
   "cell_type": "code",
   "execution_count": 10,
   "metadata": {},
   "outputs": [
    {
     "data": {
      "text/plain": [
       "['0', '23', '6', '7', '4', '8', '20', '16', '10', '23', '14']"
      ]
     },
     "execution_count": 10,
     "metadata": {},
     "output_type": "execute_result"
    }
   ],
   "source": [
    "#get TSU sack yards\n",
    "TSUsackyd=mytree.xpath('body/center//tr/td/font[@color=\"#000000\"]/text()')[418:650:22]\n",
    "TSUsackyd=[a.replace(\"\\xa0\",\"\") for a in TSUsackyd]\n",
    "TSUsackyd"
   ]
  },
  {
   "cell_type": "code",
   "execution_count": 11,
   "metadata": {},
   "outputs": [
    {
     "data": {
      "text/plain": [
       "['2', '5', '2', '3', '4', '4', '6', '3', '6', '4', '1']"
      ]
     },
     "execution_count": 11,
     "metadata": {},
     "output_type": "execute_result"
    }
   ],
   "source": [
    "#TSU punts\n",
    "TSUpunt=mytree.xpath('body/center//tr/td/font[@color=\"#000000\"]/text()')[698:900:19]\n",
    "TSUpunt=[a.replace(\"\\xa0\",\"\") for a in TSUpunt]\n",
    "TSUpunt"
   ]
  },
  {
   "cell_type": "code",
   "execution_count": 12,
   "metadata": {},
   "outputs": [
    {
     "data": {
      "text/plain": [
       "['257', '115', '167', '179', '138', '88', '132', '67', '171', '68', '123']"
      ]
     },
     "execution_count": 12,
     "metadata": {},
     "output_type": "execute_result"
    }
   ],
   "source": [
    "#get opponent rushing yards\n",
    "OPPrushyards=mytree.xpath('body/center//tr/td/font[@color=\"#000000\"]/text()')[946:1183:23]\n",
    "OPPrushyards=[a.replace(\"\\xa0\",\"\") for a in OPPrushyards]\n",
    "OPPrushyards"
   ]
  },
  {
   "cell_type": "code",
   "execution_count": 13,
   "metadata": {},
   "outputs": [
    {
     "data": {
      "text/plain": [
       "['136', '193', '106', '129', '218', '305', '261', '123', '252', '65', '268']"
      ]
     },
     "execution_count": 13,
     "metadata": {},
     "output_type": "execute_result"
    }
   ],
   "source": [
    "#get opponent receiving yards\n",
    "OPPreceiveyards=mytree.xpath('body/center//tr/td/font[@color=\"#000000\"]/text()')[950:1200:23]\n",
    "OPPreceiveyards=[a.replace(\"\\xa0\",\"\") for a in OPPreceiveyards]\n",
    "OPPreceiveyards"
   ]
  },
  {
   "cell_type": "code",
   "execution_count": 14,
   "metadata": {},
   "outputs": [
    {
     "data": {
      "text/plain": [
       "['53', '135', '26', '42', '61', '89', '142', '46', '15', '68', '2']"
      ]
     },
     "execution_count": 14,
     "metadata": {},
     "output_type": "execute_result"
    }
   ],
   "source": [
    "#get opponent kick return yards\n",
    "OPPkreturnyards=mytree.xpath('body/center//tr/td/font[@color=\"#000000\"]/text()')[958:1200:23]\n",
    "OPPkreturnyards=[a.replace(\"\\xa0\",\"\") for a in OPPkreturnyards]\n",
    "OPPkreturnyards"
   ]
  },
  {
   "cell_type": "code",
   "execution_count": 15,
   "metadata": {},
   "outputs": [
    {
     "data": {
      "text/plain": [
       "['2', '5', '32', '11', '29', '17', '27', '9', '-1', '3', '0']"
      ]
     },
     "execution_count": 15,
     "metadata": {},
     "output_type": "execute_result"
    }
   ],
   "source": [
    "#get opponent punt return yards\n",
    "OPPpreturnyards=mytree.xpath('body/center//tr/td/font[@color=\"#000000\"]/text()')[962:1200:23]\n",
    "OPPpreturnyards=[a.replace(\"\\xa0\",\"\") for a in OPPpreturnyards]\n",
    "OPPpreturnyards"
   ]
  },
  {
   "cell_type": "code",
   "execution_count": 16,
   "metadata": {},
   "outputs": [
    {
     "data": {
      "text/plain": [
       "['59', '50', '66', '60', '64', '55', '63', '64', '67', '62', '60']"
      ]
     },
     "execution_count": 16,
     "metadata": {},
     "output_type": "execute_result"
    }
   ],
   "source": [
    "#get opponent total tackles\n",
    "OPPtackles=mytree.xpath('body/center//tr/td/font[@color=\"#000000\"]/text()')[1246:1480:22]\n",
    "OPPtackles=[a.replace(\"\\xa0\",\"\") for a in OPPtackles]\n",
    "OPPtackles"
   ]
  },
  {
   "cell_type": "code",
   "execution_count": 17,
   "metadata": {},
   "outputs": [
    {
     "data": {
      "text/plain": [
       "['21', '49', '18', '36', '26', '14', '23', '20', '25', '30', '17']"
      ]
     },
     "execution_count": 17,
     "metadata": {},
     "output_type": "execute_result"
    }
   ],
   "source": [
    "#get opponent tackle yards\n",
    "OPPtackleyd=mytree.xpath('body/center//tr/td/font[@color=\"#000000\"]/text()')[1248:1488:22]\n",
    "OPPtackleyd=[a.replace(\"\\xa0\",\"\") for a in OPPtackleyd]\n",
    "OPPtackleyd"
   ]
  },
  {
   "cell_type": "code",
   "execution_count": 18,
   "metadata": {},
   "outputs": [
    {
     "data": {
      "text/plain": [
       "['2.0', '3.0', '2.0', '3.0', '2.0', '0.0', '1.0', '2.0', '1.0', '3.0', '1.0']"
      ]
     },
     "execution_count": 18,
     "metadata": {},
     "output_type": "execute_result"
    }
   ],
   "source": [
    "#get opponent sacks\n",
    "OPPsacks=mytree.xpath('body/center//tr/td/font[@color=\"#000000\"]/text()')[1249:1488:22]\n",
    "OPPsacks=[a.replace(\"\\xa0\",\"\") for a in OPPsacks]\n",
    "OPPsacks"
   ]
  },
  {
   "cell_type": "code",
   "execution_count": 19,
   "metadata": {},
   "outputs": [
    {
     "data": {
      "text/plain": [
       "['14', '39', '13', '29', '17', '0', '8', '13', '8', '15', '7']"
      ]
     },
     "execution_count": 19,
     "metadata": {},
     "output_type": "execute_result"
    }
   ],
   "source": [
    "#get opponent sack yards\n",
    "OPPsackyd=mytree.xpath('body/center//tr/td/font[@color=\"#000000\"]/text()')[1250:1488:22]\n",
    "OPPsackyd=[a.replace(\"\\xa0\",\"\") for a in OPPsackyd]\n",
    "OPPsackyd"
   ]
  },
  {
   "cell_type": "code",
   "execution_count": 20,
   "metadata": {},
   "outputs": [
    {
     "data": {
      "text/plain": [
       "['2', '2', '3', '2', '3', '4', '6', '5', '4', '5', '3']"
      ]
     },
     "execution_count": 20,
     "metadata": {},
     "output_type": "execute_result"
    }
   ],
   "source": [
    "#opponent punts\n",
    "OPPpunt=mytree.xpath('body/center//tr/td/font[@color=\"#000000\"]/text()')[1530:1739:19]\n",
    "OPPpunt=[a.replace(\"\\xa0\",\"\") for a in OPPpunt]\n",
    "OPPpunt"
   ]
  },
  {
   "cell_type": "code",
   "execution_count": 34,
   "metadata": {},
   "outputs": [
    {
     "data": {
      "text/plain": [
       "['24 21',\n",
       " '10 20',\n",
       " '15 20',\n",
       " '14 17',\n",
       " '22 15',\n",
       " '19 23',\n",
       " '16 17',\n",
       " '21 11',\n",
       " '9 25',\n",
       " '17 9',\n",
       " '15 19']"
      ]
     },
     "execution_count": 34,
     "metadata": {},
     "output_type": "execute_result"
    }
   ],
   "source": [
    "#1st downs\n",
    "firstdowns=mytree.xpath('body/center//tr/td/font[@color=\"#000000\"]/text()')[1777:1930:15]\n",
    "firstdowns=[a.replace(\"\\xa0\",\"\") for a in firstdowns]\n",
    "firstdowns=[a.replace(\"/\",\" \") for a in firstdowns]\n",
    "firstdowns=[a.replace('9/25','09 25') for a in firstdowns] \n",
    "firstdowns=[a.replace('17/9','17 09') for a in firstdowns] \n",
    "firstdowns"
   ]
  },
  {
   "cell_type": "code",
   "execution_count": 27,
   "metadata": {},
   "outputs": [
    {
     "data": {
      "text/plain": [
       "['2 1', '2 5', '1 1', '4 2', '3 1', '1 1', '1 3', '1 1', '4 2', '0 3', '4 0']"
      ]
     },
     "execution_count": 27,
     "metadata": {},
     "output_type": "execute_result"
    }
   ],
   "source": [
    "#turnovers\n",
    "turnovers=mytree.xpath('body/center//tr/td/font[@color=\"#000000\"]/text()')[1789:1945:15]\n",
    "turnovers=[a.replace(\"\\xa0\",\"\") for a in turnovers]\n",
    "turnovers=[a.replace(\"/\",\" \") for a in turnovers]\n",
    "turnovers"
   ]
  },
  {
   "cell_type": "code",
   "execution_count": 28,
   "metadata": {},
   "outputs": [
    {
     "data": {
      "text/plain": [
       "['7-11',\n",
       " '5-13',\n",
       " '7-11',\n",
       " '4-10',\n",
       " '3-11',\n",
       " '7-12',\n",
       " '2-10',\n",
       " '7-13',\n",
       " '3-13',\n",
       " '9-15',\n",
       " '6-12']"
      ]
     },
     "execution_count": 28,
     "metadata": {},
     "output_type": "execute_result"
    }
   ],
   "source": [
    "#TSU 3rd down conversions\n",
    "TSUthirddownconv=mytree.xpath('body/center//tr/td/font[@color=\"#000000\"]/text()')[1957:2100:14]\n",
    "TSUthirddownconv=[a.replace(\"\\xa0\",\"\") for a in TSUthirddownconv]\n",
    "TSUthirddownconv=[a.replace(\" /\",\"\") for a in TSUthirddownconv]\n",
    "TSUthirddownconv"
   ]
  },
  {
   "cell_type": "code",
   "execution_count": 29,
   "metadata": {},
   "outputs": [
    {
     "data": {
      "text/plain": [
       "['10-13',\n",
       " '6-12',\n",
       " '3-9',\n",
       " '4-10',\n",
       " '5-14',\n",
       " '10-17',\n",
       " '8-17',\n",
       " '6-14',\n",
       " '8-15',\n",
       " '2-9',\n",
       " '7-15']"
      ]
     },
     "execution_count": 29,
     "metadata": {},
     "output_type": "execute_result"
    }
   ],
   "source": [
    "#opponent 3rd down conversions\n",
    "OPPthirddownconv=mytree.xpath('body/center//tr/td/font[@color=\"#000000\"]/text()')[1958:2100:14]\n",
    "OPPthirddownconv=[a.replace(\"\\xa0\",\"\") for a in OPPthirddownconv]\n",
    "OPPthirddownconv"
   ]
  },
  {
   "cell_type": "code",
   "execution_count": 30,
   "metadata": {},
   "outputs": [
    {
     "data": {
      "text/plain": [
       "['0-0', '0-1', '0-1', '0-1', '1-3', '0-0', '0-0', '1-2', '0-1', '1-1', '0-3']"
      ]
     },
     "execution_count": 30,
     "metadata": {},
     "output_type": "execute_result"
    }
   ],
   "source": [
    "#TSU 4th down conversions\n",
    "TSUfourthdownconv=mytree.xpath('body/center//tr/td/font[@color=\"#000000\"]/text()')[1959:2100:14]\n",
    "TSUfourthdownconv=[a.replace(\"\\xa0\",\"\") for a in TSUfourthdownconv]\n",
    "TSUfourthdownconv=[a.replace(\" /\",\"\") for a in TSUfourthdownconv]\n",
    "TSUfourthdownconv"
   ]
  },
  {
   "cell_type": "code",
   "execution_count": 31,
   "metadata": {},
   "outputs": [
    {
     "data": {
      "text/plain": [
       "['0-0', '1-4', '1-1', '0-1', '0-0', '1-3', '2-2', '1-2', '1-1', '0-0', '1-1']"
      ]
     },
     "execution_count": 31,
     "metadata": {},
     "output_type": "execute_result"
    }
   ],
   "source": [
    "#opponent 4th down conversions\n",
    "OPPfourthdownconv=mytree.xpath('body/center//tr/td/font[@color=\"#000000\"]/text()')[1960:2106:14]\n",
    "OPPfourthdownconv=[a.replace(\"\\xa0\",\"\") for a in OPPfourthdownconv]\n",
    "OPPfourthdownconv=[a.replace(\" /\",\"\") for a in OPPfourthdownconv]\n",
    "OPPfourthdownconv"
   ]
  },
  {
   "cell_type": "code",
   "execution_count": 32,
   "metadata": {},
   "outputs": [
    {
     "data": {
      "text/plain": [
       "['31:01 28:59',\n",
       " '27:51 32:09',\n",
       " '45:31 44:29',\n",
       " '31:21 28:39',\n",
       " '30:44 59:16',\n",
       " '29:45 30:15',\n",
       " '26:29 33:31',\n",
       " '33:25 24:58',\n",
       " '23:03 36:57',\n",
       " '35:24 24:36',\n",
       " '25:41 34:19']"
      ]
     },
     "execution_count": 32,
     "metadata": {},
     "output_type": "execute_result"
    }
   ],
   "source": [
    "#possession time\n",
    "possesstime=mytree.xpath('body/center//tr/td/font[@color=\"#000000\"]/text()')[1961:2106:14]\n",
    "possesstime=[a.replace(\"\\xa0\",\"\") for a in possesstime]\n",
    "possesstime=[a.replace(\" /\",\"\") for a in possesstime]\n",
    "possesstime"
   ]
  },
  {
   "cell_type": "code",
   "execution_count": 35,
   "metadata": {},
   "outputs": [
    {
     "data": {
      "text/plain": [
       "['09 075',\n",
       " '13 093',\n",
       " '07 063',\n",
       " '07 058',\n",
       " '06 051',\n",
       " '14 109',\n",
       " '07 040',\n",
       " '04 025',\n",
       " '09 075',\n",
       " '07 045',\n",
       " '11 064']"
      ]
     },
     "execution_count": 35,
     "metadata": {},
     "output_type": "execute_result"
    }
   ],
   "source": [
    "#TSU penalty number and yards\n",
    "TSUpenalty=mytree.xpath('body/center//tr/td/font[@color=\"#000000\"]/text()')[1968:2122:14]\n",
    "TSUpenalty=[a.replace(\"\\xa0\",\"\") for a in TSUpenalty]\n",
    "#TSUpenalty=[a.replace('10-63 /','10 063') for a in TSUpenalty]\n",
    "#TSUpenalty=[a.replace('5-57 /','05 057') for a in TSUpenalty]\n",
    "#TSUpenalty=[a.replace('6-51 /' ,'06 051') for a in TSUpenalty]\n",
    "#TSUpenalty=[a.replace('7-49 /','07 049') for a in TSUpenalty]\n",
    "#TSUpenalty=[a.replace('13-101 /','13 101') for a in TSUpenalty]\n",
    "#TSUpenalty=[a.replace('6-54 /','06 054') for a in TSUpenalty]\n",
    "#TSUpenalty=[a.replace('6-60 /','06 060') for a in TSUpenalty]\n",
    "#TSUpenalty=[a.replace('7-48 /','07 048') for a in TSUpenalty]\n",
    "#TSUpenalty=[a.replace('9-57 /','09 057') for a in TSUpenalty]\n",
    "#TSUpenalty=[a.replace('11-99 /','11 099') for a in TSUpenalty]\n",
    "#TSUpenalty=[a.replace('4-30 /','04 030') for a in TSUpenalty]\n",
    "TSUpenalty=[a.replace('9-75 /','09 075') for a in TSUpenalty]\n",
    "TSUpenalty=[a.replace('13-93 /', '13 093') for a in TSUpenalty]\n",
    "TSUpenalty=[a.replace('7-63 /','07 063') for a in TSUpenalty]\n",
    "TSUpenalty= [a.replace('7-58 /','07 058') for a in TSUpenalty]\n",
    "TSUpenalty=[a.replace('6-51 /','06 051') for a in TSUpenalty]\n",
    "TSUpenalty=[ a.replace('14-109 /','14 109') for a in TSUpenalty]\n",
    "TSUpenalty=[a.replace( '7-40 /','07 040') for a in TSUpenalty]\n",
    "TSUpenalty=[a.replace( '4-25 /','04 025') for a in TSUpenalty]\n",
    "TSUpenalty= [a.replace('9-75 /','07 075') for a in TSUpenalty]\n",
    "TSUpenalty=[a.replace( '7-45 /','07 045') for a in TSUpenalty]\n",
    "TSUpenalty=[a.replace( '11-64 /', '11 064') for a in TSUpenalty]\n",
    "TSUpenalty"
   ]
  },
  {
   "cell_type": "code",
   "execution_count": 37,
   "metadata": {},
   "outputs": [
    {
     "data": {
      "text/plain": [
       "['07 072',\n",
       " '03 015',\n",
       " '05 058',\n",
       " '01 005',\n",
       " '08 087',\n",
       " '03 015',\n",
       " '06 054',\n",
       " '05 040',\n",
       " '07 080',\n",
       " '05 044',\n",
       " '11 114']"
      ]
     },
     "execution_count": 37,
     "metadata": {},
     "output_type": "execute_result"
    }
   ],
   "source": [
    "#opponent penalty number and yards\n",
    "OPPpenalty=mytree.xpath('body/center//tr/td/font[@color=\"#000000\"]/text()')[1969:2122:14]\n",
    "OPPpenalty=[a.replace(\"\\xa0\",\"\") for a in OPPpenalty]\n",
    "OPPpenalty=[a.replace('7-72','07 072') for a in OPPpenalty]\n",
    "OPPpenalty=[a.replace('3-15','03 015') for a in OPPpenalty]\n",
    "OPPpenalty=[a.replace('5-58','05 058') for a in OPPpenalty]\n",
    "OPPpenalty=[a.replace('1-5','01 005') for a in OPPpenalty]\n",
    "OPPpenalty=[a.replace('8-87','08 087') for a in OPPpenalty]\n",
    "OPPpenalty=[a.replace( '3-15','03 015') for a in OPPpenalty]\n",
    "OPPpenalty=[a.replace( '6-54','06 054') for a in OPPpenalty]\n",
    "OPPpenalty=[a.replace('5-40','05 040') for a in OPPpenalty]\n",
    "OPPpenalty=[a.replace('7-80','07 080') for a in OPPpenalty]\n",
    "OPPpenalty=[a.replace('5-44','05 044') for a in OPPpenalty]\n",
    "OPPpenalty=[a.replace('11-114','11 114') for a in OPPpenalty]\n",
    "OPPpenalty"
   ]
  },
  {
   "cell_type": "code",
   "execution_count": 38,
   "metadata": {},
   "outputs": [
    {
     "data": {
      "text/html": [
       "<div>\n",
       "<style scoped>\n",
       "    .dataframe tbody tr th:only-of-type {\n",
       "        vertical-align: middle;\n",
       "    }\n",
       "\n",
       "    .dataframe tbody tr th {\n",
       "        vertical-align: top;\n",
       "    }\n",
       "\n",
       "    .dataframe thead th {\n",
       "        text-align: right;\n",
       "    }\n",
       "</style>\n",
       "<table border=\"1\" class=\"dataframe\">\n",
       "  <thead>\n",
       "    <tr style=\"text-align: right;\">\n",
       "      <th></th>\n",
       "      <th>date</th>\n",
       "      <th>attendance</th>\n",
       "      <th>TSUrushyards</th>\n",
       "      <th>TSUreceiveyards</th>\n",
       "      <th>TSUkreturnyards</th>\n",
       "      <th>TSUpreturnyards</th>\n",
       "      <th>TSUtackles</th>\n",
       "      <th>TSUtackleyd</th>\n",
       "      <th>TSUsacks</th>\n",
       "      <th>TSUsackyd</th>\n",
       "      <th>...</th>\n",
       "      <th>OPPpunt</th>\n",
       "      <th>firstdowns</th>\n",
       "      <th>turnovers</th>\n",
       "      <th>TSUthirddownconv</th>\n",
       "      <th>OPPthirddownconv</th>\n",
       "      <th>TSUfourthdownconv</th>\n",
       "      <th>OPPfourthdownconv</th>\n",
       "      <th>possesstime</th>\n",
       "      <th>TSUpenalty</th>\n",
       "      <th>OPPpenalty</th>\n",
       "    </tr>\n",
       "  </thead>\n",
       "  <tbody>\n",
       "    <tr>\n",
       "      <th>0</th>\n",
       "      <td>Sep 02 2006</td>\n",
       "      <td>19487</td>\n",
       "      <td>156</td>\n",
       "      <td>206</td>\n",
       "      <td>105</td>\n",
       "      <td>0</td>\n",
       "      <td>63</td>\n",
       "      <td>3</td>\n",
       "      <td>0.0</td>\n",
       "      <td>0</td>\n",
       "      <td>...</td>\n",
       "      <td>2</td>\n",
       "      <td>24 21</td>\n",
       "      <td>2 1</td>\n",
       "      <td>7-11</td>\n",
       "      <td>10-13</td>\n",
       "      <td>0-0</td>\n",
       "      <td>0-0</td>\n",
       "      <td>31:01 28:59</td>\n",
       "      <td>09 075</td>\n",
       "      <td>07 072</td>\n",
       "    </tr>\n",
       "    <tr>\n",
       "      <th>1</th>\n",
       "      <td>Sep 09 2006</td>\n",
       "      <td>10613</td>\n",
       "      <td>111</td>\n",
       "      <td>230</td>\n",
       "      <td>102</td>\n",
       "      <td>0</td>\n",
       "      <td>76</td>\n",
       "      <td>38</td>\n",
       "      <td>3.0</td>\n",
       "      <td>23</td>\n",
       "      <td>...</td>\n",
       "      <td>2</td>\n",
       "      <td>10 20</td>\n",
       "      <td>2 5</td>\n",
       "      <td>5-13</td>\n",
       "      <td>6-12</td>\n",
       "      <td>0-1</td>\n",
       "      <td>1-4</td>\n",
       "      <td>27:51 32:09</td>\n",
       "      <td>13 093</td>\n",
       "      <td>03 015</td>\n",
       "    </tr>\n",
       "    <tr>\n",
       "      <th>2</th>\n",
       "      <td>Sep 16 2006</td>\n",
       "      <td>53441</td>\n",
       "      <td>146</td>\n",
       "      <td>167</td>\n",
       "      <td>77</td>\n",
       "      <td>24</td>\n",
       "      <td>63</td>\n",
       "      <td>18</td>\n",
       "      <td>1.0</td>\n",
       "      <td>6</td>\n",
       "      <td>...</td>\n",
       "      <td>3</td>\n",
       "      <td>15 20</td>\n",
       "      <td>1 1</td>\n",
       "      <td>7-11</td>\n",
       "      <td>3-9</td>\n",
       "      <td>0-1</td>\n",
       "      <td>1-1</td>\n",
       "      <td>45:31 44:29</td>\n",
       "      <td>07 063</td>\n",
       "      <td>05 058</td>\n",
       "    </tr>\n",
       "    <tr>\n",
       "      <th>3</th>\n",
       "      <td>Sep 23 2006</td>\n",
       "      <td>27460</td>\n",
       "      <td>71</td>\n",
       "      <td>181</td>\n",
       "      <td>70</td>\n",
       "      <td>0</td>\n",
       "      <td>59</td>\n",
       "      <td>25</td>\n",
       "      <td>1.0</td>\n",
       "      <td>7</td>\n",
       "      <td>...</td>\n",
       "      <td>2</td>\n",
       "      <td>14 17</td>\n",
       "      <td>4 2</td>\n",
       "      <td>4-10</td>\n",
       "      <td>4-10</td>\n",
       "      <td>0-1</td>\n",
       "      <td>0-1</td>\n",
       "      <td>31:21 28:39</td>\n",
       "      <td>07 058</td>\n",
       "      <td>01 005</td>\n",
       "    </tr>\n",
       "    <tr>\n",
       "      <th>4</th>\n",
       "      <td>Sep 30 2006</td>\n",
       "      <td>57885</td>\n",
       "      <td>227</td>\n",
       "      <td>210</td>\n",
       "      <td>98</td>\n",
       "      <td>16</td>\n",
       "      <td>54</td>\n",
       "      <td>14</td>\n",
       "      <td>1.0</td>\n",
       "      <td>4</td>\n",
       "      <td>...</td>\n",
       "      <td>3</td>\n",
       "      <td>22 15</td>\n",
       "      <td>3 1</td>\n",
       "      <td>3-11</td>\n",
       "      <td>5-14</td>\n",
       "      <td>1-3</td>\n",
       "      <td>0-0</td>\n",
       "      <td>30:44 59:16</td>\n",
       "      <td>06 051</td>\n",
       "      <td>08 087</td>\n",
       "    </tr>\n",
       "  </tbody>\n",
       "</table>\n",
       "<p>5 rows × 29 columns</p>\n",
       "</div>"
      ],
      "text/plain": [
       "          date attendance TSUrushyards TSUreceiveyards TSUkreturnyards  \\\n",
       "0  Sep 02 2006      19487          156             206             105   \n",
       "1  Sep 09 2006      10613          111             230             102   \n",
       "2  Sep 16 2006      53441          146             167              77   \n",
       "3  Sep 23 2006      27460           71             181              70   \n",
       "4  Sep 30 2006      57885          227             210              98   \n",
       "\n",
       "  TSUpreturnyards TSUtackles TSUtackleyd TSUsacks TSUsackyd  ... OPPpunt  \\\n",
       "0               0         63           3      0.0         0  ...       2   \n",
       "1               0         76          38      3.0        23  ...       2   \n",
       "2              24         63          18      1.0         6  ...       3   \n",
       "3               0         59          25      1.0         7  ...       2   \n",
       "4              16         54          14      1.0         4  ...       3   \n",
       "\n",
       "  firstdowns turnovers TSUthirddownconv OPPthirddownconv TSUfourthdownconv  \\\n",
       "0      24 21       2 1             7-11            10-13               0-0   \n",
       "1      10 20       2 5             5-13             6-12               0-1   \n",
       "2      15 20       1 1             7-11              3-9               0-1   \n",
       "3      14 17       4 2             4-10             4-10               0-1   \n",
       "4      22 15       3 1             3-11             5-14               1-3   \n",
       "\n",
       "  OPPfourthdownconv  possesstime TSUpenalty OPPpenalty  \n",
       "0               0-0  31:01 28:59     09 075     07 072  \n",
       "1               1-4  27:51 32:09     13 093     03 015  \n",
       "2               1-1  45:31 44:29     07 063     05 058  \n",
       "3               0-1  31:21 28:39     07 058     01 005  \n",
       "4               0-0  30:44 59:16     06 051     08 087  \n",
       "\n",
       "[5 rows x 29 columns]"
      ]
     },
     "execution_count": 38,
     "metadata": {},
     "output_type": "execute_result"
    }
   ],
   "source": [
    "#create data frame\n",
    "#change dictionary of lists to data frame\n",
    "list_of_dicts={'date':date,\n",
    "     'attendance':attendance,\n",
    "     'TSUrushyards':TSUrushyards,\n",
    "     'TSUreceiveyards':TSUreceiveyards,\n",
    "     'TSUkreturnyards':TSUkreturnyards,\n",
    "     'TSUpreturnyards':TSUpreturnyards,\n",
    "     'TSUtackles':TSUtackles,\n",
    "     'TSUtackleyd':TSUtackleyd,\n",
    "     'TSUsacks':TSUsacks,\n",
    "     'TSUsackyd':TSUsackyd,\n",
    "     'TSUpunt':TSUpunt,\n",
    "     'OPPrushyards':OPPrushyards,\n",
    "     'OPPreceiveyards':OPPreceiveyards,\n",
    "     'OPPkreturnyards':OPPkreturnyards,\n",
    "     'OPPpreturnyards':OPPpreturnyards,\n",
    "     'OPPtackles':OPPtackles,\n",
    "     'OPPtackleyd':OPPtackleyd,\n",
    "     'OPPsacks':OPPsacks,\n",
    "     'OPPsackyd':OPPsackyd,\n",
    "     'OPPpunt':OPPpunt,\n",
    "     'firstdowns':firstdowns,\n",
    "     'turnovers':turnovers,\n",
    "     'TSUthirddownconv':TSUthirddownconv,\n",
    "     'OPPthirddownconv':OPPthirddownconv,\n",
    "     'TSUfourthdownconv':TSUfourthdownconv,\n",
    "     'OPPfourthdownconv':OPPfourthdownconv,\n",
    "     'possesstime':possesstime,\n",
    "     'TSUpenalty':TSUpenalty,\n",
    "     'OPPpenalty':OPPpenalty}\n",
    "df2006=pd.DataFrame(list_of_dicts)\n",
    "df2006.head()"
   ]
  },
  {
   "cell_type": "code",
   "execution_count": 39,
   "metadata": {},
   "outputs": [
    {
     "data": {
      "text/html": [
       "<div>\n",
       "<style scoped>\n",
       "    .dataframe tbody tr th:only-of-type {\n",
       "        vertical-align: middle;\n",
       "    }\n",
       "\n",
       "    .dataframe tbody tr th {\n",
       "        vertical-align: top;\n",
       "    }\n",
       "\n",
       "    .dataframe thead th {\n",
       "        text-align: right;\n",
       "    }\n",
       "</style>\n",
       "<table border=\"1\" class=\"dataframe\">\n",
       "  <thead>\n",
       "    <tr style=\"text-align: right;\">\n",
       "      <th></th>\n",
       "      <th>date</th>\n",
       "      <th>attendance</th>\n",
       "      <th>TSUrushyards</th>\n",
       "      <th>TSUreceiveyards</th>\n",
       "      <th>TSUkreturnyards</th>\n",
       "      <th>TSUpreturnyards</th>\n",
       "      <th>TSUtackles</th>\n",
       "      <th>TSUtackleyd</th>\n",
       "      <th>TSUsacks</th>\n",
       "      <th>TSUsackyd</th>\n",
       "      <th>...</th>\n",
       "      <th>OPPturnovers</th>\n",
       "      <th>TSUpossesstime</th>\n",
       "      <th>OPPposeesstime</th>\n",
       "      <th>TSUpenaltycount</th>\n",
       "      <th>TSUpenaltyyd</th>\n",
       "      <th>OPPpenaltycount</th>\n",
       "      <th>OPPpenaltyyd</th>\n",
       "      <th>month</th>\n",
       "      <th>day</th>\n",
       "      <th>year</th>\n",
       "    </tr>\n",
       "  </thead>\n",
       "  <tbody>\n",
       "    <tr>\n",
       "      <th>0</th>\n",
       "      <td>Sep 02 2006</td>\n",
       "      <td>19487</td>\n",
       "      <td>156</td>\n",
       "      <td>206</td>\n",
       "      <td>105</td>\n",
       "      <td>0</td>\n",
       "      <td>63</td>\n",
       "      <td>3</td>\n",
       "      <td>0.0</td>\n",
       "      <td>0</td>\n",
       "      <td>...</td>\n",
       "      <td>1</td>\n",
       "      <td>31:01</td>\n",
       "      <td>28:59</td>\n",
       "      <td>09</td>\n",
       "      <td>075</td>\n",
       "      <td>07</td>\n",
       "      <td>072</td>\n",
       "      <td>Sep</td>\n",
       "      <td>02</td>\n",
       "      <td>2006</td>\n",
       "    </tr>\n",
       "    <tr>\n",
       "      <th>1</th>\n",
       "      <td>Sep 09 2006</td>\n",
       "      <td>10613</td>\n",
       "      <td>111</td>\n",
       "      <td>230</td>\n",
       "      <td>102</td>\n",
       "      <td>0</td>\n",
       "      <td>76</td>\n",
       "      <td>38</td>\n",
       "      <td>3.0</td>\n",
       "      <td>23</td>\n",
       "      <td>...</td>\n",
       "      <td>5</td>\n",
       "      <td>27:51</td>\n",
       "      <td>32:09</td>\n",
       "      <td>13</td>\n",
       "      <td>093</td>\n",
       "      <td>03</td>\n",
       "      <td>015</td>\n",
       "      <td>Sep</td>\n",
       "      <td>09</td>\n",
       "      <td>2006</td>\n",
       "    </tr>\n",
       "    <tr>\n",
       "      <th>2</th>\n",
       "      <td>Sep 16 2006</td>\n",
       "      <td>53441</td>\n",
       "      <td>146</td>\n",
       "      <td>167</td>\n",
       "      <td>77</td>\n",
       "      <td>24</td>\n",
       "      <td>63</td>\n",
       "      <td>18</td>\n",
       "      <td>1.0</td>\n",
       "      <td>6</td>\n",
       "      <td>...</td>\n",
       "      <td>1</td>\n",
       "      <td>45:31</td>\n",
       "      <td>44:29</td>\n",
       "      <td>07</td>\n",
       "      <td>063</td>\n",
       "      <td>05</td>\n",
       "      <td>058</td>\n",
       "      <td>Sep</td>\n",
       "      <td>16</td>\n",
       "      <td>2006</td>\n",
       "    </tr>\n",
       "    <tr>\n",
       "      <th>3</th>\n",
       "      <td>Sep 23 2006</td>\n",
       "      <td>27460</td>\n",
       "      <td>71</td>\n",
       "      <td>181</td>\n",
       "      <td>70</td>\n",
       "      <td>0</td>\n",
       "      <td>59</td>\n",
       "      <td>25</td>\n",
       "      <td>1.0</td>\n",
       "      <td>7</td>\n",
       "      <td>...</td>\n",
       "      <td>2</td>\n",
       "      <td>31:21</td>\n",
       "      <td>28:39</td>\n",
       "      <td>07</td>\n",
       "      <td>058</td>\n",
       "      <td>01</td>\n",
       "      <td>005</td>\n",
       "      <td>Sep</td>\n",
       "      <td>23</td>\n",
       "      <td>2006</td>\n",
       "    </tr>\n",
       "    <tr>\n",
       "      <th>4</th>\n",
       "      <td>Sep 30 2006</td>\n",
       "      <td>57885</td>\n",
       "      <td>227</td>\n",
       "      <td>210</td>\n",
       "      <td>98</td>\n",
       "      <td>16</td>\n",
       "      <td>54</td>\n",
       "      <td>14</td>\n",
       "      <td>1.0</td>\n",
       "      <td>4</td>\n",
       "      <td>...</td>\n",
       "      <td>1</td>\n",
       "      <td>30:44</td>\n",
       "      <td>59:16</td>\n",
       "      <td>06</td>\n",
       "      <td>051</td>\n",
       "      <td>08</td>\n",
       "      <td>087</td>\n",
       "      <td>Sep</td>\n",
       "      <td>30</td>\n",
       "      <td>2006</td>\n",
       "    </tr>\n",
       "  </tbody>\n",
       "</table>\n",
       "<p>5 rows × 42 columns</p>\n",
       "</div>"
      ],
      "text/plain": [
       "          date attendance TSUrushyards TSUreceiveyards TSUkreturnyards  \\\n",
       "0  Sep 02 2006      19487          156             206             105   \n",
       "1  Sep 09 2006      10613          111             230             102   \n",
       "2  Sep 16 2006      53441          146             167              77   \n",
       "3  Sep 23 2006      27460           71             181              70   \n",
       "4  Sep 30 2006      57885          227             210              98   \n",
       "\n",
       "  TSUpreturnyards TSUtackles TSUtackleyd TSUsacks TSUsackyd  ... OPPturnovers  \\\n",
       "0               0         63           3      0.0         0  ...            1   \n",
       "1               0         76          38      3.0        23  ...            5   \n",
       "2              24         63          18      1.0         6  ...            1   \n",
       "3               0         59          25      1.0         7  ...            2   \n",
       "4              16         54          14      1.0         4  ...            1   \n",
       "\n",
       "  TSUpossesstime OPPposeesstime TSUpenaltycount TSUpenaltyyd OPPpenaltycount  \\\n",
       "0          31:01          28:59              09          075              07   \n",
       "1          27:51          32:09              13          093              03   \n",
       "2          45:31          44:29              07          063              05   \n",
       "3          31:21          28:39              07          058              01   \n",
       "4          30:44          59:16              06          051              08   \n",
       "\n",
       "  OPPpenaltyyd month day  year  \n",
       "0          072   Sep  02  2006  \n",
       "1          015   Sep  09  2006  \n",
       "2          058   Sep  16  2006  \n",
       "3          005   Sep  23  2006  \n",
       "4          087   Sep  30  2006  \n",
       "\n",
       "[5 rows x 42 columns]"
      ]
     },
     "execution_count": 39,
     "metadata": {},
     "output_type": "execute_result"
    }
   ],
   "source": [
    "#splitting firstdowns category into firstdowns for TSU and opponent\n",
    "df2006[['TSUfirstdowns','OPPfirstdowns']]=df2006.firstdowns.str.split(expand=True)\n",
    "#splitting turnovers into TSUturnovers and OPPturnovers\n",
    "df2006[['TSUturnovers','OPPturnovers']]=df2006.turnovers.str.split(expand=True)\n",
    "#splitting possesstime into TSUpossesstime and OPPpossesstime\n",
    "df2006[['TSUpossesstime','OPPposeesstime']]=df2006.possesstime.str.split(expand=True)\n",
    "#splitting TSUpenalty into TSUpenaltycount and TSUpenaltyyards\n",
    "df2006[['TSUpenaltycount','TSUpenaltyyd']]=df2006.TSUpenalty.str.split(expand=True)\n",
    "#splitting OPPpenalty into OPPpenaltycount and OPPpenaltyyards\n",
    "df2006[['OPPpenaltycount','OPPpenaltyyd']]=df2006.OPPpenalty.str.split(expand=True)\n",
    "#splitting date column into month, day, & year columns \n",
    "df2006[['month','day','year']]=df2006.date.str.split(expand=True)\n",
    "df2006.drop('date',axis=1)\n",
    "df2006.head()"
   ]
  },
  {
   "cell_type": "code",
   "execution_count": 40,
   "metadata": {},
   "outputs": [
    {
     "name": "stdout",
     "output_type": "stream",
     "text": [
      "<class 'pandas.core.frame.DataFrame'>\n",
      "RangeIndex: 11 entries, 0 to 10\n",
      "Data columns (total 40 columns):\n",
      " #   Column             Non-Null Count  Dtype         \n",
      "---  ------             --------------  -----         \n",
      " 0   date               11 non-null     datetime64[ns]\n",
      " 1   attendance         11 non-null     object        \n",
      " 2   TSUrushyards       11 non-null     object        \n",
      " 3   TSUreceiveyards    11 non-null     object        \n",
      " 4   TSUkreturnyards    11 non-null     object        \n",
      " 5   TSUpreturnyards    11 non-null     object        \n",
      " 6   TSUtackles         11 non-null     object        \n",
      " 7   TSUtackleyd        11 non-null     object        \n",
      " 8   TSUsacks           11 non-null     object        \n",
      " 9   TSUsackyd          11 non-null     object        \n",
      " 10  TSUpunt            11 non-null     object        \n",
      " 11  OPPrushyards       11 non-null     object        \n",
      " 12  OPPreceiveyards    11 non-null     object        \n",
      " 13  OPPkreturnyards    11 non-null     object        \n",
      " 14  OPPpreturnyards    11 non-null     object        \n",
      " 15  OPPtackles         11 non-null     object        \n",
      " 16  OPPtackleyd        11 non-null     object        \n",
      " 17  OPPsacks           11 non-null     object        \n",
      " 18  OPPsackyd          11 non-null     object        \n",
      " 19  OPPpunt            11 non-null     object        \n",
      " 20  firstdowns         11 non-null     object        \n",
      " 21  turnovers          11 non-null     object        \n",
      " 22  TSUthirddownconv   11 non-null     object        \n",
      " 23  OPPthirddownconv   11 non-null     object        \n",
      " 24  TSUfourthdownconv  11 non-null     object        \n",
      " 25  OPPfourthdownconv  11 non-null     object        \n",
      " 26  possesstime        11 non-null     object        \n",
      " 27  TSUpenalty         11 non-null     object        \n",
      " 28  OPPpenalty         11 non-null     object        \n",
      " 29  TSUfirstdowns      11 non-null     object        \n",
      " 30  OPPfirstdowns      11 non-null     object        \n",
      " 31  TSUturnovers       11 non-null     object        \n",
      " 32  OPPturnovers       11 non-null     object        \n",
      " 33  TSUpossesstime     11 non-null     object        \n",
      " 34  OPPposeesstime     11 non-null     object        \n",
      " 35  TSUpenaltycount    11 non-null     object        \n",
      " 36  TSUpenaltyyd       11 non-null     object        \n",
      " 37  OPPpenaltycount    11 non-null     object        \n",
      " 38  OPPpenaltyyd       11 non-null     object        \n",
      " 39  year               11 non-null     int64         \n",
      "dtypes: datetime64[ns](1), int64(1), object(38)\n",
      "memory usage: 3.6+ KB\n"
     ]
    }
   ],
   "source": [
    "#create a new date variable\n",
    "#change month variable to a 2 digit string variable\n",
    "df2006['month'] = df2006['month'].str.replace('Aug','08')\n",
    "df2006['month'] = df2006['month'].str.replace('Sep','09')\n",
    "df2006['month'] = df2006['month'].str.replace('Oct','10')\n",
    "df2006['month'] = df2006['month'].str.replace('Nov','11')\n",
    "df2006['month'] = df2006['month'].str.replace('Dec','12')\n",
    "#merge month,day and year variables\n",
    "df2006['date']=df2006['year']+ '-' +df2006['month']+ '-'+df2006['day']\n",
    "#make date into a datetime variable\n",
    "df2006['date']= pd.to_datetime(df2006['date'], format='%Y-%m-%d')\n",
    "#drop individual month,day, variables (keep year variable for later analysis)\n",
    "df2006=df2006.drop(['month','day'], axis=1)\n",
    "#make year numeric\n",
    "df2006['year']=pd.to_numeric(df2006['year'])\n",
    "df2006.info()"
   ]
  },
  {
   "cell_type": "code",
   "execution_count": null,
   "metadata": {},
   "outputs": [],
   "source": []
  },
  {
   "cell_type": "code",
   "execution_count": null,
   "metadata": {},
   "outputs": [],
   "source": []
  }
 ],
 "metadata": {
  "kernelspec": {
   "display_name": "Python 3",
   "language": "python",
   "name": "python3"
  },
  "language_info": {
   "codemirror_mode": {
    "name": "ipython",
    "version": 3
   },
   "file_extension": ".py",
   "mimetype": "text/x-python",
   "name": "python",
   "nbconvert_exporter": "python",
   "pygments_lexer": "ipython3",
   "version": "3.8.5"
  }
 },
 "nbformat": 4,
 "nbformat_minor": 4
}
