{
 "cells": [
  {
   "cell_type": "code",
   "execution_count": 1,
   "metadata": {},
   "outputs": [
    {
     "data": {
      "text/plain": [
       "['Aug 30 2008',\n",
       " 'Sep 06 2008',\n",
       " 'Sep 13 2008',\n",
       " 'Sep 20 2008',\n",
       " 'Sep 27 2008',\n",
       " 'Oct 04 2008',\n",
       " 'Oct 18 2008',\n",
       " 'Oct 25 2008',\n",
       " 'Nov 01 2008',\n",
       " 'Nov 08 2008',\n",
       " 'Nov 15 2008',\n",
       " 'Nov 22 2008']"
      ]
     },
     "execution_count": 1,
     "metadata": {},
     "output_type": "execute_result"
    }
   ],
   "source": [
    "#libraries to use\n",
    "import pandas as pd\n",
    "import numpy as np\n",
    "import matplotlib.pyplot as plt\n",
    "import datetime as dt\n",
    "#python's lxml library parses xml and html files\n",
    "from lxml import html\n",
    "\n",
    "#use requests to get data from web pages\n",
    "import requests \n",
    "\n",
    "#use requests.get() to get web page with data\n",
    "page = requests.get('https://tennstate_ftp.sidearmsports.com/custompages/tsutigers/E0564A83-37A0-4B85-8811-B7EFB00E956D/teamgbg.htm')\n",
    "\n",
    "#parse data on web page using html module.fromstring\n",
    "mytree = html.fromstring(page.content)\n",
    "\n",
    "#go to web address above , right click on page and select inspect to get HTML code for data from right side of page\n",
    "#create XPath query and use xpath function to get data\n",
    "#date data\n",
    "date = mytree.xpath('body/center//tr/td/font[@color=\"#000000\"]/text()')[1:120:10]\n",
    "date=[a.replace(\"\\xa0\",\"\") for a in date]\n",
    "date=[a.replace(\",\",\"\") for a in date]\n",
    "date=[a.replace(\".\",\"\") for a in date]\n",
    "date"
   ]
  },
  {
   "cell_type": "code",
   "execution_count": 2,
   "metadata": {},
   "outputs": [
    {
     "data": {
      "text/plain": [
       "array([10072, 28830, 50794,  8276, 50428,  7549,  9358,  9750, 24361,\n",
       "        6393,  7956,  2292], dtype=int64)"
      ]
     },
     "execution_count": 2,
     "metadata": {},
     "output_type": "execute_result"
    }
   ],
   "source": [
    "#get attendance data\n",
    "attendance=mytree.xpath('body/center//tr/td/font[@color=\"#000000\"]/text()')[9:120:10]\n",
    "attendance=[a.replace(\"\\xa0\",\"\") for a in attendance]\n",
    "attendance=[a.strip() for a in attendance]\n",
    "attendance=pd.to_numeric(attendance)\n",
    "attendance"
   ]
  },
  {
   "cell_type": "code",
   "execution_count": 3,
   "metadata": {},
   "outputs": [
    {
     "data": {
      "text/plain": [
       "array([107, 148, 148, 229, 136, 177, 377, 217, 212, 309, 177, 113],\n",
       "      dtype=int64)"
      ]
     },
     "execution_count": 3,
     "metadata": {},
     "output_type": "execute_result"
    }
   ],
   "source": [
    "#get TSU rushing yards\n",
    "TSUrushyards=mytree.xpath('body/center//tr/td/font[@color=\"#000000\"]/text()')[124:380:23]\n",
    "TSUrushyards=[a.replace(\"\\xa0\",\"\") for a in TSUrushyards]\n",
    "TSUrushyards=pd.to_numeric(TSUrushyards)\n",
    "TSUrushyards"
   ]
  },
  {
   "cell_type": "code",
   "execution_count": 4,
   "metadata": {},
   "outputs": [
    {
     "data": {
      "text/plain": [
       "array([292, 315, 137, 314, 241, 155, 108, 233, 138, 162, 170, 210],\n",
       "      dtype=int64)"
      ]
     },
     "execution_count": 4,
     "metadata": {},
     "output_type": "execute_result"
    }
   ],
   "source": [
    "#get TSU receiving yards\n",
    "TSUreceiveyards=mytree.xpath('body/center//tr/td/font[@color=\"#000000\"]/text()')[128:383:23]\n",
    "TSUreceiveyards=[a.replace(\"\\xa0\",\"\") for a in TSUreceiveyards]\n",
    "TSUreceiveyards=pd.to_numeric(TSUreceiveyards)\n",
    "TSUreceiveyards"
   ]
  },
  {
   "cell_type": "code",
   "execution_count": 5,
   "metadata": {},
   "outputs": [
    {
     "data": {
      "text/plain": [
       "array([160,  66,  34,  84,  95,  93, 101,  72,  32,  59,  57,  57],\n",
       "      dtype=int64)"
      ]
     },
     "execution_count": 5,
     "metadata": {},
     "output_type": "execute_result"
    }
   ],
   "source": [
    "#get TSU kick return yards\n",
    "TSUkreturnyards=mytree.xpath('body/center//tr/td/font[@color=\"#000000\"]/text()')[136:406:23]\n",
    "TSUkreturnyards=[a.replace(\"\\xa0\",\"\") for a in TSUkreturnyards]\n",
    "TSUkreturnyards=pd.to_numeric(TSUkreturnyards)\n",
    "TSUkreturnyards"
   ]
  },
  {
   "cell_type": "code",
   "execution_count": 6,
   "metadata": {},
   "outputs": [
    {
     "data": {
      "text/plain": [
       "array([ 2, 37, 38,  6,  2, 21,  0, 18, 37,  4, 42, -2], dtype=int64)"
      ]
     },
     "execution_count": 6,
     "metadata": {},
     "output_type": "execute_result"
    }
   ],
   "source": [
    "#get TSU punt return yards\n",
    "TSUpreturnyards=mytree.xpath('body/center//tr/td/font[@color=\"#000000\"]/text()')[140:403:23]\n",
    "TSUpreturnyards=[a.replace(\"\\xa0\",\"\") for a in TSUpreturnyards]\n",
    "TSUpreturnyards=pd.to_numeric(TSUpreturnyards)\n",
    "TSUpreturnyards"
   ]
  },
  {
   "cell_type": "code",
   "execution_count": 7,
   "metadata": {},
   "outputs": [
    {
     "data": {
      "text/plain": [
       "array([46, 76, 58, 51, 61, 74, 62, 54, 67, 68, 69, 60], dtype=int64)"
      ]
     },
     "execution_count": 7,
     "metadata": {},
     "output_type": "execute_result"
    }
   ],
   "source": [
    "#get TSU total tackles\n",
    "TSUtackles=mytree.xpath('body/center//tr/td/font[@color=\"#000000\"]/text()')[447:694:22]\n",
    "TSUtackles=[a.replace(\"\\xa0\",\"\") for a in TSUtackles]\n",
    "TSUtackles=pd.to_numeric(TSUtackles)\n",
    "TSUtackles"
   ]
  },
  {
   "cell_type": "code",
   "execution_count": 8,
   "metadata": {},
   "outputs": [
    {
     "data": {
      "text/plain": [
       "array([20, 29,  9, 48, 37, 13, 25, 27, 30, 19, 10, 26], dtype=int64)"
      ]
     },
     "execution_count": 8,
     "metadata": {},
     "output_type": "execute_result"
    }
   ],
   "source": [
    "#get TSU tackle yards\n",
    "TSUtackleyd=mytree.xpath('body/center//tr/td/font[@color=\"#000000\"]/text()')[449:694:22]\n",
    "TSUtackleyd=[a.replace(\"\\xa0\",\"\") for a in TSUtackleyd]\n",
    "TSUtackleyd=pd.to_numeric(TSUtackleyd)\n",
    "TSUtackleyd"
   ]
  },
  {
   "cell_type": "code",
   "execution_count": 9,
   "metadata": {},
   "outputs": [
    {
     "data": {
      "text/plain": [
       "array([1, 1, 0, 3, 3, 0, 2, 2, 2, 2, 1, 2], dtype=int64)"
      ]
     },
     "execution_count": 9,
     "metadata": {},
     "output_type": "execute_result"
    }
   ],
   "source": [
    "#get TSU sacks\n",
    "TSUsacks=mytree.xpath('body/center//tr/td/font[@color=\"#000000\"]/text()')[450:694:22]\n",
    "TSUsacks=[a.replace(\"\\xa0\",\"\") for a in TSUsacks]\n",
    "TSUsacks=pd.to_numeric(TSUsacks)\n",
    "TSUsacks"
   ]
  },
  {
   "cell_type": "code",
   "execution_count": 10,
   "metadata": {},
   "outputs": [
    {
     "data": {
      "text/plain": [
       "array([10,  4,  0, 27, 23,  0, 22, 15, 16, 13,  8, 11], dtype=int64)"
      ]
     },
     "execution_count": 10,
     "metadata": {},
     "output_type": "execute_result"
    }
   ],
   "source": [
    "#get TSU sack yards\n",
    "TSUsackyd=mytree.xpath('body/center//tr/td/font[@color=\"#000000\"]/text()')[451:694:22]\n",
    "TSUsackyd=[a.replace(\"\\xa0\",\"\") for a in TSUsackyd]\n",
    "TSUsackyd=pd.to_numeric(TSUsackyd)\n",
    "TSUsackyd"
   ]
  },
  {
   "cell_type": "code",
   "execution_count": 11,
   "metadata": {},
   "outputs": [
    {
     "data": {
      "text/plain": [
       "array([3, 3, 3, 3, 5, 6, 1, 1, 4, 4, 7, 5], dtype=int64)"
      ]
     },
     "execution_count": 11,
     "metadata": {},
     "output_type": "execute_result"
    }
   ],
   "source": [
    "#TSU punts\n",
    "TSUpunt=[]\n",
    "TSUpunt.append(mytree.xpath('body/center//tr/td/font[@color=\"#000000\"]/text()')[753][0])\n",
    "TSUpunt.append(mytree.xpath('body/center//tr/td/font[@color=\"#000000\"]/text()')[772][0])\n",
    "TSUpunt.append(mytree.xpath('body/center//tr/td/font[@color=\"#000000\"]/text()')[791][0])\n",
    "TSUpunt.append(mytree.xpath('body/center//tr/td/font[@color=\"#000000\"]/text()')[810][0])\n",
    "TSUpunt.append(mytree.xpath('body/center//tr/td/font[@color=\"#000000\"]/text()')[829][0])\n",
    "TSUpunt.append(mytree.xpath('body/center//tr/td/font[@color=\"#000000\"]/text()')[848][0])\n",
    "TSUpunt.append(mytree.xpath('body/center//tr/td/font[@color=\"#000000\"]/text()')[867][0])\n",
    "TSUpunt.append(mytree.xpath('body/center//tr/td/font[@color=\"#000000\"]/text()')[886][0])\n",
    "TSUpunt.append(mytree.xpath('body/center//tr/td/font[@color=\"#000000\"]/text()')[905][0])\n",
    "TSUpunt.append(mytree.xpath('body/center//tr/td/font[@color=\"#000000\"]/text()')[924][0])\n",
    "TSUpunt.append(mytree.xpath('body/center//tr/td/font[@color=\"#000000\"]/text()')[943][0])\n",
    "TSUpunt.append(mytree.xpath('body/center//tr/td/font[@color=\"#000000\"]/text()')[962][0])\n",
    "TSUpunt=pd.to_numeric(TSUpunt)\n",
    "TSUpunt"
   ]
  },
  {
   "cell_type": "code",
   "execution_count": 12,
   "metadata": {},
   "outputs": [
    {
     "data": {
      "text/html": [
       "<div>\n",
       "<style scoped>\n",
       "    .dataframe tbody tr th:only-of-type {\n",
       "        vertical-align: middle;\n",
       "    }\n",
       "\n",
       "    .dataframe tbody tr th {\n",
       "        vertical-align: top;\n",
       "    }\n",
       "\n",
       "    .dataframe thead th {\n",
       "        text-align: right;\n",
       "    }\n",
       "</style>\n",
       "<table border=\"1\" class=\"dataframe\">\n",
       "  <thead>\n",
       "    <tr style=\"text-align: right;\">\n",
       "      <th></th>\n",
       "      <th>date</th>\n",
       "      <th>attendance</th>\n",
       "      <th>TSUrushyards</th>\n",
       "      <th>TSUreceiveyards</th>\n",
       "      <th>TSUkreturnyards</th>\n",
       "      <th>TSUpreturnyards</th>\n",
       "      <th>TSUtackles</th>\n",
       "      <th>TSUtackleyd</th>\n",
       "      <th>TSUsacks</th>\n",
       "      <th>TSUsackyd</th>\n",
       "      <th>TSUpunt</th>\n",
       "    </tr>\n",
       "  </thead>\n",
       "  <tbody>\n",
       "    <tr>\n",
       "      <th>0</th>\n",
       "      <td>Aug 30 2008</td>\n",
       "      <td>10072</td>\n",
       "      <td>107</td>\n",
       "      <td>292</td>\n",
       "      <td>160</td>\n",
       "      <td>2</td>\n",
       "      <td>46</td>\n",
       "      <td>20</td>\n",
       "      <td>1</td>\n",
       "      <td>10</td>\n",
       "      <td>3</td>\n",
       "    </tr>\n",
       "    <tr>\n",
       "      <th>1</th>\n",
       "      <td>Sep 06 2008</td>\n",
       "      <td>28830</td>\n",
       "      <td>148</td>\n",
       "      <td>315</td>\n",
       "      <td>66</td>\n",
       "      <td>37</td>\n",
       "      <td>76</td>\n",
       "      <td>29</td>\n",
       "      <td>1</td>\n",
       "      <td>4</td>\n",
       "      <td>3</td>\n",
       "    </tr>\n",
       "    <tr>\n",
       "      <th>2</th>\n",
       "      <td>Sep 13 2008</td>\n",
       "      <td>50794</td>\n",
       "      <td>148</td>\n",
       "      <td>137</td>\n",
       "      <td>34</td>\n",
       "      <td>38</td>\n",
       "      <td>58</td>\n",
       "      <td>9</td>\n",
       "      <td>0</td>\n",
       "      <td>0</td>\n",
       "      <td>3</td>\n",
       "    </tr>\n",
       "    <tr>\n",
       "      <th>3</th>\n",
       "      <td>Sep 20 2008</td>\n",
       "      <td>8276</td>\n",
       "      <td>229</td>\n",
       "      <td>314</td>\n",
       "      <td>84</td>\n",
       "      <td>6</td>\n",
       "      <td>51</td>\n",
       "      <td>48</td>\n",
       "      <td>3</td>\n",
       "      <td>27</td>\n",
       "      <td>3</td>\n",
       "    </tr>\n",
       "    <tr>\n",
       "      <th>4</th>\n",
       "      <td>Sep 27 2008</td>\n",
       "      <td>50428</td>\n",
       "      <td>136</td>\n",
       "      <td>241</td>\n",
       "      <td>95</td>\n",
       "      <td>2</td>\n",
       "      <td>61</td>\n",
       "      <td>37</td>\n",
       "      <td>3</td>\n",
       "      <td>23</td>\n",
       "      <td>5</td>\n",
       "    </tr>\n",
       "  </tbody>\n",
       "</table>\n",
       "</div>"
      ],
      "text/plain": [
       "          date  attendance  TSUrushyards  TSUreceiveyards  TSUkreturnyards  \\\n",
       "0  Aug 30 2008       10072           107              292              160   \n",
       "1  Sep 06 2008       28830           148              315               66   \n",
       "2  Sep 13 2008       50794           148              137               34   \n",
       "3  Sep 20 2008        8276           229              314               84   \n",
       "4  Sep 27 2008       50428           136              241               95   \n",
       "\n",
       "   TSUpreturnyards  TSUtackles  TSUtackleyd  TSUsacks  TSUsackyd  TSUpunt  \n",
       "0                2          46           20         1         10        3  \n",
       "1               37          76           29         1          4        3  \n",
       "2               38          58            9         0          0        3  \n",
       "3                6          51           48         3         27        3  \n",
       "4                2          61           37         3         23        5  "
      ]
     },
     "execution_count": 12,
     "metadata": {},
     "output_type": "execute_result"
    }
   ],
   "source": [
    "#create data frame\n",
    "#change dictionary of lists to data frame\n",
    "list_of_dicts={'date':date,\n",
    "     'attendance':attendance,\n",
    "     'TSUrushyards':TSUrushyards,\n",
    "     'TSUreceiveyards':TSUreceiveyards,\n",
    "     'TSUkreturnyards':TSUkreturnyards,\n",
    "     'TSUpreturnyards':TSUpreturnyards,\n",
    "     'TSUtackles':TSUtackles,\n",
    "     'TSUtackleyd':TSUtackleyd,\n",
    "     'TSUsacks':TSUsacks,\n",
    "     'TSUsackyd':TSUsackyd,\n",
    "     'TSUpunt':TSUpunt}\n",
    "df2008=pd.DataFrame(list_of_dicts)\n",
    "df2008.head()"
   ]
  },
  {
   "cell_type": "code",
   "execution_count": 13,
   "metadata": {},
   "outputs": [
    {
     "data": {
      "text/html": [
       "<div>\n",
       "<style scoped>\n",
       "    .dataframe tbody tr th:only-of-type {\n",
       "        vertical-align: middle;\n",
       "    }\n",
       "\n",
       "    .dataframe tbody tr th {\n",
       "        vertical-align: top;\n",
       "    }\n",
       "\n",
       "    .dataframe thead th {\n",
       "        text-align: right;\n",
       "    }\n",
       "</style>\n",
       "<table border=\"1\" class=\"dataframe\">\n",
       "  <thead>\n",
       "    <tr style=\"text-align: right;\">\n",
       "      <th></th>\n",
       "      <th>date</th>\n",
       "      <th>attendance</th>\n",
       "      <th>TSUrushyards</th>\n",
       "      <th>TSUreceiveyards</th>\n",
       "      <th>TSUkreturnyards</th>\n",
       "      <th>TSUpreturnyards</th>\n",
       "      <th>TSUtackles</th>\n",
       "      <th>TSUtackleyd</th>\n",
       "      <th>TSUsacks</th>\n",
       "      <th>TSUsackyd</th>\n",
       "      <th>TSUpunt</th>\n",
       "      <th>month</th>\n",
       "      <th>day</th>\n",
       "      <th>year</th>\n",
       "    </tr>\n",
       "  </thead>\n",
       "  <tbody>\n",
       "    <tr>\n",
       "      <th>0</th>\n",
       "      <td>Aug 30 2008</td>\n",
       "      <td>10072</td>\n",
       "      <td>107</td>\n",
       "      <td>292</td>\n",
       "      <td>160</td>\n",
       "      <td>2</td>\n",
       "      <td>46</td>\n",
       "      <td>20</td>\n",
       "      <td>1</td>\n",
       "      <td>10</td>\n",
       "      <td>3</td>\n",
       "      <td>Aug</td>\n",
       "      <td>30</td>\n",
       "      <td>2008</td>\n",
       "    </tr>\n",
       "    <tr>\n",
       "      <th>1</th>\n",
       "      <td>Sep 06 2008</td>\n",
       "      <td>28830</td>\n",
       "      <td>148</td>\n",
       "      <td>315</td>\n",
       "      <td>66</td>\n",
       "      <td>37</td>\n",
       "      <td>76</td>\n",
       "      <td>29</td>\n",
       "      <td>1</td>\n",
       "      <td>4</td>\n",
       "      <td>3</td>\n",
       "      <td>Sep</td>\n",
       "      <td>06</td>\n",
       "      <td>2008</td>\n",
       "    </tr>\n",
       "    <tr>\n",
       "      <th>2</th>\n",
       "      <td>Sep 13 2008</td>\n",
       "      <td>50794</td>\n",
       "      <td>148</td>\n",
       "      <td>137</td>\n",
       "      <td>34</td>\n",
       "      <td>38</td>\n",
       "      <td>58</td>\n",
       "      <td>9</td>\n",
       "      <td>0</td>\n",
       "      <td>0</td>\n",
       "      <td>3</td>\n",
       "      <td>Sep</td>\n",
       "      <td>13</td>\n",
       "      <td>2008</td>\n",
       "    </tr>\n",
       "    <tr>\n",
       "      <th>3</th>\n",
       "      <td>Sep 20 2008</td>\n",
       "      <td>8276</td>\n",
       "      <td>229</td>\n",
       "      <td>314</td>\n",
       "      <td>84</td>\n",
       "      <td>6</td>\n",
       "      <td>51</td>\n",
       "      <td>48</td>\n",
       "      <td>3</td>\n",
       "      <td>27</td>\n",
       "      <td>3</td>\n",
       "      <td>Sep</td>\n",
       "      <td>20</td>\n",
       "      <td>2008</td>\n",
       "    </tr>\n",
       "    <tr>\n",
       "      <th>4</th>\n",
       "      <td>Sep 27 2008</td>\n",
       "      <td>50428</td>\n",
       "      <td>136</td>\n",
       "      <td>241</td>\n",
       "      <td>95</td>\n",
       "      <td>2</td>\n",
       "      <td>61</td>\n",
       "      <td>37</td>\n",
       "      <td>3</td>\n",
       "      <td>23</td>\n",
       "      <td>5</td>\n",
       "      <td>Sep</td>\n",
       "      <td>27</td>\n",
       "      <td>2008</td>\n",
       "    </tr>\n",
       "  </tbody>\n",
       "</table>\n",
       "</div>"
      ],
      "text/plain": [
       "          date  attendance  TSUrushyards  TSUreceiveyards  TSUkreturnyards  \\\n",
       "0  Aug 30 2008       10072           107              292              160   \n",
       "1  Sep 06 2008       28830           148              315               66   \n",
       "2  Sep 13 2008       50794           148              137               34   \n",
       "3  Sep 20 2008        8276           229              314               84   \n",
       "4  Sep 27 2008       50428           136              241               95   \n",
       "\n",
       "   TSUpreturnyards  TSUtackles  TSUtackleyd  TSUsacks  TSUsackyd  TSUpunt  \\\n",
       "0                2          46           20         1         10        3   \n",
       "1               37          76           29         1          4        3   \n",
       "2               38          58            9         0          0        3   \n",
       "3                6          51           48         3         27        3   \n",
       "4                2          61           37         3         23        5   \n",
       "\n",
       "  month day  year  \n",
       "0   Aug  30  2008  \n",
       "1   Sep  06  2008  \n",
       "2   Sep  13  2008  \n",
       "3   Sep  20  2008  \n",
       "4   Sep  27  2008  "
      ]
     },
     "execution_count": 13,
     "metadata": {},
     "output_type": "execute_result"
    }
   ],
   "source": [
    "#splitting date column into month, day, & year columns \n",
    "df2008[['month','day','year']]=df2008.date.str.split(expand=True)\n",
    "df2008.drop('date',axis=1)\n",
    "df2008.head()"
   ]
  },
  {
   "cell_type": "code",
   "execution_count": 14,
   "metadata": {},
   "outputs": [
    {
     "name": "stdout",
     "output_type": "stream",
     "text": [
      "<class 'pandas.core.frame.DataFrame'>\n",
      "RangeIndex: 12 entries, 0 to 11\n",
      "Data columns (total 12 columns):\n",
      " #   Column           Non-Null Count  Dtype         \n",
      "---  ------           --------------  -----         \n",
      " 0   date             12 non-null     datetime64[ns]\n",
      " 1   attendance       12 non-null     int64         \n",
      " 2   TSUrushyards     12 non-null     int64         \n",
      " 3   TSUreceiveyards  12 non-null     int64         \n",
      " 4   TSUkreturnyards  12 non-null     int64         \n",
      " 5   TSUpreturnyards  12 non-null     int64         \n",
      " 6   TSUtackles       12 non-null     int64         \n",
      " 7   TSUtackleyd      12 non-null     int64         \n",
      " 8   TSUsacks         12 non-null     int64         \n",
      " 9   TSUsackyd        12 non-null     int64         \n",
      " 10  TSUpunt          12 non-null     int64         \n",
      " 11  year             12 non-null     int64         \n",
      "dtypes: datetime64[ns](1), int64(11)\n",
      "memory usage: 1.2 KB\n"
     ]
    }
   ],
   "source": [
    "#create a new date variable\n",
    "#change month variable to a 2 digit string variable\n",
    "df2008['month'] = df2008['month'].str.replace('Aug','08')\n",
    "df2008['month'] = df2008['month'].str.replace('Sep','09')\n",
    "df2008['month'] = df2008['month'].str.replace('Oct','10')\n",
    "df2008['month'] = df2008['month'].str.replace('Nov','11')\n",
    "df2008['month'] = df2008['month'].str.replace('Dec','12')\n",
    "#merge month,day and year variables\n",
    "df2008['date']=df2008['year']+ '-' +df2008['month']+ '-'+df2008['day']\n",
    "#make date into a datetime variable\n",
    "df2008['date']= pd.to_datetime(df2008['date'], format='%Y-%m-%d')\n",
    "#drop individual month,day, variables (keep year variable for later analysis)\n",
    "df2008=df2008.drop(['month','day'], axis=1)\n",
    "#make year numeric\n",
    "df2008['year']=pd.to_numeric(df2008['year'])\n",
    "df2008.info()"
   ]
  },
  {
   "cell_type": "code",
   "execution_count": 16,
   "metadata": {},
   "outputs": [
    {
     "data": {
      "text/html": [
       "<div>\n",
       "<style scoped>\n",
       "    .dataframe tbody tr th:only-of-type {\n",
       "        vertical-align: middle;\n",
       "    }\n",
       "\n",
       "    .dataframe tbody tr th {\n",
       "        vertical-align: top;\n",
       "    }\n",
       "\n",
       "    .dataframe thead th {\n",
       "        text-align: right;\n",
       "    }\n",
       "</style>\n",
       "<table border=\"1\" class=\"dataframe\">\n",
       "  <thead>\n",
       "    <tr style=\"text-align: right;\">\n",
       "      <th></th>\n",
       "      <th>date</th>\n",
       "      <th>attendance</th>\n",
       "      <th>TSUrushyards</th>\n",
       "      <th>TSUreceiveyards</th>\n",
       "      <th>TSUkreturnyards</th>\n",
       "      <th>TSUpreturnyards</th>\n",
       "      <th>TSUtackles</th>\n",
       "      <th>TSUtackleyd</th>\n",
       "      <th>TSUsacks</th>\n",
       "      <th>TSUsackyd</th>\n",
       "      <th>TSUpunt</th>\n",
       "      <th>year</th>\n",
       "    </tr>\n",
       "  </thead>\n",
       "  <tbody>\n",
       "    <tr>\n",
       "      <th>0</th>\n",
       "      <td>2008-08-30</td>\n",
       "      <td>10072</td>\n",
       "      <td>107</td>\n",
       "      <td>292</td>\n",
       "      <td>160</td>\n",
       "      <td>2</td>\n",
       "      <td>46</td>\n",
       "      <td>20</td>\n",
       "      <td>1</td>\n",
       "      <td>10</td>\n",
       "      <td>3</td>\n",
       "      <td>2008</td>\n",
       "    </tr>\n",
       "    <tr>\n",
       "      <th>1</th>\n",
       "      <td>2008-09-06</td>\n",
       "      <td>28830</td>\n",
       "      <td>148</td>\n",
       "      <td>315</td>\n",
       "      <td>66</td>\n",
       "      <td>37</td>\n",
       "      <td>76</td>\n",
       "      <td>29</td>\n",
       "      <td>1</td>\n",
       "      <td>4</td>\n",
       "      <td>3</td>\n",
       "      <td>2008</td>\n",
       "    </tr>\n",
       "    <tr>\n",
       "      <th>2</th>\n",
       "      <td>2008-09-13</td>\n",
       "      <td>50794</td>\n",
       "      <td>148</td>\n",
       "      <td>137</td>\n",
       "      <td>34</td>\n",
       "      <td>38</td>\n",
       "      <td>58</td>\n",
       "      <td>9</td>\n",
       "      <td>0</td>\n",
       "      <td>0</td>\n",
       "      <td>3</td>\n",
       "      <td>2008</td>\n",
       "    </tr>\n",
       "    <tr>\n",
       "      <th>3</th>\n",
       "      <td>2008-09-20</td>\n",
       "      <td>8276</td>\n",
       "      <td>229</td>\n",
       "      <td>314</td>\n",
       "      <td>84</td>\n",
       "      <td>6</td>\n",
       "      <td>51</td>\n",
       "      <td>48</td>\n",
       "      <td>3</td>\n",
       "      <td>27</td>\n",
       "      <td>3</td>\n",
       "      <td>2008</td>\n",
       "    </tr>\n",
       "    <tr>\n",
       "      <th>4</th>\n",
       "      <td>2008-09-27</td>\n",
       "      <td>50428</td>\n",
       "      <td>136</td>\n",
       "      <td>241</td>\n",
       "      <td>95</td>\n",
       "      <td>2</td>\n",
       "      <td>61</td>\n",
       "      <td>37</td>\n",
       "      <td>3</td>\n",
       "      <td>23</td>\n",
       "      <td>5</td>\n",
       "      <td>2008</td>\n",
       "    </tr>\n",
       "  </tbody>\n",
       "</table>\n",
       "</div>"
      ],
      "text/plain": [
       "        date  attendance  TSUrushyards  TSUreceiveyards  TSUkreturnyards  \\\n",
       "0 2008-08-30       10072           107              292              160   \n",
       "1 2008-09-06       28830           148              315               66   \n",
       "2 2008-09-13       50794           148              137               34   \n",
       "3 2008-09-20        8276           229              314               84   \n",
       "4 2008-09-27       50428           136              241               95   \n",
       "\n",
       "   TSUpreturnyards  TSUtackles  TSUtackleyd  TSUsacks  TSUsackyd  TSUpunt  \\\n",
       "0                2          46           20         1         10        3   \n",
       "1               37          76           29         1          4        3   \n",
       "2               38          58            9         0          0        3   \n",
       "3                6          51           48         3         27        3   \n",
       "4                2          61           37         3         23        5   \n",
       "\n",
       "   year  \n",
       "0  2008  \n",
       "1  2008  \n",
       "2  2008  \n",
       "3  2008  \n",
       "4  2008  "
      ]
     },
     "execution_count": 16,
     "metadata": {},
     "output_type": "execute_result"
    }
   ],
   "source": [
    "#sort data\n",
    "df2008=df2008.sort_values('date',ignore_index=True)\n",
    "df2008.head()"
   ]
  },
  {
   "cell_type": "code",
   "execution_count": 17,
   "metadata": {},
   "outputs": [],
   "source": [
    "#save data\n",
    "df2008.to_csv('2008.csv',encoding='utf-8')"
   ]
  }
 ],
 "metadata": {
  "kernelspec": {
   "display_name": "Python 3",
   "language": "python",
   "name": "python3"
  },
  "language_info": {
   "codemirror_mode": {
    "name": "ipython",
    "version": 3
   },
   "file_extension": ".py",
   "mimetype": "text/x-python",
   "name": "python",
   "nbconvert_exporter": "python",
   "pygments_lexer": "ipython3",
   "version": "3.8.5"
  }
 },
 "nbformat": 4,
 "nbformat_minor": 4
}
